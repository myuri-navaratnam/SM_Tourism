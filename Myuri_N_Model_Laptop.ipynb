{
 "cells": [
  {
   "cell_type": "code",
   "execution_count": 50,
   "id": "40a056df",
   "metadata": {},
   "outputs": [],
   "source": [
    "import numpy as np\n",
    "import pandas as pd  \n",
    "import matplotlib.pyplot as plt   \n",
    "import seaborn as sns\n",
    "%matplotlib inline \n",
    "import warnings\n",
    "warnings.filterwarnings(\"ignore\")\n",
    "from sklearn.linear_model import LogisticRegression\n",
    "from sklearn.discriminant_analysis import LinearDiscriminantAnalysis\n",
    "from sklearn.metrics import confusion_matrix\n",
    "from sklearn.metrics import classification_report\n",
    "from sklearn.model_selection import train_test_split,GridSearchCV\n",
    "\n",
    "from imblearn.over_sampling import SMOTE \n",
    "from sklearn import metrics\n",
    "\n",
    "import warnings\n",
    "warnings.filterwarnings(\"ignore\")"
   ]
  },
  {
   "cell_type": "code",
   "execution_count": 51,
   "id": "429b0e19",
   "metadata": {},
   "outputs": [
    {
     "data": {
      "text/html": [
       "<div>\n",
       "<style scoped>\n",
       "    .dataframe tbody tr th:only-of-type {\n",
       "        vertical-align: middle;\n",
       "    }\n",
       "\n",
       "    .dataframe tbody tr th {\n",
       "        vertical-align: top;\n",
       "    }\n",
       "\n",
       "    .dataframe thead th {\n",
       "        text-align: right;\n",
       "    }\n",
       "</style>\n",
       "<table border=\"1\" class=\"dataframe\">\n",
       "  <thead>\n",
       "    <tr style=\"text-align: right;\">\n",
       "      <th></th>\n",
       "      <th>0</th>\n",
       "      <th>1</th>\n",
       "      <th>2</th>\n",
       "      <th>3</th>\n",
       "      <th>4</th>\n",
       "    </tr>\n",
       "  </thead>\n",
       "  <tbody>\n",
       "    <tr>\n",
       "      <th>UserID</th>\n",
       "      <td>1005882</td>\n",
       "      <td>1005884</td>\n",
       "      <td>1005886</td>\n",
       "      <td>1005889</td>\n",
       "      <td>1005907</td>\n",
       "    </tr>\n",
       "    <tr>\n",
       "      <th>Taken_product</th>\n",
       "      <td>No</td>\n",
       "      <td>No</td>\n",
       "      <td>No</td>\n",
       "      <td>No</td>\n",
       "      <td>Yes</td>\n",
       "    </tr>\n",
       "    <tr>\n",
       "      <th>Yearly_avg_view_on_travel_page</th>\n",
       "      <td>379</td>\n",
       "      <td>255</td>\n",
       "      <td>250</td>\n",
       "      <td>295</td>\n",
       "      <td>250</td>\n",
       "    </tr>\n",
       "    <tr>\n",
       "      <th>preferred_device</th>\n",
       "      <td>Laptop</td>\n",
       "      <td>Laptop</td>\n",
       "      <td>Laptop</td>\n",
       "      <td>Laptop</td>\n",
       "      <td>Laptop</td>\n",
       "    </tr>\n",
       "    <tr>\n",
       "      <th>total_likes_on_outstation_checkin_given</th>\n",
       "      <td>9776</td>\n",
       "      <td>48725</td>\n",
       "      <td>35184</td>\n",
       "      <td>7572</td>\n",
       "      <td>39379</td>\n",
       "    </tr>\n",
       "    <tr>\n",
       "      <th>yearly_avg_Outstation_checkins</th>\n",
       "      <td>8</td>\n",
       "      <td>3</td>\n",
       "      <td>2</td>\n",
       "      <td>23</td>\n",
       "      <td>16</td>\n",
       "    </tr>\n",
       "    <tr>\n",
       "      <th>member_in_family</th>\n",
       "      <td>1</td>\n",
       "      <td>4</td>\n",
       "      <td>2</td>\n",
       "      <td>3</td>\n",
       "      <td>1</td>\n",
       "    </tr>\n",
       "    <tr>\n",
       "      <th>preferred_location_type</th>\n",
       "      <td>Beach</td>\n",
       "      <td>Beach</td>\n",
       "      <td>Beach</td>\n",
       "      <td>Beach</td>\n",
       "      <td>Beach</td>\n",
       "    </tr>\n",
       "    <tr>\n",
       "      <th>Yearly_avg_comment_on_travel_page</th>\n",
       "      <td>64</td>\n",
       "      <td>59</td>\n",
       "      <td>84</td>\n",
       "      <td>48</td>\n",
       "      <td>80</td>\n",
       "    </tr>\n",
       "    <tr>\n",
       "      <th>total_likes_on_outofstation_checkin_received</th>\n",
       "      <td>5142</td>\n",
       "      <td>2913</td>\n",
       "      <td>3074</td>\n",
       "      <td>9532</td>\n",
       "      <td>3926</td>\n",
       "    </tr>\n",
       "    <tr>\n",
       "      <th>week_since_last_outstation_checkin</th>\n",
       "      <td>1</td>\n",
       "      <td>1</td>\n",
       "      <td>0</td>\n",
       "      <td>0</td>\n",
       "      <td>1</td>\n",
       "    </tr>\n",
       "    <tr>\n",
       "      <th>following_company_page</th>\n",
       "      <td>No</td>\n",
       "      <td>Yes</td>\n",
       "      <td>No</td>\n",
       "      <td>No</td>\n",
       "      <td>Yes</td>\n",
       "    </tr>\n",
       "    <tr>\n",
       "      <th>montly_avg_comment_on_company_page</th>\n",
       "      <td>33</td>\n",
       "      <td>19</td>\n",
       "      <td>23</td>\n",
       "      <td>33</td>\n",
       "      <td>33</td>\n",
       "    </tr>\n",
       "    <tr>\n",
       "      <th>working_flag</th>\n",
       "      <td>Yes</td>\n",
       "      <td>No</td>\n",
       "      <td>No</td>\n",
       "      <td>Yes</td>\n",
       "      <td>Yes</td>\n",
       "    </tr>\n",
       "    <tr>\n",
       "      <th>travelling_network_rating</th>\n",
       "      <td>4</td>\n",
       "      <td>3</td>\n",
       "      <td>3</td>\n",
       "      <td>2</td>\n",
       "      <td>2</td>\n",
       "    </tr>\n",
       "    <tr>\n",
       "      <th>Adult_flag</th>\n",
       "      <td>1</td>\n",
       "      <td>0</td>\n",
       "      <td>0</td>\n",
       "      <td>0</td>\n",
       "      <td>0</td>\n",
       "    </tr>\n",
       "    <tr>\n",
       "      <th>Daily_Avg_mins_spend_on_traveling_page</th>\n",
       "      <td>10</td>\n",
       "      <td>8</td>\n",
       "      <td>8</td>\n",
       "      <td>10</td>\n",
       "      <td>10</td>\n",
       "    </tr>\n",
       "  </tbody>\n",
       "</table>\n",
       "</div>"
      ],
      "text/plain": [
       "                                                    0        1        2  \\\n",
       "UserID                                        1005882  1005884  1005886   \n",
       "Taken_product                                      No       No       No   \n",
       "Yearly_avg_view_on_travel_page                    379      255      250   \n",
       "preferred_device                               Laptop   Laptop   Laptop   \n",
       "total_likes_on_outstation_checkin_given          9776    48725    35184   \n",
       "yearly_avg_Outstation_checkins                      8        3        2   \n",
       "member_in_family                                    1        4        2   \n",
       "preferred_location_type                         Beach    Beach    Beach   \n",
       "Yearly_avg_comment_on_travel_page                  64       59       84   \n",
       "total_likes_on_outofstation_checkin_received     5142     2913     3074   \n",
       "week_since_last_outstation_checkin                  1        1        0   \n",
       "following_company_page                             No      Yes       No   \n",
       "montly_avg_comment_on_company_page                 33       19       23   \n",
       "working_flag                                      Yes       No       No   \n",
       "travelling_network_rating                           4        3        3   \n",
       "Adult_flag                                          1        0        0   \n",
       "Daily_Avg_mins_spend_on_traveling_page             10        8        8   \n",
       "\n",
       "                                                    3        4  \n",
       "UserID                                        1005889  1005907  \n",
       "Taken_product                                      No      Yes  \n",
       "Yearly_avg_view_on_travel_page                    295      250  \n",
       "preferred_device                               Laptop   Laptop  \n",
       "total_likes_on_outstation_checkin_given          7572    39379  \n",
       "yearly_avg_Outstation_checkins                     23       16  \n",
       "member_in_family                                    3        1  \n",
       "preferred_location_type                         Beach    Beach  \n",
       "Yearly_avg_comment_on_travel_page                  48       80  \n",
       "total_likes_on_outofstation_checkin_received     9532     3926  \n",
       "week_since_last_outstation_checkin                  0        1  \n",
       "following_company_page                             No      Yes  \n",
       "montly_avg_comment_on_company_page                 33       33  \n",
       "working_flag                                      Yes      Yes  \n",
       "travelling_network_rating                           2        2  \n",
       "Adult_flag                                          0        0  \n",
       "Daily_Avg_mins_spend_on_traveling_page             10       10  "
      ]
     },
     "execution_count": 51,
     "metadata": {},
     "output_type": "execute_result"
    }
   ],
   "source": [
    "data = pd.read_excel(\"Laptop_SM_Tourism.xlsx\")\n",
    "\n",
    "data.head().T"
   ]
  },
  {
   "cell_type": "code",
   "execution_count": 52,
   "id": "f27606f3",
   "metadata": {},
   "outputs": [],
   "source": [
    "data_Laptop = data.drop('UserID',axis=1)"
   ]
  },
  {
   "cell_type": "code",
   "execution_count": 53,
   "id": "6ee35d5c",
   "metadata": {},
   "outputs": [
    {
     "data": {
      "text/html": [
       "<div>\n",
       "<style scoped>\n",
       "    .dataframe tbody tr th:only-of-type {\n",
       "        vertical-align: middle;\n",
       "    }\n",
       "\n",
       "    .dataframe tbody tr th {\n",
       "        vertical-align: top;\n",
       "    }\n",
       "\n",
       "    .dataframe thead th {\n",
       "        text-align: right;\n",
       "    }\n",
       "</style>\n",
       "<table border=\"1\" class=\"dataframe\">\n",
       "  <thead>\n",
       "    <tr style=\"text-align: right;\">\n",
       "      <th></th>\n",
       "      <th>0</th>\n",
       "      <th>1</th>\n",
       "      <th>2</th>\n",
       "      <th>3</th>\n",
       "      <th>4</th>\n",
       "    </tr>\n",
       "  </thead>\n",
       "  <tbody>\n",
       "    <tr>\n",
       "      <th>Taken_product</th>\n",
       "      <td>No</td>\n",
       "      <td>No</td>\n",
       "      <td>No</td>\n",
       "      <td>No</td>\n",
       "      <td>Yes</td>\n",
       "    </tr>\n",
       "    <tr>\n",
       "      <th>Yearly_avg_view_on_travel_page</th>\n",
       "      <td>379</td>\n",
       "      <td>255</td>\n",
       "      <td>250</td>\n",
       "      <td>295</td>\n",
       "      <td>250</td>\n",
       "    </tr>\n",
       "    <tr>\n",
       "      <th>preferred_device</th>\n",
       "      <td>Laptop</td>\n",
       "      <td>Laptop</td>\n",
       "      <td>Laptop</td>\n",
       "      <td>Laptop</td>\n",
       "      <td>Laptop</td>\n",
       "    </tr>\n",
       "    <tr>\n",
       "      <th>total_likes_on_outstation_checkin_given</th>\n",
       "      <td>9776</td>\n",
       "      <td>48725</td>\n",
       "      <td>35184</td>\n",
       "      <td>7572</td>\n",
       "      <td>39379</td>\n",
       "    </tr>\n",
       "    <tr>\n",
       "      <th>yearly_avg_Outstation_checkins</th>\n",
       "      <td>8</td>\n",
       "      <td>3</td>\n",
       "      <td>2</td>\n",
       "      <td>23</td>\n",
       "      <td>16</td>\n",
       "    </tr>\n",
       "    <tr>\n",
       "      <th>member_in_family</th>\n",
       "      <td>1</td>\n",
       "      <td>4</td>\n",
       "      <td>2</td>\n",
       "      <td>3</td>\n",
       "      <td>1</td>\n",
       "    </tr>\n",
       "    <tr>\n",
       "      <th>preferred_location_type</th>\n",
       "      <td>Beach</td>\n",
       "      <td>Beach</td>\n",
       "      <td>Beach</td>\n",
       "      <td>Beach</td>\n",
       "      <td>Beach</td>\n",
       "    </tr>\n",
       "    <tr>\n",
       "      <th>Yearly_avg_comment_on_travel_page</th>\n",
       "      <td>64</td>\n",
       "      <td>59</td>\n",
       "      <td>84</td>\n",
       "      <td>48</td>\n",
       "      <td>80</td>\n",
       "    </tr>\n",
       "    <tr>\n",
       "      <th>total_likes_on_outofstation_checkin_received</th>\n",
       "      <td>5142</td>\n",
       "      <td>2913</td>\n",
       "      <td>3074</td>\n",
       "      <td>9532</td>\n",
       "      <td>3926</td>\n",
       "    </tr>\n",
       "    <tr>\n",
       "      <th>week_since_last_outstation_checkin</th>\n",
       "      <td>1</td>\n",
       "      <td>1</td>\n",
       "      <td>0</td>\n",
       "      <td>0</td>\n",
       "      <td>1</td>\n",
       "    </tr>\n",
       "    <tr>\n",
       "      <th>following_company_page</th>\n",
       "      <td>No</td>\n",
       "      <td>Yes</td>\n",
       "      <td>No</td>\n",
       "      <td>No</td>\n",
       "      <td>Yes</td>\n",
       "    </tr>\n",
       "    <tr>\n",
       "      <th>montly_avg_comment_on_company_page</th>\n",
       "      <td>33</td>\n",
       "      <td>19</td>\n",
       "      <td>23</td>\n",
       "      <td>33</td>\n",
       "      <td>33</td>\n",
       "    </tr>\n",
       "    <tr>\n",
       "      <th>working_flag</th>\n",
       "      <td>Yes</td>\n",
       "      <td>No</td>\n",
       "      <td>No</td>\n",
       "      <td>Yes</td>\n",
       "      <td>Yes</td>\n",
       "    </tr>\n",
       "    <tr>\n",
       "      <th>travelling_network_rating</th>\n",
       "      <td>4</td>\n",
       "      <td>3</td>\n",
       "      <td>3</td>\n",
       "      <td>2</td>\n",
       "      <td>2</td>\n",
       "    </tr>\n",
       "    <tr>\n",
       "      <th>Adult_flag</th>\n",
       "      <td>1</td>\n",
       "      <td>0</td>\n",
       "      <td>0</td>\n",
       "      <td>0</td>\n",
       "      <td>0</td>\n",
       "    </tr>\n",
       "    <tr>\n",
       "      <th>Daily_Avg_mins_spend_on_traveling_page</th>\n",
       "      <td>10</td>\n",
       "      <td>8</td>\n",
       "      <td>8</td>\n",
       "      <td>10</td>\n",
       "      <td>10</td>\n",
       "    </tr>\n",
       "  </tbody>\n",
       "</table>\n",
       "</div>"
      ],
      "text/plain": [
       "                                                   0       1       2       3  \\\n",
       "Taken_product                                     No      No      No      No   \n",
       "Yearly_avg_view_on_travel_page                   379     255     250     295   \n",
       "preferred_device                              Laptop  Laptop  Laptop  Laptop   \n",
       "total_likes_on_outstation_checkin_given         9776   48725   35184    7572   \n",
       "yearly_avg_Outstation_checkins                     8       3       2      23   \n",
       "member_in_family                                   1       4       2       3   \n",
       "preferred_location_type                        Beach   Beach   Beach   Beach   \n",
       "Yearly_avg_comment_on_travel_page                 64      59      84      48   \n",
       "total_likes_on_outofstation_checkin_received    5142    2913    3074    9532   \n",
       "week_since_last_outstation_checkin                 1       1       0       0   \n",
       "following_company_page                            No     Yes      No      No   \n",
       "montly_avg_comment_on_company_page                33      19      23      33   \n",
       "working_flag                                     Yes      No      No     Yes   \n",
       "travelling_network_rating                          4       3       3       2   \n",
       "Adult_flag                                         1       0       0       0   \n",
       "Daily_Avg_mins_spend_on_traveling_page            10       8       8      10   \n",
       "\n",
       "                                                   4  \n",
       "Taken_product                                    Yes  \n",
       "Yearly_avg_view_on_travel_page                   250  \n",
       "preferred_device                              Laptop  \n",
       "total_likes_on_outstation_checkin_given        39379  \n",
       "yearly_avg_Outstation_checkins                    16  \n",
       "member_in_family                                   1  \n",
       "preferred_location_type                        Beach  \n",
       "Yearly_avg_comment_on_travel_page                 80  \n",
       "total_likes_on_outofstation_checkin_received    3926  \n",
       "week_since_last_outstation_checkin                 1  \n",
       "following_company_page                           Yes  \n",
       "montly_avg_comment_on_company_page                33  \n",
       "working_flag                                     Yes  \n",
       "travelling_network_rating                          2  \n",
       "Adult_flag                                         0  \n",
       "Daily_Avg_mins_spend_on_traveling_page            10  "
      ]
     },
     "execution_count": 53,
     "metadata": {},
     "output_type": "execute_result"
    }
   ],
   "source": [
    "data_Laptop.head().T"
   ]
  },
  {
   "cell_type": "code",
   "execution_count": 54,
   "id": "530ca79e",
   "metadata": {},
   "outputs": [
    {
     "name": "stdout",
     "output_type": "stream",
     "text": [
      "<class 'pandas.core.frame.DataFrame'>\n",
      "RangeIndex: 1108 entries, 0 to 1107\n",
      "Data columns (total 16 columns):\n",
      " #   Column                                        Non-Null Count  Dtype \n",
      "---  ------                                        --------------  ----- \n",
      " 0   Taken_product                                 1108 non-null   object\n",
      " 1   Yearly_avg_view_on_travel_page                1108 non-null   int64 \n",
      " 2   preferred_device                              1108 non-null   object\n",
      " 3   total_likes_on_outstation_checkin_given       1108 non-null   int64 \n",
      " 4   yearly_avg_Outstation_checkins                1108 non-null   int64 \n",
      " 5   member_in_family                              1108 non-null   int64 \n",
      " 6   preferred_location_type                       1108 non-null   object\n",
      " 7   Yearly_avg_comment_on_travel_page             1108 non-null   int64 \n",
      " 8   total_likes_on_outofstation_checkin_received  1108 non-null   int64 \n",
      " 9   week_since_last_outstation_checkin            1108 non-null   int64 \n",
      " 10  following_company_page                        1108 non-null   object\n",
      " 11  montly_avg_comment_on_company_page            1108 non-null   int64 \n",
      " 12  working_flag                                  1108 non-null   object\n",
      " 13  travelling_network_rating                     1108 non-null   int64 \n",
      " 14  Adult_flag                                    1108 non-null   int64 \n",
      " 15  Daily_Avg_mins_spend_on_traveling_page        1108 non-null   int64 \n",
      "dtypes: int64(11), object(5)\n",
      "memory usage: 138.6+ KB\n"
     ]
    }
   ],
   "source": [
    "data_Laptop.info()"
   ]
  },
  {
   "cell_type": "code",
   "execution_count": 55,
   "id": "a3f219f9",
   "metadata": {},
   "outputs": [
    {
     "data": {
      "text/plain": [
       "Taken_product                                   0\n",
       "Yearly_avg_view_on_travel_page                  0\n",
       "preferred_device                                0\n",
       "total_likes_on_outstation_checkin_given         0\n",
       "yearly_avg_Outstation_checkins                  0\n",
       "member_in_family                                0\n",
       "preferred_location_type                         0\n",
       "Yearly_avg_comment_on_travel_page               0\n",
       "total_likes_on_outofstation_checkin_received    0\n",
       "week_since_last_outstation_checkin              0\n",
       "following_company_page                          0\n",
       "montly_avg_comment_on_company_page              0\n",
       "working_flag                                    0\n",
       "travelling_network_rating                       0\n",
       "Adult_flag                                      0\n",
       "Daily_Avg_mins_spend_on_traveling_page          0\n",
       "dtype: int64"
      ]
     },
     "execution_count": 55,
     "metadata": {},
     "output_type": "execute_result"
    }
   ],
   "source": [
    "data_Laptop.isnull().sum()"
   ]
  },
  {
   "cell_type": "code",
   "execution_count": 56,
   "id": "9448f786",
   "metadata": {},
   "outputs": [
    {
     "data": {
      "text/html": [
       "<div>\n",
       "<style scoped>\n",
       "    .dataframe tbody tr th:only-of-type {\n",
       "        vertical-align: middle;\n",
       "    }\n",
       "\n",
       "    .dataframe tbody tr th {\n",
       "        vertical-align: top;\n",
       "    }\n",
       "\n",
       "    .dataframe thead th {\n",
       "        text-align: right;\n",
       "    }\n",
       "</style>\n",
       "<table border=\"1\" class=\"dataframe\">\n",
       "  <thead>\n",
       "    <tr style=\"text-align: right;\">\n",
       "      <th></th>\n",
       "      <th>Taken_product</th>\n",
       "      <th>Yearly_avg_view_on_travel_page</th>\n",
       "      <th>preferred_device</th>\n",
       "      <th>total_likes_on_outstation_checkin_given</th>\n",
       "      <th>yearly_avg_Outstation_checkins</th>\n",
       "      <th>member_in_family</th>\n",
       "      <th>preferred_location_type</th>\n",
       "      <th>Yearly_avg_comment_on_travel_page</th>\n",
       "      <th>total_likes_on_outofstation_checkin_received</th>\n",
       "      <th>week_since_last_outstation_checkin</th>\n",
       "      <th>following_company_page</th>\n",
       "      <th>montly_avg_comment_on_company_page</th>\n",
       "      <th>working_flag</th>\n",
       "      <th>travelling_network_rating</th>\n",
       "      <th>Adult_flag</th>\n",
       "      <th>Daily_Avg_mins_spend_on_traveling_page</th>\n",
       "    </tr>\n",
       "  </thead>\n",
       "  <tbody>\n",
       "    <tr>\n",
       "      <th>0</th>\n",
       "      <td>No</td>\n",
       "      <td>379</td>\n",
       "      <td>Laptop</td>\n",
       "      <td>9776</td>\n",
       "      <td>8</td>\n",
       "      <td>1</td>\n",
       "      <td>Beach</td>\n",
       "      <td>64</td>\n",
       "      <td>5142</td>\n",
       "      <td>1</td>\n",
       "      <td>No</td>\n",
       "      <td>33</td>\n",
       "      <td>Yes</td>\n",
       "      <td>4</td>\n",
       "      <td>1</td>\n",
       "      <td>10</td>\n",
       "    </tr>\n",
       "    <tr>\n",
       "      <th>1</th>\n",
       "      <td>No</td>\n",
       "      <td>255</td>\n",
       "      <td>Laptop</td>\n",
       "      <td>48725</td>\n",
       "      <td>3</td>\n",
       "      <td>4</td>\n",
       "      <td>Beach</td>\n",
       "      <td>59</td>\n",
       "      <td>2913</td>\n",
       "      <td>1</td>\n",
       "      <td>Yes</td>\n",
       "      <td>19</td>\n",
       "      <td>No</td>\n",
       "      <td>3</td>\n",
       "      <td>0</td>\n",
       "      <td>8</td>\n",
       "    </tr>\n",
       "    <tr>\n",
       "      <th>2</th>\n",
       "      <td>No</td>\n",
       "      <td>250</td>\n",
       "      <td>Laptop</td>\n",
       "      <td>35184</td>\n",
       "      <td>2</td>\n",
       "      <td>2</td>\n",
       "      <td>Beach</td>\n",
       "      <td>84</td>\n",
       "      <td>3074</td>\n",
       "      <td>0</td>\n",
       "      <td>No</td>\n",
       "      <td>23</td>\n",
       "      <td>No</td>\n",
       "      <td>3</td>\n",
       "      <td>0</td>\n",
       "      <td>8</td>\n",
       "    </tr>\n",
       "    <tr>\n",
       "      <th>3</th>\n",
       "      <td>No</td>\n",
       "      <td>295</td>\n",
       "      <td>Laptop</td>\n",
       "      <td>7572</td>\n",
       "      <td>23</td>\n",
       "      <td>3</td>\n",
       "      <td>Beach</td>\n",
       "      <td>48</td>\n",
       "      <td>9532</td>\n",
       "      <td>0</td>\n",
       "      <td>No</td>\n",
       "      <td>33</td>\n",
       "      <td>Yes</td>\n",
       "      <td>2</td>\n",
       "      <td>0</td>\n",
       "      <td>10</td>\n",
       "    </tr>\n",
       "    <tr>\n",
       "      <th>4</th>\n",
       "      <td>Yes</td>\n",
       "      <td>250</td>\n",
       "      <td>Laptop</td>\n",
       "      <td>39379</td>\n",
       "      <td>16</td>\n",
       "      <td>1</td>\n",
       "      <td>Beach</td>\n",
       "      <td>80</td>\n",
       "      <td>3926</td>\n",
       "      <td>1</td>\n",
       "      <td>Yes</td>\n",
       "      <td>33</td>\n",
       "      <td>Yes</td>\n",
       "      <td>2</td>\n",
       "      <td>0</td>\n",
       "      <td>10</td>\n",
       "    </tr>\n",
       "    <tr>\n",
       "      <th>...</th>\n",
       "      <td>...</td>\n",
       "      <td>...</td>\n",
       "      <td>...</td>\n",
       "      <td>...</td>\n",
       "      <td>...</td>\n",
       "      <td>...</td>\n",
       "      <td>...</td>\n",
       "      <td>...</td>\n",
       "      <td>...</td>\n",
       "      <td>...</td>\n",
       "      <td>...</td>\n",
       "      <td>...</td>\n",
       "      <td>...</td>\n",
       "      <td>...</td>\n",
       "      <td>...</td>\n",
       "      <td>...</td>\n",
       "    </tr>\n",
       "    <tr>\n",
       "      <th>1103</th>\n",
       "      <td>No</td>\n",
       "      <td>278</td>\n",
       "      <td>Laptop</td>\n",
       "      <td>24127</td>\n",
       "      <td>4</td>\n",
       "      <td>2</td>\n",
       "      <td>Beach</td>\n",
       "      <td>115</td>\n",
       "      <td>5184</td>\n",
       "      <td>7</td>\n",
       "      <td>No</td>\n",
       "      <td>35</td>\n",
       "      <td>No</td>\n",
       "      <td>2</td>\n",
       "      <td>3</td>\n",
       "      <td>23</td>\n",
       "    </tr>\n",
       "    <tr>\n",
       "      <th>1104</th>\n",
       "      <td>Yes</td>\n",
       "      <td>388</td>\n",
       "      <td>Laptop</td>\n",
       "      <td>30775</td>\n",
       "      <td>1</td>\n",
       "      <td>4</td>\n",
       "      <td>Beach</td>\n",
       "      <td>109</td>\n",
       "      <td>6787</td>\n",
       "      <td>8</td>\n",
       "      <td>No</td>\n",
       "      <td>29</td>\n",
       "      <td>No</td>\n",
       "      <td>4</td>\n",
       "      <td>2</td>\n",
       "      <td>14</td>\n",
       "    </tr>\n",
       "    <tr>\n",
       "      <th>1105</th>\n",
       "      <td>No</td>\n",
       "      <td>268</td>\n",
       "      <td>Laptop</td>\n",
       "      <td>42010</td>\n",
       "      <td>18</td>\n",
       "      <td>4</td>\n",
       "      <td>Beach</td>\n",
       "      <td>98</td>\n",
       "      <td>5753</td>\n",
       "      <td>2</td>\n",
       "      <td>Yes</td>\n",
       "      <td>34</td>\n",
       "      <td>No</td>\n",
       "      <td>4</td>\n",
       "      <td>2</td>\n",
       "      <td>17</td>\n",
       "    </tr>\n",
       "    <tr>\n",
       "      <th>1106</th>\n",
       "      <td>No</td>\n",
       "      <td>279</td>\n",
       "      <td>Laptop</td>\n",
       "      <td>30987</td>\n",
       "      <td>23</td>\n",
       "      <td>2</td>\n",
       "      <td>Historical site</td>\n",
       "      <td>58</td>\n",
       "      <td>2616</td>\n",
       "      <td>4</td>\n",
       "      <td>No</td>\n",
       "      <td>36</td>\n",
       "      <td>No</td>\n",
       "      <td>3</td>\n",
       "      <td>1</td>\n",
       "      <td>23</td>\n",
       "    </tr>\n",
       "    <tr>\n",
       "      <th>1107</th>\n",
       "      <td>No</td>\n",
       "      <td>382</td>\n",
       "      <td>Laptop</td>\n",
       "      <td>35851</td>\n",
       "      <td>2</td>\n",
       "      <td>3</td>\n",
       "      <td>Historical site</td>\n",
       "      <td>83</td>\n",
       "      <td>5444</td>\n",
       "      <td>3</td>\n",
       "      <td>No</td>\n",
       "      <td>32</td>\n",
       "      <td>No</td>\n",
       "      <td>4</td>\n",
       "      <td>0</td>\n",
       "      <td>20</td>\n",
       "    </tr>\n",
       "  </tbody>\n",
       "</table>\n",
       "<p>1108 rows × 16 columns</p>\n",
       "</div>"
      ],
      "text/plain": [
       "     Taken_product  Yearly_avg_view_on_travel_page preferred_device  \\\n",
       "0               No                             379           Laptop   \n",
       "1               No                             255           Laptop   \n",
       "2               No                             250           Laptop   \n",
       "3               No                             295           Laptop   \n",
       "4              Yes                             250           Laptop   \n",
       "...            ...                             ...              ...   \n",
       "1103            No                             278           Laptop   \n",
       "1104           Yes                             388           Laptop   \n",
       "1105            No                             268           Laptop   \n",
       "1106            No                             279           Laptop   \n",
       "1107            No                             382           Laptop   \n",
       "\n",
       "      total_likes_on_outstation_checkin_given  yearly_avg_Outstation_checkins  \\\n",
       "0                                        9776                               8   \n",
       "1                                       48725                               3   \n",
       "2                                       35184                               2   \n",
       "3                                        7572                              23   \n",
       "4                                       39379                              16   \n",
       "...                                       ...                             ...   \n",
       "1103                                    24127                               4   \n",
       "1104                                    30775                               1   \n",
       "1105                                    42010                              18   \n",
       "1106                                    30987                              23   \n",
       "1107                                    35851                               2   \n",
       "\n",
       "      member_in_family preferred_location_type  \\\n",
       "0                    1                   Beach   \n",
       "1                    4                   Beach   \n",
       "2                    2                   Beach   \n",
       "3                    3                   Beach   \n",
       "4                    1                   Beach   \n",
       "...                ...                     ...   \n",
       "1103                 2                   Beach   \n",
       "1104                 4                   Beach   \n",
       "1105                 4                   Beach   \n",
       "1106                 2         Historical site   \n",
       "1107                 3         Historical site   \n",
       "\n",
       "      Yearly_avg_comment_on_travel_page  \\\n",
       "0                                    64   \n",
       "1                                    59   \n",
       "2                                    84   \n",
       "3                                    48   \n",
       "4                                    80   \n",
       "...                                 ...   \n",
       "1103                                115   \n",
       "1104                                109   \n",
       "1105                                 98   \n",
       "1106                                 58   \n",
       "1107                                 83   \n",
       "\n",
       "      total_likes_on_outofstation_checkin_received  \\\n",
       "0                                             5142   \n",
       "1                                             2913   \n",
       "2                                             3074   \n",
       "3                                             9532   \n",
       "4                                             3926   \n",
       "...                                            ...   \n",
       "1103                                          5184   \n",
       "1104                                          6787   \n",
       "1105                                          5753   \n",
       "1106                                          2616   \n",
       "1107                                          5444   \n",
       "\n",
       "      week_since_last_outstation_checkin following_company_page  \\\n",
       "0                                      1                     No   \n",
       "1                                      1                    Yes   \n",
       "2                                      0                     No   \n",
       "3                                      0                     No   \n",
       "4                                      1                    Yes   \n",
       "...                                  ...                    ...   \n",
       "1103                                   7                     No   \n",
       "1104                                   8                     No   \n",
       "1105                                   2                    Yes   \n",
       "1106                                   4                     No   \n",
       "1107                                   3                     No   \n",
       "\n",
       "      montly_avg_comment_on_company_page working_flag  \\\n",
       "0                                     33          Yes   \n",
       "1                                     19           No   \n",
       "2                                     23           No   \n",
       "3                                     33          Yes   \n",
       "4                                     33          Yes   \n",
       "...                                  ...          ...   \n",
       "1103                                  35           No   \n",
       "1104                                  29           No   \n",
       "1105                                  34           No   \n",
       "1106                                  36           No   \n",
       "1107                                  32           No   \n",
       "\n",
       "      travelling_network_rating  Adult_flag  \\\n",
       "0                             4           1   \n",
       "1                             3           0   \n",
       "2                             3           0   \n",
       "3                             2           0   \n",
       "4                             2           0   \n",
       "...                         ...         ...   \n",
       "1103                          2           3   \n",
       "1104                          4           2   \n",
       "1105                          4           2   \n",
       "1106                          3           1   \n",
       "1107                          4           0   \n",
       "\n",
       "      Daily_Avg_mins_spend_on_traveling_page  \n",
       "0                                         10  \n",
       "1                                          8  \n",
       "2                                          8  \n",
       "3                                         10  \n",
       "4                                         10  \n",
       "...                                      ...  \n",
       "1103                                      23  \n",
       "1104                                      14  \n",
       "1105                                      17  \n",
       "1106                                      23  \n",
       "1107                                      20  \n",
       "\n",
       "[1108 rows x 16 columns]"
      ]
     },
     "execution_count": 56,
     "metadata": {},
     "output_type": "execute_result"
    }
   ],
   "source": [
    "df1c=data_Laptop.copy()\n",
    "df1c"
   ]
  },
  {
   "cell_type": "code",
   "execution_count": 57,
   "id": "780c9cae",
   "metadata": {},
   "outputs": [
    {
     "data": {
      "text/plain": [
       "Beach              492\n",
       "Historical site    344\n",
       "Big Cities         108\n",
       "Trekking            84\n",
       "Other               56\n",
       "Hill Stations       24\n",
       "Name: preferred_location_type, dtype: int64"
      ]
     },
     "execution_count": 57,
     "metadata": {},
     "output_type": "execute_result"
    }
   ],
   "source": [
    "df1c['preferred_location_type'].value_counts()"
   ]
  },
  {
   "cell_type": "code",
   "execution_count": 58,
   "id": "7ea31d0d",
   "metadata": {},
   "outputs": [
    {
     "name": "stdout",
     "output_type": "stream",
     "text": [
      "Feature: Preferred location type\n",
      "['Beach', 'Historical site', 'Big Cities', 'Trekking', 'Other', 'Hill Stations']\n",
      "Categories (6, object): ['Beach', 'Big Cities', 'Hill Stations', 'Historical site', 'Other', 'Trekking']\n",
      "[0 3 1 5 4 2]\n"
     ]
    }
   ],
   "source": [
    "print('Feature: Preferred location type')\n",
    "print(pd.Categorical(df1c['preferred_location_type'].unique()))\n",
    "print(pd.Categorical(df1c['preferred_location_type'].unique()).codes)\n",
    "df1c['preferred_location_type'] = pd.Categorical(df1c['preferred_location_type']).codes"
   ]
  },
  {
   "cell_type": "code",
   "execution_count": 59,
   "id": "86846961",
   "metadata": {},
   "outputs": [
    {
     "data": {
      "text/plain": [
       "0    492\n",
       "3    344\n",
       "1    108\n",
       "5     84\n",
       "4     56\n",
       "2     24\n",
       "Name: preferred_location_type, dtype: int64"
      ]
     },
     "execution_count": 59,
     "metadata": {},
     "output_type": "execute_result"
    }
   ],
   "source": [
    "df1c['preferred_location_type'].value_counts()"
   ]
  },
  {
   "cell_type": "code",
   "execution_count": 60,
   "id": "44a93819",
   "metadata": {},
   "outputs": [
    {
     "data": {
      "text/html": [
       "<div>\n",
       "<style scoped>\n",
       "    .dataframe tbody tr th:only-of-type {\n",
       "        vertical-align: middle;\n",
       "    }\n",
       "\n",
       "    .dataframe tbody tr th {\n",
       "        vertical-align: top;\n",
       "    }\n",
       "\n",
       "    .dataframe thead th {\n",
       "        text-align: right;\n",
       "    }\n",
       "</style>\n",
       "<table border=\"1\" class=\"dataframe\">\n",
       "  <thead>\n",
       "    <tr style=\"text-align: right;\">\n",
       "      <th></th>\n",
       "      <th>Taken_product</th>\n",
       "      <th>Yearly_avg_view_on_travel_page</th>\n",
       "      <th>preferred_device</th>\n",
       "      <th>total_likes_on_outstation_checkin_given</th>\n",
       "      <th>yearly_avg_Outstation_checkins</th>\n",
       "      <th>member_in_family</th>\n",
       "      <th>preferred_location_type</th>\n",
       "      <th>Yearly_avg_comment_on_travel_page</th>\n",
       "      <th>total_likes_on_outofstation_checkin_received</th>\n",
       "      <th>week_since_last_outstation_checkin</th>\n",
       "      <th>following_company_page</th>\n",
       "      <th>montly_avg_comment_on_company_page</th>\n",
       "      <th>working_flag</th>\n",
       "      <th>travelling_network_rating</th>\n",
       "      <th>Adult_flag</th>\n",
       "      <th>Daily_Avg_mins_spend_on_traveling_page</th>\n",
       "    </tr>\n",
       "  </thead>\n",
       "  <tbody>\n",
       "    <tr>\n",
       "      <th>0</th>\n",
       "      <td>No</td>\n",
       "      <td>379</td>\n",
       "      <td>Laptop</td>\n",
       "      <td>9776</td>\n",
       "      <td>8</td>\n",
       "      <td>1</td>\n",
       "      <td>0</td>\n",
       "      <td>64</td>\n",
       "      <td>5142</td>\n",
       "      <td>1</td>\n",
       "      <td>No</td>\n",
       "      <td>33</td>\n",
       "      <td>Yes</td>\n",
       "      <td>4</td>\n",
       "      <td>1</td>\n",
       "      <td>10</td>\n",
       "    </tr>\n",
       "    <tr>\n",
       "      <th>1</th>\n",
       "      <td>No</td>\n",
       "      <td>255</td>\n",
       "      <td>Laptop</td>\n",
       "      <td>48725</td>\n",
       "      <td>3</td>\n",
       "      <td>4</td>\n",
       "      <td>0</td>\n",
       "      <td>59</td>\n",
       "      <td>2913</td>\n",
       "      <td>1</td>\n",
       "      <td>Yes</td>\n",
       "      <td>19</td>\n",
       "      <td>No</td>\n",
       "      <td>3</td>\n",
       "      <td>0</td>\n",
       "      <td>8</td>\n",
       "    </tr>\n",
       "    <tr>\n",
       "      <th>2</th>\n",
       "      <td>No</td>\n",
       "      <td>250</td>\n",
       "      <td>Laptop</td>\n",
       "      <td>35184</td>\n",
       "      <td>2</td>\n",
       "      <td>2</td>\n",
       "      <td>0</td>\n",
       "      <td>84</td>\n",
       "      <td>3074</td>\n",
       "      <td>0</td>\n",
       "      <td>No</td>\n",
       "      <td>23</td>\n",
       "      <td>No</td>\n",
       "      <td>3</td>\n",
       "      <td>0</td>\n",
       "      <td>8</td>\n",
       "    </tr>\n",
       "    <tr>\n",
       "      <th>3</th>\n",
       "      <td>No</td>\n",
       "      <td>295</td>\n",
       "      <td>Laptop</td>\n",
       "      <td>7572</td>\n",
       "      <td>23</td>\n",
       "      <td>3</td>\n",
       "      <td>0</td>\n",
       "      <td>48</td>\n",
       "      <td>9532</td>\n",
       "      <td>0</td>\n",
       "      <td>No</td>\n",
       "      <td>33</td>\n",
       "      <td>Yes</td>\n",
       "      <td>2</td>\n",
       "      <td>0</td>\n",
       "      <td>10</td>\n",
       "    </tr>\n",
       "    <tr>\n",
       "      <th>4</th>\n",
       "      <td>Yes</td>\n",
       "      <td>250</td>\n",
       "      <td>Laptop</td>\n",
       "      <td>39379</td>\n",
       "      <td>16</td>\n",
       "      <td>1</td>\n",
       "      <td>0</td>\n",
       "      <td>80</td>\n",
       "      <td>3926</td>\n",
       "      <td>1</td>\n",
       "      <td>Yes</td>\n",
       "      <td>33</td>\n",
       "      <td>Yes</td>\n",
       "      <td>2</td>\n",
       "      <td>0</td>\n",
       "      <td>10</td>\n",
       "    </tr>\n",
       "  </tbody>\n",
       "</table>\n",
       "</div>"
      ],
      "text/plain": [
       "  Taken_product  Yearly_avg_view_on_travel_page preferred_device  \\\n",
       "0            No                             379           Laptop   \n",
       "1            No                             255           Laptop   \n",
       "2            No                             250           Laptop   \n",
       "3            No                             295           Laptop   \n",
       "4           Yes                             250           Laptop   \n",
       "\n",
       "   total_likes_on_outstation_checkin_given  yearly_avg_Outstation_checkins  \\\n",
       "0                                     9776                               8   \n",
       "1                                    48725                               3   \n",
       "2                                    35184                               2   \n",
       "3                                     7572                              23   \n",
       "4                                    39379                              16   \n",
       "\n",
       "   member_in_family  preferred_location_type  \\\n",
       "0                 1                        0   \n",
       "1                 4                        0   \n",
       "2                 2                        0   \n",
       "3                 3                        0   \n",
       "4                 1                        0   \n",
       "\n",
       "   Yearly_avg_comment_on_travel_page  \\\n",
       "0                                 64   \n",
       "1                                 59   \n",
       "2                                 84   \n",
       "3                                 48   \n",
       "4                                 80   \n",
       "\n",
       "   total_likes_on_outofstation_checkin_received  \\\n",
       "0                                          5142   \n",
       "1                                          2913   \n",
       "2                                          3074   \n",
       "3                                          9532   \n",
       "4                                          3926   \n",
       "\n",
       "   week_since_last_outstation_checkin following_company_page  \\\n",
       "0                                   1                     No   \n",
       "1                                   1                    Yes   \n",
       "2                                   0                     No   \n",
       "3                                   0                     No   \n",
       "4                                   1                    Yes   \n",
       "\n",
       "   montly_avg_comment_on_company_page working_flag  travelling_network_rating  \\\n",
       "0                                  33          Yes                          4   \n",
       "1                                  19           No                          3   \n",
       "2                                  23           No                          3   \n",
       "3                                  33          Yes                          2   \n",
       "4                                  33          Yes                          2   \n",
       "\n",
       "   Adult_flag  Daily_Avg_mins_spend_on_traveling_page  \n",
       "0           1                                      10  \n",
       "1           0                                       8  \n",
       "2           0                                       8  \n",
       "3           0                                      10  \n",
       "4           0                                      10  "
      ]
     },
     "execution_count": 60,
     "metadata": {},
     "output_type": "execute_result"
    }
   ],
   "source": [
    "df_laptop = df1c.copy()\n",
    "\n",
    "df_laptop.head()"
   ]
  },
  {
   "cell_type": "code",
   "execution_count": 61,
   "id": "83343859",
   "metadata": {},
   "outputs": [
    {
     "name": "stdout",
     "output_type": "stream",
     "text": [
      "<class 'pandas.core.frame.DataFrame'>\n",
      "RangeIndex: 1108 entries, 0 to 1107\n",
      "Data columns (total 16 columns):\n",
      " #   Column                                        Non-Null Count  Dtype \n",
      "---  ------                                        --------------  ----- \n",
      " 0   Taken_product                                 1108 non-null   object\n",
      " 1   Yearly_avg_view_on_travel_page                1108 non-null   int64 \n",
      " 2   preferred_device                              1108 non-null   object\n",
      " 3   total_likes_on_outstation_checkin_given       1108 non-null   int64 \n",
      " 4   yearly_avg_Outstation_checkins                1108 non-null   int64 \n",
      " 5   member_in_family                              1108 non-null   int64 \n",
      " 6   preferred_location_type                       1108 non-null   int8  \n",
      " 7   Yearly_avg_comment_on_travel_page             1108 non-null   int64 \n",
      " 8   total_likes_on_outofstation_checkin_received  1108 non-null   int64 \n",
      " 9   week_since_last_outstation_checkin            1108 non-null   int64 \n",
      " 10  following_company_page                        1108 non-null   object\n",
      " 11  montly_avg_comment_on_company_page            1108 non-null   int64 \n",
      " 12  working_flag                                  1108 non-null   object\n",
      " 13  travelling_network_rating                     1108 non-null   int64 \n",
      " 14  Adult_flag                                    1108 non-null   int64 \n",
      " 15  Daily_Avg_mins_spend_on_traveling_page        1108 non-null   int64 \n",
      "dtypes: int64(11), int8(1), object(4)\n",
      "memory usage: 131.1+ KB\n"
     ]
    }
   ],
   "source": [
    "df_laptop.info()"
   ]
  },
  {
   "cell_type": "code",
   "execution_count": 62,
   "id": "64911824",
   "metadata": {},
   "outputs": [
    {
     "data": {
      "text/plain": [
       "(1108, 16)"
      ]
     },
     "execution_count": 62,
     "metadata": {},
     "output_type": "execute_result"
    }
   ],
   "source": [
    "df_laptop.shape"
   ]
  },
  {
   "cell_type": "code",
   "execution_count": 63,
   "id": "db81e4ce",
   "metadata": {},
   "outputs": [],
   "source": [
    "from scipy.stats import zscore"
   ]
  },
  {
   "cell_type": "code",
   "execution_count": 64,
   "id": "c93096b3",
   "metadata": {},
   "outputs": [
    {
     "data": {
      "text/html": [
       "<div>\n",
       "<style scoped>\n",
       "    .dataframe tbody tr th:only-of-type {\n",
       "        vertical-align: middle;\n",
       "    }\n",
       "\n",
       "    .dataframe tbody tr th {\n",
       "        vertical-align: top;\n",
       "    }\n",
       "\n",
       "    .dataframe thead th {\n",
       "        text-align: right;\n",
       "    }\n",
       "</style>\n",
       "<table border=\"1\" class=\"dataframe\">\n",
       "  <thead>\n",
       "    <tr style=\"text-align: right;\">\n",
       "      <th></th>\n",
       "      <th>0</th>\n",
       "      <th>1</th>\n",
       "      <th>2</th>\n",
       "      <th>3</th>\n",
       "      <th>4</th>\n",
       "      <th>5</th>\n",
       "      <th>6</th>\n",
       "      <th>7</th>\n",
       "      <th>8</th>\n",
       "      <th>9</th>\n",
       "      <th>...</th>\n",
       "      <th>1098</th>\n",
       "      <th>1099</th>\n",
       "      <th>1100</th>\n",
       "      <th>1101</th>\n",
       "      <th>1102</th>\n",
       "      <th>1103</th>\n",
       "      <th>1104</th>\n",
       "      <th>1105</th>\n",
       "      <th>1106</th>\n",
       "      <th>1107</th>\n",
       "    </tr>\n",
       "  </thead>\n",
       "  <tbody>\n",
       "    <tr>\n",
       "      <th>Taken_product</th>\n",
       "      <td>No</td>\n",
       "      <td>No</td>\n",
       "      <td>No</td>\n",
       "      <td>No</td>\n",
       "      <td>Yes</td>\n",
       "      <td>No</td>\n",
       "      <td>No</td>\n",
       "      <td>No</td>\n",
       "      <td>No</td>\n",
       "      <td>No</td>\n",
       "      <td>...</td>\n",
       "      <td>No</td>\n",
       "      <td>No</td>\n",
       "      <td>No</td>\n",
       "      <td>No</td>\n",
       "      <td>Yes</td>\n",
       "      <td>No</td>\n",
       "      <td>Yes</td>\n",
       "      <td>No</td>\n",
       "      <td>No</td>\n",
       "      <td>No</td>\n",
       "    </tr>\n",
       "    <tr>\n",
       "      <th>Yearly_avg_view_on_travel_page</th>\n",
       "      <td>379</td>\n",
       "      <td>255</td>\n",
       "      <td>250</td>\n",
       "      <td>295</td>\n",
       "      <td>250</td>\n",
       "      <td>253</td>\n",
       "      <td>215</td>\n",
       "      <td>228</td>\n",
       "      <td>356</td>\n",
       "      <td>254</td>\n",
       "      <td>...</td>\n",
       "      <td>256</td>\n",
       "      <td>290</td>\n",
       "      <td>314</td>\n",
       "      <td>298</td>\n",
       "      <td>177</td>\n",
       "      <td>278</td>\n",
       "      <td>388</td>\n",
       "      <td>268</td>\n",
       "      <td>279</td>\n",
       "      <td>382</td>\n",
       "    </tr>\n",
       "    <tr>\n",
       "      <th>preferred_device</th>\n",
       "      <td>Laptop</td>\n",
       "      <td>Laptop</td>\n",
       "      <td>Laptop</td>\n",
       "      <td>Laptop</td>\n",
       "      <td>Laptop</td>\n",
       "      <td>Laptop</td>\n",
       "      <td>Laptop</td>\n",
       "      <td>Laptop</td>\n",
       "      <td>Laptop</td>\n",
       "      <td>Laptop</td>\n",
       "      <td>...</td>\n",
       "      <td>Laptop</td>\n",
       "      <td>Laptop</td>\n",
       "      <td>Laptop</td>\n",
       "      <td>Laptop</td>\n",
       "      <td>Laptop</td>\n",
       "      <td>Laptop</td>\n",
       "      <td>Laptop</td>\n",
       "      <td>Laptop</td>\n",
       "      <td>Laptop</td>\n",
       "      <td>Laptop</td>\n",
       "    </tr>\n",
       "    <tr>\n",
       "      <th>total_likes_on_outstation_checkin_given</th>\n",
       "      <td>9776</td>\n",
       "      <td>48725</td>\n",
       "      <td>35184</td>\n",
       "      <td>7572</td>\n",
       "      <td>39379</td>\n",
       "      <td>39944</td>\n",
       "      <td>34793</td>\n",
       "      <td>25245</td>\n",
       "      <td>42388</td>\n",
       "      <td>18033</td>\n",
       "      <td>...</td>\n",
       "      <td>45667</td>\n",
       "      <td>50584</td>\n",
       "      <td>24277</td>\n",
       "      <td>17837</td>\n",
       "      <td>22385</td>\n",
       "      <td>24127</td>\n",
       "      <td>30775</td>\n",
       "      <td>42010</td>\n",
       "      <td>30987</td>\n",
       "      <td>35851</td>\n",
       "    </tr>\n",
       "    <tr>\n",
       "      <th>yearly_avg_Outstation_checkins</th>\n",
       "      <td>8</td>\n",
       "      <td>3</td>\n",
       "      <td>2</td>\n",
       "      <td>23</td>\n",
       "      <td>16</td>\n",
       "      <td>1</td>\n",
       "      <td>8</td>\n",
       "      <td>1</td>\n",
       "      <td>5</td>\n",
       "      <td>1</td>\n",
       "      <td>...</td>\n",
       "      <td>7</td>\n",
       "      <td>1</td>\n",
       "      <td>11</td>\n",
       "      <td>6</td>\n",
       "      <td>9</td>\n",
       "      <td>4</td>\n",
       "      <td>1</td>\n",
       "      <td>18</td>\n",
       "      <td>23</td>\n",
       "      <td>2</td>\n",
       "    </tr>\n",
       "    <tr>\n",
       "      <th>member_in_family</th>\n",
       "      <td>1</td>\n",
       "      <td>4</td>\n",
       "      <td>2</td>\n",
       "      <td>3</td>\n",
       "      <td>1</td>\n",
       "      <td>3</td>\n",
       "      <td>3</td>\n",
       "      <td>2</td>\n",
       "      <td>4</td>\n",
       "      <td>2</td>\n",
       "      <td>...</td>\n",
       "      <td>2</td>\n",
       "      <td>4</td>\n",
       "      <td>3</td>\n",
       "      <td>4</td>\n",
       "      <td>3</td>\n",
       "      <td>2</td>\n",
       "      <td>4</td>\n",
       "      <td>4</td>\n",
       "      <td>2</td>\n",
       "      <td>3</td>\n",
       "    </tr>\n",
       "    <tr>\n",
       "      <th>preferred_location_type</th>\n",
       "      <td>0</td>\n",
       "      <td>0</td>\n",
       "      <td>0</td>\n",
       "      <td>0</td>\n",
       "      <td>0</td>\n",
       "      <td>0</td>\n",
       "      <td>0</td>\n",
       "      <td>3</td>\n",
       "      <td>1</td>\n",
       "      <td>0</td>\n",
       "      <td>...</td>\n",
       "      <td>0</td>\n",
       "      <td>4</td>\n",
       "      <td>5</td>\n",
       "      <td>0</td>\n",
       "      <td>1</td>\n",
       "      <td>0</td>\n",
       "      <td>0</td>\n",
       "      <td>0</td>\n",
       "      <td>3</td>\n",
       "      <td>3</td>\n",
       "    </tr>\n",
       "    <tr>\n",
       "      <th>Yearly_avg_comment_on_travel_page</th>\n",
       "      <td>64</td>\n",
       "      <td>59</td>\n",
       "      <td>84</td>\n",
       "      <td>48</td>\n",
       "      <td>80</td>\n",
       "      <td>53</td>\n",
       "      <td>41</td>\n",
       "      <td>61</td>\n",
       "      <td>107</td>\n",
       "      <td>108</td>\n",
       "      <td>...</td>\n",
       "      <td>57</td>\n",
       "      <td>100</td>\n",
       "      <td>92</td>\n",
       "      <td>87</td>\n",
       "      <td>48</td>\n",
       "      <td>115</td>\n",
       "      <td>109</td>\n",
       "      <td>98</td>\n",
       "      <td>58</td>\n",
       "      <td>83</td>\n",
       "    </tr>\n",
       "    <tr>\n",
       "      <th>total_likes_on_outofstation_checkin_received</th>\n",
       "      <td>5142</td>\n",
       "      <td>2913</td>\n",
       "      <td>3074</td>\n",
       "      <td>9532</td>\n",
       "      <td>3926</td>\n",
       "      <td>5385</td>\n",
       "      <td>8732</td>\n",
       "      <td>4017</td>\n",
       "      <td>5782</td>\n",
       "      <td>13467</td>\n",
       "      <td>...</td>\n",
       "      <td>6021</td>\n",
       "      <td>3039</td>\n",
       "      <td>6392</td>\n",
       "      <td>5380</td>\n",
       "      <td>1851</td>\n",
       "      <td>5184</td>\n",
       "      <td>6787</td>\n",
       "      <td>5753</td>\n",
       "      <td>2616</td>\n",
       "      <td>5444</td>\n",
       "    </tr>\n",
       "    <tr>\n",
       "      <th>week_since_last_outstation_checkin</th>\n",
       "      <td>1</td>\n",
       "      <td>1</td>\n",
       "      <td>0</td>\n",
       "      <td>0</td>\n",
       "      <td>1</td>\n",
       "      <td>2</td>\n",
       "      <td>1</td>\n",
       "      <td>1</td>\n",
       "      <td>4</td>\n",
       "      <td>1</td>\n",
       "      <td>...</td>\n",
       "      <td>2</td>\n",
       "      <td>1</td>\n",
       "      <td>1</td>\n",
       "      <td>2</td>\n",
       "      <td>1</td>\n",
       "      <td>7</td>\n",
       "      <td>8</td>\n",
       "      <td>2</td>\n",
       "      <td>4</td>\n",
       "      <td>3</td>\n",
       "    </tr>\n",
       "    <tr>\n",
       "      <th>following_company_page</th>\n",
       "      <td>No</td>\n",
       "      <td>Yes</td>\n",
       "      <td>No</td>\n",
       "      <td>No</td>\n",
       "      <td>Yes</td>\n",
       "      <td>No</td>\n",
       "      <td>No</td>\n",
       "      <td>No</td>\n",
       "      <td>Yes</td>\n",
       "      <td>Yes</td>\n",
       "      <td>...</td>\n",
       "      <td>No</td>\n",
       "      <td>Yes</td>\n",
       "      <td>No</td>\n",
       "      <td>No</td>\n",
       "      <td>No</td>\n",
       "      <td>No</td>\n",
       "      <td>No</td>\n",
       "      <td>Yes</td>\n",
       "      <td>No</td>\n",
       "      <td>No</td>\n",
       "    </tr>\n",
       "    <tr>\n",
       "      <th>montly_avg_comment_on_company_page</th>\n",
       "      <td>33</td>\n",
       "      <td>19</td>\n",
       "      <td>23</td>\n",
       "      <td>33</td>\n",
       "      <td>33</td>\n",
       "      <td>29</td>\n",
       "      <td>27</td>\n",
       "      <td>26</td>\n",
       "      <td>32</td>\n",
       "      <td>24</td>\n",
       "      <td>...</td>\n",
       "      <td>31</td>\n",
       "      <td>26</td>\n",
       "      <td>34</td>\n",
       "      <td>18</td>\n",
       "      <td>33</td>\n",
       "      <td>35</td>\n",
       "      <td>29</td>\n",
       "      <td>34</td>\n",
       "      <td>36</td>\n",
       "      <td>32</td>\n",
       "    </tr>\n",
       "    <tr>\n",
       "      <th>working_flag</th>\n",
       "      <td>Yes</td>\n",
       "      <td>No</td>\n",
       "      <td>No</td>\n",
       "      <td>Yes</td>\n",
       "      <td>Yes</td>\n",
       "      <td>No</td>\n",
       "      <td>No</td>\n",
       "      <td>Yes</td>\n",
       "      <td>Yes</td>\n",
       "      <td>No</td>\n",
       "      <td>...</td>\n",
       "      <td>Yes</td>\n",
       "      <td>No</td>\n",
       "      <td>No</td>\n",
       "      <td>No</td>\n",
       "      <td>No</td>\n",
       "      <td>No</td>\n",
       "      <td>No</td>\n",
       "      <td>No</td>\n",
       "      <td>No</td>\n",
       "      <td>No</td>\n",
       "    </tr>\n",
       "    <tr>\n",
       "      <th>travelling_network_rating</th>\n",
       "      <td>4</td>\n",
       "      <td>3</td>\n",
       "      <td>3</td>\n",
       "      <td>2</td>\n",
       "      <td>2</td>\n",
       "      <td>1</td>\n",
       "      <td>4</td>\n",
       "      <td>4</td>\n",
       "      <td>3</td>\n",
       "      <td>3</td>\n",
       "      <td>...</td>\n",
       "      <td>3</td>\n",
       "      <td>2</td>\n",
       "      <td>1</td>\n",
       "      <td>4</td>\n",
       "      <td>1</td>\n",
       "      <td>2</td>\n",
       "      <td>4</td>\n",
       "      <td>4</td>\n",
       "      <td>3</td>\n",
       "      <td>4</td>\n",
       "    </tr>\n",
       "    <tr>\n",
       "      <th>Adult_flag</th>\n",
       "      <td>1</td>\n",
       "      <td>0</td>\n",
       "      <td>0</td>\n",
       "      <td>0</td>\n",
       "      <td>0</td>\n",
       "      <td>2</td>\n",
       "      <td>0</td>\n",
       "      <td>0</td>\n",
       "      <td>0</td>\n",
       "      <td>0</td>\n",
       "      <td>...</td>\n",
       "      <td>3</td>\n",
       "      <td>1</td>\n",
       "      <td>1</td>\n",
       "      <td>1</td>\n",
       "      <td>1</td>\n",
       "      <td>3</td>\n",
       "      <td>2</td>\n",
       "      <td>2</td>\n",
       "      <td>1</td>\n",
       "      <td>0</td>\n",
       "    </tr>\n",
       "    <tr>\n",
       "      <th>Daily_Avg_mins_spend_on_traveling_page</th>\n",
       "      <td>10</td>\n",
       "      <td>8</td>\n",
       "      <td>8</td>\n",
       "      <td>10</td>\n",
       "      <td>10</td>\n",
       "      <td>10</td>\n",
       "      <td>9</td>\n",
       "      <td>12</td>\n",
       "      <td>14</td>\n",
       "      <td>15</td>\n",
       "      <td>...</td>\n",
       "      <td>16</td>\n",
       "      <td>9</td>\n",
       "      <td>16</td>\n",
       "      <td>13</td>\n",
       "      <td>10</td>\n",
       "      <td>23</td>\n",
       "      <td>14</td>\n",
       "      <td>17</td>\n",
       "      <td>23</td>\n",
       "      <td>20</td>\n",
       "    </tr>\n",
       "  </tbody>\n",
       "</table>\n",
       "<p>16 rows × 1108 columns</p>\n",
       "</div>"
      ],
      "text/plain": [
       "                                                0       1       2       3     \\\n",
       "Taken_product                                     No      No      No      No   \n",
       "Yearly_avg_view_on_travel_page                   379     255     250     295   \n",
       "preferred_device                              Laptop  Laptop  Laptop  Laptop   \n",
       "total_likes_on_outstation_checkin_given         9776   48725   35184    7572   \n",
       "yearly_avg_Outstation_checkins                     8       3       2      23   \n",
       "member_in_family                                   1       4       2       3   \n",
       "preferred_location_type                            0       0       0       0   \n",
       "Yearly_avg_comment_on_travel_page                 64      59      84      48   \n",
       "total_likes_on_outofstation_checkin_received    5142    2913    3074    9532   \n",
       "week_since_last_outstation_checkin                 1       1       0       0   \n",
       "following_company_page                            No     Yes      No      No   \n",
       "montly_avg_comment_on_company_page                33      19      23      33   \n",
       "working_flag                                     Yes      No      No     Yes   \n",
       "travelling_network_rating                          4       3       3       2   \n",
       "Adult_flag                                         1       0       0       0   \n",
       "Daily_Avg_mins_spend_on_traveling_page            10       8       8      10   \n",
       "\n",
       "                                                4       5       6       7     \\\n",
       "Taken_product                                    Yes      No      No      No   \n",
       "Yearly_avg_view_on_travel_page                   250     253     215     228   \n",
       "preferred_device                              Laptop  Laptop  Laptop  Laptop   \n",
       "total_likes_on_outstation_checkin_given        39379   39944   34793   25245   \n",
       "yearly_avg_Outstation_checkins                    16       1       8       1   \n",
       "member_in_family                                   1       3       3       2   \n",
       "preferred_location_type                            0       0       0       3   \n",
       "Yearly_avg_comment_on_travel_page                 80      53      41      61   \n",
       "total_likes_on_outofstation_checkin_received    3926    5385    8732    4017   \n",
       "week_since_last_outstation_checkin                 1       2       1       1   \n",
       "following_company_page                           Yes      No      No      No   \n",
       "montly_avg_comment_on_company_page                33      29      27      26   \n",
       "working_flag                                     Yes      No      No     Yes   \n",
       "travelling_network_rating                          2       1       4       4   \n",
       "Adult_flag                                         0       2       0       0   \n",
       "Daily_Avg_mins_spend_on_traveling_page            10      10       9      12   \n",
       "\n",
       "                                                8       9     ...    1098  \\\n",
       "Taken_product                                     No      No  ...      No   \n",
       "Yearly_avg_view_on_travel_page                   356     254  ...     256   \n",
       "preferred_device                              Laptop  Laptop  ...  Laptop   \n",
       "total_likes_on_outstation_checkin_given        42388   18033  ...   45667   \n",
       "yearly_avg_Outstation_checkins                     5       1  ...       7   \n",
       "member_in_family                                   4       2  ...       2   \n",
       "preferred_location_type                            1       0  ...       0   \n",
       "Yearly_avg_comment_on_travel_page                107     108  ...      57   \n",
       "total_likes_on_outofstation_checkin_received    5782   13467  ...    6021   \n",
       "week_since_last_outstation_checkin                 4       1  ...       2   \n",
       "following_company_page                           Yes     Yes  ...      No   \n",
       "montly_avg_comment_on_company_page                32      24  ...      31   \n",
       "working_flag                                     Yes      No  ...     Yes   \n",
       "travelling_network_rating                          3       3  ...       3   \n",
       "Adult_flag                                         0       0  ...       3   \n",
       "Daily_Avg_mins_spend_on_traveling_page            14      15  ...      16   \n",
       "\n",
       "                                                1099    1100    1101    1102  \\\n",
       "Taken_product                                     No      No      No     Yes   \n",
       "Yearly_avg_view_on_travel_page                   290     314     298     177   \n",
       "preferred_device                              Laptop  Laptop  Laptop  Laptop   \n",
       "total_likes_on_outstation_checkin_given        50584   24277   17837   22385   \n",
       "yearly_avg_Outstation_checkins                     1      11       6       9   \n",
       "member_in_family                                   4       3       4       3   \n",
       "preferred_location_type                            4       5       0       1   \n",
       "Yearly_avg_comment_on_travel_page                100      92      87      48   \n",
       "total_likes_on_outofstation_checkin_received    3039    6392    5380    1851   \n",
       "week_since_last_outstation_checkin                 1       1       2       1   \n",
       "following_company_page                           Yes      No      No      No   \n",
       "montly_avg_comment_on_company_page                26      34      18      33   \n",
       "working_flag                                      No      No      No      No   \n",
       "travelling_network_rating                          2       1       4       1   \n",
       "Adult_flag                                         1       1       1       1   \n",
       "Daily_Avg_mins_spend_on_traveling_page             9      16      13      10   \n",
       "\n",
       "                                                1103    1104    1105    1106  \\\n",
       "Taken_product                                     No     Yes      No      No   \n",
       "Yearly_avg_view_on_travel_page                   278     388     268     279   \n",
       "preferred_device                              Laptop  Laptop  Laptop  Laptop   \n",
       "total_likes_on_outstation_checkin_given        24127   30775   42010   30987   \n",
       "yearly_avg_Outstation_checkins                     4       1      18      23   \n",
       "member_in_family                                   2       4       4       2   \n",
       "preferred_location_type                            0       0       0       3   \n",
       "Yearly_avg_comment_on_travel_page                115     109      98      58   \n",
       "total_likes_on_outofstation_checkin_received    5184    6787    5753    2616   \n",
       "week_since_last_outstation_checkin                 7       8       2       4   \n",
       "following_company_page                            No      No     Yes      No   \n",
       "montly_avg_comment_on_company_page                35      29      34      36   \n",
       "working_flag                                      No      No      No      No   \n",
       "travelling_network_rating                          2       4       4       3   \n",
       "Adult_flag                                         3       2       2       1   \n",
       "Daily_Avg_mins_spend_on_traveling_page            23      14      17      23   \n",
       "\n",
       "                                                1107  \n",
       "Taken_product                                     No  \n",
       "Yearly_avg_view_on_travel_page                   382  \n",
       "preferred_device                              Laptop  \n",
       "total_likes_on_outstation_checkin_given        35851  \n",
       "yearly_avg_Outstation_checkins                     2  \n",
       "member_in_family                                   3  \n",
       "preferred_location_type                            3  \n",
       "Yearly_avg_comment_on_travel_page                 83  \n",
       "total_likes_on_outofstation_checkin_received    5444  \n",
       "week_since_last_outstation_checkin                 3  \n",
       "following_company_page                            No  \n",
       "montly_avg_comment_on_company_page                32  \n",
       "working_flag                                      No  \n",
       "travelling_network_rating                          4  \n",
       "Adult_flag                                         0  \n",
       "Daily_Avg_mins_spend_on_traveling_page            20  \n",
       "\n",
       "[16 rows x 1108 columns]"
      ]
     },
     "execution_count": 64,
     "metadata": {},
     "output_type": "execute_result"
    }
   ],
   "source": [
    "df_laptop.T"
   ]
  },
  {
   "cell_type": "code",
   "execution_count": 65,
   "id": "45e9dfc0",
   "metadata": {},
   "outputs": [],
   "source": [
    "df_laptop['preferred_device']=df_laptop['preferred_device'].replace({'Laptop':1})"
   ]
  },
  {
   "cell_type": "code",
   "execution_count": 66,
   "id": "c899d249",
   "metadata": {},
   "outputs": [
    {
     "data": {
      "text/plain": [
       "1    1108\n",
       "Name: preferred_device, dtype: int64"
      ]
     },
     "execution_count": 66,
     "metadata": {},
     "output_type": "execute_result"
    }
   ],
   "source": [
    "df_laptop['preferred_device'].value_counts()"
   ]
  },
  {
   "cell_type": "code",
   "execution_count": 67,
   "id": "3442630a",
   "metadata": {},
   "outputs": [],
   "source": [
    "df_laptop['Taken_product']=df_laptop['Taken_product'].replace('No',0)\n",
    "df_laptop['Taken_product']=df_laptop['Taken_product'].replace('Yes',1)"
   ]
  },
  {
   "cell_type": "code",
   "execution_count": 68,
   "id": "03db3f4d",
   "metadata": {},
   "outputs": [
    {
     "data": {
      "text/plain": [
       "0    832\n",
       "1    276\n",
       "Name: Taken_product, dtype: int64"
      ]
     },
     "execution_count": 68,
     "metadata": {},
     "output_type": "execute_result"
    }
   ],
   "source": [
    "df_laptop['Taken_product'].value_counts()0.90"
   ]
  },
  {
   "cell_type": "code",
   "execution_count": 69,
   "id": "f3c2cf5c",
   "metadata": {},
   "outputs": [],
   "source": [
    "df_laptop['following_company_page']=df_laptop['following_company_page'].replace('No',0)\n",
    "df_laptop['following_company_page']=df_laptop['following_company_page'].replace('Yes',1)"
   ]
  },
  {
   "cell_type": "code",
   "execution_count": 70,
   "id": "91b13bed",
   "metadata": {},
   "outputs": [
    {
     "data": {
      "text/plain": [
       "0    764\n",
       "1    344\n",
       "Name: following_company_page, dtype: int64"
      ]
     },
     "execution_count": 70,
     "metadata": {},
     "output_type": "execute_result"
    }
   ],
   "source": [
    "df_laptop['following_company_page'].value_counts()"
   ]
  },
  {
   "cell_type": "code",
   "execution_count": 71,
   "id": "a0d4b906",
   "metadata": {},
   "outputs": [],
   "source": [
    "df_laptop['working_flag']=df_laptop['working_flag'].replace('No',0)\n",
    "df_laptop['working_flag']=df_laptop['working_flag'].replace('Yes',1)"
   ]
  },
  {
   "cell_type": "code",
   "execution_count": 72,
   "id": "57745d14",
   "metadata": {},
   "outputs": [
    {
     "data": {
      "text/plain": [
       "0    924\n",
       "1    184\n",
       "Name: working_flag, dtype: int64"
      ]
     },
     "execution_count": 72,
     "metadata": {},
     "output_type": "execute_result"
    }
   ],
   "source": [
    "df_laptop['working_flag'].value_counts()"
   ]
  },
  {
   "cell_type": "code",
   "execution_count": 73,
   "id": "eb9fb786",
   "metadata": {},
   "outputs": [],
   "source": [
    "X= df_laptop.drop([\"Taken_product\"],axis=1)"
   ]
  },
  {
   "cell_type": "code",
   "execution_count": 74,
   "id": "c322ef70",
   "metadata": {},
   "outputs": [],
   "source": [
    "y=df_laptop.Taken_product"
   ]
  },
  {
   "cell_type": "code",
   "execution_count": 75,
   "id": "d1093291",
   "metadata": {},
   "outputs": [
    {
     "data": {
      "text/html": [
       "<div>\n",
       "<style scoped>\n",
       "    .dataframe tbody tr th:only-of-type {\n",
       "        vertical-align: middle;\n",
       "    }\n",
       "\n",
       "    .dataframe tbody tr th {\n",
       "        vertical-align: top;\n",
       "    }\n",
       "\n",
       "    .dataframe thead th {\n",
       "        text-align: right;\n",
       "    }\n",
       "</style>\n",
       "<table border=\"1\" class=\"dataframe\">\n",
       "  <thead>\n",
       "    <tr style=\"text-align: right;\">\n",
       "      <th></th>\n",
       "      <th>0</th>\n",
       "      <th>1</th>\n",
       "      <th>2</th>\n",
       "      <th>3</th>\n",
       "      <th>4</th>\n",
       "    </tr>\n",
       "  </thead>\n",
       "  <tbody>\n",
       "    <tr>\n",
       "      <th>Yearly_avg_view_on_travel_page</th>\n",
       "      <td>379</td>\n",
       "      <td>255</td>\n",
       "      <td>250</td>\n",
       "      <td>295</td>\n",
       "      <td>250</td>\n",
       "    </tr>\n",
       "    <tr>\n",
       "      <th>preferred_device</th>\n",
       "      <td>1</td>\n",
       "      <td>1</td>\n",
       "      <td>1</td>\n",
       "      <td>1</td>\n",
       "      <td>1</td>\n",
       "    </tr>\n",
       "    <tr>\n",
       "      <th>total_likes_on_outstation_checkin_given</th>\n",
       "      <td>9776</td>\n",
       "      <td>48725</td>\n",
       "      <td>35184</td>\n",
       "      <td>7572</td>\n",
       "      <td>39379</td>\n",
       "    </tr>\n",
       "    <tr>\n",
       "      <th>yearly_avg_Outstation_checkins</th>\n",
       "      <td>8</td>\n",
       "      <td>3</td>\n",
       "      <td>2</td>\n",
       "      <td>23</td>\n",
       "      <td>16</td>\n",
       "    </tr>\n",
       "    <tr>\n",
       "      <th>member_in_family</th>\n",
       "      <td>1</td>\n",
       "      <td>4</td>\n",
       "      <td>2</td>\n",
       "      <td>3</td>\n",
       "      <td>1</td>\n",
       "    </tr>\n",
       "    <tr>\n",
       "      <th>preferred_location_type</th>\n",
       "      <td>0</td>\n",
       "      <td>0</td>\n",
       "      <td>0</td>\n",
       "      <td>0</td>\n",
       "      <td>0</td>\n",
       "    </tr>\n",
       "    <tr>\n",
       "      <th>Yearly_avg_comment_on_travel_page</th>\n",
       "      <td>64</td>\n",
       "      <td>59</td>\n",
       "      <td>84</td>\n",
       "      <td>48</td>\n",
       "      <td>80</td>\n",
       "    </tr>\n",
       "    <tr>\n",
       "      <th>total_likes_on_outofstation_checkin_received</th>\n",
       "      <td>5142</td>\n",
       "      <td>2913</td>\n",
       "      <td>3074</td>\n",
       "      <td>9532</td>\n",
       "      <td>3926</td>\n",
       "    </tr>\n",
       "    <tr>\n",
       "      <th>week_since_last_outstation_checkin</th>\n",
       "      <td>1</td>\n",
       "      <td>1</td>\n",
       "      <td>0</td>\n",
       "      <td>0</td>\n",
       "      <td>1</td>\n",
       "    </tr>\n",
       "    <tr>\n",
       "      <th>following_company_page</th>\n",
       "      <td>0</td>\n",
       "      <td>1</td>\n",
       "      <td>0</td>\n",
       "      <td>0</td>\n",
       "      <td>1</td>\n",
       "    </tr>\n",
       "    <tr>\n",
       "      <th>montly_avg_comment_on_company_page</th>\n",
       "      <td>33</td>\n",
       "      <td>19</td>\n",
       "      <td>23</td>\n",
       "      <td>33</td>\n",
       "      <td>33</td>\n",
       "    </tr>\n",
       "    <tr>\n",
       "      <th>working_flag</th>\n",
       "      <td>1</td>\n",
       "      <td>0</td>\n",
       "      <td>0</td>\n",
       "      <td>1</td>\n",
       "      <td>1</td>\n",
       "    </tr>\n",
       "    <tr>\n",
       "      <th>travelling_network_rating</th>\n",
       "      <td>4</td>\n",
       "      <td>3</td>\n",
       "      <td>3</td>\n",
       "      <td>2</td>\n",
       "      <td>2</td>\n",
       "    </tr>\n",
       "    <tr>\n",
       "      <th>Adult_flag</th>\n",
       "      <td>1</td>\n",
       "      <td>0</td>\n",
       "      <td>0</td>\n",
       "      <td>0</td>\n",
       "      <td>0</td>\n",
       "    </tr>\n",
       "    <tr>\n",
       "      <th>Daily_Avg_mins_spend_on_traveling_page</th>\n",
       "      <td>10</td>\n",
       "      <td>8</td>\n",
       "      <td>8</td>\n",
       "      <td>10</td>\n",
       "      <td>10</td>\n",
       "    </tr>\n",
       "  </tbody>\n",
       "</table>\n",
       "</div>"
      ],
      "text/plain": [
       "                                                 0      1      2     3      4\n",
       "Yearly_avg_view_on_travel_page                 379    255    250   295    250\n",
       "preferred_device                                 1      1      1     1      1\n",
       "total_likes_on_outstation_checkin_given       9776  48725  35184  7572  39379\n",
       "yearly_avg_Outstation_checkins                   8      3      2    23     16\n",
       "member_in_family                                 1      4      2     3      1\n",
       "preferred_location_type                          0      0      0     0      0\n",
       "Yearly_avg_comment_on_travel_page               64     59     84    48     80\n",
       "total_likes_on_outofstation_checkin_received  5142   2913   3074  9532   3926\n",
       "week_since_last_outstation_checkin               1      1      0     0      1\n",
       "following_company_page                           0      1      0     0      1\n",
       "montly_avg_comment_on_company_page              33     19     23    33     33\n",
       "working_flag                                     1      0      0     1      1\n",
       "travelling_network_rating                        4      3      3     2      2\n",
       "Adult_flag                                       1      0      0     0      0\n",
       "Daily_Avg_mins_spend_on_traveling_page          10      8      8    10     10"
      ]
     },
     "execution_count": 75,
     "metadata": {},
     "output_type": "execute_result"
    }
   ],
   "source": [
    "X.head().T"
   ]
  },
  {
   "cell_type": "code",
   "execution_count": 76,
   "id": "45389b0e",
   "metadata": {},
   "outputs": [
    {
     "data": {
      "text/plain": [
       "0    0\n",
       "1    0\n",
       "2    0\n",
       "3    0\n",
       "4    1\n",
       "Name: Taken_product, dtype: int64"
      ]
     },
     "execution_count": 76,
     "metadata": {},
     "output_type": "execute_result"
    }
   ],
   "source": [
    "y.head()"
   ]
  },
  {
   "cell_type": "code",
   "execution_count": 77,
   "id": "61c8637d",
   "metadata": {},
   "outputs": [],
   "source": [
    "from sklearn.model_selection import train_test_split\n",
    "\n",
    "X_train, X_test, y_train, y_test = train_test_split(X, y, test_size=.30, random_state=1)"
   ]
  },
  {
   "cell_type": "code",
   "execution_count": 78,
   "id": "b7875fc2",
   "metadata": {},
   "outputs": [
    {
     "data": {
      "text/html": [
       "<div>\n",
       "<style scoped>\n",
       "    .dataframe tbody tr th:only-of-type {\n",
       "        vertical-align: middle;\n",
       "    }\n",
       "\n",
       "    .dataframe tbody tr th {\n",
       "        vertical-align: top;\n",
       "    }\n",
       "\n",
       "    .dataframe thead th {\n",
       "        text-align: right;\n",
       "    }\n",
       "</style>\n",
       "<table border=\"1\" class=\"dataframe\">\n",
       "  <thead>\n",
       "    <tr style=\"text-align: right;\">\n",
       "      <th></th>\n",
       "      <th>667</th>\n",
       "      <th>737</th>\n",
       "      <th>820</th>\n",
       "      <th>385</th>\n",
       "      <th>785</th>\n",
       "    </tr>\n",
       "  </thead>\n",
       "  <tbody>\n",
       "    <tr>\n",
       "      <th>Yearly_avg_view_on_travel_page</th>\n",
       "      <td>328</td>\n",
       "      <td>281</td>\n",
       "      <td>246</td>\n",
       "      <td>365</td>\n",
       "      <td>370</td>\n",
       "    </tr>\n",
       "    <tr>\n",
       "      <th>preferred_device</th>\n",
       "      <td>1</td>\n",
       "      <td>1</td>\n",
       "      <td>1</td>\n",
       "      <td>1</td>\n",
       "      <td>1</td>\n",
       "    </tr>\n",
       "    <tr>\n",
       "      <th>total_likes_on_outstation_checkin_given</th>\n",
       "      <td>20006</td>\n",
       "      <td>21306</td>\n",
       "      <td>26433</td>\n",
       "      <td>25177</td>\n",
       "      <td>24832</td>\n",
       "    </tr>\n",
       "    <tr>\n",
       "      <th>yearly_avg_Outstation_checkins</th>\n",
       "      <td>8</td>\n",
       "      <td>7</td>\n",
       "      <td>26</td>\n",
       "      <td>27</td>\n",
       "      <td>7</td>\n",
       "    </tr>\n",
       "    <tr>\n",
       "      <th>member_in_family</th>\n",
       "      <td>3</td>\n",
       "      <td>3</td>\n",
       "      <td>4</td>\n",
       "      <td>2</td>\n",
       "      <td>2</td>\n",
       "    </tr>\n",
       "    <tr>\n",
       "      <th>preferred_location_type</th>\n",
       "      <td>0</td>\n",
       "      <td>1</td>\n",
       "      <td>1</td>\n",
       "      <td>0</td>\n",
       "      <td>3</td>\n",
       "    </tr>\n",
       "    <tr>\n",
       "      <th>Yearly_avg_comment_on_travel_page</th>\n",
       "      <td>81</td>\n",
       "      <td>96</td>\n",
       "      <td>86</td>\n",
       "      <td>85</td>\n",
       "      <td>113</td>\n",
       "    </tr>\n",
       "    <tr>\n",
       "      <th>total_likes_on_outofstation_checkin_received</th>\n",
       "      <td>18493</td>\n",
       "      <td>4691</td>\n",
       "      <td>5685</td>\n",
       "      <td>6404</td>\n",
       "      <td>2718</td>\n",
       "    </tr>\n",
       "    <tr>\n",
       "      <th>week_since_last_outstation_checkin</th>\n",
       "      <td>2</td>\n",
       "      <td>3</td>\n",
       "      <td>3</td>\n",
       "      <td>4</td>\n",
       "      <td>4</td>\n",
       "    </tr>\n",
       "    <tr>\n",
       "      <th>following_company_page</th>\n",
       "      <td>0</td>\n",
       "      <td>0</td>\n",
       "      <td>1</td>\n",
       "      <td>1</td>\n",
       "      <td>1</td>\n",
       "    </tr>\n",
       "    <tr>\n",
       "      <th>montly_avg_comment_on_company_page</th>\n",
       "      <td>26</td>\n",
       "      <td>35</td>\n",
       "      <td>32</td>\n",
       "      <td>24</td>\n",
       "      <td>23</td>\n",
       "    </tr>\n",
       "    <tr>\n",
       "      <th>working_flag</th>\n",
       "      <td>0</td>\n",
       "      <td>0</td>\n",
       "      <td>0</td>\n",
       "      <td>0</td>\n",
       "      <td>0</td>\n",
       "    </tr>\n",
       "    <tr>\n",
       "      <th>travelling_network_rating</th>\n",
       "      <td>2</td>\n",
       "      <td>4</td>\n",
       "      <td>3</td>\n",
       "      <td>4</td>\n",
       "      <td>3</td>\n",
       "    </tr>\n",
       "    <tr>\n",
       "      <th>Adult_flag</th>\n",
       "      <td>1</td>\n",
       "      <td>1</td>\n",
       "      <td>0</td>\n",
       "      <td>0</td>\n",
       "      <td>2</td>\n",
       "    </tr>\n",
       "    <tr>\n",
       "      <th>Daily_Avg_mins_spend_on_traveling_page</th>\n",
       "      <td>34</td>\n",
       "      <td>21</td>\n",
       "      <td>17</td>\n",
       "      <td>8</td>\n",
       "      <td>26</td>\n",
       "    </tr>\n",
       "  </tbody>\n",
       "</table>\n",
       "</div>"
      ],
      "text/plain": [
       "                                                667    737    820    385  \\\n",
       "Yearly_avg_view_on_travel_page                  328    281    246    365   \n",
       "preferred_device                                  1      1      1      1   \n",
       "total_likes_on_outstation_checkin_given       20006  21306  26433  25177   \n",
       "yearly_avg_Outstation_checkins                    8      7     26     27   \n",
       "member_in_family                                  3      3      4      2   \n",
       "preferred_location_type                           0      1      1      0   \n",
       "Yearly_avg_comment_on_travel_page                81     96     86     85   \n",
       "total_likes_on_outofstation_checkin_received  18493   4691   5685   6404   \n",
       "week_since_last_outstation_checkin                2      3      3      4   \n",
       "following_company_page                            0      0      1      1   \n",
       "montly_avg_comment_on_company_page               26     35     32     24   \n",
       "working_flag                                      0      0      0      0   \n",
       "travelling_network_rating                         2      4      3      4   \n",
       "Adult_flag                                        1      1      0      0   \n",
       "Daily_Avg_mins_spend_on_traveling_page           34     21     17      8   \n",
       "\n",
       "                                                785  \n",
       "Yearly_avg_view_on_travel_page                  370  \n",
       "preferred_device                                  1  \n",
       "total_likes_on_outstation_checkin_given       24832  \n",
       "yearly_avg_Outstation_checkins                    7  \n",
       "member_in_family                                  2  \n",
       "preferred_location_type                           3  \n",
       "Yearly_avg_comment_on_travel_page               113  \n",
       "total_likes_on_outofstation_checkin_received   2718  \n",
       "week_since_last_outstation_checkin                4  \n",
       "following_company_page                            1  \n",
       "montly_avg_comment_on_company_page               23  \n",
       "working_flag                                      0  \n",
       "travelling_network_rating                         3  \n",
       "Adult_flag                                        2  \n",
       "Daily_Avg_mins_spend_on_traveling_page           26  "
      ]
     },
     "execution_count": 78,
     "metadata": {},
     "output_type": "execute_result"
    }
   ],
   "source": [
    "X_train.head().T"
   ]
  },
  {
   "cell_type": "code",
   "execution_count": 79,
   "id": "b8978ba1",
   "metadata": {},
   "outputs": [
    {
     "data": {
      "text/plain": [
       "667    0\n",
       "737    0\n",
       "820    1\n",
       "385    1\n",
       "785    1\n",
       "Name: Taken_product, dtype: int64"
      ]
     },
     "execution_count": 79,
     "metadata": {},
     "output_type": "execute_result"
    }
   ],
   "source": [
    "y_train.head().T"
   ]
  },
  {
   "cell_type": "code",
   "execution_count": 80,
   "id": "2a99c1ee",
   "metadata": {},
   "outputs": [
    {
     "data": {
      "text/html": [
       "<div>\n",
       "<style scoped>\n",
       "    .dataframe tbody tr th:only-of-type {\n",
       "        vertical-align: middle;\n",
       "    }\n",
       "\n",
       "    .dataframe tbody tr th {\n",
       "        vertical-align: top;\n",
       "    }\n",
       "\n",
       "    .dataframe thead th {\n",
       "        text-align: right;\n",
       "    }\n",
       "</style>\n",
       "<table border=\"1\" class=\"dataframe\">\n",
       "  <thead>\n",
       "    <tr style=\"text-align: right;\">\n",
       "      <th></th>\n",
       "      <th>304</th>\n",
       "      <th>1072</th>\n",
       "      <th>126</th>\n",
       "      <th>976</th>\n",
       "      <th>236</th>\n",
       "    </tr>\n",
       "  </thead>\n",
       "  <tbody>\n",
       "    <tr>\n",
       "      <th>Yearly_avg_view_on_travel_page</th>\n",
       "      <td>245</td>\n",
       "      <td>297</td>\n",
       "      <td>202</td>\n",
       "      <td>267</td>\n",
       "      <td>239</td>\n",
       "    </tr>\n",
       "    <tr>\n",
       "      <th>preferred_device</th>\n",
       "      <td>1</td>\n",
       "      <td>1</td>\n",
       "      <td>1</td>\n",
       "      <td>1</td>\n",
       "      <td>1</td>\n",
       "    </tr>\n",
       "    <tr>\n",
       "      <th>total_likes_on_outstation_checkin_given</th>\n",
       "      <td>24120</td>\n",
       "      <td>20838</td>\n",
       "      <td>44910</td>\n",
       "      <td>21684</td>\n",
       "      <td>5714</td>\n",
       "    </tr>\n",
       "    <tr>\n",
       "      <th>yearly_avg_Outstation_checkins</th>\n",
       "      <td>9</td>\n",
       "      <td>2</td>\n",
       "      <td>1</td>\n",
       "      <td>3</td>\n",
       "      <td>24</td>\n",
       "    </tr>\n",
       "    <tr>\n",
       "      <th>member_in_family</th>\n",
       "      <td>2</td>\n",
       "      <td>2</td>\n",
       "      <td>3</td>\n",
       "      <td>1</td>\n",
       "      <td>1</td>\n",
       "    </tr>\n",
       "    <tr>\n",
       "      <th>preferred_location_type</th>\n",
       "      <td>3</td>\n",
       "      <td>3</td>\n",
       "      <td>3</td>\n",
       "      <td>0</td>\n",
       "      <td>5</td>\n",
       "    </tr>\n",
       "    <tr>\n",
       "      <th>Yearly_avg_comment_on_travel_page</th>\n",
       "      <td>47</td>\n",
       "      <td>95</td>\n",
       "      <td>57</td>\n",
       "      <td>53</td>\n",
       "      <td>40</td>\n",
       "    </tr>\n",
       "    <tr>\n",
       "      <th>total_likes_on_outofstation_checkin_received</th>\n",
       "      <td>4675</td>\n",
       "      <td>2538</td>\n",
       "      <td>4304</td>\n",
       "      <td>7818</td>\n",
       "      <td>5245</td>\n",
       "    </tr>\n",
       "    <tr>\n",
       "      <th>week_since_last_outstation_checkin</th>\n",
       "      <td>0</td>\n",
       "      <td>5</td>\n",
       "      <td>1</td>\n",
       "      <td>1</td>\n",
       "      <td>2</td>\n",
       "    </tr>\n",
       "    <tr>\n",
       "      <th>following_company_page</th>\n",
       "      <td>0</td>\n",
       "      <td>0</td>\n",
       "      <td>0</td>\n",
       "      <td>0</td>\n",
       "      <td>0</td>\n",
       "    </tr>\n",
       "    <tr>\n",
       "      <th>montly_avg_comment_on_company_page</th>\n",
       "      <td>20</td>\n",
       "      <td>22</td>\n",
       "      <td>24</td>\n",
       "      <td>26</td>\n",
       "      <td>30</td>\n",
       "    </tr>\n",
       "    <tr>\n",
       "      <th>working_flag</th>\n",
       "      <td>0</td>\n",
       "      <td>0</td>\n",
       "      <td>0</td>\n",
       "      <td>0</td>\n",
       "      <td>1</td>\n",
       "    </tr>\n",
       "    <tr>\n",
       "      <th>travelling_network_rating</th>\n",
       "      <td>4</td>\n",
       "      <td>2</td>\n",
       "      <td>2</td>\n",
       "      <td>3</td>\n",
       "      <td>4</td>\n",
       "    </tr>\n",
       "    <tr>\n",
       "      <th>Adult_flag</th>\n",
       "      <td>3</td>\n",
       "      <td>1</td>\n",
       "      <td>0</td>\n",
       "      <td>0</td>\n",
       "      <td>0</td>\n",
       "    </tr>\n",
       "    <tr>\n",
       "      <th>Daily_Avg_mins_spend_on_traveling_page</th>\n",
       "      <td>9</td>\n",
       "      <td>16</td>\n",
       "      <td>7</td>\n",
       "      <td>14</td>\n",
       "      <td>9</td>\n",
       "    </tr>\n",
       "  </tbody>\n",
       "</table>\n",
       "</div>"
      ],
      "text/plain": [
       "                                               304    1072   126    976   236 \n",
       "Yearly_avg_view_on_travel_page                  245    297    202    267   239\n",
       "preferred_device                                  1      1      1      1     1\n",
       "total_likes_on_outstation_checkin_given       24120  20838  44910  21684  5714\n",
       "yearly_avg_Outstation_checkins                    9      2      1      3    24\n",
       "member_in_family                                  2      2      3      1     1\n",
       "preferred_location_type                           3      3      3      0     5\n",
       "Yearly_avg_comment_on_travel_page                47     95     57     53    40\n",
       "total_likes_on_outofstation_checkin_received   4675   2538   4304   7818  5245\n",
       "week_since_last_outstation_checkin                0      5      1      1     2\n",
       "following_company_page                            0      0      0      0     0\n",
       "montly_avg_comment_on_company_page               20     22     24     26    30\n",
       "working_flag                                      0      0      0      0     1\n",
       "travelling_network_rating                         4      2      2      3     4\n",
       "Adult_flag                                        3      1      0      0     0\n",
       "Daily_Avg_mins_spend_on_traveling_page            9     16      7     14     9"
      ]
     },
     "execution_count": 80,
     "metadata": {},
     "output_type": "execute_result"
    }
   ],
   "source": [
    "X_test.head().T"
   ]
  },
  {
   "cell_type": "code",
   "execution_count": 81,
   "id": "4a6bf193",
   "metadata": {},
   "outputs": [
    {
     "data": {
      "text/plain": [
       "304     0\n",
       "1072    0\n",
       "126     0\n",
       "976     0\n",
       "236     0\n",
       "Name: Taken_product, dtype: int64"
      ]
     },
     "execution_count": 81,
     "metadata": {},
     "output_type": "execute_result"
    }
   ],
   "source": [
    "y_test.head().T"
   ]
  },
  {
   "cell_type": "code",
   "execution_count": 82,
   "id": "0b9d9096",
   "metadata": {},
   "outputs": [
    {
     "data": {
      "text/plain": [
       "(775, 15)"
      ]
     },
     "execution_count": 82,
     "metadata": {},
     "output_type": "execute_result"
    }
   ],
   "source": [
    "X_train.shape"
   ]
  },
  {
   "cell_type": "code",
   "execution_count": 83,
   "id": "7abe64b4",
   "metadata": {},
   "outputs": [
    {
     "data": {
      "text/plain": [
       "(775,)"
      ]
     },
     "execution_count": 83,
     "metadata": {},
     "output_type": "execute_result"
    }
   ],
   "source": [
    "y_train.shape"
   ]
  },
  {
   "cell_type": "code",
   "execution_count": 84,
   "id": "a5319514",
   "metadata": {},
   "outputs": [
    {
     "data": {
      "text/plain": [
       "(333, 15)"
      ]
     },
     "execution_count": 84,
     "metadata": {},
     "output_type": "execute_result"
    }
   ],
   "source": [
    "X_test.shape"
   ]
  },
  {
   "cell_type": "code",
   "execution_count": 85,
   "id": "cc90baeb",
   "metadata": {},
   "outputs": [
    {
     "data": {
      "text/plain": [
       "(333,)"
      ]
     },
     "execution_count": 85,
     "metadata": {},
     "output_type": "execute_result"
    }
   ],
   "source": [
    "y_test.shape"
   ]
  },
  {
   "cell_type": "markdown",
   "id": "933f7d4c",
   "metadata": {},
   "source": [
    "--------------------------------------------------------------------------------------------------------------------------------"
   ]
  },
  {
   "cell_type": "markdown",
   "id": "cadfddb7",
   "metadata": {},
   "source": [
    "CART"
   ]
  },
  {
   "cell_type": "code",
   "execution_count": 86,
   "id": "737d87e6",
   "metadata": {},
   "outputs": [],
   "source": [
    "from sklearn.tree import DecisionTreeClassifier #from scikit Learn"
   ]
  },
  {
   "cell_type": "code",
   "execution_count": 87,
   "id": "5aa632e1",
   "metadata": {},
   "outputs": [],
   "source": [
    "# Initialise a Decision Tree Classifier\n",
    "dt_model = DecisionTreeClassifier(criterion = 'gini' )"
   ]
  },
  {
   "cell_type": "code",
   "execution_count": 88,
   "id": "90aa4f13",
   "metadata": {},
   "outputs": [
    {
     "data": {
      "text/plain": [
       "DecisionTreeClassifier()"
      ]
     },
     "execution_count": 88,
     "metadata": {},
     "output_type": "execute_result"
    }
   ],
   "source": [
    "# Fit the model\n",
    "dt_model.fit(X_train, y_train)"
   ]
  },
  {
   "cell_type": "code",
   "execution_count": 89,
   "id": "a4dbc6f2",
   "metadata": {},
   "outputs": [],
   "source": [
    "from sklearn import tree\n",
    "\n",
    "train_char_label = ['No', 'Yes']\n",
    "ld_Tree_File = open('ld_Tree_File.dot','w')\n",
    "dot_data = tree.export_graphviz(dt_model, \n",
    "                                out_file=ld_Tree_File, \n",
    "                                feature_names = list(X_train), \n",
    "                                class_names = list(train_char_label))\n",
    "\n",
    "ld_Tree_File.close()"
   ]
  },
  {
   "cell_type": "code",
   "execution_count": 90,
   "id": "4971154e",
   "metadata": {},
   "outputs": [
    {
     "name": "stdout",
     "output_type": "stream",
     "text": [
      "                                                   Imp\n",
      "Yearly_avg_view_on_travel_page                0.217251\n",
      "total_likes_on_outstation_checkin_given       0.161349\n",
      "total_likes_on_outofstation_checkin_received  0.129170\n",
      "Yearly_avg_comment_on_travel_page             0.070665\n",
      "Daily_Avg_mins_spend_on_traveling_page        0.065498\n",
      "week_since_last_outstation_checkin            0.063407\n",
      "yearly_avg_Outstation_checkins                0.063226\n",
      "following_company_page                        0.059435\n",
      "working_flag                                  0.046429\n",
      "member_in_family                              0.043365\n",
      "preferred_location_type                       0.028672\n",
      "travelling_network_rating                     0.024657\n",
      "Adult_flag                                    0.023320\n",
      "montly_avg_comment_on_company_page            0.003556\n",
      "preferred_device                              0.000000\n"
     ]
    }
   ],
   "source": [
    "print (pd.DataFrame(dt_model.feature_importances_, columns = [\"Imp\"], index = X_train.columns).sort_values('Imp',ascending=False))"
   ]
  },
  {
   "cell_type": "code",
   "execution_count": 91,
   "id": "b4d6f2ee",
   "metadata": {},
   "outputs": [],
   "source": [
    "y_predict = dt_model.predict(X_test)"
   ]
  },
  {
   "cell_type": "code",
   "execution_count": 92,
   "id": "113326ac",
   "metadata": {},
   "outputs": [
    {
     "data": {
      "text/plain": [
       "(333,)"
      ]
     },
     "execution_count": 92,
     "metadata": {},
     "output_type": "execute_result"
    }
   ],
   "source": [
    "y_predict.shape"
   ]
  },
  {
   "cell_type": "code",
   "execution_count": 93,
   "id": "26cc80c9",
   "metadata": {},
   "outputs": [],
   "source": [
    "ytrain_predict = dt_model.predict(X_train)\n",
    "ytest_predict = dt_model.predict(X_test)"
   ]
  },
  {
   "cell_type": "code",
   "execution_count": 94,
   "id": "890d6b3c",
   "metadata": {},
   "outputs": [
    {
     "name": "stdout",
     "output_type": "stream",
     "text": [
      "ytrain_predict (775,)\n",
      "ytest_predict (333,)\n"
     ]
    }
   ],
   "source": [
    "print('ytrain_predict',ytrain_predict.shape)\n",
    "print('ytest_predict',ytest_predict.shape)"
   ]
  },
  {
   "cell_type": "code",
   "execution_count": 95,
   "id": "047a4539",
   "metadata": {},
   "outputs": [
    {
     "data": {
      "text/plain": [
       "array([0, 0, 0, 0, 0, 0, 0, 0, 0, 0, 0, 1, 1, 1, 1, 0, 0, 1, 0, 1, 0, 0,\n",
       "       0, 0, 0, 0, 1, 1, 0, 1, 0, 0, 0, 1, 0, 0, 0, 0, 0, 1, 0, 0, 0, 0,\n",
       "       0, 0, 0, 0, 0, 0, 0, 0, 0, 0, 0, 0, 0, 0, 0, 1, 0, 0, 0, 0, 0, 0,\n",
       "       0, 0, 1, 1, 0, 1, 0, 0, 1, 0, 0, 0, 0, 0, 0, 0, 0, 0, 0, 0, 0, 0,\n",
       "       0, 1, 0, 0, 0, 1, 0, 0, 0, 0, 0, 0, 0, 0, 0, 1, 1, 0, 1, 0, 0, 0,\n",
       "       0, 0, 0, 0, 0, 1, 0, 0, 1, 1, 1, 1, 0, 1, 1, 1, 0, 0, 0, 0, 1, 0,\n",
       "       0, 0, 0, 0, 0, 1, 1, 0, 0, 1, 1, 0, 0, 0, 0, 0, 1, 0, 0, 1, 1, 0,\n",
       "       0, 1, 0, 1, 1, 0, 0, 1, 0, 0, 0, 0, 0, 0, 1, 0, 0, 0, 0, 0, 0, 0,\n",
       "       0, 1, 0, 0, 0, 0, 0, 0, 0, 0, 1, 0, 0, 1, 1, 0, 1, 0, 0, 0, 0, 0,\n",
       "       0, 0, 0, 1, 1, 0, 1, 0, 0, 0, 1, 0, 1, 0, 0, 0, 0, 1, 1, 1, 0, 1,\n",
       "       0, 0, 0, 1, 1, 1, 0, 0, 1, 0, 0, 0, 0, 1, 0, 0, 0, 0, 0, 0, 0, 1,\n",
       "       0, 0, 0, 0, 1, 0, 0, 0, 0, 1, 0, 1, 1, 0, 0, 0, 0, 0, 0, 0, 1, 0,\n",
       "       0, 0, 1, 0, 1, 0, 1, 0, 1, 1, 0, 0, 1, 0, 0, 0, 1, 1, 0, 1, 0, 0,\n",
       "       1, 1, 0, 1, 0, 0, 0, 0, 1, 1, 1, 1, 0, 0, 0, 0, 0, 0, 0, 0, 1, 0,\n",
       "       0, 0, 1, 0, 0, 0, 0, 0, 0, 1, 0, 1, 0, 1, 0, 0, 0, 0, 1, 0, 0, 0,\n",
       "       0, 1, 0], dtype=int64)"
      ]
     },
     "execution_count": 95,
     "metadata": {},
     "output_type": "execute_result"
    }
   ],
   "source": [
    "ytest_predict"
   ]
  },
  {
   "cell_type": "code",
   "execution_count": 96,
   "id": "6505145d",
   "metadata": {},
   "outputs": [
    {
     "data": {
      "text/plain": [
       "array([[1., 0.],\n",
       "       [1., 0.],\n",
       "       [1., 0.],\n",
       "       [1., 0.],\n",
       "       [1., 0.],\n",
       "       [1., 0.],\n",
       "       [1., 0.],\n",
       "       [1., 0.],\n",
       "       [1., 0.],\n",
       "       [1., 0.],\n",
       "       [1., 0.],\n",
       "       [0., 1.],\n",
       "       [0., 1.],\n",
       "       [0., 1.],\n",
       "       [0., 1.],\n",
       "       [1., 0.],\n",
       "       [1., 0.],\n",
       "       [0., 1.],\n",
       "       [1., 0.],\n",
       "       [0., 1.],\n",
       "       [1., 0.],\n",
       "       [1., 0.],\n",
       "       [1., 0.],\n",
       "       [1., 0.],\n",
       "       [1., 0.],\n",
       "       [1., 0.],\n",
       "       [0., 1.],\n",
       "       [0., 1.],\n",
       "       [1., 0.],\n",
       "       [0., 1.],\n",
       "       [1., 0.],\n",
       "       [1., 0.],\n",
       "       [1., 0.],\n",
       "       [0., 1.],\n",
       "       [1., 0.],\n",
       "       [1., 0.],\n",
       "       [1., 0.],\n",
       "       [1., 0.],\n",
       "       [1., 0.],\n",
       "       [0., 1.],\n",
       "       [1., 0.],\n",
       "       [1., 0.],\n",
       "       [1., 0.],\n",
       "       [1., 0.],\n",
       "       [1., 0.],\n",
       "       [1., 0.],\n",
       "       [1., 0.],\n",
       "       [1., 0.],\n",
       "       [1., 0.],\n",
       "       [1., 0.],\n",
       "       [1., 0.],\n",
       "       [1., 0.],\n",
       "       [1., 0.],\n",
       "       [1., 0.],\n",
       "       [1., 0.],\n",
       "       [1., 0.],\n",
       "       [1., 0.],\n",
       "       [1., 0.],\n",
       "       [1., 0.],\n",
       "       [0., 1.],\n",
       "       [1., 0.],\n",
       "       [1., 0.],\n",
       "       [1., 0.],\n",
       "       [1., 0.],\n",
       "       [1., 0.],\n",
       "       [1., 0.],\n",
       "       [1., 0.],\n",
       "       [1., 0.],\n",
       "       [0., 1.],\n",
       "       [0., 1.],\n",
       "       [1., 0.],\n",
       "       [0., 1.],\n",
       "       [1., 0.],\n",
       "       [1., 0.],\n",
       "       [0., 1.],\n",
       "       [1., 0.],\n",
       "       [1., 0.],\n",
       "       [1., 0.],\n",
       "       [1., 0.],\n",
       "       [1., 0.],\n",
       "       [1., 0.],\n",
       "       [1., 0.],\n",
       "       [1., 0.],\n",
       "       [1., 0.],\n",
       "       [1., 0.],\n",
       "       [1., 0.],\n",
       "       [1., 0.],\n",
       "       [1., 0.],\n",
       "       [1., 0.],\n",
       "       [0., 1.],\n",
       "       [1., 0.],\n",
       "       [1., 0.],\n",
       "       [1., 0.],\n",
       "       [0., 1.],\n",
       "       [1., 0.],\n",
       "       [1., 0.],\n",
       "       [1., 0.],\n",
       "       [1., 0.],\n",
       "       [1., 0.],\n",
       "       [1., 0.],\n",
       "       [1., 0.],\n",
       "       [1., 0.],\n",
       "       [1., 0.],\n",
       "       [0., 1.],\n",
       "       [0., 1.],\n",
       "       [1., 0.],\n",
       "       [0., 1.],\n",
       "       [1., 0.],\n",
       "       [1., 0.],\n",
       "       [1., 0.],\n",
       "       [1., 0.],\n",
       "       [1., 0.],\n",
       "       [1., 0.],\n",
       "       [1., 0.],\n",
       "       [1., 0.],\n",
       "       [0., 1.],\n",
       "       [1., 0.],\n",
       "       [1., 0.],\n",
       "       [0., 1.],\n",
       "       [0., 1.],\n",
       "       [0., 1.],\n",
       "       [0., 1.],\n",
       "       [1., 0.],\n",
       "       [0., 1.],\n",
       "       [0., 1.],\n",
       "       [0., 1.],\n",
       "       [1., 0.],\n",
       "       [1., 0.],\n",
       "       [1., 0.],\n",
       "       [1., 0.],\n",
       "       [0., 1.],\n",
       "       [1., 0.],\n",
       "       [1., 0.],\n",
       "       [1., 0.],\n",
       "       [1., 0.],\n",
       "       [1., 0.],\n",
       "       [1., 0.],\n",
       "       [0., 1.],\n",
       "       [0., 1.],\n",
       "       [1., 0.],\n",
       "       [1., 0.],\n",
       "       [0., 1.],\n",
       "       [0., 1.],\n",
       "       [1., 0.],\n",
       "       [1., 0.],\n",
       "       [1., 0.],\n",
       "       [1., 0.],\n",
       "       [1., 0.],\n",
       "       [0., 1.],\n",
       "       [1., 0.],\n",
       "       [1., 0.],\n",
       "       [0., 1.],\n",
       "       [0., 1.],\n",
       "       [1., 0.],\n",
       "       [1., 0.],\n",
       "       [0., 1.],\n",
       "       [1., 0.],\n",
       "       [0., 1.],\n",
       "       [0., 1.],\n",
       "       [1., 0.],\n",
       "       [1., 0.],\n",
       "       [0., 1.],\n",
       "       [1., 0.],\n",
       "       [1., 0.],\n",
       "       [1., 0.],\n",
       "       [1., 0.],\n",
       "       [1., 0.],\n",
       "       [1., 0.],\n",
       "       [0., 1.],\n",
       "       [1., 0.],\n",
       "       [1., 0.],\n",
       "       [1., 0.],\n",
       "       [1., 0.],\n",
       "       [1., 0.],\n",
       "       [1., 0.],\n",
       "       [1., 0.],\n",
       "       [1., 0.],\n",
       "       [0., 1.],\n",
       "       [1., 0.],\n",
       "       [1., 0.],\n",
       "       [1., 0.],\n",
       "       [1., 0.],\n",
       "       [1., 0.],\n",
       "       [1., 0.],\n",
       "       [1., 0.],\n",
       "       [1., 0.],\n",
       "       [0., 1.],\n",
       "       [1., 0.],\n",
       "       [1., 0.],\n",
       "       [0., 1.],\n",
       "       [0., 1.],\n",
       "       [1., 0.],\n",
       "       [0., 1.],\n",
       "       [1., 0.],\n",
       "       [1., 0.],\n",
       "       [1., 0.],\n",
       "       [1., 0.],\n",
       "       [1., 0.],\n",
       "       [1., 0.],\n",
       "       [1., 0.],\n",
       "       [1., 0.],\n",
       "       [0., 1.],\n",
       "       [0., 1.],\n",
       "       [1., 0.],\n",
       "       [0., 1.],\n",
       "       [1., 0.],\n",
       "       [1., 0.],\n",
       "       [1., 0.],\n",
       "       [0., 1.],\n",
       "       [1., 0.],\n",
       "       [0., 1.],\n",
       "       [1., 0.],\n",
       "       [1., 0.],\n",
       "       [1., 0.],\n",
       "       [1., 0.],\n",
       "       [0., 1.],\n",
       "       [0., 1.],\n",
       "       [0., 1.],\n",
       "       [1., 0.],\n",
       "       [0., 1.],\n",
       "       [1., 0.],\n",
       "       [1., 0.],\n",
       "       [1., 0.],\n",
       "       [0., 1.],\n",
       "       [0., 1.],\n",
       "       [0., 1.],\n",
       "       [1., 0.],\n",
       "       [1., 0.],\n",
       "       [0., 1.],\n",
       "       [1., 0.],\n",
       "       [1., 0.],\n",
       "       [1., 0.],\n",
       "       [1., 0.],\n",
       "       [0., 1.],\n",
       "       [1., 0.],\n",
       "       [1., 0.],\n",
       "       [1., 0.],\n",
       "       [1., 0.],\n",
       "       [1., 0.],\n",
       "       [1., 0.],\n",
       "       [1., 0.],\n",
       "       [0., 1.],\n",
       "       [1., 0.],\n",
       "       [1., 0.],\n",
       "       [1., 0.],\n",
       "       [1., 0.],\n",
       "       [0., 1.],\n",
       "       [1., 0.],\n",
       "       [1., 0.],\n",
       "       [1., 0.],\n",
       "       [1., 0.],\n",
       "       [0., 1.],\n",
       "       [1., 0.],\n",
       "       [0., 1.],\n",
       "       [0., 1.],\n",
       "       [1., 0.],\n",
       "       [1., 0.],\n",
       "       [1., 0.],\n",
       "       [1., 0.],\n",
       "       [1., 0.],\n",
       "       [1., 0.],\n",
       "       [1., 0.],\n",
       "       [0., 1.],\n",
       "       [1., 0.],\n",
       "       [1., 0.],\n",
       "       [1., 0.],\n",
       "       [0., 1.],\n",
       "       [1., 0.],\n",
       "       [0., 1.],\n",
       "       [1., 0.],\n",
       "       [0., 1.],\n",
       "       [1., 0.],\n",
       "       [0., 1.],\n",
       "       [0., 1.],\n",
       "       [1., 0.],\n",
       "       [1., 0.],\n",
       "       [0., 1.],\n",
       "       [1., 0.],\n",
       "       [1., 0.],\n",
       "       [1., 0.],\n",
       "       [0., 1.],\n",
       "       [0., 1.],\n",
       "       [1., 0.],\n",
       "       [0., 1.],\n",
       "       [1., 0.],\n",
       "       [1., 0.],\n",
       "       [0., 1.],\n",
       "       [0., 1.],\n",
       "       [1., 0.],\n",
       "       [0., 1.],\n",
       "       [1., 0.],\n",
       "       [1., 0.],\n",
       "       [1., 0.],\n",
       "       [1., 0.],\n",
       "       [0., 1.],\n",
       "       [0., 1.],\n",
       "       [0., 1.],\n",
       "       [0., 1.],\n",
       "       [1., 0.],\n",
       "       [1., 0.],\n",
       "       [1., 0.],\n",
       "       [1., 0.],\n",
       "       [1., 0.],\n",
       "       [1., 0.],\n",
       "       [1., 0.],\n",
       "       [1., 0.],\n",
       "       [0., 1.],\n",
       "       [1., 0.],\n",
       "       [1., 0.],\n",
       "       [1., 0.],\n",
       "       [0., 1.],\n",
       "       [1., 0.],\n",
       "       [1., 0.],\n",
       "       [1., 0.],\n",
       "       [1., 0.],\n",
       "       [1., 0.],\n",
       "       [1., 0.],\n",
       "       [0., 1.],\n",
       "       [1., 0.],\n",
       "       [0., 1.],\n",
       "       [1., 0.],\n",
       "       [0., 1.],\n",
       "       [1., 0.],\n",
       "       [1., 0.],\n",
       "       [1., 0.],\n",
       "       [1., 0.],\n",
       "       [0., 1.],\n",
       "       [1., 0.],\n",
       "       [1., 0.],\n",
       "       [1., 0.],\n",
       "       [1., 0.],\n",
       "       [0., 1.],\n",
       "       [1., 0.]])"
      ]
     },
     "execution_count": 96,
     "metadata": {},
     "output_type": "execute_result"
    }
   ],
   "source": [
    "ytest_predict_prob=dt_model.predict_proba(X_test)\n",
    "ytest_predict_prob"
   ]
  },
  {
   "cell_type": "code",
   "execution_count": 97,
   "id": "3b7a456d",
   "metadata": {},
   "outputs": [
    {
     "data": {
      "text/html": [
       "<div>\n",
       "<style scoped>\n",
       "    .dataframe tbody tr th:only-of-type {\n",
       "        vertical-align: middle;\n",
       "    }\n",
       "\n",
       "    .dataframe tbody tr th {\n",
       "        vertical-align: top;\n",
       "    }\n",
       "\n",
       "    .dataframe thead th {\n",
       "        text-align: right;\n",
       "    }\n",
       "</style>\n",
       "<table border=\"1\" class=\"dataframe\">\n",
       "  <thead>\n",
       "    <tr style=\"text-align: right;\">\n",
       "      <th></th>\n",
       "      <th>0</th>\n",
       "      <th>1</th>\n",
       "    </tr>\n",
       "  </thead>\n",
       "  <tbody>\n",
       "    <tr>\n",
       "      <th>0</th>\n",
       "      <td>1.0</td>\n",
       "      <td>0.0</td>\n",
       "    </tr>\n",
       "    <tr>\n",
       "      <th>1</th>\n",
       "      <td>1.0</td>\n",
       "      <td>0.0</td>\n",
       "    </tr>\n",
       "    <tr>\n",
       "      <th>2</th>\n",
       "      <td>1.0</td>\n",
       "      <td>0.0</td>\n",
       "    </tr>\n",
       "    <tr>\n",
       "      <th>3</th>\n",
       "      <td>1.0</td>\n",
       "      <td>0.0</td>\n",
       "    </tr>\n",
       "    <tr>\n",
       "      <th>4</th>\n",
       "      <td>1.0</td>\n",
       "      <td>0.0</td>\n",
       "    </tr>\n",
       "  </tbody>\n",
       "</table>\n",
       "</div>"
      ],
      "text/plain": [
       "     0    1\n",
       "0  1.0  0.0\n",
       "1  1.0  0.0\n",
       "2  1.0  0.0\n",
       "3  1.0  0.0\n",
       "4  1.0  0.0"
      ]
     },
     "execution_count": 97,
     "metadata": {},
     "output_type": "execute_result"
    }
   ],
   "source": [
    "pd.DataFrame(ytest_predict_prob).head()"
   ]
  },
  {
   "cell_type": "code",
   "execution_count": 98,
   "id": "c6f0808e",
   "metadata": {},
   "outputs": [
    {
     "name": "stdout",
     "output_type": "stream",
     "text": [
      "AUC: 1.000\n"
     ]
    },
    {
     "data": {
      "image/png": "[encoded data removed]",
      "text/plain": [
       "<Figure size 432x288 with 1 Axes>"
      ]
     },
     "metadata": {
      "needs_background": "light"
     },
     "output_type": "display_data"
    }
   ],
   "source": [
    "# predict probabilities\n",
    "probs = dt_model.predict_proba(X_train)\n",
    "# keep probabilities for the positive outcome only\n",
    "probs = probs[:, 1]\n",
    "# calculate AUC\n",
    "from sklearn.metrics import roc_auc_score\n",
    "auc = roc_auc_score(y_train, probs)\n",
    "print('AUC: %.3f' % auc)\n",
    "# calculate roc curve\n",
    "from sklearn.metrics import roc_curve\n",
    "fpr, tpr, thresholds = roc_curve(y_train, probs)\n",
    "plt.plot([0, 1], [0, 1], linestyle='--')\n",
    "# plot the roc curve for the model\n",
    "plt.plot(fpr, tpr, marker='.')\n",
    "# show the plot\n",
    "plt.show()"
   ]
  },
  {
   "cell_type": "code",
   "execution_count": 99,
   "id": "1e0bd112",
   "metadata": {},
   "outputs": [
    {
     "name": "stdout",
     "output_type": "stream",
     "text": [
      "AUC: 0.922\n"
     ]
    },
    {
     "data": {
      "image/png": "[encoded data removed]",
      "text/plain": [
       "<Figure size 432x288 with 1 Axes>"
      ]
     },
     "metadata": {
      "needs_background": "light"
     },
     "output_type": "display_data"
    }
   ],
   "source": [
    "# predict probabilities\n",
    "probs = dt_model.predict_proba(X_test)\n",
    "# keep probabilities for the positive outcome only\n",
    "probs = probs[:, 1]\n",
    "# calculate AUC\n",
    "from sklearn.metrics import roc_auc_score\n",
    "auc = roc_auc_score(y_test, probs)\n",
    "print('AUC: %.3f' % auc)\n",
    "# calculate roc curve\n",
    "from sklearn.metrics import roc_curve\n",
    "fpr, tpr, thresholds = roc_curve(y_test, probs)\n",
    "plt.plot([0, 1], [0, 1], linestyle='--')\n",
    "# plot the roc curve for the model\n",
    "plt.plot(fpr, tpr, marker='.')\n",
    "# show the plot\n",
    "plt.show()"
   ]
  },
  {
   "cell_type": "code",
   "execution_count": 100,
   "id": "c0e60634",
   "metadata": {},
   "outputs": [],
   "source": [
    "from sklearn.metrics import classification_report,confusion_matrix"
   ]
  },
  {
   "cell_type": "code",
   "execution_count": 101,
   "id": "1bd4f80d",
   "metadata": {},
   "outputs": [
    {
     "data": {
      "text/plain": [
       "array([[594,   0],\n",
       "       [  0, 181]], dtype=int64)"
      ]
     },
     "execution_count": 101,
     "metadata": {},
     "output_type": "execute_result"
    }
   ],
   "source": [
    "confusion_matrix(y_train, ytrain_predict)"
   ]
  },
  {
   "cell_type": "code",
   "execution_count": 102,
   "id": "2fb08ab5",
   "metadata": {},
   "outputs": [
    {
     "data": {
      "text/plain": [
       "1.0"
      ]
     },
     "execution_count": 102,
     "metadata": {},
     "output_type": "execute_result"
    }
   ],
   "source": [
    "#Train Data Accuracy\n",
    "dt_model.score(X_train,y_train) "
   ]
  },
  {
   "cell_type": "code",
   "execution_count": 103,
   "id": "a8f9f6b4",
   "metadata": {},
   "outputs": [
    {
     "name": "stdout",
     "output_type": "stream",
     "text": [
      "              precision    recall  f1-score   support\n",
      "\n",
      "           0       1.00      1.00      1.00       594\n",
      "           1       1.00      1.00      1.00       181\n",
      "\n",
      "    accuracy                           1.00       775\n",
      "   macro avg       1.00      1.00      1.00       775\n",
      "weighted avg       1.00      1.00      1.00       775\n",
      "\n"
     ]
    }
   ],
   "source": [
    "print(classification_report(y_train, ytrain_predict))"
   ]
  },
  {
   "cell_type": "code",
   "execution_count": 104,
   "id": "9c6ecfdd",
   "metadata": {},
   "outputs": [
    {
     "data": {
      "text/plain": [
       "array([[231,   7],\n",
       "       [ 12,  83]], dtype=int64)"
      ]
     },
     "execution_count": 104,
     "metadata": {},
     "output_type": "execute_result"
    }
   ],
   "source": [
    "confusion_matrix(y_test, ytest_predict)"
   ]
  },
  {
   "cell_type": "code",
   "execution_count": 105,
   "id": "7427153a",
   "metadata": {},
   "outputs": [
    {
     "data": {
      "text/plain": [
       "0.9429429429429429"
      ]
     },
     "execution_count": 105,
     "metadata": {},
     "output_type": "execute_result"
    }
   ],
   "source": [
    "#Test Data Accuracy\n",
    "dt_model.score(X_test,y_test)"
   ]
  },
  {
   "cell_type": "code",
   "execution_count": 106,
   "id": "d00f0fe5",
   "metadata": {},
   "outputs": [
    {
     "name": "stdout",
     "output_type": "stream",
     "text": [
      "              precision    recall  f1-score   support\n",
      "\n",
      "           0       0.95      0.97      0.96       238\n",
      "           1       0.92      0.87      0.90        95\n",
      "\n",
      "    accuracy                           0.94       333\n",
      "   macro avg       0.94      0.92      0.93       333\n",
      "weighted avg       0.94      0.94      0.94       333\n",
      "\n"
     ]
    }
   ],
   "source": [
    "print(classification_report(y_test, ytest_predict))"
   ]
  },
  {
   "cell_type": "markdown",
   "id": "216116c2",
   "metadata": {},
   "source": [
    "TUNING"
   ]
  },
  {
   "cell_type": "code",
   "execution_count": 107,
   "id": "dab366cf",
   "metadata": {},
   "outputs": [
    {
     "data": {
      "text/plain": [
       "DecisionTreeClassifier(max_depth=9, min_samples_leaf=10, min_samples_split=80)"
      ]
     },
     "execution_count": 107,
     "metadata": {},
     "output_type": "execute_result"
    }
   ],
   "source": [
    "reg_dt_model = DecisionTreeClassifier(criterion = 'gini', max_depth = 9,min_samples_leaf=10,min_samples_split=80)\n",
    "reg_dt_model.fit(X_train, y_train)"
   ]
  },
  {
   "cell_type": "code",
   "execution_count": 108,
   "id": "9c54a21d",
   "metadata": {},
   "outputs": [],
   "source": [
    "ld_tree_regularized = open('ld_tree_regularized.dot','w')\n",
    "dot_data = tree.export_graphviz(reg_dt_model, out_file= ld_tree_regularized , feature_names = list(X_train), class_names = list(train_char_label))\n",
    "\n",
    "ld_tree_regularized.close()\n",
    "dot_data"
   ]
  },
  {
   "cell_type": "code",
   "execution_count": 109,
   "id": "ce601f99",
   "metadata": {},
   "outputs": [
    {
     "name": "stdout",
     "output_type": "stream",
     "text": [
      "                                                   Imp\n",
      "Yearly_avg_view_on_travel_page                0.392451\n",
      "total_likes_on_outofstation_checkin_received  0.292289\n",
      "following_company_page                        0.157448\n",
      "yearly_avg_Outstation_checkins                0.095914\n",
      "member_in_family                              0.027941\n",
      "total_likes_on_outstation_checkin_given       0.025798\n",
      "Yearly_avg_comment_on_travel_page             0.008159\n",
      "preferred_device                              0.000000\n",
      "preferred_location_type                       0.000000\n",
      "week_since_last_outstation_checkin            0.000000\n",
      "montly_avg_comment_on_company_page            0.000000\n",
      "working_flag                                  0.000000\n",
      "travelling_network_rating                     0.000000\n",
      "Adult_flag                                    0.000000\n",
      "Daily_Avg_mins_spend_on_traveling_page        0.000000\n"
     ]
    }
   ],
   "source": [
    "print (pd.DataFrame(reg_dt_model.feature_importances_, columns = [\"Imp\"], index = X_train.columns).sort_values('Imp',ascending=False))"
   ]
  },
  {
   "cell_type": "code",
   "execution_count": 110,
   "id": "efc591c4",
   "metadata": {},
   "outputs": [],
   "source": [
    "ytrain_predict = reg_dt_model.predict(X_train)\n",
    "ytest_predict = reg_dt_model.predict(X_test)"
   ]
  },
  {
   "cell_type": "code",
   "execution_count": 111,
   "id": "bdff7f12",
   "metadata": {},
   "outputs": [
    {
     "name": "stdout",
     "output_type": "stream",
     "text": [
      "ytrain_predict (775,)\n",
      "ytest_predict (333,)\n"
     ]
    }
   ],
   "source": [
    "print('ytrain_predict',ytrain_predict.shape)\n",
    "print('ytest_predict',ytest_predict.shape)"
   ]
  },
  {
   "cell_type": "code",
   "execution_count": 112,
   "id": "6098d31a",
   "metadata": {},
   "outputs": [
    {
     "data": {
      "text/plain": [
       "array([0, 0, 0, 0, 0, 0, 0, 0, 1, 0, 0, 0, 0, 0, 0, 0, 0, 0, 0, 1, 0, 1,\n",
       "       0, 0, 0, 1, 0, 0, 0, 1, 0, 0, 0, 0, 0, 0, 0, 0, 0, 0, 1, 0, 0, 0,\n",
       "       0, 0, 0, 0, 0, 0, 0, 0, 0, 0, 0, 0, 0, 0, 0, 0, 1, 0, 0, 0, 0, 0,\n",
       "       0, 0, 0, 1, 0, 1, 0, 0, 0, 0, 0, 0, 0, 0, 0, 0, 0, 0, 0, 1, 0, 0,\n",
       "       0, 0, 0, 0, 0, 0, 0, 0, 0, 0, 0, 0, 0, 0, 0, 0, 0, 0, 0, 0, 0, 0,\n",
       "       0, 0, 0, 0, 0, 0, 0, 0, 0, 0, 1, 0, 0, 1, 1, 1, 0, 0, 0, 0, 0, 0,\n",
       "       0, 0, 0, 0, 0, 0, 1, 0, 0, 0, 0, 0, 0, 0, 0, 0, 0, 1, 0, 1, 1, 0,\n",
       "       0, 1, 0, 0, 1, 0, 0, 0, 0, 0, 0, 0, 0, 0, 1, 0, 0, 0, 0, 0, 0, 0,\n",
       "       0, 1, 0, 0, 0, 0, 0, 0, 0, 0, 1, 0, 0, 1, 1, 1, 0, 0, 0, 0, 1, 0,\n",
       "       1, 0, 0, 1, 1, 1, 1, 0, 0, 0, 0, 0, 0, 0, 0, 0, 0, 0, 0, 0, 0, 1,\n",
       "       0, 0, 0, 0, 0, 1, 0, 0, 0, 0, 0, 0, 0, 1, 0, 0, 0, 0, 0, 0, 0, 0,\n",
       "       0, 0, 0, 0, 0, 0, 0, 0, 0, 1, 0, 1, 0, 0, 0, 0, 0, 0, 0, 0, 1, 0,\n",
       "       0, 1, 1, 0, 1, 0, 1, 0, 1, 1, 0, 0, 0, 0, 0, 0, 0, 1, 0, 0, 0, 1,\n",
       "       1, 1, 1, 1, 1, 0, 0, 0, 0, 1, 1, 0, 0, 0, 0, 0, 0, 0, 0, 0, 0, 0,\n",
       "       0, 0, 0, 0, 1, 0, 0, 0, 1, 1, 0, 1, 0, 1, 1, 0, 0, 0, 1, 0, 0, 0,\n",
       "       0, 1, 0], dtype=int64)"
      ]
     },
     "execution_count": 112,
     "metadata": {},
     "output_type": "execute_result"
    }
   ],
   "source": [
    "ytest_predict"
   ]
  },
  {
   "cell_type": "code",
   "execution_count": 113,
   "id": "0a78778b",
   "metadata": {},
   "outputs": [
    {
     "data": {
      "text/plain": [
       "array([[0.84210526, 0.15789474],\n",
       "       [0.94366197, 0.05633803],\n",
       "       [1.        , 0.        ],\n",
       "       [1.        , 0.        ],\n",
       "       [0.7037037 , 0.2962963 ],\n",
       "       [0.94366197, 0.05633803],\n",
       "       [1.        , 0.        ],\n",
       "       [0.94366197, 0.05633803],\n",
       "       [0.36231884, 0.63768116],\n",
       "       [1.        , 0.        ],\n",
       "       [1.        , 0.        ],\n",
       "       [0.7037037 , 0.2962963 ],\n",
       "       [0.76363636, 0.23636364],\n",
       "       [0.52307692, 0.47692308],\n",
       "       [0.52307692, 0.47692308],\n",
       "       [0.94366197, 0.05633803],\n",
       "       [1.        , 0.        ],\n",
       "       [0.6       , 0.4       ],\n",
       "       [0.76363636, 0.23636364],\n",
       "       [0.36231884, 0.63768116],\n",
       "       [1.        , 0.        ],\n",
       "       [0.4       , 0.6       ],\n",
       "       [0.52307692, 0.47692308],\n",
       "       [0.94366197, 0.05633803],\n",
       "       [1.        , 0.        ],\n",
       "       [0.36231884, 0.63768116],\n",
       "       [0.76363636, 0.23636364],\n",
       "       [0.7037037 , 0.2962963 ],\n",
       "       [1.        , 0.        ],\n",
       "       [0.        , 1.        ],\n",
       "       [1.        , 0.        ],\n",
       "       [0.52307692, 0.47692308],\n",
       "       [1.        , 0.        ],\n",
       "       [0.52307692, 0.47692308],\n",
       "       [0.52307692, 0.47692308],\n",
       "       [0.7037037 , 0.2962963 ],\n",
       "       [0.52307692, 0.47692308],\n",
       "       [1.        , 0.        ],\n",
       "       [1.        , 0.        ],\n",
       "       [0.52307692, 0.47692308],\n",
       "       [0.36231884, 0.63768116],\n",
       "       [1.        , 0.        ],\n",
       "       [1.        , 0.        ],\n",
       "       [0.78947368, 0.21052632],\n",
       "       [1.        , 0.        ],\n",
       "       [0.84210526, 0.15789474],\n",
       "       [0.52307692, 0.47692308],\n",
       "       [0.76363636, 0.23636364],\n",
       "       [1.        , 0.        ],\n",
       "       [0.52307692, 0.47692308],\n",
       "       [0.94366197, 0.05633803],\n",
       "       [0.94366197, 0.05633803],\n",
       "       [0.6       , 0.4       ],\n",
       "       [0.78947368, 0.21052632],\n",
       "       [1.        , 0.        ],\n",
       "       [0.78947368, 0.21052632],\n",
       "       [0.78947368, 0.21052632],\n",
       "       [0.94366197, 0.05633803],\n",
       "       [0.78947368, 0.21052632],\n",
       "       [0.78947368, 0.21052632],\n",
       "       [0.36231884, 0.63768116],\n",
       "       [0.6       , 0.4       ],\n",
       "       [0.6       , 0.4       ],\n",
       "       [1.        , 0.        ],\n",
       "       [1.        , 0.        ],\n",
       "       [0.6       , 0.4       ],\n",
       "       [0.52307692, 0.47692308],\n",
       "       [0.78947368, 0.21052632],\n",
       "       [0.52307692, 0.47692308],\n",
       "       [0.36231884, 0.63768116],\n",
       "       [1.        , 0.        ],\n",
       "       [0.36231884, 0.63768116],\n",
       "       [0.78947368, 0.21052632],\n",
       "       [0.78947368, 0.21052632],\n",
       "       [0.52307692, 0.47692308],\n",
       "       [1.        , 0.        ],\n",
       "       [0.78947368, 0.21052632],\n",
       "       [0.94366197, 0.05633803],\n",
       "       [0.78947368, 0.21052632],\n",
       "       [0.76363636, 0.23636364],\n",
       "       [0.84210526, 0.15789474],\n",
       "       [0.94366197, 0.05633803],\n",
       "       [1.        , 0.        ],\n",
       "       [1.        , 0.        ],\n",
       "       [1.        , 0.        ],\n",
       "       [0.36231884, 0.63768116],\n",
       "       [0.78947368, 0.21052632],\n",
       "       [1.        , 0.        ],\n",
       "       [1.        , 0.        ],\n",
       "       [0.52307692, 0.47692308],\n",
       "       [0.94366197, 0.05633803],\n",
       "       [1.        , 0.        ],\n",
       "       [1.        , 0.        ],\n",
       "       [0.52307692, 0.47692308],\n",
       "       [0.76363636, 0.23636364],\n",
       "       [0.76363636, 0.23636364],\n",
       "       [0.94366197, 0.05633803],\n",
       "       [0.52307692, 0.47692308],\n",
       "       [1.        , 0.        ],\n",
       "       [0.94366197, 0.05633803],\n",
       "       [0.52307692, 0.47692308],\n",
       "       [1.        , 0.        ],\n",
       "       [1.        , 0.        ],\n",
       "       [0.52307692, 0.47692308],\n",
       "       [0.6       , 0.4       ],\n",
       "       [0.84210526, 0.15789474],\n",
       "       [0.52941176, 0.47058824],\n",
       "       [1.        , 0.        ],\n",
       "       [1.        , 0.        ],\n",
       "       [1.        , 0.        ],\n",
       "       [1.        , 0.        ],\n",
       "       [0.6       , 0.4       ],\n",
       "       [1.        , 0.        ],\n",
       "       [0.7037037 , 0.2962963 ],\n",
       "       [0.76363636, 0.23636364],\n",
       "       [0.52307692, 0.47692308],\n",
       "       [1.        , 0.        ],\n",
       "       [0.78947368, 0.21052632],\n",
       "       [0.6       , 0.4       ],\n",
       "       [0.52941176, 0.47058824],\n",
       "       [0.36231884, 0.63768116],\n",
       "       [0.52307692, 0.47692308],\n",
       "       [1.        , 0.        ],\n",
       "       [0.        , 1.        ],\n",
       "       [0.        , 1.        ],\n",
       "       [0.36231884, 0.63768116],\n",
       "       [0.76363636, 0.23636364],\n",
       "       [0.52941176, 0.47058824],\n",
       "       [1.        , 0.        ],\n",
       "       [0.84210526, 0.15789474],\n",
       "       [0.52307692, 0.47692308],\n",
       "       [0.78947368, 0.21052632],\n",
       "       [1.        , 0.        ],\n",
       "       [1.        , 0.        ],\n",
       "       [1.        , 0.        ],\n",
       "       [0.76363636, 0.23636364],\n",
       "       [0.94366197, 0.05633803],\n",
       "       [0.7037037 , 0.2962963 ],\n",
       "       [0.        , 1.        ],\n",
       "       [0.52941176, 0.47058824],\n",
       "       [1.        , 0.        ],\n",
       "       [0.6       , 0.4       ],\n",
       "       [0.7037037 , 0.2962963 ],\n",
       "       [0.94366197, 0.05633803],\n",
       "       [0.78947368, 0.21052632],\n",
       "       [1.        , 0.        ],\n",
       "       [0.94366197, 0.05633803],\n",
       "       [1.        , 0.        ],\n",
       "       [0.52307692, 0.47692308],\n",
       "       [0.36231884, 0.63768116],\n",
       "       [0.6       , 0.4       ],\n",
       "       [0.36231884, 0.63768116],\n",
       "       [0.        , 1.        ],\n",
       "       [0.76363636, 0.23636364],\n",
       "       [0.6       , 0.4       ],\n",
       "       [0.36231884, 0.63768116],\n",
       "       [1.        , 0.        ],\n",
       "       [0.52941176, 0.47058824],\n",
       "       [0.36231884, 0.63768116],\n",
       "       [0.94366197, 0.05633803],\n",
       "       [0.78947368, 0.21052632],\n",
       "       [0.7037037 , 0.2962963 ],\n",
       "       [1.        , 0.        ],\n",
       "       [0.94366197, 0.05633803],\n",
       "       [0.94366197, 0.05633803],\n",
       "       [1.        , 0.        ],\n",
       "       [0.78947368, 0.21052632],\n",
       "       [1.        , 0.        ],\n",
       "       [0.36231884, 0.63768116],\n",
       "       [1.        , 0.        ],\n",
       "       [0.7037037 , 0.2962963 ],\n",
       "       [0.52941176, 0.47058824],\n",
       "       [1.        , 0.        ],\n",
       "       [0.76363636, 0.23636364],\n",
       "       [1.        , 0.        ],\n",
       "       [0.76363636, 0.23636364],\n",
       "       [0.6       , 0.4       ],\n",
       "       [0.4       , 0.6       ],\n",
       "       [0.6       , 0.4       ],\n",
       "       [0.76363636, 0.23636364],\n",
       "       [1.        , 0.        ],\n",
       "       [1.        , 0.        ],\n",
       "       [1.        , 0.        ],\n",
       "       [1.        , 0.        ],\n",
       "       [0.6       , 0.4       ],\n",
       "       [0.76363636, 0.23636364],\n",
       "       [0.        , 1.        ],\n",
       "       [0.52941176, 0.47058824],\n",
       "       [1.        , 0.        ],\n",
       "       [0.36231884, 0.63768116],\n",
       "       [0.        , 1.        ],\n",
       "       [0.4       , 0.6       ],\n",
       "       [0.52307692, 0.47692308],\n",
       "       [1.        , 0.        ],\n",
       "       [0.94366197, 0.05633803],\n",
       "       [1.        , 0.        ],\n",
       "       [0.36231884, 0.63768116],\n",
       "       [0.52941176, 0.47058824],\n",
       "       [0.36231884, 0.63768116],\n",
       "       [1.        , 0.        ],\n",
       "       [1.        , 0.        ],\n",
       "       [0.36231884, 0.63768116],\n",
       "       [0.4       , 0.6       ],\n",
       "       [0.36231884, 0.63768116],\n",
       "       [0.        , 1.        ],\n",
       "       [0.78947368, 0.21052632],\n",
       "       [0.52307692, 0.47692308],\n",
       "       [0.76363636, 0.23636364],\n",
       "       [0.7037037 , 0.2962963 ],\n",
       "       [1.        , 0.        ],\n",
       "       [0.52307692, 0.47692308],\n",
       "       [1.        , 0.        ],\n",
       "       [0.78947368, 0.21052632],\n",
       "       [1.        , 0.        ],\n",
       "       [1.        , 0.        ],\n",
       "       [0.52307692, 0.47692308],\n",
       "       [0.52307692, 0.47692308],\n",
       "       [0.52307692, 0.47692308],\n",
       "       [1.        , 0.        ],\n",
       "       [0.        , 1.        ],\n",
       "       [1.        , 0.        ],\n",
       "       [1.        , 0.        ],\n",
       "       [0.94366197, 0.05633803],\n",
       "       [0.52307692, 0.47692308],\n",
       "       [0.76363636, 0.23636364],\n",
       "       [0.36231884, 0.63768116],\n",
       "       [1.        , 0.        ],\n",
       "       [1.        , 0.        ],\n",
       "       [0.52307692, 0.47692308],\n",
       "       [1.        , 0.        ],\n",
       "       [1.        , 0.        ],\n",
       "       [1.        , 0.        ],\n",
       "       [0.52941176, 0.47058824],\n",
       "       [0.36231884, 0.63768116],\n",
       "       [0.94366197, 0.05633803],\n",
       "       [0.76363636, 0.23636364],\n",
       "       [0.52307692, 0.47692308],\n",
       "       [0.6       , 0.4       ],\n",
       "       [0.78947368, 0.21052632],\n",
       "       [0.94366197, 0.05633803],\n",
       "       [0.76363636, 0.23636364],\n",
       "       [0.52307692, 0.47692308],\n",
       "       [0.94366197, 0.05633803],\n",
       "       [0.7037037 , 0.2962963 ],\n",
       "       [0.76363636, 0.23636364],\n",
       "       [1.        , 0.        ],\n",
       "       [0.52307692, 0.47692308],\n",
       "       [1.        , 0.        ],\n",
       "       [0.94366197, 0.05633803],\n",
       "       [1.        , 0.        ],\n",
       "       [1.        , 0.        ],\n",
       "       [0.36231884, 0.63768116],\n",
       "       [1.        , 0.        ],\n",
       "       [0.        , 1.        ],\n",
       "       [0.52307692, 0.47692308],\n",
       "       [0.6       , 0.4       ],\n",
       "       [0.78947368, 0.21052632],\n",
       "       [0.94366197, 0.05633803],\n",
       "       [0.94366197, 0.05633803],\n",
       "       [0.52307692, 0.47692308],\n",
       "       [0.78947368, 0.21052632],\n",
       "       [1.        , 0.        ],\n",
       "       [0.        , 1.        ],\n",
       "       [1.        , 0.        ],\n",
       "       [1.        , 0.        ],\n",
       "       [0.36231884, 0.63768116],\n",
       "       [0.36231884, 0.63768116],\n",
       "       [1.        , 0.        ],\n",
       "       [0.        , 1.        ],\n",
       "       [1.        , 0.        ],\n",
       "       [0.36231884, 0.63768116],\n",
       "       [1.        , 0.        ],\n",
       "       [0.        , 1.        ],\n",
       "       [0.36231884, 0.63768116],\n",
       "       [0.94366197, 0.05633803],\n",
       "       [0.7037037 , 0.2962963 ],\n",
       "       [0.52307692, 0.47692308],\n",
       "       [0.94366197, 0.05633803],\n",
       "       [0.52307692, 0.47692308],\n",
       "       [0.6       , 0.4       ],\n",
       "       [0.7037037 , 0.2962963 ],\n",
       "       [0.36231884, 0.63768116],\n",
       "       [0.52941176, 0.47058824],\n",
       "       [0.52941176, 0.47058824],\n",
       "       [0.94366197, 0.05633803],\n",
       "       [0.36231884, 0.63768116],\n",
       "       [0.36231884, 0.63768116],\n",
       "       [0.36231884, 0.63768116],\n",
       "       [0.36231884, 0.63768116],\n",
       "       [0.36231884, 0.63768116],\n",
       "       [0.4       , 0.6       ],\n",
       "       [1.        , 0.        ],\n",
       "       [0.52307692, 0.47692308],\n",
       "       [0.76363636, 0.23636364],\n",
       "       [0.7037037 , 0.2962963 ],\n",
       "       [0.        , 1.        ],\n",
       "       [0.        , 1.        ],\n",
       "       [0.52307692, 0.47692308],\n",
       "       [1.        , 0.        ],\n",
       "       [1.        , 0.        ],\n",
       "       [1.        , 0.        ],\n",
       "       [0.52941176, 0.47058824],\n",
       "       [1.        , 0.        ],\n",
       "       [1.        , 0.        ],\n",
       "       [0.78947368, 0.21052632],\n",
       "       [0.52307692, 0.47692308],\n",
       "       [0.7037037 , 0.2962963 ],\n",
       "       [1.        , 0.        ],\n",
       "       [0.6       , 0.4       ],\n",
       "       [1.        , 0.        ],\n",
       "       [0.7037037 , 0.2962963 ],\n",
       "       [0.52307692, 0.47692308],\n",
       "       [0.36231884, 0.63768116],\n",
       "       [0.94366197, 0.05633803],\n",
       "       [1.        , 0.        ],\n",
       "       [0.76363636, 0.23636364],\n",
       "       [0.36231884, 0.63768116],\n",
       "       [0.        , 1.        ],\n",
       "       [1.        , 0.        ],\n",
       "       [0.36231884, 0.63768116],\n",
       "       [1.        , 0.        ],\n",
       "       [0.36231884, 0.63768116],\n",
       "       [0.36231884, 0.63768116],\n",
       "       [1.        , 0.        ],\n",
       "       [0.94366197, 0.05633803],\n",
       "       [1.        , 0.        ],\n",
       "       [0.36231884, 0.63768116],\n",
       "       [0.76363636, 0.23636364],\n",
       "       [0.7037037 , 0.2962963 ],\n",
       "       [0.94366197, 0.05633803],\n",
       "       [0.52307692, 0.47692308],\n",
       "       [0.        , 1.        ],\n",
       "       [1.        , 0.        ]])"
      ]
     },
     "execution_count": 113,
     "metadata": {},
     "output_type": "execute_result"
    }
   ],
   "source": [
    "ytest_predict_prob=reg_dt_model.predict_proba(X_test)\n",
    "ytest_predict_prob"
   ]
  },
  {
   "cell_type": "code",
   "execution_count": 114,
   "id": "bcc46bde",
   "metadata": {},
   "outputs": [
    {
     "data": {
      "text/html": [
       "<div>\n",
       "<style scoped>\n",
       "    .dataframe tbody tr th:only-of-type {\n",
       "        vertical-align: middle;\n",
       "    }\n",
       "\n",
       "    .dataframe tbody tr th {\n",
       "        vertical-align: top;\n",
       "    }\n",
       "\n",
       "    .dataframe thead th {\n",
       "        text-align: right;\n",
       "    }\n",
       "</style>\n",
       "<table border=\"1\" class=\"dataframe\">\n",
       "  <thead>\n",
       "    <tr style=\"text-align: right;\">\n",
       "      <th></th>\n",
       "      <th>0</th>\n",
       "      <th>1</th>\n",
       "    </tr>\n",
       "  </thead>\n",
       "  <tbody>\n",
       "    <tr>\n",
       "      <th>0</th>\n",
       "      <td>0.842105</td>\n",
       "      <td>0.157895</td>\n",
       "    </tr>\n",
       "    <tr>\n",
       "      <th>1</th>\n",
       "      <td>0.943662</td>\n",
       "      <td>0.056338</td>\n",
       "    </tr>\n",
       "    <tr>\n",
       "      <th>2</th>\n",
       "      <td>1.000000</td>\n",
       "      <td>0.000000</td>\n",
       "    </tr>\n",
       "    <tr>\n",
       "      <th>3</th>\n",
       "      <td>1.000000</td>\n",
       "      <td>0.000000</td>\n",
       "    </tr>\n",
       "    <tr>\n",
       "      <th>4</th>\n",
       "      <td>0.703704</td>\n",
       "      <td>0.296296</td>\n",
       "    </tr>\n",
       "  </tbody>\n",
       "</table>\n",
       "</div>"
      ],
      "text/plain": [
       "          0         1\n",
       "0  0.842105  0.157895\n",
       "1  0.943662  0.056338\n",
       "2  1.000000  0.000000\n",
       "3  1.000000  0.000000\n",
       "4  0.703704  0.296296"
      ]
     },
     "execution_count": 114,
     "metadata": {},
     "output_type": "execute_result"
    }
   ],
   "source": [
    " pd.DataFrame(ytest_predict_prob).head()"
   ]
  },
  {
   "cell_type": "code",
   "execution_count": 115,
   "id": "e71aea3c",
   "metadata": {},
   "outputs": [
    {
     "name": "stdout",
     "output_type": "stream",
     "text": [
      "AUC: 0.886\n"
     ]
    },
    {
     "data": {
      "image/png": "[encoded data removed]",
      "text/plain": [
       "<Figure size 432x288 with 1 Axes>"
      ]
     },
     "metadata": {
      "needs_background": "light"
     },
     "output_type": "display_data"
    }
   ],
   "source": [
    "# predict probabilities\n",
    "probs = reg_dt_model.predict_proba(X_train)\n",
    "# keep probabilities for the positive outcome only\n",
    "probs = probs[:, 1]\n",
    "# calculate AUC\n",
    "from sklearn.metrics import roc_auc_score\n",
    "auc = roc_auc_score(y_train, probs)\n",
    "print('AUC: %.3f' % auc)\n",
    "# calculate roc curve\n",
    "from sklearn.metrics import roc_curve\n",
    "fpr, tpr, thresholds = roc_curve(y_train, probs)\n",
    "plt.plot([0, 1], [0, 1], linestyle='--')\n",
    "# plot the roc curve for the model\n",
    "plt.plot(fpr, tpr, marker='.')\n",
    "# show the plot\n",
    "plt.show()"
   ]
  },
  {
   "cell_type": "code",
   "execution_count": 116,
   "id": "fe16d6fe",
   "metadata": {},
   "outputs": [
    {
     "name": "stdout",
     "output_type": "stream",
     "text": [
      "AUC: 0.881\n"
     ]
    },
    {
     "data": {
      "image/png": "[encoded data removed]",
      "text/plain": [
       "<Figure size 432x288 with 1 Axes>"
      ]
     },
     "metadata": {
      "needs_background": "light"
     },
     "output_type": "display_data"
    }
   ],
   "source": [
    "# predict probabilities\n",
    "probs = reg_dt_model.predict_proba(X_test)\n",
    "# keep probabilities for the positive outcome only\n",
    "probs = probs[:, 1]\n",
    "# calculate AUC\n",
    "from sklearn.metrics import roc_auc_score\n",
    "auc = roc_auc_score(y_test, probs)\n",
    "print('AUC: %.3f' % auc)\n",
    "# calculate roc curve\n",
    "from sklearn.metrics import roc_curve\n",
    "fpr, tpr, thresholds = roc_curve(y_test, probs)\n",
    "plt.plot([0, 1], [0, 1], linestyle='--')\n",
    "# plot the roc curve for the model\n",
    "plt.plot(fpr, tpr, marker='.')\n",
    "# show the plot\n",
    "plt.show()"
   ]
  },
  {
   "cell_type": "code",
   "execution_count": 117,
   "id": "cfbee24d",
   "metadata": {},
   "outputs": [],
   "source": [
    "from sklearn.metrics import classification_report,confusion_matrix"
   ]
  },
  {
   "cell_type": "code",
   "execution_count": 118,
   "id": "48b62cb5",
   "metadata": {},
   "outputs": [
    {
     "data": {
      "text/plain": [
       "0.824516129032258"
      ]
     },
     "execution_count": 118,
     "metadata": {},
     "output_type": "execute_result"
    }
   ],
   "source": [
    "#Train Data Accuracy\n",
    "reg_dt_model.score(X_train,y_train)"
   ]
  },
  {
   "cell_type": "code",
   "execution_count": 119,
   "id": "d04a48d9",
   "metadata": {},
   "outputs": [
    {
     "name": "stdout",
     "output_type": "stream",
     "text": [
      "              precision    recall  f1-score   support\n",
      "\n",
      "           0       0.84      0.95      0.89       594\n",
      "           1       0.72      0.41      0.52       181\n",
      "\n",
      "    accuracy                           0.82       775\n",
      "   macro avg       0.78      0.68      0.71       775\n",
      "weighted avg       0.81      0.82      0.81       775\n",
      "\n"
     ]
    }
   ],
   "source": [
    "print(classification_report(y_train, ytrain_predict))"
   ]
  },
  {
   "cell_type": "code",
   "execution_count": 120,
   "id": "338c9ba5",
   "metadata": {},
   "outputs": [
    {
     "data": {
      "text/plain": [
       "array([[223,  15],\n",
       "       [ 49,  46]], dtype=int64)"
      ]
     },
     "execution_count": 120,
     "metadata": {},
     "output_type": "execute_result"
    }
   ],
   "source": [
    "confusion_matrix(y_test, ytest_predict)"
   ]
  },
  {
   "cell_type": "code",
   "execution_count": 121,
   "id": "7b60248c",
   "metadata": {},
   "outputs": [
    {
     "data": {
      "text/plain": [
       "0.8078078078078078"
      ]
     },
     "execution_count": 121,
     "metadata": {},
     "output_type": "execute_result"
    }
   ],
   "source": [
    "#Test Data Accuracy\n",
    "reg_dt_model.score(X_test,y_test)"
   ]
  },
  {
   "cell_type": "code",
   "execution_count": 122,
   "id": "96da0ae6",
   "metadata": {},
   "outputs": [
    {
     "name": "stdout",
     "output_type": "stream",
     "text": [
      "              precision    recall  f1-score   support\n",
      "\n",
      "           0       0.82      0.94      0.87       238\n",
      "           1       0.75      0.48      0.59        95\n",
      "\n",
      "    accuracy                           0.81       333\n",
      "   macro avg       0.79      0.71      0.73       333\n",
      "weighted avg       0.80      0.81      0.79       333\n",
      "\n"
     ]
    }
   ],
   "source": [
    "print(classification_report(y_test, ytest_predict))"
   ]
  },
  {
   "cell_type": "markdown",
   "id": "460b9fd1",
   "metadata": {},
   "source": [
    "-------------------------------------------------------------------------------------------------------------------------------------------------------"
   ]
  },
  {
   "cell_type": "markdown",
   "id": "8076c91e",
   "metadata": {},
   "source": [
    "SMOTE"
   ]
  },
  {
   "cell_type": "code",
   "execution_count": 125,
   "id": "bb0388ff",
   "metadata": {},
   "outputs": [],
   "source": [
    "smote = SMOTE()\n",
    "\n",
    "\n",
    "X_train_res, y_train_res = smote.fit_resample(X_train, y_train.ravel())"
   ]
  },
  {
   "cell_type": "code",
   "execution_count": 126,
   "id": "2362fc37",
   "metadata": {},
   "outputs": [
    {
     "data": {
      "text/plain": [
       "(1188, 15)"
      ]
     },
     "execution_count": 126,
     "metadata": {},
     "output_type": "execute_result"
    }
   ],
   "source": [
    "## Let's check the shape after SMOTE\n",
    "X_train_res.shape"
   ]
  },
  {
   "cell_type": "code",
   "execution_count": 127,
   "id": "73d7c63e",
   "metadata": {},
   "outputs": [
    {
     "data": {
      "text/plain": [
       "DecisionTreeClassifier(max_depth=9, min_samples_leaf=10, min_samples_split=80)"
      ]
     },
     "execution_count": 127,
     "metadata": {},
     "output_type": "execute_result"
    }
   ],
   "source": [
    "smote_cart_model = DecisionTreeClassifier(criterion = 'gini', max_depth = 9,min_samples_leaf=10,min_samples_split=80)\n",
    "smote_cart_model.fit(X_train_res, y_train_res)"
   ]
  },
  {
   "cell_type": "code",
   "execution_count": 128,
   "id": "dd4c1033",
   "metadata": {},
   "outputs": [],
   "source": [
    "ytrain_predict = reg_dt_model.predict(X_train)\n",
    "ytest_predict = reg_dt_model.predict(X_test)"
   ]
  },
  {
   "cell_type": "code",
   "execution_count": 129,
   "id": "ea26cc7a",
   "metadata": {},
   "outputs": [
    {
     "name": "stdout",
     "output_type": "stream",
     "text": [
      "ytrain_predict (775,)\n",
      "ytest_predict (333,)\n"
     ]
    }
   ],
   "source": [
    "print('ytrain_predict',ytrain_predict.shape)\n",
    "print('ytest_predict',ytest_predict.shape)"
   ]
  },
  {
   "cell_type": "code",
   "execution_count": 130,
   "id": "b75de263",
   "metadata": {},
   "outputs": [
    {
     "data": {
      "text/plain": [
       "array([0, 0, 0, 0, 0, 0, 0, 0, 1, 0, 0, 0, 0, 0, 0, 0, 0, 0, 0, 1, 0, 1,\n",
       "       0, 0, 0, 1, 0, 0, 0, 1, 0, 0, 0, 0, 0, 0, 0, 0, 0, 0, 1, 0, 0, 0,\n",
       "       0, 0, 0, 0, 0, 0, 0, 0, 0, 0, 0, 0, 0, 0, 0, 0, 1, 0, 0, 0, 0, 0,\n",
       "       0, 0, 0, 1, 0, 1, 0, 0, 0, 0, 0, 0, 0, 0, 0, 0, 0, 0, 0, 1, 0, 0,\n",
       "       0, 0, 0, 0, 0, 0, 0, 0, 0, 0, 0, 0, 0, 0, 0, 0, 0, 0, 0, 0, 0, 0,\n",
       "       0, 0, 0, 0, 0, 0, 0, 0, 0, 0, 1, 0, 0, 1, 1, 1, 0, 0, 0, 0, 0, 0,\n",
       "       0, 0, 0, 0, 0, 0, 1, 0, 0, 0, 0, 0, 0, 0, 0, 0, 0, 1, 0, 1, 1, 0,\n",
       "       0, 1, 0, 0, 1, 0, 0, 0, 0, 0, 0, 0, 0, 0, 1, 0, 0, 0, 0, 0, 0, 0,\n",
       "       0, 1, 0, 0, 0, 0, 0, 0, 0, 0, 1, 0, 0, 1, 1, 1, 0, 0, 0, 0, 1, 0,\n",
       "       1, 0, 0, 1, 1, 1, 1, 0, 0, 0, 0, 0, 0, 0, 0, 0, 0, 0, 0, 0, 0, 1,\n",
       "       0, 0, 0, 0, 0, 1, 0, 0, 0, 0, 0, 0, 0, 1, 0, 0, 0, 0, 0, 0, 0, 0,\n",
       "       0, 0, 0, 0, 0, 0, 0, 0, 0, 1, 0, 1, 0, 0, 0, 0, 0, 0, 0, 0, 1, 0,\n",
       "       0, 1, 1, 0, 1, 0, 1, 0, 1, 1, 0, 0, 0, 0, 0, 0, 0, 1, 0, 0, 0, 1,\n",
       "       1, 1, 1, 1, 1, 0, 0, 0, 0, 1, 1, 0, 0, 0, 0, 0, 0, 0, 0, 0, 0, 0,\n",
       "       0, 0, 0, 0, 1, 0, 0, 0, 1, 1, 0, 1, 0, 1, 1, 0, 0, 0, 1, 0, 0, 0,\n",
       "       0, 1, 0], dtype=int64)"
      ]
     },
     "execution_count": 130,
     "metadata": {},
     "output_type": "execute_result"
    }
   ],
   "source": [
    "ytest_predict"
   ]
  },
  {
   "cell_type": "code",
   "execution_count": 131,
   "id": "30bf9eb7",
   "metadata": {},
   "outputs": [
    {
     "data": {
      "text/plain": [
       "array([[0.84210526, 0.15789474],\n",
       "       [0.94366197, 0.05633803],\n",
       "       [1.        , 0.        ],\n",
       "       [1.        , 0.        ],\n",
       "       [0.7037037 , 0.2962963 ],\n",
       "       [0.94366197, 0.05633803],\n",
       "       [1.        , 0.        ],\n",
       "       [0.94366197, 0.05633803],\n",
       "       [0.36231884, 0.63768116],\n",
       "       [1.        , 0.        ],\n",
       "       [1.        , 0.        ],\n",
       "       [0.7037037 , 0.2962963 ],\n",
       "       [0.76363636, 0.23636364],\n",
       "       [0.52307692, 0.47692308],\n",
       "       [0.52307692, 0.47692308],\n",
       "       [0.94366197, 0.05633803],\n",
       "       [1.        , 0.        ],\n",
       "       [0.6       , 0.4       ],\n",
       "       [0.76363636, 0.23636364],\n",
       "       [0.36231884, 0.63768116],\n",
       "       [1.        , 0.        ],\n",
       "       [0.4       , 0.6       ],\n",
       "       [0.52307692, 0.47692308],\n",
       "       [0.94366197, 0.05633803],\n",
       "       [1.        , 0.        ],\n",
       "       [0.36231884, 0.63768116],\n",
       "       [0.76363636, 0.23636364],\n",
       "       [0.7037037 , 0.2962963 ],\n",
       "       [1.        , 0.        ],\n",
       "       [0.        , 1.        ],\n",
       "       [1.        , 0.        ],\n",
       "       [0.52307692, 0.47692308],\n",
       "       [1.        , 0.        ],\n",
       "       [0.52307692, 0.47692308],\n",
       "       [0.52307692, 0.47692308],\n",
       "       [0.7037037 , 0.2962963 ],\n",
       "       [0.52307692, 0.47692308],\n",
       "       [1.        , 0.        ],\n",
       "       [1.        , 0.        ],\n",
       "       [0.52307692, 0.47692308],\n",
       "       [0.36231884, 0.63768116],\n",
       "       [1.        , 0.        ],\n",
       "       [1.        , 0.        ],\n",
       "       [0.78947368, 0.21052632],\n",
       "       [1.        , 0.        ],\n",
       "       [0.84210526, 0.15789474],\n",
       "       [0.52307692, 0.47692308],\n",
       "       [0.76363636, 0.23636364],\n",
       "       [1.        , 0.        ],\n",
       "       [0.52307692, 0.47692308],\n",
       "       [0.94366197, 0.05633803],\n",
       "       [0.94366197, 0.05633803],\n",
       "       [0.6       , 0.4       ],\n",
       "       [0.78947368, 0.21052632],\n",
       "       [1.        , 0.        ],\n",
       "       [0.78947368, 0.21052632],\n",
       "       [0.78947368, 0.21052632],\n",
       "       [0.94366197, 0.05633803],\n",
       "       [0.78947368, 0.21052632],\n",
       "       [0.78947368, 0.21052632],\n",
       "       [0.36231884, 0.63768116],\n",
       "       [0.6       , 0.4       ],\n",
       "       [0.6       , 0.4       ],\n",
       "       [1.        , 0.        ],\n",
       "       [1.        , 0.        ],\n",
       "       [0.6       , 0.4       ],\n",
       "       [0.52307692, 0.47692308],\n",
       "       [0.78947368, 0.21052632],\n",
       "       [0.52307692, 0.47692308],\n",
       "       [0.36231884, 0.63768116],\n",
       "       [1.        , 0.        ],\n",
       "       [0.36231884, 0.63768116],\n",
       "       [0.78947368, 0.21052632],\n",
       "       [0.78947368, 0.21052632],\n",
       "       [0.52307692, 0.47692308],\n",
       "       [1.        , 0.        ],\n",
       "       [0.78947368, 0.21052632],\n",
       "       [0.94366197, 0.05633803],\n",
       "       [0.78947368, 0.21052632],\n",
       "       [0.76363636, 0.23636364],\n",
       "       [0.84210526, 0.15789474],\n",
       "       [0.94366197, 0.05633803],\n",
       "       [1.        , 0.        ],\n",
       "       [1.        , 0.        ],\n",
       "       [1.        , 0.        ],\n",
       "       [0.36231884, 0.63768116],\n",
       "       [0.78947368, 0.21052632],\n",
       "       [1.        , 0.        ],\n",
       "       [1.        , 0.        ],\n",
       "       [0.52307692, 0.47692308],\n",
       "       [0.94366197, 0.05633803],\n",
       "       [1.        , 0.        ],\n",
       "       [1.        , 0.        ],\n",
       "       [0.52307692, 0.47692308],\n",
       "       [0.76363636, 0.23636364],\n",
       "       [0.76363636, 0.23636364],\n",
       "       [0.94366197, 0.05633803],\n",
       "       [0.52307692, 0.47692308],\n",
       "       [1.        , 0.        ],\n",
       "       [0.94366197, 0.05633803],\n",
       "       [0.52307692, 0.47692308],\n",
       "       [1.        , 0.        ],\n",
       "       [1.        , 0.        ],\n",
       "       [0.52307692, 0.47692308],\n",
       "       [0.6       , 0.4       ],\n",
       "       [0.84210526, 0.15789474],\n",
       "       [0.52941176, 0.47058824],\n",
       "       [1.        , 0.        ],\n",
       "       [1.        , 0.        ],\n",
       "       [1.        , 0.        ],\n",
       "       [1.        , 0.        ],\n",
       "       [0.6       , 0.4       ],\n",
       "       [1.        , 0.        ],\n",
       "       [0.7037037 , 0.2962963 ],\n",
       "       [0.76363636, 0.23636364],\n",
       "       [0.52307692, 0.47692308],\n",
       "       [1.        , 0.        ],\n",
       "       [0.78947368, 0.21052632],\n",
       "       [0.6       , 0.4       ],\n",
       "       [0.52941176, 0.47058824],\n",
       "       [0.36231884, 0.63768116],\n",
       "       [0.52307692, 0.47692308],\n",
       "       [1.        , 0.        ],\n",
       "       [0.        , 1.        ],\n",
       "       [0.        , 1.        ],\n",
       "       [0.36231884, 0.63768116],\n",
       "       [0.76363636, 0.23636364],\n",
       "       [0.52941176, 0.47058824],\n",
       "       [1.        , 0.        ],\n",
       "       [0.84210526, 0.15789474],\n",
       "       [0.52307692, 0.47692308],\n",
       "       [0.78947368, 0.21052632],\n",
       "       [1.        , 0.        ],\n",
       "       [1.        , 0.        ],\n",
       "       [1.        , 0.        ],\n",
       "       [0.76363636, 0.23636364],\n",
       "       [0.94366197, 0.05633803],\n",
       "       [0.7037037 , 0.2962963 ],\n",
       "       [0.        , 1.        ],\n",
       "       [0.52941176, 0.47058824],\n",
       "       [1.        , 0.        ],\n",
       "       [0.6       , 0.4       ],\n",
       "       [0.7037037 , 0.2962963 ],\n",
       "       [0.94366197, 0.05633803],\n",
       "       [0.78947368, 0.21052632],\n",
       "       [1.        , 0.        ],\n",
       "       [0.94366197, 0.05633803],\n",
       "       [1.        , 0.        ],\n",
       "       [0.52307692, 0.47692308],\n",
       "       [0.36231884, 0.63768116],\n",
       "       [0.6       , 0.4       ],\n",
       "       [0.36231884, 0.63768116],\n",
       "       [0.        , 1.        ],\n",
       "       [0.76363636, 0.23636364],\n",
       "       [0.6       , 0.4       ],\n",
       "       [0.36231884, 0.63768116],\n",
       "       [1.        , 0.        ],\n",
       "       [0.52941176, 0.47058824],\n",
       "       [0.36231884, 0.63768116],\n",
       "       [0.94366197, 0.05633803],\n",
       "       [0.78947368, 0.21052632],\n",
       "       [0.7037037 , 0.2962963 ],\n",
       "       [1.        , 0.        ],\n",
       "       [0.94366197, 0.05633803],\n",
       "       [0.94366197, 0.05633803],\n",
       "       [1.        , 0.        ],\n",
       "       [0.78947368, 0.21052632],\n",
       "       [1.        , 0.        ],\n",
       "       [0.36231884, 0.63768116],\n",
       "       [1.        , 0.        ],\n",
       "       [0.7037037 , 0.2962963 ],\n",
       "       [0.52941176, 0.47058824],\n",
       "       [1.        , 0.        ],\n",
       "       [0.76363636, 0.23636364],\n",
       "       [1.        , 0.        ],\n",
       "       [0.76363636, 0.23636364],\n",
       "       [0.6       , 0.4       ],\n",
       "       [0.4       , 0.6       ],\n",
       "       [0.6       , 0.4       ],\n",
       "       [0.76363636, 0.23636364],\n",
       "       [1.        , 0.        ],\n",
       "       [1.        , 0.        ],\n",
       "       [1.        , 0.        ],\n",
       "       [1.        , 0.        ],\n",
       "       [0.6       , 0.4       ],\n",
       "       [0.76363636, 0.23636364],\n",
       "       [0.        , 1.        ],\n",
       "       [0.52941176, 0.47058824],\n",
       "       [1.        , 0.        ],\n",
       "       [0.36231884, 0.63768116],\n",
       "       [0.        , 1.        ],\n",
       "       [0.4       , 0.6       ],\n",
       "       [0.52307692, 0.47692308],\n",
       "       [1.        , 0.        ],\n",
       "       [0.94366197, 0.05633803],\n",
       "       [1.        , 0.        ],\n",
       "       [0.36231884, 0.63768116],\n",
       "       [0.52941176, 0.47058824],\n",
       "       [0.36231884, 0.63768116],\n",
       "       [1.        , 0.        ],\n",
       "       [1.        , 0.        ],\n",
       "       [0.36231884, 0.63768116],\n",
       "       [0.4       , 0.6       ],\n",
       "       [0.36231884, 0.63768116],\n",
       "       [0.        , 1.        ],\n",
       "       [0.78947368, 0.21052632],\n",
       "       [0.52307692, 0.47692308],\n",
       "       [0.76363636, 0.23636364],\n",
       "       [0.7037037 , 0.2962963 ],\n",
       "       [1.        , 0.        ],\n",
       "       [0.52307692, 0.47692308],\n",
       "       [1.        , 0.        ],\n",
       "       [0.78947368, 0.21052632],\n",
       "       [1.        , 0.        ],\n",
       "       [1.        , 0.        ],\n",
       "       [0.52307692, 0.47692308],\n",
       "       [0.52307692, 0.47692308],\n",
       "       [0.52307692, 0.47692308],\n",
       "       [1.        , 0.        ],\n",
       "       [0.        , 1.        ],\n",
       "       [1.        , 0.        ],\n",
       "       [1.        , 0.        ],\n",
       "       [0.94366197, 0.05633803],\n",
       "       [0.52307692, 0.47692308],\n",
       "       [0.76363636, 0.23636364],\n",
       "       [0.36231884, 0.63768116],\n",
       "       [1.        , 0.        ],\n",
       "       [1.        , 0.        ],\n",
       "       [0.52307692, 0.47692308],\n",
       "       [1.        , 0.        ],\n",
       "       [1.        , 0.        ],\n",
       "       [1.        , 0.        ],\n",
       "       [0.52941176, 0.47058824],\n",
       "       [0.36231884, 0.63768116],\n",
       "       [0.94366197, 0.05633803],\n",
       "       [0.76363636, 0.23636364],\n",
       "       [0.52307692, 0.47692308],\n",
       "       [0.6       , 0.4       ],\n",
       "       [0.78947368, 0.21052632],\n",
       "       [0.94366197, 0.05633803],\n",
       "       [0.76363636, 0.23636364],\n",
       "       [0.52307692, 0.47692308],\n",
       "       [0.94366197, 0.05633803],\n",
       "       [0.7037037 , 0.2962963 ],\n",
       "       [0.76363636, 0.23636364],\n",
       "       [1.        , 0.        ],\n",
       "       [0.52307692, 0.47692308],\n",
       "       [1.        , 0.        ],\n",
       "       [0.94366197, 0.05633803],\n",
       "       [1.        , 0.        ],\n",
       "       [1.        , 0.        ],\n",
       "       [0.36231884, 0.63768116],\n",
       "       [1.        , 0.        ],\n",
       "       [0.        , 1.        ],\n",
       "       [0.52307692, 0.47692308],\n",
       "       [0.6       , 0.4       ],\n",
       "       [0.78947368, 0.21052632],\n",
       "       [0.94366197, 0.05633803],\n",
       "       [0.94366197, 0.05633803],\n",
       "       [0.52307692, 0.47692308],\n",
       "       [0.78947368, 0.21052632],\n",
       "       [1.        , 0.        ],\n",
       "       [0.        , 1.        ],\n",
       "       [1.        , 0.        ],\n",
       "       [1.        , 0.        ],\n",
       "       [0.36231884, 0.63768116],\n",
       "       [0.36231884, 0.63768116],\n",
       "       [1.        , 0.        ],\n",
       "       [0.        , 1.        ],\n",
       "       [1.        , 0.        ],\n",
       "       [0.36231884, 0.63768116],\n",
       "       [1.        , 0.        ],\n",
       "       [0.        , 1.        ],\n",
       "       [0.36231884, 0.63768116],\n",
       "       [0.94366197, 0.05633803],\n",
       "       [0.7037037 , 0.2962963 ],\n",
       "       [0.52307692, 0.47692308],\n",
       "       [0.94366197, 0.05633803],\n",
       "       [0.52307692, 0.47692308],\n",
       "       [0.6       , 0.4       ],\n",
       "       [0.7037037 , 0.2962963 ],\n",
       "       [0.36231884, 0.63768116],\n",
       "       [0.52941176, 0.47058824],\n",
       "       [0.52941176, 0.47058824],\n",
       "       [0.94366197, 0.05633803],\n",
       "       [0.36231884, 0.63768116],\n",
       "       [0.36231884, 0.63768116],\n",
       "       [0.36231884, 0.63768116],\n",
       "       [0.36231884, 0.63768116],\n",
       "       [0.36231884, 0.63768116],\n",
       "       [0.4       , 0.6       ],\n",
       "       [1.        , 0.        ],\n",
       "       [0.52307692, 0.47692308],\n",
       "       [0.76363636, 0.23636364],\n",
       "       [0.7037037 , 0.2962963 ],\n",
       "       [0.        , 1.        ],\n",
       "       [0.        , 1.        ],\n",
       "       [0.52307692, 0.47692308],\n",
       "       [1.        , 0.        ],\n",
       "       [1.        , 0.        ],\n",
       "       [1.        , 0.        ],\n",
       "       [0.52941176, 0.47058824],\n",
       "       [1.        , 0.        ],\n",
       "       [1.        , 0.        ],\n",
       "       [0.78947368, 0.21052632],\n",
       "       [0.52307692, 0.47692308],\n",
       "       [0.7037037 , 0.2962963 ],\n",
       "       [1.        , 0.        ],\n",
       "       [0.6       , 0.4       ],\n",
       "       [1.        , 0.        ],\n",
       "       [0.7037037 , 0.2962963 ],\n",
       "       [0.52307692, 0.47692308],\n",
       "       [0.36231884, 0.63768116],\n",
       "       [0.94366197, 0.05633803],\n",
       "       [1.        , 0.        ],\n",
       "       [0.76363636, 0.23636364],\n",
       "       [0.36231884, 0.63768116],\n",
       "       [0.        , 1.        ],\n",
       "       [1.        , 0.        ],\n",
       "       [0.36231884, 0.63768116],\n",
       "       [1.        , 0.        ],\n",
       "       [0.36231884, 0.63768116],\n",
       "       [0.36231884, 0.63768116],\n",
       "       [1.        , 0.        ],\n",
       "       [0.94366197, 0.05633803],\n",
       "       [1.        , 0.        ],\n",
       "       [0.36231884, 0.63768116],\n",
       "       [0.76363636, 0.23636364],\n",
       "       [0.7037037 , 0.2962963 ],\n",
       "       [0.94366197, 0.05633803],\n",
       "       [0.52307692, 0.47692308],\n",
       "       [0.        , 1.        ],\n",
       "       [1.        , 0.        ]])"
      ]
     },
     "execution_count": 131,
     "metadata": {},
     "output_type": "execute_result"
    }
   ],
   "source": [
    "ytest_predict_prob=reg_dt_model.predict_proba(X_test)\n",
    "ytest_predict_prob"
   ]
  },
  {
   "cell_type": "code",
   "execution_count": 132,
   "id": "8e1a27ce",
   "metadata": {},
   "outputs": [
    {
     "data": {
      "text/html": [
       "<div>\n",
       "<style scoped>\n",
       "    .dataframe tbody tr th:only-of-type {\n",
       "        vertical-align: middle;\n",
       "    }\n",
       "\n",
       "    .dataframe tbody tr th {\n",
       "        vertical-align: top;\n",
       "    }\n",
       "\n",
       "    .dataframe thead th {\n",
       "        text-align: right;\n",
       "    }\n",
       "</style>\n",
       "<table border=\"1\" class=\"dataframe\">\n",
       "  <thead>\n",
       "    <tr style=\"text-align: right;\">\n",
       "      <th></th>\n",
       "      <th>0</th>\n",
       "      <th>1</th>\n",
       "    </tr>\n",
       "  </thead>\n",
       "  <tbody>\n",
       "    <tr>\n",
       "      <th>0</th>\n",
       "      <td>0.842105</td>\n",
       "      <td>0.157895</td>\n",
       "    </tr>\n",
       "    <tr>\n",
       "      <th>1</th>\n",
       "      <td>0.943662</td>\n",
       "      <td>0.056338</td>\n",
       "    </tr>\n",
       "    <tr>\n",
       "      <th>2</th>\n",
       "      <td>1.000000</td>\n",
       "      <td>0.000000</td>\n",
       "    </tr>\n",
       "    <tr>\n",
       "      <th>3</th>\n",
       "      <td>1.000000</td>\n",
       "      <td>0.000000</td>\n",
       "    </tr>\n",
       "    <tr>\n",
       "      <th>4</th>\n",
       "      <td>0.703704</td>\n",
       "      <td>0.296296</td>\n",
       "    </tr>\n",
       "  </tbody>\n",
       "</table>\n",
       "</div>"
      ],
      "text/plain": [
       "          0         1\n",
       "0  0.842105  0.157895\n",
       "1  0.943662  0.056338\n",
       "2  1.000000  0.000000\n",
       "3  1.000000  0.000000\n",
       "4  0.703704  0.296296"
      ]
     },
     "execution_count": 132,
     "metadata": {},
     "output_type": "execute_result"
    }
   ],
   "source": [
    "pd.DataFrame(ytest_predict_prob).head()"
   ]
  },
  {
   "cell_type": "code",
   "execution_count": 133,
   "id": "498849bf",
   "metadata": {},
   "outputs": [
    {
     "name": "stdout",
     "output_type": "stream",
     "text": [
      "AUC: 0.886\n"
     ]
    },
    {
     "data": {
      "image/png": "[encoded data removed]",
      "text/plain": [
       "<Figure size 432x288 with 1 Axes>"
      ]
     },
     "metadata": {
      "needs_background": "light"
     },
     "output_type": "display_data"
    }
   ],
   "source": [
    "# predict probabilities\n",
    "probs = reg_dt_model.predict_proba(X_train)\n",
    "# keep probabilities for the positive outcome only\n",
    "probs = probs[:, 1]\n",
    "# calculate AUC\n",
    "from sklearn.metrics import roc_auc_score\n",
    "auc = roc_auc_score(y_train, probs)\n",
    "print('AUC: %.3f' % auc)\n",
    "# calculate roc curve\n",
    "from sklearn.metrics import roc_curve\n",
    "fpr, tpr, thresholds = roc_curve(y_train, probs)\n",
    "plt.plot([0, 1], [0, 1], linestyle='--')\n",
    "# plot the roc curve for the model\n",
    "plt.plot(fpr, tpr, marker='.')\n",
    "# show the plot\n",
    "plt.show()"
   ]
  },
  {
   "cell_type": "code",
   "execution_count": 134,
   "id": "8784490b",
   "metadata": {},
   "outputs": [
    {
     "name": "stdout",
     "output_type": "stream",
     "text": [
      "AUC: 0.881\n"
     ]
    },
    {
     "data": {
      "image/png": "[encoded data removed]",
      "text/plain": [
       "<Figure size 432x288 with 1 Axes>"
      ]
     },
     "metadata": {
      "needs_background": "light"
     },
     "output_type": "display_data"
    }
   ],
   "source": [
    "# predict probabilities\n",
    "probs = reg_dt_model.predict_proba(X_test)\n",
    "# keep probabilities for the positive outcome only\n",
    "probs = probs[:, 1]\n",
    "# calculate AUC\n",
    "from sklearn.metrics import roc_auc_score\n",
    "auc = roc_auc_score(y_test, probs)\n",
    "print('AUC: %.3f' % auc)\n",
    "# calculate roc curve\n",
    "from sklearn.metrics import roc_curve\n",
    "fpr, tpr, thresholds = roc_curve(y_test, probs)\n",
    "plt.plot([0, 1], [0, 1], linestyle='--')\n",
    "# plot the roc curve for the model\n",
    "plt.plot(fpr, tpr, marker='.')\n",
    "# show the plot\n",
    "plt.show()"
   ]
  },
  {
   "cell_type": "code",
   "execution_count": 135,
   "id": "1d2c6d46",
   "metadata": {},
   "outputs": [],
   "source": [
    "from sklearn.metrics import classification_report,confusion_matrix"
   ]
  },
  {
   "cell_type": "code",
   "execution_count": 136,
   "id": "a569c8a3",
   "metadata": {},
   "outputs": [
    {
     "data": {
      "text/plain": [
       "array([[565,  29],\n",
       "       [107,  74]], dtype=int64)"
      ]
     },
     "execution_count": 136,
     "metadata": {},
     "output_type": "execute_result"
    }
   ],
   "source": [
    "confusion_matrix(y_train, ytrain_predict)"
   ]
  },
  {
   "cell_type": "code",
   "execution_count": 137,
   "id": "4ce18741",
   "metadata": {},
   "outputs": [
    {
     "data": {
      "text/plain": [
       "0.824516129032258"
      ]
     },
     "execution_count": 137,
     "metadata": {},
     "output_type": "execute_result"
    }
   ],
   "source": [
    "#Train Data Accuracy\n",
    "reg_dt_model.score(X_train,y_train)"
   ]
  },
  {
   "cell_type": "code",
   "execution_count": 138,
   "id": "fcc64cd2",
   "metadata": {},
   "outputs": [
    {
     "name": "stdout",
     "output_type": "stream",
     "text": [
      "              precision    recall  f1-score   support\n",
      "\n",
      "           0       0.84      0.95      0.89       594\n",
      "           1       0.72      0.41      0.52       181\n",
      "\n",
      "    accuracy                           0.82       775\n",
      "   macro avg       0.78      0.68      0.71       775\n",
      "weighted avg       0.81      0.82      0.81       775\n",
      "\n"
     ]
    }
   ],
   "source": [
    "print(classification_report(y_train, ytrain_predict))"
   ]
  },
  {
   "cell_type": "code",
   "execution_count": 139,
   "id": "26108036",
   "metadata": {},
   "outputs": [
    {
     "data": {
      "text/plain": [
       "array([[223,  15],\n",
       "       [ 49,  46]], dtype=int64)"
      ]
     },
     "execution_count": 139,
     "metadata": {},
     "output_type": "execute_result"
    }
   ],
   "source": [
    "confusion_matrix(y_test, ytest_predict)"
   ]
  },
  {
   "cell_type": "code",
   "execution_count": 140,
   "id": "18ef307e",
   "metadata": {},
   "outputs": [
    {
     "data": {
      "text/plain": [
       "0.8078078078078078"
      ]
     },
     "execution_count": 140,
     "metadata": {},
     "output_type": "execute_result"
    }
   ],
   "source": [
    "#Test Data Accuracy\n",
    "reg_dt_model.score(X_test,y_test)"
   ]
  },
  {
   "cell_type": "code",
   "execution_count": 141,
   "id": "9fdbe041",
   "metadata": {},
   "outputs": [
    {
     "name": "stdout",
     "output_type": "stream",
     "text": [
      "              precision    recall  f1-score   support\n",
      "\n",
      "           0       0.82      0.94      0.87       238\n",
      "           1       0.75      0.48      0.59        95\n",
      "\n",
      "    accuracy                           0.81       333\n",
      "   macro avg       0.79      0.71      0.73       333\n",
      "weighted avg       0.80      0.81      0.79       333\n",
      "\n"
     ]
    }
   ],
   "source": [
    "print(classification_report(y_test, ytest_predict))"
   ]
  },
  {
   "cell_type": "markdown",
   "id": "e8a5bd6c",
   "metadata": {},
   "source": [
    "--------------------------------------------------------------------------------------------------------------------------------------"
   ]
  },
  {
   "cell_type": "markdown",
   "id": "2ea5f220",
   "metadata": {},
   "source": [
    "LOGISTIC REGRESSION"
   ]
  },
  {
   "cell_type": "code",
   "execution_count": 142,
   "id": "933fafef",
   "metadata": {},
   "outputs": [],
   "source": [
    "from sklearn.linear_model import LogisticRegression"
   ]
  },
  {
   "cell_type": "code",
   "execution_count": 143,
   "id": "6bac62b7",
   "metadata": {},
   "outputs": [
    {
     "data": {
      "text/plain": [
       "LogisticRegression()"
      ]
     },
     "execution_count": 143,
     "metadata": {},
     "output_type": "execute_result"
    }
   ],
   "source": [
    "log_model = LogisticRegression()\n",
    "log_model.fit(X_train, y_train)"
   ]
  },
  {
   "cell_type": "code",
   "execution_count": 144,
   "id": "6814d526",
   "metadata": {},
   "outputs": [],
   "source": [
    "log_train_predict = log_model.predict(X_train)\n",
    "log_test_predict = log_model.predict(X_test)"
   ]
  },
  {
   "cell_type": "code",
   "execution_count": 145,
   "id": "a474bc00",
   "metadata": {},
   "outputs": [
    {
     "data": {
      "text/plain": [
       "0.8"
      ]
     },
     "execution_count": 145,
     "metadata": {},
     "output_type": "execute_result"
    }
   ],
   "source": [
    "log_model.score(X_train,y_train)"
   ]
  },
  {
   "cell_type": "code",
   "execution_count": 146,
   "id": "07955ab7",
   "metadata": {},
   "outputs": [
    {
     "data": {
      "text/plain": [
       "0.7447447447447447"
      ]
     },
     "execution_count": 146,
     "metadata": {},
     "output_type": "execute_result"
    }
   ],
   "source": [
    "log_model.score(X_test,y_test)"
   ]
  },
  {
   "cell_type": "code",
   "execution_count": 147,
   "id": "ceb57638",
   "metadata": {},
   "outputs": [
    {
     "data": {
      "image/png": "[encoded data removed]",
      "text/plain": [
       "<Figure size 432x288 with 2 Axes>"
      ]
     },
     "metadata": {
      "needs_background": "light"
     },
     "output_type": "display_data"
    }
   ],
   "source": [
    "#Confusion Matrix for Train set\n",
    "confusion_matrix(y_train,log_train_predict)\n",
    "sns.heatmap(confusion_matrix(y_train,log_train_predict),annot = True,cbar = True,fmt = 'd',)\n",
    "plt.xlabel('Predicted Label')\n",
    "plt.ylabel('Actual Label')\n",
    "plt.title('Confusion Matrix for Trainset')\n",
    "plt.show()"
   ]
  },
  {
   "cell_type": "code",
   "execution_count": 148,
   "id": "71d586cf",
   "metadata": {},
   "outputs": [
    {
     "name": "stdout",
     "output_type": "stream",
     "text": [
      "              precision    recall  f1-score   support\n",
      "\n",
      "           0       0.81      0.96      0.88       594\n",
      "           1       0.69      0.26      0.38       181\n",
      "\n",
      "    accuracy                           0.80       775\n",
      "   macro avg       0.75      0.61      0.63       775\n",
      "weighted avg       0.78      0.80      0.76       775\n",
      "\n"
     ]
    }
   ],
   "source": [
    "print(classification_report(y_train,log_train_predict)) "
   ]
  },
  {
   "cell_type": "code",
   "execution_count": 149,
   "id": "48c70028",
   "metadata": {},
   "outputs": [
    {
     "data": {
      "image/png": "[encoded data removed]",
      "text/plain": [
       "<Figure size 864x504 with 1 Axes>"
      ]
     },
     "metadata": {
      "needs_background": "light"
     },
     "output_type": "display_data"
    },
    {
     "name": "stdout",
     "output_type": "stream",
     "text": [
      "Area under Curve is 1.0\n"
     ]
    }
   ],
   "source": [
    "from sklearn.metrics import roc_curve,roc_auc_score\n",
    "rf_fpr,rf_tpr,_ = roc_curve(log_train_predict,log_model.predict_proba(X_train)[:,1])\n",
    "plt.figure(figsize = (12,7))\n",
    "plt.plot(rf_fpr,rf_tpr,marker = 'x',label = 'logit')\n",
    "plt.plot(np.arange(0,1.1,0.1),np.arange(0,1.1,0.1))# can directly give plt.plot([0,1],[0,1])\n",
    "plt.xlabel('False Positive Rate')\n",
    "plt.ylabel('True Positive Rate')\n",
    "plt.title('ROC')\n",
    "plt.show()\n",
    "\n",
    "print('Area under Curve is', roc_auc_score(log_train_predict,log_model.predict_proba(X_train)[:,1]))"
   ]
  },
  {
   "cell_type": "code",
   "execution_count": 150,
   "id": "29d20287",
   "metadata": {},
   "outputs": [
    {
     "data": {
      "image/png": "[encoded data removed]",
      "text/plain": [
       "<Figure size 432x288 with 2 Axes>"
      ]
     },
     "metadata": {
      "needs_background": "light"
     },
     "output_type": "display_data"
    }
   ],
   "source": [
    "#Confusion Matrix for Train set\n",
    "confusion_matrix(y_test,log_test_predict)\n",
    "sns.heatmap(confusion_matrix(y_test,log_test_predict),annot = True,cbar = True,fmt = 'd',)\n",
    "plt.xlabel('Predicted Label')\n",
    "plt.ylabel('Actual Label')\n",
    "plt.title('Confusion Matrix for Testset')\n",
    "plt.show()"
   ]
  },
  {
   "cell_type": "code",
   "execution_count": 151,
   "id": "3d485849",
   "metadata": {},
   "outputs": [
    {
     "name": "stdout",
     "output_type": "stream",
     "text": [
      "              precision    recall  f1-score   support\n",
      "\n",
      "           0       0.76      0.94      0.84       238\n",
      "           1       0.62      0.26      0.37        95\n",
      "\n",
      "    accuracy                           0.74       333\n",
      "   macro avg       0.69      0.60      0.61       333\n",
      "weighted avg       0.72      0.74      0.71       333\n",
      "\n"
     ]
    }
   ],
   "source": [
    "print(classification_report(y_test,log_test_predict)) "
   ]
  },
  {
   "cell_type": "code",
   "execution_count": 152,
   "id": "71369e5f",
   "metadata": {},
   "outputs": [
    {
     "data": {
      "image/png": "[encoded data removed]",
      "text/plain": [
       "<Figure size 864x504 with 1 Axes>"
      ]
     },
     "metadata": {
      "needs_background": "light"
     },
     "output_type": "display_data"
    },
    {
     "name": "stdout",
     "output_type": "stream",
     "text": [
      "Area under Curve is 1.0\n"
     ]
    }
   ],
   "source": [
    "from sklearn.metrics import roc_curve,roc_auc_score\n",
    "rf_fpr,rf_tpr,_ = roc_curve(log_test_predict,log_model.predict_proba(X_test)[:,1])\n",
    "plt.figure(figsize = (12,7))\n",
    "plt.plot(rf_fpr,rf_tpr,marker = 'x',label = 'logit')\n",
    "plt.plot(np.arange(0,1.1,0.1),np.arange(0,1.1,0.1))# can directly give plt.plot([0,1],[0,1])\n",
    "plt.xlabel('False Positive Rate')\n",
    "plt.ylabel('True Positive Rate')\n",
    "plt.title('ROC')\n",
    "plt.show()\n",
    "\n",
    "print('Area under Curve is', roc_auc_score(log_test_predict,log_model.predict_proba(X_test)[:,1]))"
   ]
  },
  {
   "cell_type": "code",
   "execution_count": 153,
   "id": "30de82df",
   "metadata": {},
   "outputs": [],
   "source": [
    "grid_log={'penalty':['none', 'l1', 'l2', 'elasticnet'],\n",
    "      'solver':['sag','lbfgs','newtoncg','lbfgs', 'liblinear', 'saga'],\n",
    "      'tol':[0.0001,0.00001]}"
   ]
  },
  {
   "cell_type": "code",
   "execution_count": 154,
   "id": "94df0b0e",
   "metadata": {},
   "outputs": [],
   "source": [
    "grid_search1 = GridSearchCV(estimator = log_model, param_grid = grid_log, cv = 3,n_jobs=-1,scoring='f1')"
   ]
  },
  {
   "cell_type": "code",
   "execution_count": 155,
   "id": "72d46415",
   "metadata": {},
   "outputs": [
    {
     "data": {
      "text/plain": [
       "GridSearchCV(cv=3, estimator=LogisticRegression(), n_jobs=-1,\n",
       "             param_grid={'penalty': ['none', 'l1', 'l2', 'elasticnet'],\n",
       "                         'solver': ['sag', 'lbfgs', 'newtoncg', 'lbfgs',\n",
       "                                    'liblinear', 'saga'],\n",
       "                         'tol': [0.0001, 1e-05]},\n",
       "             scoring='f1')"
      ]
     },
     "execution_count": 155,
     "metadata": {},
     "output_type": "execute_result"
    }
   ],
   "source": [
    "grid_search1.fit(X_train, y_train)"
   ]
  },
  {
   "cell_type": "code",
   "execution_count": 156,
   "id": "20fc844a",
   "metadata": {},
   "outputs": [
    {
     "name": "stdout",
     "output_type": "stream",
     "text": [
      "{'penalty': 'l2', 'solver': 'liblinear', 'tol': 1e-05} \n",
      "\n",
      "LogisticRegression(solver='liblinear', tol=1e-05)\n"
     ]
    }
   ],
   "source": [
    "print(grid_search1.best_params_,'\\n')\n",
    "print(grid_search1.best_estimator_)"
   ]
  },
  {
   "cell_type": "code",
   "execution_count": 157,
   "id": "278f4748",
   "metadata": {},
   "outputs": [],
   "source": [
    "best_model1 = grid_search1.best_estimator_"
   ]
  },
  {
   "cell_type": "code",
   "execution_count": 158,
   "id": "32ea5bc3",
   "metadata": {},
   "outputs": [],
   "source": [
    "# Prediction on the training set\n",
    "\n",
    "log_train_predict = best_model1.predict(X_train)\n",
    "log_test_predict = best_model1.predict(X_test)"
   ]
  },
  {
   "cell_type": "code",
   "execution_count": 159,
   "id": "2490337c",
   "metadata": {},
   "outputs": [
    {
     "data": {
      "image/png": "[encoded data removed]",
      "text/plain": [
       "<Figure size 432x288 with 2 Axes>"
      ]
     },
     "metadata": {
      "needs_background": "light"
     },
     "output_type": "display_data"
    }
   ],
   "source": [
    "#Confusion Matrix for Train set\n",
    "confusion_matrix(y_train,log_train_predict)\n",
    "sns.heatmap(confusion_matrix(y_train,log_train_predict),annot = True,cbar = True,fmt = 'd',)\n",
    "plt.xlabel('Predicted Label')\n",
    "plt.ylabel('Actual Label')\n",
    "plt.title('Confusion Matrix for Trainset')\n",
    "plt.show()"
   ]
  },
  {
   "cell_type": "code",
   "execution_count": 160,
   "id": "5ed4c0cf",
   "metadata": {},
   "outputs": [
    {
     "name": "stdout",
     "output_type": "stream",
     "text": [
      "              precision    recall  f1-score   support\n",
      "\n",
      "           0       0.84      0.96      0.90       594\n",
      "           1       0.75      0.41      0.53       181\n",
      "\n",
      "    accuracy                           0.83       775\n",
      "   macro avg       0.80      0.69      0.72       775\n",
      "weighted avg       0.82      0.83      0.81       775\n",
      "\n"
     ]
    }
   ],
   "source": [
    "print(classification_report(y_train,log_train_predict)) "
   ]
  },
  {
   "cell_type": "code",
   "execution_count": 161,
   "id": "261a451a",
   "metadata": {},
   "outputs": [
    {
     "data": {
      "image/png": "[encoded data removed]",
      "text/plain": [
       "<Figure size 864x504 with 1 Axes>"
      ]
     },
     "metadata": {
      "needs_background": "light"
     },
     "output_type": "display_data"
    },
    {
     "name": "stdout",
     "output_type": "stream",
     "text": [
      "Area under Curve is 1.0\n"
     ]
    }
   ],
   "source": [
    "from sklearn.metrics import roc_curve,roc_auc_score\n",
    "rf_fpr,rf_tpr,_ = roc_curve(log_train_predict,best_model1.predict_proba(X_train)[:,1])\n",
    "plt.figure(figsize = (12,7))\n",
    "plt.plot(rf_fpr,rf_tpr,marker = 'x',label = 'logit')\n",
    "plt.plot(np.arange(0,1.1,0.1),np.arange(0,1.1,0.1))# can directly give plt.plot([0,1],[0,1])\n",
    "plt.xlabel('False Positive Rate')\n",
    "plt.ylabel('True Positive Rate')\n",
    "plt.title('ROC')\n",
    "plt.show()\n",
    "\n",
    "print('Area under Curve is', roc_auc_score(log_train_predict,best_model1.predict_proba(X_train)[:,1]))"
   ]
  },
  {
   "cell_type": "code",
   "execution_count": 162,
   "id": "ee02d2b1",
   "metadata": {},
   "outputs": [
    {
     "data": {
      "image/png": "[encoded data removed]",
      "text/plain": [
       "<Figure size 432x288 with 2 Axes>"
      ]
     },
     "metadata": {
      "needs_background": "light"
     },
     "output_type": "display_data"
    }
   ],
   "source": [
    "#Confusion Matrix for Test set\n",
    "confusion_matrix(y_test,log_test_predict)\n",
    "sns.heatmap(confusion_matrix(y_test,log_test_predict),annot = True,cbar = True,fmt = 'd',)\n",
    "plt.xlabel('Predicted Label')\n",
    "plt.ylabel('Actual Label')\n",
    "plt.title('Confusion Matrix for Testset')\n",
    "plt.show()\n"
   ]
  },
  {
   "cell_type": "code",
   "execution_count": 163,
   "id": "966f8735",
   "metadata": {},
   "outputs": [
    {
     "name": "stdout",
     "output_type": "stream",
     "text": [
      "              precision    recall  f1-score   support\n",
      "\n",
      "           0       0.81      0.95      0.87       238\n",
      "           1       0.76      0.43      0.55        95\n",
      "\n",
      "    accuracy                           0.80       333\n",
      "   macro avg       0.78      0.69      0.71       333\n",
      "weighted avg       0.79      0.80      0.78       333\n",
      "\n"
     ]
    }
   ],
   "source": [
    "print(classification_report(y_test,log_test_predict)) "
   ]
  },
  {
   "cell_type": "code",
   "execution_count": 164,
   "id": "aee51fa4",
   "metadata": {},
   "outputs": [
    {
     "data": {
      "image/png": "[encoded data removed]",
      "text/plain": [
       "<Figure size 864x504 with 1 Axes>"
      ]
     },
     "metadata": {
      "needs_background": "light"
     },
     "output_type": "display_data"
    },
    {
     "name": "stdout",
     "output_type": "stream",
     "text": [
      "Area under Curve is 0.854042214257268\n"
     ]
    }
   ],
   "source": [
    "from sklearn.metrics import roc_curve,roc_auc_score\n",
    "rf_fpr,rf_tpr,_ = roc_curve(log_test_predict,log_model.predict_proba(X_test)[:,1])\n",
    "plt.figure(figsize = (12,7))\n",
    "plt.plot(rf_fpr,rf_tpr,marker = 'x',label = 'logit')\n",
    "plt.plot(np.arange(0,1.1,0.1),np.arange(0,1.1,0.1))# can directly give plt.plot([0,1],[0,1])\n",
    "plt.xlabel('False Positive Rate')\n",
    "plt.ylabel('True Positive Rate')\n",
    "plt.title('ROC')\n",
    "plt.show()\n",
    "\n",
    "print('Area under Curve is', roc_auc_score(log_test_predict,log_model.predict_proba(X_test)[:,1]))"
   ]
  },
  {
   "cell_type": "code",
   "execution_count": 165,
   "id": "01551b90",
   "metadata": {},
   "outputs": [
    {
     "name": "stdout",
     "output_type": "stream",
     "text": [
      "Feature: 0, Score: -0.00350\n",
      "Feature: 1, Score: 0.00664\n",
      "Feature: 2, Score: -0.00002\n",
      "Feature: 3, Score: 0.05254\n",
      "Feature: 4, Score: 0.00769\n",
      "Feature: 5, Score: -0.13376\n",
      "Feature: 6, Score: 0.01481\n",
      "Feature: 7, Score: -0.00014\n",
      "Feature: 8, Score: 0.20998\n",
      "Feature: 9, Score: 1.42677\n",
      "Feature: 10, Score: 0.02031\n",
      "Feature: 11, Score: -0.13256\n",
      "Feature: 12, Score: -0.30616\n",
      "Feature: 13, Score: -0.36956\n",
      "Feature: 14, Score: -0.07825\n"
     ]
    },
    {
     "data": {
      "image/png": "[encoded data removed]",
      "text/plain": [
       "<Figure size 432x288 with 1 Axes>"
      ]
     },
     "metadata": {
      "needs_background": "light"
     },
     "output_type": "display_data"
    }
   ],
   "source": [
    "# get importance\n",
    "importance = best_model1.coef_[0]\n",
    "# summarize feature importance\n",
    "for i,v in enumerate(importance):\n",
    "    print('Feature: %0d, Score: %.5f' % (i,v))\n",
    "# plot feature importance\n",
    "plt.bar([x for x in range(len(importance))], importance)\n",
    "plt.show()"
   ]
  },
  {
   "cell_type": "markdown",
   "id": "6e230b9c",
   "metadata": {},
   "source": [
    "------------------------------------------------------------------------------------------------------------------------------------------------------------"
   ]
  },
  {
   "cell_type": "markdown",
   "id": "ec49a7fd",
   "metadata": {},
   "source": [
    "LINEAR DISCRIMINANT ANALYSIS"
   ]
  },
  {
   "cell_type": "code",
   "execution_count": 167,
   "id": "43f7346d",
   "metadata": {},
   "outputs": [
    {
     "data": {
      "text/plain": [
       "LinearDiscriminantAnalysis()"
      ]
     },
     "execution_count": 167,
     "metadata": {},
     "output_type": "execute_result"
    }
   ],
   "source": [
    "LDA = LinearDiscriminantAnalysis()\n",
    "lda_model=LDA.fit(X_train, y_train)\n",
    "lda_model"
   ]
  },
  {
   "cell_type": "code",
   "execution_count": 168,
   "id": "731616da",
   "metadata": {},
   "outputs": [],
   "source": [
    " lda_train_predict = lda_model.predict(X_train)\n",
    "lda_test_predict = lda_model.predict(X_test)"
   ]
  },
  {
   "cell_type": "code",
   "execution_count": 169,
   "id": "dd6d25c0",
   "metadata": {},
   "outputs": [
    {
     "data": {
      "text/plain": [
       "0.8193548387096774"
      ]
     },
     "execution_count": 169,
     "metadata": {},
     "output_type": "execute_result"
    }
   ],
   "source": [
    "lda_model.score(X_train,y_train)"
   ]
  },
  {
   "cell_type": "code",
   "execution_count": 170,
   "id": "edc7a110",
   "metadata": {},
   "outputs": [
    {
     "data": {
      "text/plain": [
       "0.8078078078078078"
      ]
     },
     "execution_count": 170,
     "metadata": {},
     "output_type": "execute_result"
    }
   ],
   "source": [
    "lda_model.score(X_test,y_test)"
   ]
  },
  {
   "cell_type": "code",
   "execution_count": 171,
   "id": "3d4a0436",
   "metadata": {},
   "outputs": [
    {
     "data": {
      "image/png": "[encoded data removed]",
      "text/plain": [
       "<Figure size 432x288 with 2 Axes>"
      ]
     },
     "metadata": {
      "needs_background": "light"
     },
     "output_type": "display_data"
    }
   ],
   "source": [
    "#Confusion Matrix for Train set\n",
    "confusion_matrix(y_train,lda_train_predict)\n",
    "sns.heatmap(confusion_matrix(y_train,lda_train_predict),annot = True,cbar = True,fmt = 'd',)\n",
    "plt.xlabel('Predicted Label')\n",
    "plt.ylabel('Actual Label')\n",
    "plt.title('Confusion Matrix for Trainset')\n",
    "plt.show()"
   ]
  },
  {
   "cell_type": "code",
   "execution_count": 172,
   "id": "52b100be",
   "metadata": {},
   "outputs": [
    {
     "name": "stdout",
     "output_type": "stream",
     "text": [
      "              precision    recall  f1-score   support\n",
      "\n",
      "           0       0.84      0.95      0.89       594\n",
      "           1       0.70      0.39      0.50       181\n",
      "\n",
      "    accuracy                           0.82       775\n",
      "   macro avg       0.77      0.67      0.70       775\n",
      "weighted avg       0.81      0.82      0.80       775\n",
      "\n"
     ]
    }
   ],
   "source": [
    "print(classification_report(y_train,lda_train_predict)) "
   ]
  },
  {
   "cell_type": "code",
   "execution_count": 173,
   "id": "182a4cf1",
   "metadata": {},
   "outputs": [
    {
     "data": {
      "image/png": "[encoded data removed]",
      "text/plain": [
       "<Figure size 864x504 with 1 Axes>"
      ]
     },
     "metadata": {
      "needs_background": "light"
     },
     "output_type": "display_data"
    },
    {
     "name": "stdout",
     "output_type": "stream",
     "text": [
      "Area under Curve is 0.8056160127983332\n"
     ]
    }
   ],
   "source": [
    "from sklearn.metrics import roc_curve,roc_auc_score\n",
    "rf_fpr,rf_tpr,_ = roc_curve(y_train,lda_model.predict_proba(X_train)[:,1])\n",
    "plt.figure(figsize = (12,7))\n",
    "plt.plot(rf_fpr,rf_tpr,marker = 'x',label = 'LDA')\n",
    "plt.plot(np.arange(0,1.1,0.1),np.arange(0,1.1,0.1))# can directly give plt.plot([0,1],[0,1])\n",
    "plt.xlabel('False Positive Rate')\n",
    "plt.ylabel('True Positive Rate')\n",
    "plt.title('ROC')\n",
    "plt.show()\n",
    "\n",
    "print('Area under Curve is', roc_auc_score(y_train,lda_model.predict_proba(X_train)[:,1]))"
   ]
  },
  {
   "cell_type": "code",
   "execution_count": 174,
   "id": "483009e5",
   "metadata": {},
   "outputs": [
    {
     "data": {
      "image/png": "[encoded data removed]",
      "text/plain": [
       "<Figure size 432x288 with 2 Axes>"
      ]
     },
     "metadata": {
      "needs_background": "light"
     },
     "output_type": "display_data"
    }
   ],
   "source": [
    "#Confusion Matrix for Test set\n",
    "confusion_matrix(y_test,lda_test_predict)\n",
    "sns.heatmap(confusion_matrix(y_test,lda_test_predict),annot = True,cbar = True,fmt = 'd',)\n",
    "plt.xlabel('Predicted Label')\n",
    "plt.ylabel('Actual Label')\n",
    "plt.title('Confusion Matrix for Testset')\n",
    "plt.show()"
   ]
  },
  {
   "cell_type": "code",
   "execution_count": 175,
   "id": "4513454b",
   "metadata": {},
   "outputs": [
    {
     "name": "stdout",
     "output_type": "stream",
     "text": [
      "              precision    recall  f1-score   support\n",
      "\n",
      "           0       0.81      0.96      0.88       238\n",
      "           1       0.80      0.43      0.56        95\n",
      "\n",
      "    accuracy                           0.81       333\n",
      "   macro avg       0.81      0.69      0.72       333\n",
      "weighted avg       0.81      0.81      0.79       333\n",
      "\n"
     ]
    }
   ],
   "source": [
    "print(classification_report(y_test,lda_test_predict)) "
   ]
  },
  {
   "cell_type": "code",
   "execution_count": 176,
   "id": "a0c4ca51",
   "metadata": {},
   "outputs": [
    {
     "data": {
      "image/png": "[encoded data removed]",
      "text/plain": [
       "<Figure size 864x504 with 1 Axes>"
      ]
     },
     "metadata": {
      "needs_background": "light"
     },
     "output_type": "display_data"
    },
    {
     "name": "stdout",
     "output_type": "stream",
     "text": [
      "Area under Curve is 0.8405130473241929\n"
     ]
    }
   ],
   "source": [
    "from sklearn.metrics import roc_curve,roc_auc_score\n",
    "rf_fpr,rf_tpr,_ = roc_curve(y_test,lda_model.predict_proba(X_test)[:,1])\n",
    "plt.figure(figsize = (12,7))\n",
    "plt.plot(rf_fpr,rf_tpr,marker = 'x',label = 'LDA')\n",
    "plt.plot(np.arange(0,1.1,0.1),np.arange(0,1.1,0.1))# can directly give plt.plot([0,1],[0,1])\n",
    "plt.xlabel('False Positive Rate')\n",
    "plt.ylabel('True Positive Rate')\n",
    "plt.title('ROC')\n",
    "plt.show()\n",
    "\n",
    "print('Area under Curve is', roc_auc_score(y_test,lda_model.predict_proba(X_test)[:,1]))"
   ]
  },
  {
   "cell_type": "code",
   "execution_count": 177,
   "id": "973c888a",
   "metadata": {},
   "outputs": [],
   "source": [
    "grid_lda={ 'solver':['svd', 'lsqr', 'eigen'],\n",
    "          'shrinkage':['auto', 'float','none'],\n",
    "          'tol':[0.001,0.0001,0.00001]}"
   ]
  },
  {
   "cell_type": "code",
   "execution_count": 178,
   "id": "8e41c633",
   "metadata": {},
   "outputs": [],
   "source": [
    "grid_search2 = GridSearchCV(estimator = lda_model, param_grid = grid_lda, cv = 3,n_jobs=-1,scoring='f1')"
   ]
  },
  {
   "cell_type": "code",
   "execution_count": 179,
   "id": "ce4deb6d",
   "metadata": {},
   "outputs": [
    {
     "data": {
      "text/plain": [
       "GridSearchCV(cv=3, estimator=LinearDiscriminantAnalysis(), n_jobs=-1,\n",
       "             param_grid={'shrinkage': ['auto', 'float', 'none'],\n",
       "                         'solver': ['svd', 'lsqr', 'eigen'],\n",
       "                         'tol': [0.001, 0.0001, 1e-05]},\n",
       "             scoring='f1')"
      ]
     },
     "execution_count": 179,
     "metadata": {},
     "output_type": "execute_result"
    }
   ],
   "source": [
    "grid_search2.fit(X_train, y_train)"
   ]
  },
  {
   "cell_type": "code",
   "execution_count": 180,
   "id": "f3082f77",
   "metadata": {},
   "outputs": [
    {
     "data": {
      "text/plain": [
       "0.8078078078078078"
      ]
     },
     "execution_count": 180,
     "metadata": {},
     "output_type": "execute_result"
    }
   ],
   "source": [
    "lda_model.score(X_test,y_test)"
   ]
  },
  {
   "cell_type": "code",
   "execution_count": 181,
   "id": "41d78267",
   "metadata": {},
   "outputs": [
    {
     "name": "stdout",
     "output_type": "stream",
     "text": [
      "{'shrinkage': 'auto', 'solver': 'lsqr', 'tol': 0.001} \n",
      "\n",
      "LinearDiscriminantAnalysis(shrinkage='auto', solver='lsqr', tol=0.001)\n"
     ]
    }
   ],
   "source": [
    "print(grid_search2.best_params_,'\\n')\n",
    "print(grid_search2.best_estimator_)"
   ]
  },
  {
   "cell_type": "code",
   "execution_count": 182,
   "id": "f5c384e8",
   "metadata": {},
   "outputs": [],
   "source": [
    "best_model2 = grid_search2.best_estimator_"
   ]
  },
  {
   "cell_type": "code",
   "execution_count": 183,
   "id": "d0b6626e",
   "metadata": {},
   "outputs": [],
   "source": [
    "lda_train_predict = best_model2.predict(X_train)\n",
    "lda_test_predict = best_model2.predict(X_test)"
   ]
  },
  {
   "cell_type": "code",
   "execution_count": 184,
   "id": "d7f435c2",
   "metadata": {},
   "outputs": [
    {
     "data": {
      "image/png": "[encoded data removed]",
      "text/plain": [
       "<Figure size 432x288 with 2 Axes>"
      ]
     },
     "metadata": {
      "needs_background": "light"
     },
     "output_type": "display_data"
    }
   ],
   "source": [
    "#Confusion Matrix for Train set\n",
    "confusion_matrix(y_train,lda_train_predict)\n",
    "sns.heatmap(confusion_matrix(y_train,lda_train_predict),annot = True,cbar = True,fmt = 'd',)\n",
    "plt.xlabel('Predicted Label')\n",
    "plt.ylabel('Actual Label')\n",
    "plt.title('Confusion Matrix for Trainset')\n",
    "plt.show()"
   ]
  },
  {
   "cell_type": "code",
   "execution_count": 185,
   "id": "99c74ef5",
   "metadata": {},
   "outputs": [
    {
     "name": "stdout",
     "output_type": "stream",
     "text": [
      "              precision    recall  f1-score   support\n",
      "\n",
      "           0       0.84      0.95      0.89       594\n",
      "           1       0.72      0.39      0.51       181\n",
      "\n",
      "    accuracy                           0.82       775\n",
      "   macro avg       0.78      0.67      0.70       775\n",
      "weighted avg       0.81      0.82      0.80       775\n",
      "\n"
     ]
    }
   ],
   "source": [
    "print(classification_report(y_train,lda_train_predict)) "
   ]
  },
  {
   "cell_type": "code",
   "execution_count": 186,
   "id": "df667acb",
   "metadata": {},
   "outputs": [
    {
     "data": {
      "image/png": "[encoded data removed]",
      "text/plain": [
       "<Figure size 864x504 with 1 Axes>"
      ]
     },
     "metadata": {
      "needs_background": "light"
     },
     "output_type": "display_data"
    },
    {
     "name": "stdout",
     "output_type": "stream",
     "text": [
      "Area under Curve is 0.8054299905128633\n"
     ]
    }
   ],
   "source": [
    "from sklearn.metrics import roc_curve,roc_auc_score\n",
    "rf_fpr,rf_tpr,_ = roc_curve(y_train,best_model2.predict_proba(X_train)[:,1])\n",
    "plt.figure(figsize = (12,7))\n",
    "plt.plot(rf_fpr,rf_tpr,marker = 'x',label = 'LDA')\n",
    "plt.plot(np.arange(0,1.1,0.1),np.arange(0,1.1,0.1))# can directly give plt.plot([0,1],[0,1])\n",
    "plt.xlabel('False Positive Rate')\n",
    "plt.ylabel('True Positive Rate')\n",
    "plt.title('ROC')\n",
    "plt.show()\n",
    "\n",
    "print('Area under Curve is', roc_auc_score(y_train,best_model2.predict_proba(X_train)[:,1]))"
   ]
  },
  {
   "cell_type": "code",
   "execution_count": 187,
   "id": "cac8365c",
   "metadata": {},
   "outputs": [
    {
     "name": "stdout",
     "output_type": "stream",
     "text": [
      "              precision    recall  f1-score   support\n",
      "\n",
      "           0       0.81      0.96      0.88       238\n",
      "           1       0.80      0.43      0.56        95\n",
      "\n",
      "    accuracy                           0.81       333\n",
      "   macro avg       0.81      0.69      0.72       333\n",
      "weighted avg       0.81      0.81      0.79       333\n",
      "\n"
     ]
    }
   ],
   "source": [
    "print(classification_report(y_test,lda_test_predict)) "
   ]
  },
  {
   "cell_type": "code",
   "execution_count": 188,
   "id": "48998c3a",
   "metadata": {},
   "outputs": [
    {
     "data": {
      "image/png": "[encoded data removed]",
      "text/plain": [
       "<Figure size 864x504 with 1 Axes>"
      ]
     },
     "metadata": {
      "needs_background": "light"
     },
     "output_type": "display_data"
    },
    {
     "name": "stdout",
     "output_type": "stream",
     "text": [
      "Area under Curve is 0.8405130473241929\n"
     ]
    }
   ],
   "source": [
    "from sklearn.metrics import roc_curve,roc_auc_score\n",
    "rf_fpr,rf_tpr,_ = roc_curve(y_test,lda_model.predict_proba(X_test)[:,1])\n",
    "plt.figure(figsize = (12,7))\n",
    "plt.plot(rf_fpr,rf_tpr,marker = 'x',label = 'LDA')\n",
    "plt.plot(np.arange(0,1.1,0.1),np.arange(0,1.1,0.1))# can directly give plt.plot([0,1],[0,1])\n",
    "plt.xlabel('False Positive Rate')\n",
    "plt.ylabel('True Positive Rate')\n",
    "plt.title('ROC')\n",
    "plt.show()\n",
    "\n",
    "print('Area under Curve is', roc_auc_score(y_test,lda_model.predict_proba(X_test)[:,1]))"
   ]
  },
  {
   "cell_type": "code",
   "execution_count": 189,
   "id": "b1f72c04",
   "metadata": {},
   "outputs": [
    {
     "name": "stdout",
     "output_type": "stream",
     "text": [
      "Feature: 0, Score: -0.00432\n",
      "Feature: 1, Score: 0.00000\n",
      "Feature: 2, Score: -0.00002\n",
      "Feature: 3, Score: 0.04413\n",
      "Feature: 4, Score: -0.01860\n",
      "Feature: 5, Score: -0.11155\n",
      "Feature: 6, Score: 0.01298\n",
      "Feature: 7, Score: -0.00010\n",
      "Feature: 8, Score: 0.19016\n",
      "Feature: 9, Score: 1.70141\n",
      "Feature: 10, Score: 0.01983\n",
      "Feature: 11, Score: -0.05765\n",
      "Feature: 12, Score: -0.27455\n",
      "Feature: 13, Score: -0.39440\n",
      "Feature: 14, Score: -0.06323\n"
     ]
    },
    {
     "data": {
      "image/png": "[encoded data removed]",
      "text/plain": [
       "<Figure size 432x288 with 1 Axes>"
      ]
     },
     "metadata": {
      "needs_background": "light"
     },
     "output_type": "display_data"
    }
   ],
   "source": [
    "# get importance\n",
    "importance = best_model2.coef_[0]\n",
    "# summarize feature importance\n",
    "for i,v in enumerate(importance):\n",
    "\tprint('Feature: %0d, Score: %.5f' % (i,v))\n",
    "# plot feature importance\n",
    "plt.bar([x for x in range(len(importance))], importance)\n",
    "plt.show()"
   ]
  },
  {
   "cell_type": "markdown",
   "id": "5a74d9da",
   "metadata": {},
   "source": [
    "----------------------------------------------------------------------------------------------------------------------------------------------------------------------------------"
   ]
  },
  {
   "cell_type": "markdown",
   "id": "fd8919ef",
   "metadata": {},
   "source": [
    "RANDOM FOREST"
   ]
  },
  {
   "cell_type": "code",
   "execution_count": 190,
   "id": "e389f387",
   "metadata": {},
   "outputs": [],
   "source": [
    "from sklearn.ensemble import RandomForestClassifier\n",
    "\n",
    "RF_model=RandomForestClassifier(n_estimators=100,random_state=1)\n",
    "RF_model=RF_model.fit(X_train, y_train)"
   ]
  },
  {
   "cell_type": "code",
   "execution_count": 191,
   "id": "f93b61ca",
   "metadata": {},
   "outputs": [
    {
     "name": "stdout",
     "output_type": "stream",
     "text": [
      "1.0\n"
     ]
    }
   ],
   "source": [
    "RF_train_predict = RF_model.predict(X_train)\n",
    "model_score = RF_model.score(X_train, y_train)\n",
    "print(model_score)\n"
   ]
  },
  {
   "cell_type": "code",
   "execution_count": 192,
   "id": "51e28686",
   "metadata": {},
   "outputs": [
    {
     "name": "stdout",
     "output_type": "stream",
     "text": [
      "0.9819819819819819\n"
     ]
    }
   ],
   "source": [
    "RF_test_predict = RF_model.predict(X_test)\n",
    "model_score = RF_model.score(X_test, y_test)\n",
    "print(model_score)"
   ]
  },
  {
   "cell_type": "code",
   "execution_count": 193,
   "id": "7f20583d",
   "metadata": {},
   "outputs": [
    {
     "data": {
      "image/png": "[encoded data removed]",
      "text/plain": [
       "<Figure size 432x288 with 2 Axes>"
      ]
     },
     "metadata": {
      "needs_background": "light"
     },
     "output_type": "display_data"
    }
   ],
   "source": [
    "#Confusion Matrix for Train set\n",
    "confusion_matrix(y_train,RF_train_predict)\n",
    "sns.heatmap(confusion_matrix(y_train,RF_train_predict),annot = True,cbar = True,fmt = 'd',)\n",
    "plt.xlabel('Predicted Label')\n",
    "plt.ylabel('Actual Label')\n",
    "plt.title('Confusion Matrix for Trainset')\n",
    "plt.show()"
   ]
  },
  {
   "cell_type": "code",
   "execution_count": 194,
   "id": "9fc741a2",
   "metadata": {},
   "outputs": [
    {
     "name": "stdout",
     "output_type": "stream",
     "text": [
      "              precision    recall  f1-score   support\n",
      "\n",
      "           0       1.00      1.00      1.00       594\n",
      "           1       1.00      1.00      1.00       181\n",
      "\n",
      "    accuracy                           1.00       775\n",
      "   macro avg       1.00      1.00      1.00       775\n",
      "weighted avg       1.00      1.00      1.00       775\n",
      "\n"
     ]
    }
   ],
   "source": [
    "print(classification_report(y_train,RF_train_predict)) "
   ]
  },
  {
   "cell_type": "code",
   "execution_count": 195,
   "id": "27f521d7",
   "metadata": {},
   "outputs": [
    {
     "data": {
      "image/png": "[encoded data removed]",
      "text/plain": [
       "<Figure size 864x504 with 1 Axes>"
      ]
     },
     "metadata": {
      "needs_background": "light"
     },
     "output_type": "display_data"
    },
    {
     "name": "stdout",
     "output_type": "stream",
     "text": [
      "Area under Curve is 1.0\n"
     ]
    }
   ],
   "source": [
    "from sklearn.metrics import roc_curve,roc_auc_score\n",
    "rf_fpr,rf_tpr,_ = roc_curve(y_train,RF_model.predict_proba(X_train)[:,1])\n",
    "plt.figure(figsize = (12,7))\n",
    "plt.plot(rf_fpr,rf_tpr,marker = 'x',label = 'RF')\n",
    "plt.plot(np.arange(0,1.1,0.1),np.arange(0,1.1,0.1))# can directly give plt.plot([0,1],[0,1])\n",
    "plt.xlabel('False Positive Rate')\n",
    "plt.ylabel('True Positive Rate')\n",
    "plt.title('ROC')\n",
    "plt.show()\n",
    "\n",
    "print('Area under Curve is', roc_auc_score(y_train,RF_model.predict_proba(X_train)[:,1]))"
   ]
  },
  {
   "cell_type": "code",
   "execution_count": 196,
   "id": "c10ed6ae",
   "metadata": {},
   "outputs": [
    {
     "data": {
      "image/png": "[encoded data removed]",
      "text/plain": [
       "<Figure size 432x288 with 2 Axes>"
      ]
     },
     "metadata": {
      "needs_background": "light"
     },
     "output_type": "display_data"
    }
   ],
   "source": [
    "#Confusion Matrix for Test set\n",
    "confusion_matrix(y_test,RF_test_predict)\n",
    "sns.heatmap(confusion_matrix(y_test,RF_test_predict),annot = True,cbar = True,fmt = 'd',)\n",
    "plt.xlabel('Predicted Label')\n",
    "plt.ylabel('Actual Label')\n",
    "plt.title('Confusion Matrix for Testset')\n",
    "plt.show()"
   ]
  },
  {
   "cell_type": "code",
   "execution_count": 197,
   "id": "9b79be0a",
   "metadata": {},
   "outputs": [
    {
     "name": "stdout",
     "output_type": "stream",
     "text": [
      "              precision    recall  f1-score   support\n",
      "\n",
      "           0       0.98      1.00      0.99       238\n",
      "           1       1.00      0.94      0.97        95\n",
      "\n",
      "    accuracy                           0.98       333\n",
      "   macro avg       0.99      0.97      0.98       333\n",
      "weighted avg       0.98      0.98      0.98       333\n",
      "\n"
     ]
    }
   ],
   "source": [
    "print(classification_report(y_test,RF_test_predict)) "
   ]
  },
  {
   "cell_type": "code",
   "execution_count": 198,
   "id": "f2e17774",
   "metadata": {},
   "outputs": [
    {
     "data": {
      "image/png": "[encoded data removed]",
      "text/plain": [
       "<Figure size 864x504 with 1 Axes>"
      ]
     },
     "metadata": {
      "needs_background": "light"
     },
     "output_type": "display_data"
    },
    {
     "name": "stdout",
     "output_type": "stream",
     "text": [
      "Area under Curve is 1.0\n"
     ]
    }
   ],
   "source": [
    "from sklearn.metrics import roc_curve,roc_auc_score\n",
    "rf_fpr,rf_tpr,_ = roc_curve(y_test,RF_model.predict_proba(X_test)[:,1])\n",
    "plt.figure(figsize = (12,7))\n",
    "plt.plot(rf_fpr,rf_tpr,marker = 'x',label = 'RF')\n",
    "plt.plot(np.arange(0,1.1,0.1),np.arange(0,1.1,0.1))# can directly give plt.plot([0,1],[0,1])\n",
    "plt.xlabel('False Positive Rate')\n",
    "plt.ylabel('True Positive Rate')\n",
    "plt.title('ROC')\n",
    "plt.show()\n",
    "\n",
    "print('Area under Curve is', roc_auc_score(y_test,RF_model.predict_proba(X_test)[:,1]))"
   ]
  },
  {
   "cell_type": "code",
   "execution_count": 199,
   "id": "43c26134",
   "metadata": {},
   "outputs": [
    {
     "name": "stdout",
     "output_type": "stream",
     "text": [
      "1.0\n"
     ]
    }
   ],
   "source": [
    "from sklearn.ensemble import RandomForestClassifier\n",
    "\n",
    "RF_model=RandomForestClassifier(n_estimators=100,random_state=1)\n",
    "RF_model=RF_model.fit(X_train, y_train)\n",
    "RF_train_predict = RF_model.predict(X_train)\n",
    "model_score = RF_model.score(X_train, y_train)\n",
    "print(model_score)"
   ]
  },
  {
   "cell_type": "code",
   "execution_count": 200,
   "id": "f37d3518",
   "metadata": {},
   "outputs": [
    {
     "name": "stdout",
     "output_type": "stream",
     "text": [
      "0.9819819819819819\n"
     ]
    }
   ],
   "source": [
    "RF_test_predict = RF_model.predict(X_test)\n",
    "model_score = RF_model.score(X_test, y_test)\n",
    "print(model_score)"
   ]
  },
  {
   "cell_type": "markdown",
   "id": "d6b7de60",
   "metadata": {},
   "source": [
    "-----------------------------------------------------------------------------------------------------------------------------------------------------------------------------"
   ]
  },
  {
   "cell_type": "markdown",
   "id": "938536a5",
   "metadata": {},
   "source": [
    "RANDOM FOREST USING GRID SEARCH"
   ]
  },
  {
   "cell_type": "code",
   "execution_count": 202,
   "id": "b5f4cb25",
   "metadata": {},
   "outputs": [],
   "source": [
    "from sklearn.model_selection import RandomizedSearchCV"
   ]
  },
  {
   "cell_type": "code",
   "execution_count": 203,
   "id": "459f78fc",
   "metadata": {},
   "outputs": [
    {
     "name": "stdout",
     "output_type": "stream",
     "text": [
      "{'n_estimators': [200, 400, 600, 800, 1000, 1200, 1400, 1600, 1800, 2000], 'max_features': ['auto', 'sqrt'], 'max_depth': [10, 20, 30, 40, 50, 60, 70, 80, 90, 100, 110, None], 'min_samples_split': [2, 5, 10], 'min_samples_leaf': [1, 2, 4], 'bootstrap': [True, False]}\n"
     ]
    },
    {
     "data": {
      "text/plain": [
       "{'bootstrap': [True, False],\n",
       " 'max_depth': [10, 20, 30, 40, 50, 60, 70, 80, 90, 100, None],\n",
       " 'max_features': ['auto', 'sqrt'],\n",
       " 'min_samples_leaf': [1, 2, 4],\n",
       " 'min_samples_split': [2, 5, 10],\n",
       " 'n_estimators': [100, 200, 300]}"
      ]
     },
     "execution_count": 203,
     "metadata": {},
     "output_type": "execute_result"
    }
   ],
   "source": [
    "from sklearn.model_selection import RandomizedSearchCV# Number of trees in random forest\n",
    "n_estimators = [int(x) for x in np.linspace(start = 200, stop = 2000, num = 10)]\n",
    "# Number of features to consider at every split\n",
    "max_features = ['auto', 'sqrt']\n",
    "# Maximum number of levels in tree\n",
    "max_depth = [int(x) for x in np.linspace(10, 110, num = 11)]\n",
    "max_depth.append(None)\n",
    "# Minimum number of samples required to split a node\n",
    "min_samples_split = [2, 5, 10]\n",
    "# Minimum number of samples required at each leaf node\n",
    "min_samples_leaf = [1, 2, 4]\n",
    "# Method of selecting samples for training each tree\n",
    "bootstrap = [True, False]# Create the random grid\n",
    "random_grid = {'n_estimators': n_estimators,\n",
    "               'max_features': max_features,\n",
    "               'max_depth': max_depth,\n",
    "               'min_samples_split': min_samples_split,\n",
    "               'min_samples_leaf': min_samples_leaf,\n",
    "               'bootstrap': bootstrap}\n",
    "print(random_grid)\n",
    "{'bootstrap': [True, False],\n",
    " 'max_depth': [10, 20, 30, 40, 50, 60, 70, 80, 90, 100, None],\n",
    " 'max_features': ['auto', 'sqrt'],\n",
    " 'min_samples_leaf': [1, 2, 4],\n",
    " 'min_samples_split': [2, 5, 10],\n",
    " 'n_estimators': [100,200,300 ]}"
   ]
  },
  {
   "cell_type": "code",
   "execution_count": 204,
   "id": "2ae83089",
   "metadata": {},
   "outputs": [],
   "source": [
    "param_grid={\n",
    "    'max_depth':[7,8,9,10],\n",
    "    'max_features':[3,4,5],\n",
    "    'min_samples_leaf':[50,100],\n",
    "    'min_samples_split':[150,300],\n",
    "    'n_estimators':[100,200,300]\n",
    "}\n",
    "rfcl =RandomForestClassifier()\n",
    "grid_search= GridSearchCV(estimator=rfcl,param_grid=param_grid,cv=3)"
   ]
  },
  {
   "cell_type": "code",
   "execution_count": 205,
   "id": "49977c71",
   "metadata": {},
   "outputs": [
    {
     "name": "stdout",
     "output_type": "stream",
     "text": [
      "Fitting 3 folds for each of 100 candidates, totalling 300 fits\n"
     ]
    },
    {
     "data": {
      "text/plain": [
       "RandomizedSearchCV(cv=3, estimator=RandomForestClassifier(), n_iter=100,\n",
       "                   n_jobs=-1,\n",
       "                   param_distributions={'bootstrap': [True, False],\n",
       "                                        'max_depth': [10, 20, 30, 40, 50, 60,\n",
       "                                                      70, 80, 90, 100, 110,\n",
       "                                                      None],\n",
       "                                        'max_features': ['auto', 'sqrt'],\n",
       "                                        'min_samples_leaf': [1, 2, 4],\n",
       "                                        'min_samples_split': [2, 5, 10],\n",
       "                                        'n_estimators': [200, 400, 600, 800,\n",
       "                                                         1000, 1200, 1400, 1600,\n",
       "                                                         1800, 2000]},\n",
       "                   random_state=42, verbose=2)"
      ]
     },
     "execution_count": 205,
     "metadata": {},
     "output_type": "execute_result"
    }
   ],
   "source": [
    "# Use the random grid to search for best hyperparameters\n",
    "# First create the base model to tune\n",
    "rf = RandomForestClassifier()\n",
    "# Random search of parameters, using 3 fold cross validation, \n",
    "# search across 100 different combinations, and use all available cores\n",
    "rf_random = RandomizedSearchCV(estimator = rf, param_distributions = random_grid, n_iter = 100, cv = 3, verbose=2, random_state=42, n_jobs = -1)# Fit the random search model\n",
    "rf_random.fit(X_train, y_train)"
   ]
  },
  {
   "cell_type": "code",
   "execution_count": 206,
   "id": "6924db16",
   "metadata": {},
   "outputs": [
    {
     "data": {
      "text/plain": [
       "{'n_estimators': 1800,\n",
       " 'min_samples_split': 2,\n",
       " 'min_samples_leaf': 1,\n",
       " 'max_features': 'auto',\n",
       " 'max_depth': 20,\n",
       " 'bootstrap': False}"
      ]
     },
     "execution_count": 206,
     "metadata": {},
     "output_type": "execute_result"
    }
   ],
   "source": [
    "rf_random.best_params_"
   ]
  },
  {
   "cell_type": "code",
   "execution_count": 207,
   "id": "b2e55e1d",
   "metadata": {},
   "outputs": [],
   "source": [
    "best_grid = rf_random.best_estimator_"
   ]
  },
  {
   "cell_type": "code",
   "execution_count": 208,
   "id": "813b1d93",
   "metadata": {},
   "outputs": [
    {
     "data": {
      "text/plain": [
       "RandomForestClassifier(bootstrap=False, max_depth=20, n_estimators=1800)"
      ]
     },
     "execution_count": 208,
     "metadata": {},
     "output_type": "execute_result"
    }
   ],
   "source": [
    "best_grid"
   ]
  },
  {
   "cell_type": "code",
   "execution_count": 209,
   "id": "7b4cd167",
   "metadata": {},
   "outputs": [],
   "source": [
    "RF_train_predict = best_grid.predict(X_train)\n",
    "RF_test_predict = best_grid.predict(X_test)"
   ]
  },
  {
   "cell_type": "code",
   "execution_count": 210,
   "id": "eb19f339",
   "metadata": {},
   "outputs": [
    {
     "data": {
      "image/png": "[encoded data removed]",
      "text/plain": [
       "<Figure size 432x288 with 2 Axes>"
      ]
     },
     "metadata": {
      "needs_background": "light"
     },
     "output_type": "display_data"
    }
   ],
   "source": [
    "#Confusion Matrix for Test set\n",
    "confusion_matrix(y_train,RF_train_predict)\n",
    "sns.heatmap(confusion_matrix(y_train,RF_train_predict),annot = True,cbar = True,fmt = 'd',)\n",
    "plt.xlabel('Predicted Label')\n",
    "plt.ylabel('Actual Label')\n",
    "plt.title('Confusion Matrix for Trainset')\n",
    "plt.show()"
   ]
  },
  {
   "cell_type": "code",
   "execution_count": 211,
   "id": "27008c74",
   "metadata": {},
   "outputs": [
    {
     "name": "stdout",
     "output_type": "stream",
     "text": [
      "              precision    recall  f1-score   support\n",
      "\n",
      "           0       1.00      1.00      1.00       594\n",
      "           1       1.00      1.00      1.00       181\n",
      "\n",
      "    accuracy                           1.00       775\n",
      "   macro avg       1.00      1.00      1.00       775\n",
      "weighted avg       1.00      1.00      1.00       775\n",
      "\n"
     ]
    }
   ],
   "source": [
    "print(classification_report(y_train,RF_train_predict))"
   ]
  },
  {
   "cell_type": "code",
   "execution_count": 212,
   "id": "0397d4a4",
   "metadata": {},
   "outputs": [
    {
     "data": {
      "image/png": "[encoded data removed]",
      "text/plain": [
       "<Figure size 864x504 with 1 Axes>"
      ]
     },
     "metadata": {
      "needs_background": "light"
     },
     "output_type": "display_data"
    },
    {
     "name": "stdout",
     "output_type": "stream",
     "text": [
      "Area under Curve is 1.0\n"
     ]
    }
   ],
   "source": [
    "from sklearn.metrics import roc_curve,roc_auc_score\n",
    "rf_fpr,rf_tpr,_ = roc_curve(y_train,best_grid.predict_proba(X_train)[:,1])\n",
    "plt.figure(figsize = (12,7))\n",
    "plt.plot(rf_fpr,rf_tpr,marker = 'x',label = 'RF')\n",
    "plt.plot(np.arange(0,1.1,0.1),np.arange(0,1.1,0.1))\n",
    "plt.xlabel('False Positive Rate')\n",
    "plt.ylabel('True Positive Rate')\n",
    "plt.title('ROC')\n",
    "plt.show()\n",
    "\n",
    "print('Area under Curve is', roc_auc_score(y_train,best_grid.predict_proba(X_train)[:,1]))"
   ]
  },
  {
   "cell_type": "code",
   "execution_count": 213,
   "id": "48924d7e",
   "metadata": {},
   "outputs": [
    {
     "data": {
      "image/png": "[encoded data removed]",
      "text/plain": [
       "<Figure size 432x288 with 2 Axes>"
      ]
     },
     "metadata": {
      "needs_background": "light"
     },
     "output_type": "display_data"
    }
   ],
   "source": [
    "#Confusion Matrix for Test set\n",
    "confusion_matrix(y_test,RF_test_predict)\n",
    "sns.heatmap(confusion_matrix(y_test,RF_test_predict),annot = True,cbar = True,fmt = 'd',)\n",
    "plt.xlabel('Predicted Label')\n",
    "plt.ylabel('Actual Label')\n",
    "plt.title('Confusion Matrix for Trainset')\n",
    "plt.show()"
   ]
  },
  {
   "cell_type": "code",
   "execution_count": 214,
   "id": "0668457b",
   "metadata": {},
   "outputs": [
    {
     "name": "stdout",
     "output_type": "stream",
     "text": [
      "              precision    recall  f1-score   support\n",
      "\n",
      "           0       0.98      1.00      0.99       238\n",
      "           1       1.00      0.94      0.97        95\n",
      "\n",
      "    accuracy                           0.98       333\n",
      "   macro avg       0.99      0.97      0.98       333\n",
      "weighted avg       0.98      0.98      0.98       333\n",
      "\n"
     ]
    }
   ],
   "source": [
    "print(classification_report(y_test,RF_test_predict)) "
   ]
  },
  {
   "cell_type": "code",
   "execution_count": 215,
   "id": "af82fa78",
   "metadata": {},
   "outputs": [
    {
     "data": {
      "image/png": "[encoded data removed]",
      "text/plain": [
       "<Figure size 864x504 with 1 Axes>"
      ]
     },
     "metadata": {
      "needs_background": "light"
     },
     "output_type": "display_data"
    },
    {
     "name": "stdout",
     "output_type": "stream",
     "text": [
      "Area under Curve is 1.0\n"
     ]
    }
   ],
   "source": [
    "from sklearn.metrics import roc_curve,roc_auc_score\n",
    "rf_fpr,rf_tpr,_ = roc_curve(y_test,best_grid.predict_proba(X_test)[:,1])\n",
    "plt.figure(figsize = (12,7))\n",
    "plt.plot(rf_fpr,rf_tpr,marker = 'x',label = 'RF')\n",
    "plt.plot(np.arange(0,1.1,0.1),np.arange(0,1.1,0.1))# can directly give plt.plot([0,1],[0,1])\n",
    "plt.xlabel('False Positive Rate')\n",
    "plt.ylabel('True Positive Rate')\n",
    "plt.title('ROC')\n",
    "plt.show()\n",
    "\n",
    "print('Area under Curve is', roc_auc_score(y_test,best_grid.predict_proba(X_test)[:,1]))"
   ]
  },
  {
   "cell_type": "code",
   "execution_count": 216,
   "id": "3a8d0c98",
   "metadata": {},
   "outputs": [
    {
     "name": "stdout",
     "output_type": "stream",
     "text": [
      "Feature: 0, Score: 0.15564\n",
      "Feature: 1, Score: 0.00000\n",
      "Feature: 2, Score: 0.12750\n",
      "Feature: 3, Score: 0.09564\n",
      "Feature: 4, Score: 0.03989\n",
      "Feature: 5, Score: 0.04564\n",
      "Feature: 6, Score: 0.06510\n",
      "Feature: 7, Score: 0.16650\n",
      "Feature: 8, Score: 0.04710\n",
      "Feature: 9, Score: 0.05415\n",
      "Feature: 10, Score: 0.03434\n",
      "Feature: 11, Score: 0.01391\n",
      "Feature: 12, Score: 0.04819\n",
      "Feature: 13, Score: 0.03811\n",
      "Feature: 14, Score: 0.06828\n"
     ]
    },
    {
     "data": {
      "image/png": "[encoded data removed]",
      "text/plain": [
       "<Figure size 432x288 with 1 Axes>"
      ]
     },
     "metadata": {
      "needs_background": "light"
     },
     "output_type": "display_data"
    }
   ],
   "source": [
    "# get importance\n",
    "importance = best_grid.feature_importances_\n",
    "# summarize feature importance\n",
    "for i,v in enumerate(importance):\n",
    "\tprint('Feature: %0d, Score: %.5f' % (i,v))\n",
    "# plot feature importance\n",
    "plt.bar([x for x in range(len(importance))], importance)\n",
    "plt.show()"
   ]
  },
  {
   "cell_type": "markdown",
   "id": "d395a8b7",
   "metadata": {},
   "source": [
    "-------------------------------------------------------------------------------------------------------------------------------------------------"
   ]
  },
  {
   "cell_type": "markdown",
   "id": "1e769c82",
   "metadata": {},
   "source": [
    "KNN"
   ]
  },
  {
   "cell_type": "code",
   "execution_count": 218,
   "id": "87d8a60f",
   "metadata": {},
   "outputs": [],
   "source": [
    "from sklearn.neighbors import KNeighborsClassifier"
   ]
  },
  {
   "cell_type": "code",
   "execution_count": 219,
   "id": "6cc56509",
   "metadata": {},
   "outputs": [
    {
     "data": {
      "text/plain": [
       "[1.0,\n",
       " 0.954954954954955,\n",
       " 0.8558558558558559,\n",
       " 0.7867867867867868,\n",
       " 0.7687687687687688,\n",
       " 0.7327327327327328,\n",
       " 0.7297297297297297,\n",
       " 0.7357357357357357,\n",
       " 0.7447447447447447,\n",
       " 0.7507507507507507]"
      ]
     },
     "execution_count": 219,
     "metadata": {},
     "output_type": "execute_result"
    }
   ],
   "source": [
    "# empty list that will hold accuracy scores\n",
    "ac_scores = []\n",
    "\n",
    "# perform accuracy metrics for values from 1,3,5....19\n",
    "for k in range(1,20,2):\n",
    "    KNN = KNeighborsClassifier(n_neighbors=k)\n",
    "    KNN.fit(X_train, y_train)\n",
    "    # evaluate test accuracy\n",
    "    scores = KNN.score(X_test, y_test)\n",
    "    ac_scores.append(scores)\n",
    "\n",
    "# accuracy scores for 1,3,5,7....\n",
    "MCE = [1-x for x in ac_scores]\n",
    "acc = [x for x in ac_scores]\n",
    "acc"
   ]
  },
  {
   "cell_type": "code",
   "execution_count": 220,
   "id": "ada9dfde",
   "metadata": {},
   "outputs": [
    {
     "data": {
      "image/png": "[encoded data removed]",
      "text/plain": [
       "<Figure size 432x288 with 1 Axes>"
      ]
     },
     "metadata": {
      "needs_background": "light"
     },
     "output_type": "display_data"
    }
   ],
   "source": [
    "import matplotlib.pyplot as plt\n",
    "# plot misclassification error vs k\n",
    "plt.plot(range(1,20,2), MCE)\n",
    "plt.xlabel('Number of Neighbors K')\n",
    "plt.ylabel('Misclassification Error')\n",
    "plt.show()"
   ]
  },
  {
   "cell_type": "markdown",
   "id": "0c718de4",
   "metadata": {},
   "source": [
    "By scree plot we see 3 is optimum number of k neighbours with accordance MCE"
   ]
  },
  {
   "cell_type": "markdown",
   "id": "925812dd",
   "metadata": {},
   "source": [
    "Therefore, building the KNN model with k=3"
   ]
  },
  {
   "cell_type": "code",
   "execution_count": 221,
   "id": "4ff00bd7",
   "metadata": {},
   "outputs": [],
   "source": [
    "#model score k=3\n",
    "KNN_model=KNeighborsClassifier(n_neighbors=3)\n",
    "KNN_model.fit(X_train,y_train)\n",
    "KNN_train_predict = KNN_model.predict(X_train)\n",
    "\n",
    "KNN_test_predict = KNN_model.predict(X_test)"
   ]
  },
  {
   "cell_type": "code",
   "execution_count": 222,
   "id": "c3e83c71",
   "metadata": {},
   "outputs": [
    {
     "data": {
      "text/plain": [
       "0.9935483870967742"
      ]
     },
     "execution_count": 222,
     "metadata": {},
     "output_type": "execute_result"
    }
   ],
   "source": [
    "KNN_model.score(X_train,y_train)"
   ]
  },
  {
   "cell_type": "code",
   "execution_count": 223,
   "id": "0ac4e770",
   "metadata": {},
   "outputs": [
    {
     "data": {
      "text/plain": [
       "0.954954954954955"
      ]
     },
     "execution_count": 223,
     "metadata": {},
     "output_type": "execute_result"
    }
   ],
   "source": [
    "KNN_model.score(X_test,y_test)"
   ]
  },
  {
   "cell_type": "code",
   "execution_count": 224,
   "id": "24f57dec",
   "metadata": {},
   "outputs": [
    {
     "data": {
      "image/png": "[encoded data removed]",
      "text/plain": [
       "<Figure size 432x288 with 2 Axes>"
      ]
     },
     "metadata": {
      "needs_background": "light"
     },
     "output_type": "display_data"
    }
   ],
   "source": [
    "#Confusion Matrix for Train set\n",
    "confusion_matrix(y_train,KNN_train_predict)\n",
    "sns.heatmap(confusion_matrix(y_train,KNN_train_predict),annot = True,cbar = True,fmt = 'd',)\n",
    "plt.xlabel('Predicted Label')\n",
    "plt.ylabel('Actual Label')\n",
    "plt.title('Confusion Matrix for Trainset')\n",
    "plt.show()"
   ]
  },
  {
   "cell_type": "code",
   "execution_count": 225,
   "id": "0f181fea",
   "metadata": {},
   "outputs": [
    {
     "name": "stdout",
     "output_type": "stream",
     "text": [
      "              precision    recall  f1-score   support\n",
      "\n",
      "           0       0.99      1.00      1.00       594\n",
      "           1       0.99      0.98      0.99       181\n",
      "\n",
      "    accuracy                           0.99       775\n",
      "   macro avg       0.99      0.99      0.99       775\n",
      "weighted avg       0.99      0.99      0.99       775\n",
      "\n"
     ]
    }
   ],
   "source": [
    "print(classification_report(y_train,KNN_train_predict))"
   ]
  },
  {
   "cell_type": "code",
   "execution_count": 226,
   "id": "06327407",
   "metadata": {},
   "outputs": [
    {
     "data": {
      "image/png": "[encoded data removed]",
      "text/plain": [
       "<Figure size 864x504 with 1 Axes>"
      ]
     },
     "metadata": {
      "needs_background": "light"
     },
     "output_type": "display_data"
    },
    {
     "name": "stdout",
     "output_type": "stream",
     "text": [
      "Area under Curve is 0.9994047286864967\n"
     ]
    }
   ],
   "source": [
    "from sklearn.metrics import roc_curve,roc_auc_score\n",
    "rf_fpr,rf_tpr,_ = roc_curve(y_train,KNN_model.predict_proba(X_train)[:,1])\n",
    "plt.figure(figsize = (12,7))\n",
    "plt.plot(rf_fpr,rf_tpr,marker = 'x',label = 'RF')\n",
    "plt.plot(np.arange(0,1.1,0.1),np.arange(0,1.1,0.1))# can directly give plt.plot([0,1],[0,1])\n",
    "plt.xlabel('False Positive Rate')\n",
    "plt.ylabel('True Positive Rate')\n",
    "plt.title('ROC')\n",
    "plt.show()\n",
    "\n",
    "print('Area under Curve is', roc_auc_score(y_train,KNN_model.predict_proba(X_train)[:,1]))"
   ]
  },
  {
   "cell_type": "code",
   "execution_count": 227,
   "id": "1a3ca307",
   "metadata": {},
   "outputs": [
    {
     "data": {
      "image/png": "[encoded data removed]",
      "text/plain": [
       "<Figure size 432x288 with 2 Axes>"
      ]
     },
     "metadata": {
      "needs_background": "light"
     },
     "output_type": "display_data"
    }
   ],
   "source": [
    "#Confusion Matrix for Train set\n",
    "confusion_matrix(y_test,KNN_test_predict)\n",
    "sns.heatmap(confusion_matrix(y_test,KNN_test_predict),annot = True,cbar = True,fmt = 'd',)\n",
    "plt.xlabel('Predicted Label')\n",
    "plt.ylabel('Actual Label')\n",
    "plt.title('Confusion Matrix for Testset')\n",
    "plt.show()"
   ]
  },
  {
   "cell_type": "code",
   "execution_count": 228,
   "id": "53aa42e5",
   "metadata": {},
   "outputs": [
    {
     "name": "stdout",
     "output_type": "stream",
     "text": [
      "              precision    recall  f1-score   support\n",
      "\n",
      "           0       0.96      0.97      0.97       238\n",
      "           1       0.93      0.91      0.92        95\n",
      "\n",
      "    accuracy                           0.95       333\n",
      "   macro avg       0.95      0.94      0.94       333\n",
      "weighted avg       0.95      0.95      0.95       333\n",
      "\n"
     ]
    }
   ],
   "source": [
    "print(classification_report(y_test,KNN_test_predict)) "
   ]
  },
  {
   "cell_type": "code",
   "execution_count": 229,
   "id": "141eb5f8",
   "metadata": {},
   "outputs": [
    {
     "data": {
      "image/png": "[encoded data removed]",
      "text/plain": [
       "<Figure size 864x504 with 1 Axes>"
      ]
     },
     "metadata": {
      "needs_background": "light"
     },
     "output_type": "display_data"
    },
    {
     "name": "stdout",
     "output_type": "stream",
     "text": [
      "Area under Curve is 0.9896505970809376\n"
     ]
    }
   ],
   "source": [
    "from sklearn.metrics import roc_curve,roc_auc_score\n",
    "rf_fpr,rf_tpr,_ = roc_curve(y_test,KNN_model.predict_proba(X_test)[:,1])\n",
    "plt.figure(figsize = (12,7))\n",
    "plt.plot(rf_fpr,rf_tpr,marker = 'x',label = 'RF')\n",
    "plt.plot(np.arange(0,1.1,0.1),np.arange(0,1.1,0.1))# can directly give plt.plot([0,1],[0,1])\n",
    "plt.xlabel('False Positive Rate')\n",
    "plt.ylabel('True Positive Rate')\n",
    "plt.title('ROC')\n",
    "plt.show()\n",
    "\n",
    "print('Area under Curve is', roc_auc_score(y_test,KNN_model.predict_proba(X_test)[:,1]))"
   ]
  },
  {
   "cell_type": "markdown",
   "id": "600469b5",
   "metadata": {},
   "source": [
    "------------------------------------------------------------------------------------------------------------------------------------------------------------------"
   ]
  },
  {
   "cell_type": "markdown",
   "id": "002ed561",
   "metadata": {},
   "source": [
    "SMOTE"
   ]
  },
  {
   "cell_type": "code",
   "execution_count": 231,
   "id": "215dd55a",
   "metadata": {},
   "outputs": [],
   "source": [
    "from imblearn.over_sampling import SMOTE \n",
    "from sklearn import metrics"
   ]
  },
  {
   "cell_type": "code",
   "execution_count": 232,
   "id": "9546d043",
   "metadata": {},
   "outputs": [],
   "source": [
    "sm = SMOTE()\n",
    "\n",
    "\n",
    "X_train_res, y_train_res = sm.fit_resample(X_train, y_train.ravel())"
   ]
  },
  {
   "cell_type": "code",
   "execution_count": 233,
   "id": "3d1d4ade",
   "metadata": {},
   "outputs": [
    {
     "data": {
      "text/plain": [
       "(1188, 15)"
      ]
     },
     "execution_count": 233,
     "metadata": {},
     "output_type": "execute_result"
    }
   ],
   "source": [
    "## Let's check the shape after SMOTE\n",
    "X_train_res.shape"
   ]
  },
  {
   "cell_type": "markdown",
   "id": "b8944a90",
   "metadata": {},
   "source": [
    "--------------------------------------------------------------------------------------------------------------------------------------------------------------"
   ]
  },
  {
   "cell_type": "markdown",
   "id": "78417621",
   "metadata": {},
   "source": [
    "LOGIT"
   ]
  },
  {
   "cell_type": "code",
   "execution_count": 234,
   "id": "9acf26c4",
   "metadata": {},
   "outputs": [
    {
     "data": {
      "text/plain": [
       "LogisticRegression()"
      ]
     },
     "execution_count": 234,
     "metadata": {},
     "output_type": "execute_result"
    }
   ],
   "source": [
    "smote_log_model = LogisticRegression()\n",
    "smote_log_model.fit(X_train_res, y_train_res)"
   ]
  },
  {
   "cell_type": "code",
   "execution_count": 235,
   "id": "fb9b94fa",
   "metadata": {},
   "outputs": [
    {
     "name": "stdout",
     "output_type": "stream",
     "text": [
      "0.6818181818181818\n",
      "[[379 215]\n",
      " [163 431]]\n",
      "              precision    recall  f1-score   support\n",
      "\n",
      "           0       0.70      0.64      0.67       594\n",
      "           1       0.67      0.73      0.70       594\n",
      "\n",
      "    accuracy                           0.68      1188\n",
      "   macro avg       0.68      0.68      0.68      1188\n",
      "weighted avg       0.68      0.68      0.68      1188\n",
      "\n"
     ]
    }
   ],
   "source": [
    "## Performance Matrix on train data set with SMOTE\n",
    "smote_log_train_predict = smote_log_model.predict(X_train_res)\n",
    "model_score = smote_log_model.score(X_train_res, y_train_res)\n",
    "print(model_score)\n",
    "print(metrics.confusion_matrix(y_train_res, smote_log_train_predict))\n",
    "print(metrics.classification_report(y_train_res ,smote_log_train_predict))"
   ]
  },
  {
   "cell_type": "code",
   "execution_count": 236,
   "id": "73db93cc",
   "metadata": {},
   "outputs": [
    {
     "name": "stdout",
     "output_type": "stream",
     "text": [
      "0.6726726726726727\n",
      "[[150  88]\n",
      " [ 21  74]]\n",
      "              precision    recall  f1-score   support\n",
      "\n",
      "           0       0.88      0.63      0.73       238\n",
      "           1       0.46      0.78      0.58        95\n",
      "\n",
      "    accuracy                           0.67       333\n",
      "   macro avg       0.67      0.70      0.65       333\n",
      "weighted avg       0.76      0.67      0.69       333\n",
      "\n"
     ]
    }
   ],
   "source": [
    "smote_log_test_predict = smote_log_model.predict(X_test)\n",
    "model_score = smote_log_model.score(X_test, y_test)\n",
    "print(model_score)\n",
    "print(metrics.confusion_matrix(y_test, smote_log_test_predict))\n",
    "print(metrics.classification_report(y_test ,smote_log_test_predict))"
   ]
  },
  {
   "cell_type": "markdown",
   "id": "0c491e6e",
   "metadata": {},
   "source": [
    "------------------------------------------------------------------------------------------------------------------------------------------------------------------"
   ]
  },
  {
   "cell_type": "markdown",
   "id": "e108d00e",
   "metadata": {},
   "source": [
    "LDA"
   ]
  },
  {
   "cell_type": "code",
   "execution_count": 238,
   "id": "e6885a2b",
   "metadata": {},
   "outputs": [
    {
     "data": {
      "text/plain": [
       "LinearDiscriminantAnalysis()"
      ]
     },
     "execution_count": 238,
     "metadata": {},
     "output_type": "execute_result"
    }
   ],
   "source": [
    "smote_lda_model = LinearDiscriminantAnalysis()\n",
    "smote_lda_model.fit(X_train_res, y_train_res)"
   ]
  },
  {
   "cell_type": "code",
   "execution_count": 239,
   "id": "e980fdd8",
   "metadata": {},
   "outputs": [],
   "source": [
    "smote_lda_train_predict = smote_lda_model.predict(X_train_res)\n",
    "smote_lda_test_predict = smote_lda_model.predict(X_test)"
   ]
  },
  {
   "cell_type": "code",
   "execution_count": 240,
   "id": "348da08a",
   "metadata": {},
   "outputs": [
    {
     "name": "stdout",
     "output_type": "stream",
     "text": [
      "0.6818181818181818\n",
      "[[434 160]\n",
      " [157 437]]\n",
      "              precision    recall  f1-score   support\n",
      "\n",
      "           0       0.73      0.73      0.73       594\n",
      "           1       0.73      0.74      0.73       594\n",
      "\n",
      "    accuracy                           0.73      1188\n",
      "   macro avg       0.73      0.73      0.73      1188\n",
      "weighted avg       0.73      0.73      0.73      1188\n",
      "\n"
     ]
    }
   ],
   "source": [
    "## Performance Matrix on train data set with SMOTE\n",
    "smote_lda_train_predict = smote_lda_model.predict(X_train_res)\n",
    "model_score = smote_log_model.score(X_train_res, y_train_res)\n",
    "print(model_score)\n",
    "print(metrics.confusion_matrix(y_train_res, smote_lda_train_predict))\n",
    "print(metrics.classification_report(y_train_res ,smote_lda_train_predict))"
   ]
  },
  {
   "cell_type": "code",
   "execution_count": 241,
   "id": "f4650b96",
   "metadata": {},
   "outputs": [
    {
     "name": "stdout",
     "output_type": "stream",
     "text": [
      "0.7327327327327328\n",
      "[[168  70]\n",
      " [ 19  76]]\n",
      "              precision    recall  f1-score   support\n",
      "\n",
      "           0       0.90      0.71      0.79       238\n",
      "           1       0.52      0.80      0.63        95\n",
      "\n",
      "    accuracy                           0.73       333\n",
      "   macro avg       0.71      0.75      0.71       333\n",
      "weighted avg       0.79      0.73      0.74       333\n",
      "\n"
     ]
    }
   ],
   "source": [
    "smote_log_test_predict = smote_lda_model.predict(X_test)\n",
    "model_score = smote_lda_model.score(X_test, y_test)\n",
    "print(model_score)\n",
    "print(metrics.confusion_matrix(y_test, smote_lda_test_predict))\n",
    "print(metrics.classification_report(y_test ,smote_lda_test_predict))"
   ]
  },
  {
   "cell_type": "markdown",
   "id": "30b94312",
   "metadata": {},
   "source": [
    "----------------------------------------------------------------------------------------------------------------------------------------------------------------------"
   ]
  },
  {
   "cell_type": "markdown",
   "id": "6357c85e",
   "metadata": {},
   "source": [
    "KNN"
   ]
  },
  {
   "cell_type": "code",
   "execution_count": 242,
   "id": "ec70219d",
   "metadata": {},
   "outputs": [
    {
     "data": {
      "text/plain": [
       "KNeighborsClassifier(n_neighbors=3)"
      ]
     },
     "execution_count": 242,
     "metadata": {},
     "output_type": "execute_result"
    }
   ],
   "source": [
    "Smote_KNN = KNeighborsClassifier(n_neighbors=3)\n",
    "Smote_KNN.fit(X_train_res, y_train_res)"
   ]
  },
  {
   "cell_type": "code",
   "execution_count": 243,
   "id": "f35fa7b5",
   "metadata": {},
   "outputs": [],
   "source": [
    "Smote_KNN_train_predict = Smote_KNN.predict(X_train_res)\n",
    "Smote_KNN_test_predict = Smote_KNN.predict(X_test)"
   ]
  },
  {
   "cell_type": "code",
   "execution_count": 244,
   "id": "2da64316",
   "metadata": {},
   "outputs": [
    {
     "name": "stdout",
     "output_type": "stream",
     "text": [
      "0.9831649831649831\n",
      "[[591   3]\n",
      " [ 17 577]]\n",
      "              precision    recall  f1-score   support\n",
      "\n",
      "           0       0.97      0.99      0.98       594\n",
      "           1       0.99      0.97      0.98       594\n",
      "\n",
      "    accuracy                           0.98      1188\n",
      "   macro avg       0.98      0.98      0.98      1188\n",
      "weighted avg       0.98      0.98      0.98      1188\n",
      "\n"
     ]
    }
   ],
   "source": [
    "## Performance Matrix on train data set with SMOTE\n",
    "Smote_KNN_train_predict = Smote_KNN.predict(X_train_res)\n",
    "model_score = Smote_KNN.score(X_train_res, y_train_res)\n",
    "print(model_score)\n",
    "print(metrics.confusion_matrix(y_train_res, Smote_KNN_train_predict))\n",
    "print(metrics.classification_report(y_train_res ,Smote_KNN_train_predict))"
   ]
  },
  {
   "cell_type": "code",
   "execution_count": 245,
   "id": "9e5b1629",
   "metadata": {},
   "outputs": [
    {
     "name": "stdout",
     "output_type": "stream",
     "text": [
      "0.963963963963964\n",
      "[[229   9]\n",
      " [  3  92]]\n",
      "              precision    recall  f1-score   support\n",
      "\n",
      "           0       0.99      0.96      0.97       238\n",
      "           1       0.91      0.97      0.94        95\n",
      "\n",
      "    accuracy                           0.96       333\n",
      "   macro avg       0.95      0.97      0.96       333\n",
      "weighted avg       0.97      0.96      0.96       333\n",
      "\n"
     ]
    }
   ],
   "source": [
    "smote_log_test_predict = Smote_KNN.predict(X_test)\n",
    "model_score = Smote_KNN.score(X_test, y_test)\n",
    "print(model_score)\n",
    "print(metrics.confusion_matrix(y_test, smote_log_test_predict))\n",
    "print(metrics.classification_report(y_test ,smote_log_test_predict))"
   ]
  },
  {
   "cell_type": "markdown",
   "id": "9f07fad8",
   "metadata": {},
   "source": [
    "------------------------------------------------------------------------------------------------------------------------------------------------------------------"
   ]
  },
  {
   "cell_type": "markdown",
   "id": "569ea135",
   "metadata": {},
   "source": [
    "RF"
   ]
  },
  {
   "cell_type": "code",
   "execution_count": 246,
   "id": "0053a4d4",
   "metadata": {},
   "outputs": [],
   "source": [
    "Smote_RF_model=RandomForestClassifier(n_estimators=100,random_state=1)\n",
    "Smote_RF_model=Smote_RF_model.fit(X_train_res, y_train_res)"
   ]
  },
  {
   "cell_type": "code",
   "execution_count": 247,
   "id": "55d0868e",
   "metadata": {},
   "outputs": [],
   "source": [
    "Smote_RF_train_predict = Smote_RF_model.predict(X_train_res)\n",
    "Smote_RF_test_predict = Smote_RF_model.predict(X_test)"
   ]
  },
  {
   "cell_type": "code",
   "execution_count": 248,
   "id": "54d2a57a",
   "metadata": {},
   "outputs": [
    {
     "name": "stdout",
     "output_type": "stream",
     "text": [
      "1.0\n",
      "[[594   0]\n",
      " [  0 594]]\n",
      "              precision    recall  f1-score   support\n",
      "\n",
      "           0       1.00      1.00      1.00       594\n",
      "           1       1.00      1.00      1.00       594\n",
      "\n",
      "    accuracy                           1.00      1188\n",
      "   macro avg       1.00      1.00      1.00      1188\n",
      "weighted avg       1.00      1.00      1.00      1188\n",
      "\n"
     ]
    }
   ],
   "source": [
    "## Performance Matrix on train data set with SMOTE\n",
    "Smote_RF_train_predict = Smote_RF_model.predict(X_train_res)\n",
    "model_score = Smote_RF_model.score(X_train_res, y_train_res)\n",
    "print(model_score)\n",
    "print(metrics.confusion_matrix(y_train_res, Smote_RF_train_predict))\n",
    "print(metrics.classification_report(y_train_res ,Smote_RF_train_predict))"
   ]
  },
  {
   "cell_type": "code",
   "execution_count": 250,
   "id": "606e9727",
   "metadata": {},
   "outputs": [
    {
     "name": "stdout",
     "output_type": "stream",
     "text": [
      "0.993993993993994\n",
      "[[238   0]\n",
      " [  2  93]]\n",
      "              precision    recall  f1-score   support\n",
      "\n",
      "           0       0.99      1.00      1.00       238\n",
      "           1       1.00      0.98      0.99        95\n",
      "\n",
      "    accuracy                           0.99       333\n",
      "   macro avg       1.00      0.99      0.99       333\n",
      "weighted avg       0.99      0.99      0.99       333\n",
      "\n"
     ]
    }
   ],
   "source": [
    "Smote_RF_test_predict = Smote_RF_model.predict(X_test)\n",
    "model_score = Smote_RF_model.score(X_test, y_test)\n",
    "print(model_score)\n",
    "print(metrics.confusion_matrix(y_test, Smote_RF_test_predict))\n",
    "print(metrics.classification_report(y_test ,Smote_RF_test_predict))"
   ]
  }
 ],
 "metadata": {
  "kernelspec": {
   "display_name": "Python 3",
   "language": "python",
   "name": "python3"
  },
  "language_info": {
   "codemirror_mode": {
    "name": "ipython",
    "version": 3
   },
   "file_extension": ".py",
   "mimetype": "text/x-python",
   "name": "python",
   "nbconvert_exporter": "python",
   "pygments_lexer": "ipython3",
   "version": "3.8.8"
  }
 },
 "nbformat": 4,
 "nbformat_minor": 5
}
