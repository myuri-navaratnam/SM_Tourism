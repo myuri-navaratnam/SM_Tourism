{
 "cells": [
  {
   "cell_type": "code",
   "execution_count": 107,
   "id": "c5d97d90",
   "metadata": {},
   "outputs": [],
   "source": [
    "import numpy as np\n",
    "import pandas as pd  \n",
    "import matplotlib.pyplot as plt   \n",
    "import seaborn as sns\n",
    "%matplotlib inline \n",
    "import warnings\n",
    "warnings.filterwarnings(\"ignore\")\n",
    "from sklearn.linear_model import LogisticRegression\n",
    "from sklearn.discriminant_analysis import LinearDiscriminantAnalysis\n",
    "from sklearn.metrics import confusion_matrix\n",
    "from sklearn.metrics import classification_report\n",
    "from sklearn.model_selection import train_test_split,GridSearchCV\n",
    "\n",
    "from imblearn.over_sampling import SMOTE \n",
    "from sklearn import metrics\n",
    "\n",
    "import warnings\n",
    "warnings.filterwarnings(\"ignore\")"
   ]
  },
  {
   "cell_type": "code",
   "execution_count": 108,
   "id": "414d5b1e",
   "metadata": {},
   "outputs": [
    {
     "data": {
      "text/html": [
       "<div>\n",
       "<style scoped>\n",
       "    .dataframe tbody tr th:only-of-type {\n",
       "        vertical-align: middle;\n",
       "    }\n",
       "\n",
       "    .dataframe tbody tr th {\n",
       "        vertical-align: top;\n",
       "    }\n",
       "\n",
       "    .dataframe thead th {\n",
       "        text-align: right;\n",
       "    }\n",
       "</style>\n",
       "<table border=\"1\" class=\"dataframe\">\n",
       "  <thead>\n",
       "    <tr style=\"text-align: right;\">\n",
       "      <th></th>\n",
       "      <th>0</th>\n",
       "      <th>1</th>\n",
       "      <th>2</th>\n",
       "      <th>3</th>\n",
       "      <th>4</th>\n",
       "    </tr>\n",
       "  </thead>\n",
       "  <tbody>\n",
       "    <tr>\n",
       "      <th>UserID</th>\n",
       "      <td>1000001</td>\n",
       "      <td>1000002</td>\n",
       "      <td>1000003</td>\n",
       "      <td>1000004</td>\n",
       "      <td>1000005</td>\n",
       "    </tr>\n",
       "    <tr>\n",
       "      <th>Taken_product</th>\n",
       "      <td>Yes</td>\n",
       "      <td>No</td>\n",
       "      <td>Yes</td>\n",
       "      <td>No</td>\n",
       "      <td>No</td>\n",
       "    </tr>\n",
       "    <tr>\n",
       "      <th>Yearly_avg_view_on_travel_page</th>\n",
       "      <td>307.0</td>\n",
       "      <td>367.0</td>\n",
       "      <td>277.0</td>\n",
       "      <td>247.0</td>\n",
       "      <td>202.0</td>\n",
       "    </tr>\n",
       "    <tr>\n",
       "      <th>preferred_device</th>\n",
       "      <td>iOS and Android</td>\n",
       "      <td>iOS</td>\n",
       "      <td>iOS and Android</td>\n",
       "      <td>iOS</td>\n",
       "      <td>iOS and Android</td>\n",
       "    </tr>\n",
       "    <tr>\n",
       "      <th>total_likes_on_outstation_checkin_given</th>\n",
       "      <td>38570.0</td>\n",
       "      <td>9765.0</td>\n",
       "      <td>48055.0</td>\n",
       "      <td>48720.0</td>\n",
       "      <td>20685.0</td>\n",
       "    </tr>\n",
       "    <tr>\n",
       "      <th>yearly_avg_Outstation_checkins</th>\n",
       "      <td>1</td>\n",
       "      <td>1</td>\n",
       "      <td>1</td>\n",
       "      <td>1</td>\n",
       "      <td>1</td>\n",
       "    </tr>\n",
       "    <tr>\n",
       "      <th>member_in_family</th>\n",
       "      <td>2</td>\n",
       "      <td>1</td>\n",
       "      <td>2</td>\n",
       "      <td>4</td>\n",
       "      <td>1</td>\n",
       "    </tr>\n",
       "    <tr>\n",
       "      <th>preferred_location_type</th>\n",
       "      <td>Financial</td>\n",
       "      <td>Financial</td>\n",
       "      <td>Other</td>\n",
       "      <td>Financial</td>\n",
       "      <td>Medical</td>\n",
       "    </tr>\n",
       "    <tr>\n",
       "      <th>Yearly_avg_comment_on_travel_page</th>\n",
       "      <td>94.0</td>\n",
       "      <td>61.0</td>\n",
       "      <td>92.0</td>\n",
       "      <td>56.0</td>\n",
       "      <td>40.0</td>\n",
       "    </tr>\n",
       "    <tr>\n",
       "      <th>total_likes_on_outofstation_checkin_received</th>\n",
       "      <td>5993</td>\n",
       "      <td>5130</td>\n",
       "      <td>2090</td>\n",
       "      <td>2909</td>\n",
       "      <td>3468</td>\n",
       "    </tr>\n",
       "    <tr>\n",
       "      <th>week_since_last_outstation_checkin</th>\n",
       "      <td>8</td>\n",
       "      <td>1</td>\n",
       "      <td>6</td>\n",
       "      <td>1</td>\n",
       "      <td>9</td>\n",
       "    </tr>\n",
       "    <tr>\n",
       "      <th>following_company_page</th>\n",
       "      <td>Yes</td>\n",
       "      <td>No</td>\n",
       "      <td>Yes</td>\n",
       "      <td>Yes</td>\n",
       "      <td>No</td>\n",
       "    </tr>\n",
       "    <tr>\n",
       "      <th>montly_avg_comment_on_company_page</th>\n",
       "      <td>11</td>\n",
       "      <td>23</td>\n",
       "      <td>15</td>\n",
       "      <td>11</td>\n",
       "      <td>12</td>\n",
       "    </tr>\n",
       "    <tr>\n",
       "      <th>working_flag</th>\n",
       "      <td>No</td>\n",
       "      <td>Yes</td>\n",
       "      <td>No</td>\n",
       "      <td>No</td>\n",
       "      <td>No</td>\n",
       "    </tr>\n",
       "    <tr>\n",
       "      <th>travelling_network_rating</th>\n",
       "      <td>1</td>\n",
       "      <td>4</td>\n",
       "      <td>2</td>\n",
       "      <td>3</td>\n",
       "      <td>4</td>\n",
       "    </tr>\n",
       "    <tr>\n",
       "      <th>Adult_flag</th>\n",
       "      <td>0</td>\n",
       "      <td>1</td>\n",
       "      <td>0</td>\n",
       "      <td>0</td>\n",
       "      <td>1</td>\n",
       "    </tr>\n",
       "    <tr>\n",
       "      <th>Daily_Avg_mins_spend_on_traveling_page</th>\n",
       "      <td>8</td>\n",
       "      <td>10</td>\n",
       "      <td>7</td>\n",
       "      <td>8</td>\n",
       "      <td>6</td>\n",
       "    </tr>\n",
       "  </tbody>\n",
       "</table>\n",
       "</div>"
      ],
      "text/plain": [
       "                                                            0          1  \\\n",
       "UserID                                                1000001    1000002   \n",
       "Taken_product                                             Yes         No   \n",
       "Yearly_avg_view_on_travel_page                          307.0      367.0   \n",
       "preferred_device                              iOS and Android        iOS   \n",
       "total_likes_on_outstation_checkin_given               38570.0     9765.0   \n",
       "yearly_avg_Outstation_checkins                              1          1   \n",
       "member_in_family                                            2          1   \n",
       "preferred_location_type                             Financial  Financial   \n",
       "Yearly_avg_comment_on_travel_page                        94.0       61.0   \n",
       "total_likes_on_outofstation_checkin_received             5993       5130   \n",
       "week_since_last_outstation_checkin                          8          1   \n",
       "following_company_page                                    Yes         No   \n",
       "montly_avg_comment_on_company_page                         11         23   \n",
       "working_flag                                               No        Yes   \n",
       "travelling_network_rating                                   1          4   \n",
       "Adult_flag                                                  0          1   \n",
       "Daily_Avg_mins_spend_on_traveling_page                      8         10   \n",
       "\n",
       "                                                            2          3  \\\n",
       "UserID                                                1000003    1000004   \n",
       "Taken_product                                             Yes         No   \n",
       "Yearly_avg_view_on_travel_page                          277.0      247.0   \n",
       "preferred_device                              iOS and Android        iOS   \n",
       "total_likes_on_outstation_checkin_given               48055.0    48720.0   \n",
       "yearly_avg_Outstation_checkins                              1          1   \n",
       "member_in_family                                            2          4   \n",
       "preferred_location_type                                 Other  Financial   \n",
       "Yearly_avg_comment_on_travel_page                        92.0       56.0   \n",
       "total_likes_on_outofstation_checkin_received             2090       2909   \n",
       "week_since_last_outstation_checkin                          6          1   \n",
       "following_company_page                                    Yes        Yes   \n",
       "montly_avg_comment_on_company_page                         15         11   \n",
       "working_flag                                               No         No   \n",
       "travelling_network_rating                                   2          3   \n",
       "Adult_flag                                                  0          0   \n",
       "Daily_Avg_mins_spend_on_traveling_page                      7          8   \n",
       "\n",
       "                                                            4  \n",
       "UserID                                                1000005  \n",
       "Taken_product                                              No  \n",
       "Yearly_avg_view_on_travel_page                          202.0  \n",
       "preferred_device                              iOS and Android  \n",
       "total_likes_on_outstation_checkin_given               20685.0  \n",
       "yearly_avg_Outstation_checkins                              1  \n",
       "member_in_family                                            1  \n",
       "preferred_location_type                               Medical  \n",
       "Yearly_avg_comment_on_travel_page                        40.0  \n",
       "total_likes_on_outofstation_checkin_received             3468  \n",
       "week_since_last_outstation_checkin                          9  \n",
       "following_company_page                                     No  \n",
       "montly_avg_comment_on_company_page                         12  \n",
       "working_flag                                               No  \n",
       "travelling_network_rating                                   4  \n",
       "Adult_flag                                                  1  \n",
       "Daily_Avg_mins_spend_on_traveling_page                      6  "
      ]
     },
     "execution_count": 108,
     "metadata": {},
     "output_type": "execute_result"
    }
   ],
   "source": [
    "data_mobile = pd.read_excel(\"Mobile_SM_Tourism.xlsx\")\n",
    "\n",
    "data_mobile.head().T"
   ]
  },
  {
   "cell_type": "code",
   "execution_count": 109,
   "id": "9d67d1d2",
   "metadata": {},
   "outputs": [
    {
     "name": "stdout",
     "output_type": "stream",
     "text": [
      "<class 'pandas.core.frame.DataFrame'>\n",
      "RangeIndex: 10652 entries, 0 to 10651\n",
      "Data columns (total 17 columns):\n",
      " #   Column                                        Non-Null Count  Dtype  \n",
      "---  ------                                        --------------  -----  \n",
      " 0   UserID                                        10652 non-null  int64  \n",
      " 1   Taken_product                                 10652 non-null  object \n",
      " 2   Yearly_avg_view_on_travel_page                10071 non-null  float64\n",
      " 3   preferred_device                              10599 non-null  object \n",
      " 4   total_likes_on_outstation_checkin_given       10271 non-null  float64\n",
      " 5   yearly_avg_Outstation_checkins                10577 non-null  object \n",
      " 6   member_in_family                              10652 non-null  object \n",
      " 7   preferred_location_type                       10621 non-null  object \n",
      " 8   Yearly_avg_comment_on_travel_page             10446 non-null  float64\n",
      " 9   total_likes_on_outofstation_checkin_received  10652 non-null  int64  \n",
      " 10  week_since_last_outstation_checkin            10652 non-null  int64  \n",
      " 11  following_company_page                        10549 non-null  object \n",
      " 12  montly_avg_comment_on_company_page            10652 non-null  int64  \n",
      " 13  working_flag                                  10652 non-null  object \n",
      " 14  travelling_network_rating                     10652 non-null  int64  \n",
      " 15  Adult_flag                                    10652 non-null  int64  \n",
      " 16  Daily_Avg_mins_spend_on_traveling_page        10652 non-null  int64  \n",
      "dtypes: float64(3), int64(7), object(7)\n",
      "memory usage: 1.4+ MB\n"
     ]
    }
   ],
   "source": [
    "data_mobile.info()"
   ]
  },
  {
   "cell_type": "code",
   "execution_count": 110,
   "id": "d2ee8165",
   "metadata": {},
   "outputs": [
    {
     "data": {
      "text/html": [
       "<div>\n",
       "<style scoped>\n",
       "    .dataframe tbody tr th:only-of-type {\n",
       "        vertical-align: middle;\n",
       "    }\n",
       "\n",
       "    .dataframe tbody tr th {\n",
       "        vertical-align: top;\n",
       "    }\n",
       "\n",
       "    .dataframe thead th {\n",
       "        text-align: right;\n",
       "    }\n",
       "</style>\n",
       "<table border=\"1\" class=\"dataframe\">\n",
       "  <thead>\n",
       "    <tr style=\"text-align: right;\">\n",
       "      <th></th>\n",
       "      <th>count</th>\n",
       "      <th>mean</th>\n",
       "      <th>std</th>\n",
       "      <th>min</th>\n",
       "      <th>25%</th>\n",
       "      <th>50%</th>\n",
       "      <th>75%</th>\n",
       "      <th>max</th>\n",
       "    </tr>\n",
       "  </thead>\n",
       "  <tbody>\n",
       "    <tr>\n",
       "      <th>UserID</th>\n",
       "      <td>10652.0</td>\n",
       "      <td>1.005575e+06</td>\n",
       "      <td>3381.953331</td>\n",
       "      <td>1000001.0</td>\n",
       "      <td>1002663.75</td>\n",
       "      <td>1005326.5</td>\n",
       "      <td>1008484.25</td>\n",
       "      <td>1011760.0</td>\n",
       "    </tr>\n",
       "    <tr>\n",
       "      <th>Yearly_avg_view_on_travel_page</th>\n",
       "      <td>10071.0</td>\n",
       "      <td>2.806878e+02</td>\n",
       "      <td>68.604222</td>\n",
       "      <td>35.0</td>\n",
       "      <td>231.00</td>\n",
       "      <td>271.0</td>\n",
       "      <td>324.00</td>\n",
       "      <td>464.0</td>\n",
       "    </tr>\n",
       "    <tr>\n",
       "      <th>total_likes_on_outstation_checkin_given</th>\n",
       "      <td>10271.0</td>\n",
       "      <td>2.821372e+04</td>\n",
       "      <td>14491.041876</td>\n",
       "      <td>3570.0</td>\n",
       "      <td>16285.00</td>\n",
       "      <td>28210.0</td>\n",
       "      <td>40670.00</td>\n",
       "      <td>252430.0</td>\n",
       "    </tr>\n",
       "    <tr>\n",
       "      <th>Yearly_avg_comment_on_travel_page</th>\n",
       "      <td>10446.0</td>\n",
       "      <td>7.450297e+01</td>\n",
       "      <td>24.305226</td>\n",
       "      <td>3.0</td>\n",
       "      <td>57.00</td>\n",
       "      <td>74.0</td>\n",
       "      <td>92.00</td>\n",
       "      <td>815.0</td>\n",
       "    </tr>\n",
       "    <tr>\n",
       "      <th>total_likes_on_outofstation_checkin_received</th>\n",
       "      <td>10652.0</td>\n",
       "      <td>6.563464e+03</td>\n",
       "      <td>4739.701522</td>\n",
       "      <td>1009.0</td>\n",
       "      <td>2945.75</td>\n",
       "      <td>4967.5</td>\n",
       "      <td>8394.25</td>\n",
       "      <td>20065.0</td>\n",
       "    </tr>\n",
       "    <tr>\n",
       "      <th>week_since_last_outstation_checkin</th>\n",
       "      <td>10652.0</td>\n",
       "      <td>3.224934e+00</td>\n",
       "      <td>2.628021</td>\n",
       "      <td>0.0</td>\n",
       "      <td>1.00</td>\n",
       "      <td>3.0</td>\n",
       "      <td>5.00</td>\n",
       "      <td>11.0</td>\n",
       "    </tr>\n",
       "    <tr>\n",
       "      <th>montly_avg_comment_on_company_page</th>\n",
       "      <td>10652.0</td>\n",
       "      <td>2.889692e+01</td>\n",
       "      <td>51.084242</td>\n",
       "      <td>11.0</td>\n",
       "      <td>17.00</td>\n",
       "      <td>22.0</td>\n",
       "      <td>27.00</td>\n",
       "      <td>500.0</td>\n",
       "    </tr>\n",
       "    <tr>\n",
       "      <th>travelling_network_rating</th>\n",
       "      <td>10652.0</td>\n",
       "      <td>2.705595e+00</td>\n",
       "      <td>1.080931</td>\n",
       "      <td>1.0</td>\n",
       "      <td>2.00</td>\n",
       "      <td>3.0</td>\n",
       "      <td>4.00</td>\n",
       "      <td>4.0</td>\n",
       "    </tr>\n",
       "    <tr>\n",
       "      <th>Adult_flag</th>\n",
       "      <td>10652.0</td>\n",
       "      <td>7.968457e-01</td>\n",
       "      <td>0.854243</td>\n",
       "      <td>0.0</td>\n",
       "      <td>0.00</td>\n",
       "      <td>1.0</td>\n",
       "      <td>1.00</td>\n",
       "      <td>3.0</td>\n",
       "    </tr>\n",
       "    <tr>\n",
       "      <th>Daily_Avg_mins_spend_on_traveling_page</th>\n",
       "      <td>10652.0</td>\n",
       "      <td>1.383740e+01</td>\n",
       "      <td>9.159876</td>\n",
       "      <td>0.0</td>\n",
       "      <td>8.00</td>\n",
       "      <td>12.0</td>\n",
       "      <td>18.00</td>\n",
       "      <td>270.0</td>\n",
       "    </tr>\n",
       "  </tbody>\n",
       "</table>\n",
       "</div>"
      ],
      "text/plain": [
       "                                                count          mean  \\\n",
       "UserID                                        10652.0  1.005575e+06   \n",
       "Yearly_avg_view_on_travel_page                10071.0  2.806878e+02   \n",
       "total_likes_on_outstation_checkin_given       10271.0  2.821372e+04   \n",
       "Yearly_avg_comment_on_travel_page             10446.0  7.450297e+01   \n",
       "total_likes_on_outofstation_checkin_received  10652.0  6.563464e+03   \n",
       "week_since_last_outstation_checkin            10652.0  3.224934e+00   \n",
       "montly_avg_comment_on_company_page            10652.0  2.889692e+01   \n",
       "travelling_network_rating                     10652.0  2.705595e+00   \n",
       "Adult_flag                                    10652.0  7.968457e-01   \n",
       "Daily_Avg_mins_spend_on_traveling_page        10652.0  1.383740e+01   \n",
       "\n",
       "                                                       std        min  \\\n",
       "UserID                                         3381.953331  1000001.0   \n",
       "Yearly_avg_view_on_travel_page                   68.604222       35.0   \n",
       "total_likes_on_outstation_checkin_given       14491.041876     3570.0   \n",
       "Yearly_avg_comment_on_travel_page                24.305226        3.0   \n",
       "total_likes_on_outofstation_checkin_received   4739.701522     1009.0   \n",
       "week_since_last_outstation_checkin                2.628021        0.0   \n",
       "montly_avg_comment_on_company_page               51.084242       11.0   \n",
       "travelling_network_rating                         1.080931        1.0   \n",
       "Adult_flag                                        0.854243        0.0   \n",
       "Daily_Avg_mins_spend_on_traveling_page            9.159876        0.0   \n",
       "\n",
       "                                                     25%        50%  \\\n",
       "UserID                                        1002663.75  1005326.5   \n",
       "Yearly_avg_view_on_travel_page                    231.00      271.0   \n",
       "total_likes_on_outstation_checkin_given         16285.00    28210.0   \n",
       "Yearly_avg_comment_on_travel_page                  57.00       74.0   \n",
       "total_likes_on_outofstation_checkin_received     2945.75     4967.5   \n",
       "week_since_last_outstation_checkin                  1.00        3.0   \n",
       "montly_avg_comment_on_company_page                 17.00       22.0   \n",
       "travelling_network_rating                           2.00        3.0   \n",
       "Adult_flag                                          0.00        1.0   \n",
       "Daily_Avg_mins_spend_on_traveling_page              8.00       12.0   \n",
       "\n",
       "                                                     75%        max  \n",
       "UserID                                        1008484.25  1011760.0  \n",
       "Yearly_avg_view_on_travel_page                    324.00      464.0  \n",
       "total_likes_on_outstation_checkin_given         40670.00   252430.0  \n",
       "Yearly_avg_comment_on_travel_page                  92.00      815.0  \n",
       "total_likes_on_outofstation_checkin_received     8394.25    20065.0  \n",
       "week_since_last_outstation_checkin                  5.00       11.0  \n",
       "montly_avg_comment_on_company_page                 27.00      500.0  \n",
       "travelling_network_rating                           4.00        4.0  \n",
       "Adult_flag                                          1.00        3.0  \n",
       "Daily_Avg_mins_spend_on_traveling_page             18.00      270.0  "
      ]
     },
     "execution_count": 110,
     "metadata": {},
     "output_type": "execute_result"
    }
   ],
   "source": [
    "data.describe().T"
   ]
  },
  {
   "cell_type": "code",
   "execution_count": 111,
   "id": "3fb5e8a0",
   "metadata": {},
   "outputs": [
    {
     "data": {
      "text/plain": [
       "(10652, 17)"
      ]
     },
     "execution_count": 111,
     "metadata": {},
     "output_type": "execute_result"
    }
   ],
   "source": [
    "data_mobile.shape"
   ]
  },
  {
   "cell_type": "code",
   "execution_count": 112,
   "id": "2ffd4c10",
   "metadata": {},
   "outputs": [
    {
     "data": {
      "text/plain": [
       "Index(['UserID', 'Taken_product', 'Yearly_avg_view_on_travel_page',\n",
       "       'preferred_device', 'total_likes_on_outstation_checkin_given',\n",
       "       'yearly_avg_Outstation_checkins', 'member_in_family',\n",
       "       'preferred_location_type', 'Yearly_avg_comment_on_travel_page',\n",
       "       'total_likes_on_outofstation_checkin_received',\n",
       "       'week_since_last_outstation_checkin', 'following_company_page',\n",
       "       'montly_avg_comment_on_company_page', 'working_flag',\n",
       "       'travelling_network_rating', 'Adult_flag',\n",
       "       'Daily_Avg_mins_spend_on_traveling_page'],\n",
       "      dtype='object')"
      ]
     },
     "execution_count": 112,
     "metadata": {},
     "output_type": "execute_result"
    }
   ],
   "source": [
    "data_mobile.columns"
   ]
  },
  {
   "cell_type": "code",
   "execution_count": 113,
   "id": "dbdea8d5",
   "metadata": {},
   "outputs": [
    {
     "name": "stdout",
     "output_type": "stream",
     "text": [
      "Number of duplicate rows = 0\n"
     ]
    }
   ],
   "source": [
    "dups = data_mobile.duplicated()\n",
    "print('Number of duplicate rows = %d' % (dups.sum()))"
   ]
  },
  {
   "cell_type": "code",
   "execution_count": 114,
   "id": "af26fb92",
   "metadata": {},
   "outputs": [],
   "source": [
    "df_mobile = data_mobile.drop('UserID',axis=1)"
   ]
  },
  {
   "cell_type": "code",
   "execution_count": 115,
   "id": "8b2bcf96",
   "metadata": {},
   "outputs": [
    {
     "data": {
      "text/html": [
       "<div>\n",
       "<style scoped>\n",
       "    .dataframe tbody tr th:only-of-type {\n",
       "        vertical-align: middle;\n",
       "    }\n",
       "\n",
       "    .dataframe tbody tr th {\n",
       "        vertical-align: top;\n",
       "    }\n",
       "\n",
       "    .dataframe thead th {\n",
       "        text-align: right;\n",
       "    }\n",
       "</style>\n",
       "<table border=\"1\" class=\"dataframe\">\n",
       "  <thead>\n",
       "    <tr style=\"text-align: right;\">\n",
       "      <th></th>\n",
       "      <th>0</th>\n",
       "      <th>1</th>\n",
       "      <th>2</th>\n",
       "      <th>3</th>\n",
       "      <th>4</th>\n",
       "    </tr>\n",
       "  </thead>\n",
       "  <tbody>\n",
       "    <tr>\n",
       "      <th>Taken_product</th>\n",
       "      <td>Yes</td>\n",
       "      <td>No</td>\n",
       "      <td>Yes</td>\n",
       "      <td>No</td>\n",
       "      <td>No</td>\n",
       "    </tr>\n",
       "    <tr>\n",
       "      <th>Yearly_avg_view_on_travel_page</th>\n",
       "      <td>307.0</td>\n",
       "      <td>367.0</td>\n",
       "      <td>277.0</td>\n",
       "      <td>247.0</td>\n",
       "      <td>202.0</td>\n",
       "    </tr>\n",
       "    <tr>\n",
       "      <th>preferred_device</th>\n",
       "      <td>iOS and Android</td>\n",
       "      <td>iOS</td>\n",
       "      <td>iOS and Android</td>\n",
       "      <td>iOS</td>\n",
       "      <td>iOS and Android</td>\n",
       "    </tr>\n",
       "    <tr>\n",
       "      <th>total_likes_on_outstation_checkin_given</th>\n",
       "      <td>38570.0</td>\n",
       "      <td>9765.0</td>\n",
       "      <td>48055.0</td>\n",
       "      <td>48720.0</td>\n",
       "      <td>20685.0</td>\n",
       "    </tr>\n",
       "    <tr>\n",
       "      <th>yearly_avg_Outstation_checkins</th>\n",
       "      <td>1</td>\n",
       "      <td>1</td>\n",
       "      <td>1</td>\n",
       "      <td>1</td>\n",
       "      <td>1</td>\n",
       "    </tr>\n",
       "    <tr>\n",
       "      <th>member_in_family</th>\n",
       "      <td>2</td>\n",
       "      <td>1</td>\n",
       "      <td>2</td>\n",
       "      <td>4</td>\n",
       "      <td>1</td>\n",
       "    </tr>\n",
       "    <tr>\n",
       "      <th>preferred_location_type</th>\n",
       "      <td>Financial</td>\n",
       "      <td>Financial</td>\n",
       "      <td>Other</td>\n",
       "      <td>Financial</td>\n",
       "      <td>Medical</td>\n",
       "    </tr>\n",
       "    <tr>\n",
       "      <th>Yearly_avg_comment_on_travel_page</th>\n",
       "      <td>94.0</td>\n",
       "      <td>61.0</td>\n",
       "      <td>92.0</td>\n",
       "      <td>56.0</td>\n",
       "      <td>40.0</td>\n",
       "    </tr>\n",
       "    <tr>\n",
       "      <th>total_likes_on_outofstation_checkin_received</th>\n",
       "      <td>5993</td>\n",
       "      <td>5130</td>\n",
       "      <td>2090</td>\n",
       "      <td>2909</td>\n",
       "      <td>3468</td>\n",
       "    </tr>\n",
       "    <tr>\n",
       "      <th>week_since_last_outstation_checkin</th>\n",
       "      <td>8</td>\n",
       "      <td>1</td>\n",
       "      <td>6</td>\n",
       "      <td>1</td>\n",
       "      <td>9</td>\n",
       "    </tr>\n",
       "    <tr>\n",
       "      <th>following_company_page</th>\n",
       "      <td>Yes</td>\n",
       "      <td>No</td>\n",
       "      <td>Yes</td>\n",
       "      <td>Yes</td>\n",
       "      <td>No</td>\n",
       "    </tr>\n",
       "    <tr>\n",
       "      <th>montly_avg_comment_on_company_page</th>\n",
       "      <td>11</td>\n",
       "      <td>23</td>\n",
       "      <td>15</td>\n",
       "      <td>11</td>\n",
       "      <td>12</td>\n",
       "    </tr>\n",
       "    <tr>\n",
       "      <th>working_flag</th>\n",
       "      <td>No</td>\n",
       "      <td>Yes</td>\n",
       "      <td>No</td>\n",
       "      <td>No</td>\n",
       "      <td>No</td>\n",
       "    </tr>\n",
       "    <tr>\n",
       "      <th>travelling_network_rating</th>\n",
       "      <td>1</td>\n",
       "      <td>4</td>\n",
       "      <td>2</td>\n",
       "      <td>3</td>\n",
       "      <td>4</td>\n",
       "    </tr>\n",
       "    <tr>\n",
       "      <th>Adult_flag</th>\n",
       "      <td>0</td>\n",
       "      <td>1</td>\n",
       "      <td>0</td>\n",
       "      <td>0</td>\n",
       "      <td>1</td>\n",
       "    </tr>\n",
       "    <tr>\n",
       "      <th>Daily_Avg_mins_spend_on_traveling_page</th>\n",
       "      <td>8</td>\n",
       "      <td>10</td>\n",
       "      <td>7</td>\n",
       "      <td>8</td>\n",
       "      <td>6</td>\n",
       "    </tr>\n",
       "  </tbody>\n",
       "</table>\n",
       "</div>"
      ],
      "text/plain": [
       "                                                            0          1  \\\n",
       "Taken_product                                             Yes         No   \n",
       "Yearly_avg_view_on_travel_page                          307.0      367.0   \n",
       "preferred_device                              iOS and Android        iOS   \n",
       "total_likes_on_outstation_checkin_given               38570.0     9765.0   \n",
       "yearly_avg_Outstation_checkins                              1          1   \n",
       "member_in_family                                            2          1   \n",
       "preferred_location_type                             Financial  Financial   \n",
       "Yearly_avg_comment_on_travel_page                        94.0       61.0   \n",
       "total_likes_on_outofstation_checkin_received             5993       5130   \n",
       "week_since_last_outstation_checkin                          8          1   \n",
       "following_company_page                                    Yes         No   \n",
       "montly_avg_comment_on_company_page                         11         23   \n",
       "working_flag                                               No        Yes   \n",
       "travelling_network_rating                                   1          4   \n",
       "Adult_flag                                                  0          1   \n",
       "Daily_Avg_mins_spend_on_traveling_page                      8         10   \n",
       "\n",
       "                                                            2          3  \\\n",
       "Taken_product                                             Yes         No   \n",
       "Yearly_avg_view_on_travel_page                          277.0      247.0   \n",
       "preferred_device                              iOS and Android        iOS   \n",
       "total_likes_on_outstation_checkin_given               48055.0    48720.0   \n",
       "yearly_avg_Outstation_checkins                              1          1   \n",
       "member_in_family                                            2          4   \n",
       "preferred_location_type                                 Other  Financial   \n",
       "Yearly_avg_comment_on_travel_page                        92.0       56.0   \n",
       "total_likes_on_outofstation_checkin_received             2090       2909   \n",
       "week_since_last_outstation_checkin                          6          1   \n",
       "following_company_page                                    Yes        Yes   \n",
       "montly_avg_comment_on_company_page                         15         11   \n",
       "working_flag                                               No         No   \n",
       "travelling_network_rating                                   2          3   \n",
       "Adult_flag                                                  0          0   \n",
       "Daily_Avg_mins_spend_on_traveling_page                      7          8   \n",
       "\n",
       "                                                            4  \n",
       "Taken_product                                              No  \n",
       "Yearly_avg_view_on_travel_page                          202.0  \n",
       "preferred_device                              iOS and Android  \n",
       "total_likes_on_outstation_checkin_given               20685.0  \n",
       "yearly_avg_Outstation_checkins                              1  \n",
       "member_in_family                                            1  \n",
       "preferred_location_type                               Medical  \n",
       "Yearly_avg_comment_on_travel_page                        40.0  \n",
       "total_likes_on_outofstation_checkin_received             3468  \n",
       "week_since_last_outstation_checkin                          9  \n",
       "following_company_page                                     No  \n",
       "montly_avg_comment_on_company_page                         12  \n",
       "working_flag                                               No  \n",
       "travelling_network_rating                                   4  \n",
       "Adult_flag                                                  1  \n",
       "Daily_Avg_mins_spend_on_traveling_page                      6  "
      ]
     },
     "execution_count": 115,
     "metadata": {},
     "output_type": "execute_result"
    }
   ],
   "source": [
    "df_mobile.head().T"
   ]
  },
  {
   "cell_type": "code",
   "execution_count": 116,
   "id": "910304af",
   "metadata": {},
   "outputs": [
    {
     "data": {
      "text/html": [
       "<div>\n",
       "<style scoped>\n",
       "    .dataframe tbody tr th:only-of-type {\n",
       "        vertical-align: middle;\n",
       "    }\n",
       "\n",
       "    .dataframe tbody tr th {\n",
       "        vertical-align: top;\n",
       "    }\n",
       "\n",
       "    .dataframe thead th {\n",
       "        text-align: right;\n",
       "    }\n",
       "</style>\n",
       "<table border=\"1\" class=\"dataframe\">\n",
       "  <thead>\n",
       "    <tr style=\"text-align: right;\">\n",
       "      <th></th>\n",
       "      <th>count</th>\n",
       "      <th>mean</th>\n",
       "      <th>std</th>\n",
       "      <th>min</th>\n",
       "      <th>25%</th>\n",
       "      <th>50%</th>\n",
       "      <th>75%</th>\n",
       "      <th>max</th>\n",
       "    </tr>\n",
       "  </thead>\n",
       "  <tbody>\n",
       "    <tr>\n",
       "      <th>Yearly_avg_view_on_travel_page</th>\n",
       "      <td>10071.0</td>\n",
       "      <td>280.687817</td>\n",
       "      <td>68.604222</td>\n",
       "      <td>35.0</td>\n",
       "      <td>231.00</td>\n",
       "      <td>271.0</td>\n",
       "      <td>324.00</td>\n",
       "      <td>464.0</td>\n",
       "    </tr>\n",
       "    <tr>\n",
       "      <th>total_likes_on_outstation_checkin_given</th>\n",
       "      <td>10271.0</td>\n",
       "      <td>28213.720572</td>\n",
       "      <td>14491.041876</td>\n",
       "      <td>3570.0</td>\n",
       "      <td>16285.00</td>\n",
       "      <td>28210.0</td>\n",
       "      <td>40670.00</td>\n",
       "      <td>252430.0</td>\n",
       "    </tr>\n",
       "    <tr>\n",
       "      <th>Yearly_avg_comment_on_travel_page</th>\n",
       "      <td>10446.0</td>\n",
       "      <td>74.502968</td>\n",
       "      <td>24.305226</td>\n",
       "      <td>3.0</td>\n",
       "      <td>57.00</td>\n",
       "      <td>74.0</td>\n",
       "      <td>92.00</td>\n",
       "      <td>815.0</td>\n",
       "    </tr>\n",
       "    <tr>\n",
       "      <th>total_likes_on_outofstation_checkin_received</th>\n",
       "      <td>10652.0</td>\n",
       "      <td>6563.464232</td>\n",
       "      <td>4739.701522</td>\n",
       "      <td>1009.0</td>\n",
       "      <td>2945.75</td>\n",
       "      <td>4967.5</td>\n",
       "      <td>8394.25</td>\n",
       "      <td>20065.0</td>\n",
       "    </tr>\n",
       "    <tr>\n",
       "      <th>week_since_last_outstation_checkin</th>\n",
       "      <td>10652.0</td>\n",
       "      <td>3.224934</td>\n",
       "      <td>2.628021</td>\n",
       "      <td>0.0</td>\n",
       "      <td>1.00</td>\n",
       "      <td>3.0</td>\n",
       "      <td>5.00</td>\n",
       "      <td>11.0</td>\n",
       "    </tr>\n",
       "    <tr>\n",
       "      <th>montly_avg_comment_on_company_page</th>\n",
       "      <td>10652.0</td>\n",
       "      <td>28.896921</td>\n",
       "      <td>51.084242</td>\n",
       "      <td>11.0</td>\n",
       "      <td>17.00</td>\n",
       "      <td>22.0</td>\n",
       "      <td>27.00</td>\n",
       "      <td>500.0</td>\n",
       "    </tr>\n",
       "    <tr>\n",
       "      <th>travelling_network_rating</th>\n",
       "      <td>10652.0</td>\n",
       "      <td>2.705595</td>\n",
       "      <td>1.080931</td>\n",
       "      <td>1.0</td>\n",
       "      <td>2.00</td>\n",
       "      <td>3.0</td>\n",
       "      <td>4.00</td>\n",
       "      <td>4.0</td>\n",
       "    </tr>\n",
       "    <tr>\n",
       "      <th>Adult_flag</th>\n",
       "      <td>10652.0</td>\n",
       "      <td>0.796846</td>\n",
       "      <td>0.854243</td>\n",
       "      <td>0.0</td>\n",
       "      <td>0.00</td>\n",
       "      <td>1.0</td>\n",
       "      <td>1.00</td>\n",
       "      <td>3.0</td>\n",
       "    </tr>\n",
       "    <tr>\n",
       "      <th>Daily_Avg_mins_spend_on_traveling_page</th>\n",
       "      <td>10652.0</td>\n",
       "      <td>13.837401</td>\n",
       "      <td>9.159876</td>\n",
       "      <td>0.0</td>\n",
       "      <td>8.00</td>\n",
       "      <td>12.0</td>\n",
       "      <td>18.00</td>\n",
       "      <td>270.0</td>\n",
       "    </tr>\n",
       "  </tbody>\n",
       "</table>\n",
       "</div>"
      ],
      "text/plain": [
       "                                                count          mean  \\\n",
       "Yearly_avg_view_on_travel_page                10071.0    280.687817   \n",
       "total_likes_on_outstation_checkin_given       10271.0  28213.720572   \n",
       "Yearly_avg_comment_on_travel_page             10446.0     74.502968   \n",
       "total_likes_on_outofstation_checkin_received  10652.0   6563.464232   \n",
       "week_since_last_outstation_checkin            10652.0      3.224934   \n",
       "montly_avg_comment_on_company_page            10652.0     28.896921   \n",
       "travelling_network_rating                     10652.0      2.705595   \n",
       "Adult_flag                                    10652.0      0.796846   \n",
       "Daily_Avg_mins_spend_on_traveling_page        10652.0     13.837401   \n",
       "\n",
       "                                                       std     min       25%  \\\n",
       "Yearly_avg_view_on_travel_page                   68.604222    35.0    231.00   \n",
       "total_likes_on_outstation_checkin_given       14491.041876  3570.0  16285.00   \n",
       "Yearly_avg_comment_on_travel_page                24.305226     3.0     57.00   \n",
       "total_likes_on_outofstation_checkin_received   4739.701522  1009.0   2945.75   \n",
       "week_since_last_outstation_checkin                2.628021     0.0      1.00   \n",
       "montly_avg_comment_on_company_page               51.084242    11.0     17.00   \n",
       "travelling_network_rating                         1.080931     1.0      2.00   \n",
       "Adult_flag                                        0.854243     0.0      0.00   \n",
       "Daily_Avg_mins_spend_on_traveling_page            9.159876     0.0      8.00   \n",
       "\n",
       "                                                  50%       75%       max  \n",
       "Yearly_avg_view_on_travel_page                  271.0    324.00     464.0  \n",
       "total_likes_on_outstation_checkin_given       28210.0  40670.00  252430.0  \n",
       "Yearly_avg_comment_on_travel_page                74.0     92.00     815.0  \n",
       "total_likes_on_outofstation_checkin_received   4967.5   8394.25   20065.0  \n",
       "week_since_last_outstation_checkin                3.0      5.00      11.0  \n",
       "montly_avg_comment_on_company_page               22.0     27.00     500.0  \n",
       "travelling_network_rating                         3.0      4.00       4.0  \n",
       "Adult_flag                                        1.0      1.00       3.0  \n",
       "Daily_Avg_mins_spend_on_traveling_page           12.0     18.00     270.0  "
      ]
     },
     "execution_count": 116,
     "metadata": {},
     "output_type": "execute_result"
    }
   ],
   "source": [
    "df_mobile.describe().T"
   ]
  },
  {
   "cell_type": "code",
   "execution_count": 117,
   "id": "9db6cecb",
   "metadata": {},
   "outputs": [
    {
     "name": "stdout",
     "output_type": "stream",
     "text": [
      "<class 'pandas.core.frame.DataFrame'>\n",
      "RangeIndex: 10652 entries, 0 to 10651\n",
      "Data columns (total 16 columns):\n",
      " #   Column                                        Non-Null Count  Dtype  \n",
      "---  ------                                        --------------  -----  \n",
      " 0   Taken_product                                 10652 non-null  object \n",
      " 1   Yearly_avg_view_on_travel_page                10071 non-null  float64\n",
      " 2   preferred_device                              10599 non-null  object \n",
      " 3   total_likes_on_outstation_checkin_given       10271 non-null  float64\n",
      " 4   yearly_avg_Outstation_checkins                10577 non-null  object \n",
      " 5   member_in_family                              10652 non-null  object \n",
      " 6   preferred_location_type                       10621 non-null  object \n",
      " 7   Yearly_avg_comment_on_travel_page             10446 non-null  float64\n",
      " 8   total_likes_on_outofstation_checkin_received  10652 non-null  int64  \n",
      " 9   week_since_last_outstation_checkin            10652 non-null  int64  \n",
      " 10  following_company_page                        10549 non-null  object \n",
      " 11  montly_avg_comment_on_company_page            10652 non-null  int64  \n",
      " 12  working_flag                                  10652 non-null  object \n",
      " 13  travelling_network_rating                     10652 non-null  int64  \n",
      " 14  Adult_flag                                    10652 non-null  int64  \n",
      " 15  Daily_Avg_mins_spend_on_traveling_page        10652 non-null  int64  \n",
      "dtypes: float64(3), int64(6), object(7)\n",
      "memory usage: 1.3+ MB\n"
     ]
    }
   ],
   "source": [
    "df_mobile.info()"
   ]
  },
  {
   "cell_type": "code",
   "execution_count": 118,
   "id": "a79a858a",
   "metadata": {},
   "outputs": [
    {
     "data": {
      "text/plain": [
       "Taken_product                                     0\n",
       "Yearly_avg_view_on_travel_page                  581\n",
       "preferred_device                                 53\n",
       "total_likes_on_outstation_checkin_given         381\n",
       "yearly_avg_Outstation_checkins                   75\n",
       "member_in_family                                  0\n",
       "preferred_location_type                          31\n",
       "Yearly_avg_comment_on_travel_page               206\n",
       "total_likes_on_outofstation_checkin_received      0\n",
       "week_since_last_outstation_checkin                0\n",
       "following_company_page                          103\n",
       "montly_avg_comment_on_company_page                0\n",
       "working_flag                                      0\n",
       "travelling_network_rating                         0\n",
       "Adult_flag                                        0\n",
       "Daily_Avg_mins_spend_on_traveling_page            0\n",
       "dtype: int64"
      ]
     },
     "execution_count": 118,
     "metadata": {},
     "output_type": "execute_result"
    }
   ],
   "source": [
    "df_mobile.isnull().sum()"
   ]
  },
  {
   "cell_type": "markdown",
   "id": "0f45ee43",
   "metadata": {},
   "source": [
    "Displaying unique values"
   ]
  },
  {
   "cell_type": "code",
   "execution_count": 119,
   "id": "95f6f8ef",
   "metadata": {},
   "outputs": [
    {
     "name": "stdout",
     "output_type": "stream",
     "text": [
      "Taken_product\n",
      "['Yes' 'No']\n",
      "\n",
      "\n",
      "preferred_device\n",
      "['iOS and Android' 'iOS' 'ANDROID' nan 'Android' 'Android OS' 'Other'\n",
      " 'Others' 'Tab' 'Mobile']\n",
      "\n",
      "\n",
      "yearly_avg_Outstation_checkins\n",
      "[1 24 23 27 16 15 26 19 21 11 10 25 12 18 29 nan 22 14 20 28 17 13 '*' 5 2\n",
      " 3 9 7 6 8 4]\n",
      "\n",
      "\n",
      "member_in_family\n",
      "[2 1 4 'Three' 3 5 10]\n",
      "\n",
      "\n",
      "preferred_location_type\n",
      "['Financial' 'Other' 'Medical' nan 'Game' 'Social media' 'Entertainment'\n",
      " 'Tour and Travel' 'Movie' 'OTT' 'Tour  Travel' 'Beach' 'Historical site'\n",
      " 'Big Cities' 'Trekking' 'Hill Stations']\n",
      "\n",
      "\n",
      "following_company_page\n",
      "['Yes' 'No' nan 1 0]\n",
      "\n",
      "\n",
      "working_flag\n",
      "['No' 'Yes']\n",
      "\n",
      "\n"
     ]
    }
   ],
   "source": [
    "for i in df_mobile.columns:\n",
    "    if df_mobile[i].dtype == 'object':\n",
    "        print(i)\n",
    "        print(df_mobile[i].unique())\n",
    "        print(\"\\n\")"
   ]
  },
  {
   "cell_type": "markdown",
   "id": "a22b738a",
   "metadata": {},
   "source": [
    "Cleaning the dataset"
   ]
  },
  {
   "cell_type": "code",
   "execution_count": 120,
   "id": "669a2e8d",
   "metadata": {},
   "outputs": [],
   "source": [
    "#There seems to be certain garbage values in the dataset. Lets set that right by replacing them with null values\n",
    "\n",
    "df_mobile['yearly_avg_Outstation_checkins'] = df_mobile['yearly_avg_Outstation_checkins'].replace('*',np.nan)"
   ]
  },
  {
   "cell_type": "code",
   "execution_count": 121,
   "id": "dd883311",
   "metadata": {},
   "outputs": [],
   "source": [
    "#As the garbage value is nothing but the value 3 is written in the text format\n",
    "\n",
    "df_mobile['member_in_family'] = df_mobile['member_in_family'].replace('Three',3)"
   ]
  },
  {
   "cell_type": "code",
   "execution_count": 122,
   "id": "56b683bf",
   "metadata": {},
   "outputs": [],
   "source": [
    "#Changing 'Yes' into 1 and 'No' to 0\n",
    "\n",
    "df_mobile['following_company_page'] = df_mobile['following_company_page'].replace('Yes','1')\n",
    "df_mobile['following_company_page'] = df_mobile['following_company_page'].replace('No','0')"
   ]
  },
  {
   "cell_type": "code",
   "execution_count": 123,
   "id": "1ff64c51",
   "metadata": {},
   "outputs": [],
   "source": [
    "df_mobile['Taken_product'] = df_mobile['Taken_product'].replace('Yes','1')\n",
    "df_mobile['Taken_product'] = df_mobile['Taken_product'].replace('No','0')\n",
    "\n",
    "df_mobile['working_flag'] = df_mobile['working_flag'].replace('Yes','1')\n",
    "df_mobile['working_flag'] = df_mobile['working_flag'].replace('No','0')\n",
    "\n",
    "df_mobile['following_company_page'] = df_mobile['following_company_page'].replace(1,'1')\n",
    "df_mobile['following_company_page'] = df_mobile['following_company_page'].replace(0,'0')"
   ]
  },
  {
   "cell_type": "code",
   "execution_count": 124,
   "id": "a28c2aba",
   "metadata": {},
   "outputs": [],
   "source": [
    "df_mobile['preferred_location_type'] = df_mobile['preferred_location_type'].replace('Tour  Travel','Tour and Travel')\n",
    "df_mobile['preferred_location_type'] = df_mobile['preferred_location_type'].replace('Game','Entertainment')\n",
    "df_mobile['preferred_location_type'] = df_mobile['preferred_location_type'].replace('Movie','Entertainment')"
   ]
  },
  {
   "cell_type": "code",
   "execution_count": 125,
   "id": "ba27f2ac",
   "metadata": {},
   "outputs": [
    {
     "name": "stdout",
     "output_type": "stream",
     "text": [
      "Taken_product\n",
      "['1' '0']\n",
      "\n",
      "preferred_device\n",
      "['iOS and Android' 'iOS' 'ANDROID' nan 'Android' 'Android OS' 'Other'\n",
      " 'Others' 'Tab' 'Mobile']\n",
      "\n",
      "preferred_location_type\n",
      "['Financial' 'Other' 'Medical' nan 'Entertainment' 'Social media'\n",
      " 'Tour and Travel' 'OTT' 'Beach' 'Historical site' 'Big Cities' 'Trekking'\n",
      " 'Hill Stations']\n",
      "\n",
      "following_company_page\n",
      "['1' '0' nan]\n",
      "\n",
      "working_flag\n",
      "['0' '1']\n",
      "\n"
     ]
    }
   ],
   "source": [
    "for i in df_mobile.columns:\n",
    "    if df_mobile[i].dtype == 'object':\n",
    "        print(i)\n",
    "        print(df_mobile[i].unique()) \n",
    "        print()  "
   ]
  },
  {
   "cell_type": "code",
   "execution_count": 126,
   "id": "39c18244",
   "metadata": {},
   "outputs": [],
   "source": [
    "df_mobile['Adult_flag'] = df_mobile['Adult_flag'].replace(1,0)\n",
    "df_mobile['Adult_flag'] = df_mobile['Adult_flag'].replace(2,1)\n",
    "df_mobile['Adult_flag'] = df_mobile['Adult_flag'].replace(3,1)"
   ]
  },
  {
   "cell_type": "code",
   "execution_count": 127,
   "id": "260cac8b",
   "metadata": {},
   "outputs": [
    {
     "data": {
      "text/plain": [
       "array([0, 1], dtype=int64)"
      ]
     },
     "execution_count": 127,
     "metadata": {},
     "output_type": "execute_result"
    }
   ],
   "source": [
    "df_mobile['Adult_flag'].unique()"
   ]
  },
  {
   "cell_type": "code",
   "execution_count": 128,
   "id": "3e47f876",
   "metadata": {},
   "outputs": [
    {
     "data": {
      "text/plain": [
       "Index(['Taken_product', 'Yearly_avg_view_on_travel_page', 'preferred_device',\n",
       "       'total_likes_on_outstation_checkin_given',\n",
       "       'yearly_avg_Outstation_checkins', 'member_in_family',\n",
       "       'preferred_location_type', 'Yearly_avg_comment_on_travel_page',\n",
       "       'total_likes_on_outofstation_checkin_received',\n",
       "       'week_since_last_outstation_checkin', 'following_company_page',\n",
       "       'montly_avg_comment_on_company_page', 'working_flag',\n",
       "       'travelling_network_rating', 'Adult_flag',\n",
       "       'Daily_Avg_mins_spend_on_traveling_page'],\n",
       "      dtype='object')"
      ]
     },
     "execution_count": 128,
     "metadata": {},
     "output_type": "execute_result"
    }
   ],
   "source": [
    "df_mobile.columns"
   ]
  },
  {
   "cell_type": "markdown",
   "id": "48d1b653",
   "metadata": {},
   "source": [
    "Replacing the null values"
   ]
  },
  {
   "cell_type": "code",
   "execution_count": 129,
   "id": "76962693",
   "metadata": {},
   "outputs": [],
   "source": [
    "df_mobile['preferred_location_type'] = df_mobile['preferred_location_type'].replace(np.nan,df_mobile['preferred_location_type'].mode()[0])"
   ]
  },
  {
   "cell_type": "code",
   "execution_count": 130,
   "id": "706343b8",
   "metadata": {},
   "outputs": [
    {
     "data": {
      "text/plain": [
       "array(['Financial', 'Other', 'Medical', 'Entertainment', 'Social media',\n",
       "       'Tour and Travel', 'OTT', 'Beach', 'Historical site', 'Big Cities',\n",
       "       'Trekking', 'Hill Stations'], dtype=object)"
      ]
     },
     "execution_count": 130,
     "metadata": {},
     "output_type": "execute_result"
    }
   ],
   "source": [
    "df_mobile['preferred_location_type'].unique()"
   ]
  },
  {
   "cell_type": "code",
   "execution_count": 131,
   "id": "1651de2c",
   "metadata": {},
   "outputs": [],
   "source": [
    "df_mobile['yearly_avg_Outstation_checkins'] = df_mobile['yearly_avg_Outstation_checkins'].replace(np.nan,df_mobile['yearly_avg_Outstation_checkins'].mode()[0])"
   ]
  },
  {
   "cell_type": "code",
   "execution_count": 132,
   "id": "8948e7d3",
   "metadata": {},
   "outputs": [
    {
     "data": {
      "text/plain": [
       "array([ 1., 24., 23., 27., 16., 15., 26., 19., 21., 11., 10., 25., 12.,\n",
       "       18., 29., 22., 14., 20., 28., 17., 13.,  5.,  2.,  3.,  9.,  7.,\n",
       "        6.,  8.,  4.])"
      ]
     },
     "execution_count": 132,
     "metadata": {},
     "output_type": "execute_result"
    }
   ],
   "source": [
    "df_mobile['yearly_avg_Outstation_checkins'].unique()"
   ]
  },
  {
   "cell_type": "code",
   "execution_count": 133,
   "id": "72882075",
   "metadata": {},
   "outputs": [],
   "source": [
    "df_mobile['following_company_page'] = df_mobile['following_company_page'].replace(np.nan,df_mobile['following_company_page'].mode()[0])"
   ]
  },
  {
   "cell_type": "code",
   "execution_count": 134,
   "id": "652ec5b8",
   "metadata": {},
   "outputs": [
    {
     "data": {
      "text/plain": [
       "array(['1', '0'], dtype=object)"
      ]
     },
     "execution_count": 134,
     "metadata": {},
     "output_type": "execute_result"
    }
   ],
   "source": [
    "df_mobile['following_company_page'].unique()"
   ]
  },
  {
   "cell_type": "code",
   "execution_count": 135,
   "id": "cb6217b3",
   "metadata": {},
   "outputs": [],
   "source": [
    "df_mobile['preferred_device'] = df_mobile['preferred_device'].replace(np.nan,df_mobile['preferred_device'].mode()[0])"
   ]
  },
  {
   "cell_type": "code",
   "execution_count": 136,
   "id": "a2898f0a",
   "metadata": {},
   "outputs": [
    {
     "data": {
      "text/plain": [
       "array(['iOS and Android', 'iOS', 'ANDROID', 'Tab', 'Android',\n",
       "       'Android OS', 'Other', 'Others', 'Mobile'], dtype=object)"
      ]
     },
     "execution_count": 136,
     "metadata": {},
     "output_type": "execute_result"
    }
   ],
   "source": [
    "df_mobile['preferred_device'].unique()"
   ]
  },
  {
   "cell_type": "code",
   "execution_count": 137,
   "id": "68672a6d",
   "metadata": {},
   "outputs": [],
   "source": [
    "df_mobile['preferred_device'] = df_mobile['preferred_device'].replace('iOS',0)\n",
    "df_mobile['preferred_device'] = df_mobile['preferred_device'].replace('iOS and Android',0)\n",
    "df_mobile['preferred_device'] = df_mobile['preferred_device'].replace('ANDROID',0)\n",
    "df_mobile['preferred_device'] = df_mobile['preferred_device'].replace('Tab',0)\n",
    "df_mobile['preferred_device'] = df_mobile['preferred_device'].replace('Android',0)\n",
    "df_mobile['preferred_device'] = df_mobile['preferred_device'].replace('Android OS',0)\n",
    "df_mobile['preferred_device'] = df_mobile['preferred_device'].replace('Other',0)\n",
    "df_mobile['preferred_device'] = df_mobile['preferred_device'].replace('Others',0)\n",
    "df_mobile['preferred_device'] = df_mobile['preferred_device'].replace('Mobile',0)"
   ]
  },
  {
   "cell_type": "code",
   "execution_count": 138,
   "id": "21d0ad00",
   "metadata": {},
   "outputs": [
    {
     "data": {
      "text/plain": [
       "array([0], dtype=int64)"
      ]
     },
     "execution_count": 138,
     "metadata": {},
     "output_type": "execute_result"
    }
   ],
   "source": [
    "df_mobile['preferred_device'].unique()"
   ]
  },
  {
   "cell_type": "code",
   "execution_count": 139,
   "id": "f5163177",
   "metadata": {},
   "outputs": [
    {
     "name": "stdout",
     "output_type": "stream",
     "text": [
      "<class 'pandas.core.frame.DataFrame'>\n",
      "RangeIndex: 10652 entries, 0 to 10651\n",
      "Data columns (total 16 columns):\n",
      " #   Column                                        Non-Null Count  Dtype  \n",
      "---  ------                                        --------------  -----  \n",
      " 0   Taken_product                                 10652 non-null  object \n",
      " 1   Yearly_avg_view_on_travel_page                10071 non-null  float64\n",
      " 2   preferred_device                              10652 non-null  int64  \n",
      " 3   total_likes_on_outstation_checkin_given       10271 non-null  float64\n",
      " 4   yearly_avg_Outstation_checkins                10652 non-null  float64\n",
      " 5   member_in_family                              10652 non-null  int64  \n",
      " 6   preferred_location_type                       10652 non-null  object \n",
      " 7   Yearly_avg_comment_on_travel_page             10446 non-null  float64\n",
      " 8   total_likes_on_outofstation_checkin_received  10652 non-null  int64  \n",
      " 9   week_since_last_outstation_checkin            10652 non-null  int64  \n",
      " 10  following_company_page                        10652 non-null  object \n",
      " 11  montly_avg_comment_on_company_page            10652 non-null  int64  \n",
      " 12  working_flag                                  10652 non-null  object \n",
      " 13  travelling_network_rating                     10652 non-null  int64  \n",
      " 14  Adult_flag                                    10652 non-null  int64  \n",
      " 15  Daily_Avg_mins_spend_on_traveling_page        10652 non-null  int64  \n",
      "dtypes: float64(4), int64(8), object(4)\n",
      "memory usage: 1.3+ MB\n"
     ]
    }
   ],
   "source": [
    "df_mobile.info()"
   ]
  },
  {
   "cell_type": "code",
   "execution_count": 140,
   "id": "52977e9d",
   "metadata": {},
   "outputs": [
    {
     "data": {
      "text/plain": [
       "dtype('int64')"
      ]
     },
     "execution_count": 140,
     "metadata": {},
     "output_type": "execute_result"
    }
   ],
   "source": [
    "#Changing certain columns into int\n",
    "\n",
    "df_mobile['preferred_device'] = df_mobile['preferred_device'].astype('int64')\n",
    "df_mobile['preferred_device'].dtype"
   ]
  },
  {
   "cell_type": "code",
   "execution_count": 141,
   "id": "021c6042",
   "metadata": {},
   "outputs": [],
   "source": [
    "#Changing certain columns into int\n",
    "\n",
    "df_mobile['working_flag'] = df_mobile['working_flag'].astype('int64')"
   ]
  },
  {
   "cell_type": "code",
   "execution_count": 142,
   "id": "00f80976",
   "metadata": {},
   "outputs": [],
   "source": [
    "#Changing certain columns into int\n",
    "\n",
    "df_mobile['Taken_product'] = df_mobile['Taken_product'].astype('int64')"
   ]
  },
  {
   "cell_type": "code",
   "execution_count": 143,
   "id": "4e9b0406",
   "metadata": {},
   "outputs": [],
   "source": [
    "#Changing certain columns into int\n",
    "\n",
    "df_mobile['member_in_family'] = df_mobile['member_in_family'].astype('int64')"
   ]
  },
  {
   "cell_type": "code",
   "execution_count": 144,
   "id": "bfde86ad",
   "metadata": {},
   "outputs": [],
   "source": [
    "#Changing certain columns into int\n",
    "\n",
    "df_mobile['following_company_page'] = df_mobile['following_company_page'].astype('int64')"
   ]
  },
  {
   "cell_type": "code",
   "execution_count": 145,
   "id": "789d20e8",
   "metadata": {},
   "outputs": [],
   "source": [
    "#Changing certain columns into int\n",
    "\n",
    "df_mobile['travelling_network_rating'] = df_mobile['travelling_network_rating'].astype('int64')"
   ]
  },
  {
   "cell_type": "code",
   "execution_count": 146,
   "id": "434e9b61",
   "metadata": {},
   "outputs": [],
   "source": [
    "#Changing certain columns into int\n",
    "\n",
    "df_mobile['Adult_flag'] = df_mobile['Adult_flag'].astype('int64')"
   ]
  },
  {
   "cell_type": "code",
   "execution_count": 147,
   "id": "e7679e2e",
   "metadata": {},
   "outputs": [
    {
     "name": "stdout",
     "output_type": "stream",
     "text": [
      "Feature: Preferred location type\n",
      "['Financial', 'Other', 'Medical', 'Entertainment', 'Social media', ..., 'Beach', 'Historical site', 'Big Cities', 'Trekking', 'Hill Stations']\n",
      "Length: 12\n",
      "Categories (12, object): ['Beach', 'Big Cities', 'Entertainment', 'Financial', ..., 'Other', 'Social media', 'Tour and Travel', 'Trekking']\n",
      "[ 3  8  6  2  9 10  7  0  5  1 11  4]\n"
     ]
    }
   ],
   "source": [
    "print('Feature: Preferred location type')\n",
    "print(pd.Categorical(df_mobile['preferred_location_type'].unique()))\n",
    "print(pd.Categorical(df_mobile['preferred_location_type'].unique()).codes)\n",
    "df_mobile['preferred_location_type'] = pd.Categorical(df_mobile['preferred_location_type']).codes"
   ]
  },
  {
   "cell_type": "code",
   "execution_count": 148,
   "id": "1b7fd7a0",
   "metadata": {},
   "outputs": [
    {
     "data": {
      "text/plain": [
       "3     2440\n",
       "0     1932\n",
       "6     1845\n",
       "5     1512\n",
       "9      633\n",
       "8      587\n",
       "2      533\n",
       "1      528\n",
       "11     444\n",
       "10     107\n",
       "4       84\n",
       "7        7\n",
       "Name: preferred_location_type, dtype: int64"
      ]
     },
     "execution_count": 148,
     "metadata": {},
     "output_type": "execute_result"
    }
   ],
   "source": [
    "df_mobile['preferred_location_type'].value_counts()"
   ]
  },
  {
   "cell_type": "code",
   "execution_count": 149,
   "id": "c74ede4a",
   "metadata": {},
   "outputs": [],
   "source": [
    "#Changing certain columns into int\n",
    "\n",
    "df_mobile['yearly_avg_Outstation_checkins'] = df_mobile['yearly_avg_Outstation_checkins'].astype('int64')"
   ]
  },
  {
   "cell_type": "code",
   "execution_count": 150,
   "id": "471a93c4",
   "metadata": {},
   "outputs": [
    {
     "data": {
      "text/plain": [
       "dtype('int64')"
      ]
     },
     "execution_count": 150,
     "metadata": {},
     "output_type": "execute_result"
    }
   ],
   "source": [
    "df_mobile['yearly_avg_Outstation_checkins'].dtype"
   ]
  },
  {
   "cell_type": "code",
   "execution_count": 151,
   "id": "e4dc9163",
   "metadata": {},
   "outputs": [
    {
     "name": "stdout",
     "output_type": "stream",
     "text": [
      "<class 'pandas.core.frame.DataFrame'>\n",
      "RangeIndex: 10652 entries, 0 to 10651\n",
      "Data columns (total 16 columns):\n",
      " #   Column                                        Non-Null Count  Dtype  \n",
      "---  ------                                        --------------  -----  \n",
      " 0   Taken_product                                 10652 non-null  int64  \n",
      " 1   Yearly_avg_view_on_travel_page                10071 non-null  float64\n",
      " 2   preferred_device                              10652 non-null  int64  \n",
      " 3   total_likes_on_outstation_checkin_given       10271 non-null  float64\n",
      " 4   yearly_avg_Outstation_checkins                10652 non-null  int64  \n",
      " 5   member_in_family                              10652 non-null  int64  \n",
      " 6   preferred_location_type                       10652 non-null  int8   \n",
      " 7   Yearly_avg_comment_on_travel_page             10446 non-null  float64\n",
      " 8   total_likes_on_outofstation_checkin_received  10652 non-null  int64  \n",
      " 9   week_since_last_outstation_checkin            10652 non-null  int64  \n",
      " 10  following_company_page                        10652 non-null  int64  \n",
      " 11  montly_avg_comment_on_company_page            10652 non-null  int64  \n",
      " 12  working_flag                                  10652 non-null  int64  \n",
      " 13  travelling_network_rating                     10652 non-null  int64  \n",
      " 14  Adult_flag                                    10652 non-null  int64  \n",
      " 15  Daily_Avg_mins_spend_on_traveling_page        10652 non-null  int64  \n",
      "dtypes: float64(3), int64(12), int8(1)\n",
      "memory usage: 1.2 MB\n"
     ]
    }
   ],
   "source": [
    "df_mobile.info()"
   ]
  },
  {
   "cell_type": "markdown",
   "id": "57305e58",
   "metadata": {},
   "source": [
    "Checking null values for numerical columns"
   ]
  },
  {
   "cell_type": "code",
   "execution_count": 152,
   "id": "592dec43",
   "metadata": {},
   "outputs": [
    {
     "data": {
      "text/plain": [
       "Taken_product                                     0\n",
       "Yearly_avg_view_on_travel_page                  581\n",
       "preferred_device                                  0\n",
       "total_likes_on_outstation_checkin_given         381\n",
       "yearly_avg_Outstation_checkins                    0\n",
       "member_in_family                                  0\n",
       "preferred_location_type                           0\n",
       "Yearly_avg_comment_on_travel_page               206\n",
       "total_likes_on_outofstation_checkin_received      0\n",
       "week_since_last_outstation_checkin                0\n",
       "following_company_page                            0\n",
       "montly_avg_comment_on_company_page                0\n",
       "working_flag                                      0\n",
       "travelling_network_rating                         0\n",
       "Adult_flag                                        0\n",
       "Daily_Avg_mins_spend_on_traveling_page            0\n",
       "dtype: int64"
      ]
     },
     "execution_count": 152,
     "metadata": {},
     "output_type": "execute_result"
    }
   ],
   "source": [
    "df_mobile.isnull().sum()"
   ]
  },
  {
   "cell_type": "code",
   "execution_count": 153,
   "id": "3390c70e",
   "metadata": {},
   "outputs": [],
   "source": [
    "df_mobile['Yearly_avg_view_on_travel_page'] = df_mobile['Yearly_avg_view_on_travel_page'].replace(np.nan,df_mobile['Yearly_avg_view_on_travel_page'].median())\n",
    "df_mobile['total_likes_on_outstation_checkin_given'] = df_mobile['total_likes_on_outstation_checkin_given'].replace(np.nan,df_mobile['total_likes_on_outstation_checkin_given'].median())\n",
    "df_mobile['Yearly_avg_comment_on_travel_page'] = df_mobile['Yearly_avg_comment_on_travel_page'].replace(np.nan,df_mobile['Yearly_avg_comment_on_travel_page'].median())"
   ]
  },
  {
   "cell_type": "code",
   "execution_count": 154,
   "id": "3428ec83",
   "metadata": {},
   "outputs": [
    {
     "data": {
      "text/plain": [
       "Taken_product                                   0\n",
       "Yearly_avg_view_on_travel_page                  0\n",
       "preferred_device                                0\n",
       "total_likes_on_outstation_checkin_given         0\n",
       "yearly_avg_Outstation_checkins                  0\n",
       "member_in_family                                0\n",
       "preferred_location_type                         0\n",
       "Yearly_avg_comment_on_travel_page               0\n",
       "total_likes_on_outofstation_checkin_received    0\n",
       "week_since_last_outstation_checkin              0\n",
       "following_company_page                          0\n",
       "montly_avg_comment_on_company_page              0\n",
       "working_flag                                    0\n",
       "travelling_network_rating                       0\n",
       "Adult_flag                                      0\n",
       "Daily_Avg_mins_spend_on_traveling_page          0\n",
       "dtype: int64"
      ]
     },
     "execution_count": 154,
     "metadata": {},
     "output_type": "execute_result"
    }
   ],
   "source": [
    "df_mobile.isnull().sum()"
   ]
  },
  {
   "cell_type": "code",
   "execution_count": 155,
   "id": "4a26d663",
   "metadata": {},
   "outputs": [
    {
     "data": {
      "text/html": [
       "<div>\n",
       "<style scoped>\n",
       "    .dataframe tbody tr th:only-of-type {\n",
       "        vertical-align: middle;\n",
       "    }\n",
       "\n",
       "    .dataframe tbody tr th {\n",
       "        vertical-align: top;\n",
       "    }\n",
       "\n",
       "    .dataframe thead th {\n",
       "        text-align: right;\n",
       "    }\n",
       "</style>\n",
       "<table border=\"1\" class=\"dataframe\">\n",
       "  <thead>\n",
       "    <tr style=\"text-align: right;\">\n",
       "      <th></th>\n",
       "      <th>count</th>\n",
       "      <th>mean</th>\n",
       "      <th>std</th>\n",
       "      <th>min</th>\n",
       "      <th>25%</th>\n",
       "      <th>50%</th>\n",
       "      <th>75%</th>\n",
       "      <th>max</th>\n",
       "    </tr>\n",
       "  </thead>\n",
       "  <tbody>\n",
       "    <tr>\n",
       "      <th>Taken_product</th>\n",
       "      <td>10652.0</td>\n",
       "      <td>0.152084</td>\n",
       "      <td>0.359119</td>\n",
       "      <td>0.0</td>\n",
       "      <td>0.00</td>\n",
       "      <td>0.0</td>\n",
       "      <td>0.00</td>\n",
       "      <td>1.0</td>\n",
       "    </tr>\n",
       "    <tr>\n",
       "      <th>Yearly_avg_view_on_travel_page</th>\n",
       "      <td>10652.0</td>\n",
       "      <td>280.159407</td>\n",
       "      <td>66.743114</td>\n",
       "      <td>35.0</td>\n",
       "      <td>232.00</td>\n",
       "      <td>271.0</td>\n",
       "      <td>321.00</td>\n",
       "      <td>464.0</td>\n",
       "    </tr>\n",
       "    <tr>\n",
       "      <th>preferred_device</th>\n",
       "      <td>10652.0</td>\n",
       "      <td>0.000000</td>\n",
       "      <td>0.000000</td>\n",
       "      <td>0.0</td>\n",
       "      <td>0.00</td>\n",
       "      <td>0.0</td>\n",
       "      <td>0.00</td>\n",
       "      <td>0.0</td>\n",
       "    </tr>\n",
       "    <tr>\n",
       "      <th>total_likes_on_outstation_checkin_given</th>\n",
       "      <td>10652.0</td>\n",
       "      <td>28213.587495</td>\n",
       "      <td>14229.500048</td>\n",
       "      <td>3570.0</td>\n",
       "      <td>16529.25</td>\n",
       "      <td>28210.0</td>\n",
       "      <td>40149.50</td>\n",
       "      <td>252430.0</td>\n",
       "    </tr>\n",
       "    <tr>\n",
       "      <th>yearly_avg_Outstation_checkins</th>\n",
       "      <td>10652.0</td>\n",
       "      <td>8.062336</td>\n",
       "      <td>8.682026</td>\n",
       "      <td>1.0</td>\n",
       "      <td>1.00</td>\n",
       "      <td>3.0</td>\n",
       "      <td>14.00</td>\n",
       "      <td>29.0</td>\n",
       "    </tr>\n",
       "    <tr>\n",
       "      <th>member_in_family</th>\n",
       "      <td>10652.0</td>\n",
       "      <td>2.924052</td>\n",
       "      <td>1.044928</td>\n",
       "      <td>1.0</td>\n",
       "      <td>2.00</td>\n",
       "      <td>3.0</td>\n",
       "      <td>4.00</td>\n",
       "      <td>10.0</td>\n",
       "    </tr>\n",
       "    <tr>\n",
       "      <th>preferred_location_type</th>\n",
       "      <td>10652.0</td>\n",
       "      <td>4.156590</td>\n",
       "      <td>3.060354</td>\n",
       "      <td>0.0</td>\n",
       "      <td>2.00</td>\n",
       "      <td>3.0</td>\n",
       "      <td>6.00</td>\n",
       "      <td>11.0</td>\n",
       "    </tr>\n",
       "    <tr>\n",
       "      <th>Yearly_avg_comment_on_travel_page</th>\n",
       "      <td>10652.0</td>\n",
       "      <td>74.493241</td>\n",
       "      <td>24.069136</td>\n",
       "      <td>3.0</td>\n",
       "      <td>57.00</td>\n",
       "      <td>74.0</td>\n",
       "      <td>92.00</td>\n",
       "      <td>815.0</td>\n",
       "    </tr>\n",
       "    <tr>\n",
       "      <th>total_likes_on_outofstation_checkin_received</th>\n",
       "      <td>10652.0</td>\n",
       "      <td>6563.464232</td>\n",
       "      <td>4739.701522</td>\n",
       "      <td>1009.0</td>\n",
       "      <td>2945.75</td>\n",
       "      <td>4967.5</td>\n",
       "      <td>8394.25</td>\n",
       "      <td>20065.0</td>\n",
       "    </tr>\n",
       "    <tr>\n",
       "      <th>week_since_last_outstation_checkin</th>\n",
       "      <td>10652.0</td>\n",
       "      <td>3.224934</td>\n",
       "      <td>2.628021</td>\n",
       "      <td>0.0</td>\n",
       "      <td>1.00</td>\n",
       "      <td>3.0</td>\n",
       "      <td>5.00</td>\n",
       "      <td>11.0</td>\n",
       "    </tr>\n",
       "    <tr>\n",
       "      <th>following_company_page</th>\n",
       "      <td>10652.0</td>\n",
       "      <td>0.277225</td>\n",
       "      <td>0.447650</td>\n",
       "      <td>0.0</td>\n",
       "      <td>0.00</td>\n",
       "      <td>0.0</td>\n",
       "      <td>1.00</td>\n",
       "      <td>1.0</td>\n",
       "    </tr>\n",
       "    <tr>\n",
       "      <th>montly_avg_comment_on_company_page</th>\n",
       "      <td>10652.0</td>\n",
       "      <td>28.896921</td>\n",
       "      <td>51.084242</td>\n",
       "      <td>11.0</td>\n",
       "      <td>17.00</td>\n",
       "      <td>22.0</td>\n",
       "      <td>27.00</td>\n",
       "      <td>500.0</td>\n",
       "    </tr>\n",
       "    <tr>\n",
       "      <th>working_flag</th>\n",
       "      <td>10652.0</td>\n",
       "      <td>0.152460</td>\n",
       "      <td>0.359483</td>\n",
       "      <td>0.0</td>\n",
       "      <td>0.00</td>\n",
       "      <td>0.0</td>\n",
       "      <td>0.00</td>\n",
       "      <td>1.0</td>\n",
       "    </tr>\n",
       "    <tr>\n",
       "      <th>travelling_network_rating</th>\n",
       "      <td>10652.0</td>\n",
       "      <td>2.705595</td>\n",
       "      <td>1.080931</td>\n",
       "      <td>1.0</td>\n",
       "      <td>2.00</td>\n",
       "      <td>3.0</td>\n",
       "      <td>4.00</td>\n",
       "      <td>4.0</td>\n",
       "    </tr>\n",
       "    <tr>\n",
       "      <th>Adult_flag</th>\n",
       "      <td>10652.0</td>\n",
       "      <td>0.166729</td>\n",
       "      <td>0.372751</td>\n",
       "      <td>0.0</td>\n",
       "      <td>0.00</td>\n",
       "      <td>0.0</td>\n",
       "      <td>0.00</td>\n",
       "      <td>1.0</td>\n",
       "    </tr>\n",
       "    <tr>\n",
       "      <th>Daily_Avg_mins_spend_on_traveling_page</th>\n",
       "      <td>10652.0</td>\n",
       "      <td>13.837401</td>\n",
       "      <td>9.159876</td>\n",
       "      <td>0.0</td>\n",
       "      <td>8.00</td>\n",
       "      <td>12.0</td>\n",
       "      <td>18.00</td>\n",
       "      <td>270.0</td>\n",
       "    </tr>\n",
       "  </tbody>\n",
       "</table>\n",
       "</div>"
      ],
      "text/plain": [
       "                                                count          mean  \\\n",
       "Taken_product                                 10652.0      0.152084   \n",
       "Yearly_avg_view_on_travel_page                10652.0    280.159407   \n",
       "preferred_device                              10652.0      0.000000   \n",
       "total_likes_on_outstation_checkin_given       10652.0  28213.587495   \n",
       "yearly_avg_Outstation_checkins                10652.0      8.062336   \n",
       "member_in_family                              10652.0      2.924052   \n",
       "preferred_location_type                       10652.0      4.156590   \n",
       "Yearly_avg_comment_on_travel_page             10652.0     74.493241   \n",
       "total_likes_on_outofstation_checkin_received  10652.0   6563.464232   \n",
       "week_since_last_outstation_checkin            10652.0      3.224934   \n",
       "following_company_page                        10652.0      0.277225   \n",
       "montly_avg_comment_on_company_page            10652.0     28.896921   \n",
       "working_flag                                  10652.0      0.152460   \n",
       "travelling_network_rating                     10652.0      2.705595   \n",
       "Adult_flag                                    10652.0      0.166729   \n",
       "Daily_Avg_mins_spend_on_traveling_page        10652.0     13.837401   \n",
       "\n",
       "                                                       std     min       25%  \\\n",
       "Taken_product                                     0.359119     0.0      0.00   \n",
       "Yearly_avg_view_on_travel_page                   66.743114    35.0    232.00   \n",
       "preferred_device                                  0.000000     0.0      0.00   \n",
       "total_likes_on_outstation_checkin_given       14229.500048  3570.0  16529.25   \n",
       "yearly_avg_Outstation_checkins                    8.682026     1.0      1.00   \n",
       "member_in_family                                  1.044928     1.0      2.00   \n",
       "preferred_location_type                           3.060354     0.0      2.00   \n",
       "Yearly_avg_comment_on_travel_page                24.069136     3.0     57.00   \n",
       "total_likes_on_outofstation_checkin_received   4739.701522  1009.0   2945.75   \n",
       "week_since_last_outstation_checkin                2.628021     0.0      1.00   \n",
       "following_company_page                            0.447650     0.0      0.00   \n",
       "montly_avg_comment_on_company_page               51.084242    11.0     17.00   \n",
       "working_flag                                      0.359483     0.0      0.00   \n",
       "travelling_network_rating                         1.080931     1.0      2.00   \n",
       "Adult_flag                                        0.372751     0.0      0.00   \n",
       "Daily_Avg_mins_spend_on_traveling_page            9.159876     0.0      8.00   \n",
       "\n",
       "                                                  50%       75%       max  \n",
       "Taken_product                                     0.0      0.00       1.0  \n",
       "Yearly_avg_view_on_travel_page                  271.0    321.00     464.0  \n",
       "preferred_device                                  0.0      0.00       0.0  \n",
       "total_likes_on_outstation_checkin_given       28210.0  40149.50  252430.0  \n",
       "yearly_avg_Outstation_checkins                    3.0     14.00      29.0  \n",
       "member_in_family                                  3.0      4.00      10.0  \n",
       "preferred_location_type                           3.0      6.00      11.0  \n",
       "Yearly_avg_comment_on_travel_page                74.0     92.00     815.0  \n",
       "total_likes_on_outofstation_checkin_received   4967.5   8394.25   20065.0  \n",
       "week_since_last_outstation_checkin                3.0      5.00      11.0  \n",
       "following_company_page                            0.0      1.00       1.0  \n",
       "montly_avg_comment_on_company_page               22.0     27.00     500.0  \n",
       "working_flag                                      0.0      0.00       1.0  \n",
       "travelling_network_rating                         3.0      4.00       4.0  \n",
       "Adult_flag                                        0.0      0.00       1.0  \n",
       "Daily_Avg_mins_spend_on_traveling_page           12.0     18.00     270.0  "
      ]
     },
     "execution_count": 155,
     "metadata": {},
     "output_type": "execute_result"
    }
   ],
   "source": [
    "df_mobile.describe().T"
   ]
  },
  {
   "cell_type": "code",
   "execution_count": 156,
   "id": "9abe7974",
   "metadata": {},
   "outputs": [
    {
     "data": {
      "text/html": [
       "<div>\n",
       "<style scoped>\n",
       "    .dataframe tbody tr th:only-of-type {\n",
       "        vertical-align: middle;\n",
       "    }\n",
       "\n",
       "    .dataframe tbody tr th {\n",
       "        vertical-align: top;\n",
       "    }\n",
       "\n",
       "    .dataframe thead th {\n",
       "        text-align: right;\n",
       "    }\n",
       "</style>\n",
       "<table border=\"1\" class=\"dataframe\">\n",
       "  <thead>\n",
       "    <tr style=\"text-align: right;\">\n",
       "      <th></th>\n",
       "      <th>0</th>\n",
       "      <th>1</th>\n",
       "      <th>2</th>\n",
       "      <th>3</th>\n",
       "      <th>4</th>\n",
       "    </tr>\n",
       "  </thead>\n",
       "  <tbody>\n",
       "    <tr>\n",
       "      <th>Taken_product</th>\n",
       "      <td>1.0</td>\n",
       "      <td>0.0</td>\n",
       "      <td>1.0</td>\n",
       "      <td>0.0</td>\n",
       "      <td>0.0</td>\n",
       "    </tr>\n",
       "    <tr>\n",
       "      <th>Yearly_avg_view_on_travel_page</th>\n",
       "      <td>307.0</td>\n",
       "      <td>367.0</td>\n",
       "      <td>277.0</td>\n",
       "      <td>247.0</td>\n",
       "      <td>202.0</td>\n",
       "    </tr>\n",
       "    <tr>\n",
       "      <th>preferred_device</th>\n",
       "      <td>0.0</td>\n",
       "      <td>0.0</td>\n",
       "      <td>0.0</td>\n",
       "      <td>0.0</td>\n",
       "      <td>0.0</td>\n",
       "    </tr>\n",
       "    <tr>\n",
       "      <th>total_likes_on_outstation_checkin_given</th>\n",
       "      <td>38570.0</td>\n",
       "      <td>9765.0</td>\n",
       "      <td>48055.0</td>\n",
       "      <td>48720.0</td>\n",
       "      <td>20685.0</td>\n",
       "    </tr>\n",
       "    <tr>\n",
       "      <th>yearly_avg_Outstation_checkins</th>\n",
       "      <td>1.0</td>\n",
       "      <td>1.0</td>\n",
       "      <td>1.0</td>\n",
       "      <td>1.0</td>\n",
       "      <td>1.0</td>\n",
       "    </tr>\n",
       "    <tr>\n",
       "      <th>member_in_family</th>\n",
       "      <td>2.0</td>\n",
       "      <td>1.0</td>\n",
       "      <td>2.0</td>\n",
       "      <td>4.0</td>\n",
       "      <td>1.0</td>\n",
       "    </tr>\n",
       "    <tr>\n",
       "      <th>preferred_location_type</th>\n",
       "      <td>3.0</td>\n",
       "      <td>3.0</td>\n",
       "      <td>8.0</td>\n",
       "      <td>3.0</td>\n",
       "      <td>6.0</td>\n",
       "    </tr>\n",
       "    <tr>\n",
       "      <th>Yearly_avg_comment_on_travel_page</th>\n",
       "      <td>94.0</td>\n",
       "      <td>61.0</td>\n",
       "      <td>92.0</td>\n",
       "      <td>56.0</td>\n",
       "      <td>40.0</td>\n",
       "    </tr>\n",
       "    <tr>\n",
       "      <th>total_likes_on_outofstation_checkin_received</th>\n",
       "      <td>5993.0</td>\n",
       "      <td>5130.0</td>\n",
       "      <td>2090.0</td>\n",
       "      <td>2909.0</td>\n",
       "      <td>3468.0</td>\n",
       "    </tr>\n",
       "    <tr>\n",
       "      <th>week_since_last_outstation_checkin</th>\n",
       "      <td>8.0</td>\n",
       "      <td>1.0</td>\n",
       "      <td>6.0</td>\n",
       "      <td>1.0</td>\n",
       "      <td>9.0</td>\n",
       "    </tr>\n",
       "    <tr>\n",
       "      <th>following_company_page</th>\n",
       "      <td>1.0</td>\n",
       "      <td>0.0</td>\n",
       "      <td>1.0</td>\n",
       "      <td>1.0</td>\n",
       "      <td>0.0</td>\n",
       "    </tr>\n",
       "    <tr>\n",
       "      <th>montly_avg_comment_on_company_page</th>\n",
       "      <td>11.0</td>\n",
       "      <td>23.0</td>\n",
       "      <td>15.0</td>\n",
       "      <td>11.0</td>\n",
       "      <td>12.0</td>\n",
       "    </tr>\n",
       "    <tr>\n",
       "      <th>working_flag</th>\n",
       "      <td>0.0</td>\n",
       "      <td>1.0</td>\n",
       "      <td>0.0</td>\n",
       "      <td>0.0</td>\n",
       "      <td>0.0</td>\n",
       "    </tr>\n",
       "    <tr>\n",
       "      <th>travelling_network_rating</th>\n",
       "      <td>1.0</td>\n",
       "      <td>4.0</td>\n",
       "      <td>2.0</td>\n",
       "      <td>3.0</td>\n",
       "      <td>4.0</td>\n",
       "    </tr>\n",
       "    <tr>\n",
       "      <th>Adult_flag</th>\n",
       "      <td>0.0</td>\n",
       "      <td>0.0</td>\n",
       "      <td>0.0</td>\n",
       "      <td>0.0</td>\n",
       "      <td>0.0</td>\n",
       "    </tr>\n",
       "    <tr>\n",
       "      <th>Daily_Avg_mins_spend_on_traveling_page</th>\n",
       "      <td>8.0</td>\n",
       "      <td>10.0</td>\n",
       "      <td>7.0</td>\n",
       "      <td>8.0</td>\n",
       "      <td>6.0</td>\n",
       "    </tr>\n",
       "  </tbody>\n",
       "</table>\n",
       "</div>"
      ],
      "text/plain": [
       "                                                    0       1        2  \\\n",
       "Taken_product                                     1.0     0.0      1.0   \n",
       "Yearly_avg_view_on_travel_page                  307.0   367.0    277.0   \n",
       "preferred_device                                  0.0     0.0      0.0   \n",
       "total_likes_on_outstation_checkin_given       38570.0  9765.0  48055.0   \n",
       "yearly_avg_Outstation_checkins                    1.0     1.0      1.0   \n",
       "member_in_family                                  2.0     1.0      2.0   \n",
       "preferred_location_type                           3.0     3.0      8.0   \n",
       "Yearly_avg_comment_on_travel_page                94.0    61.0     92.0   \n",
       "total_likes_on_outofstation_checkin_received   5993.0  5130.0   2090.0   \n",
       "week_since_last_outstation_checkin                8.0     1.0      6.0   \n",
       "following_company_page                            1.0     0.0      1.0   \n",
       "montly_avg_comment_on_company_page               11.0    23.0     15.0   \n",
       "working_flag                                      0.0     1.0      0.0   \n",
       "travelling_network_rating                         1.0     4.0      2.0   \n",
       "Adult_flag                                        0.0     0.0      0.0   \n",
       "Daily_Avg_mins_spend_on_traveling_page            8.0    10.0      7.0   \n",
       "\n",
       "                                                    3        4  \n",
       "Taken_product                                     0.0      0.0  \n",
       "Yearly_avg_view_on_travel_page                  247.0    202.0  \n",
       "preferred_device                                  0.0      0.0  \n",
       "total_likes_on_outstation_checkin_given       48720.0  20685.0  \n",
       "yearly_avg_Outstation_checkins                    1.0      1.0  \n",
       "member_in_family                                  4.0      1.0  \n",
       "preferred_location_type                           3.0      6.0  \n",
       "Yearly_avg_comment_on_travel_page                56.0     40.0  \n",
       "total_likes_on_outofstation_checkin_received   2909.0   3468.0  \n",
       "week_since_last_outstation_checkin                1.0      9.0  \n",
       "following_company_page                            1.0      0.0  \n",
       "montly_avg_comment_on_company_page               11.0     12.0  \n",
       "working_flag                                      0.0      0.0  \n",
       "travelling_network_rating                         3.0      4.0  \n",
       "Adult_flag                                        0.0      0.0  \n",
       "Daily_Avg_mins_spend_on_traveling_page            8.0      6.0  "
      ]
     },
     "execution_count": 156,
     "metadata": {},
     "output_type": "execute_result"
    }
   ],
   "source": [
    "df_mobile.head().T"
   ]
  },
  {
   "cell_type": "markdown",
   "id": "d03e7f57",
   "metadata": {},
   "source": [
    "------------------------------------------------------------------------------------------------------------------------------------------------------------------------"
   ]
  },
  {
   "cell_type": "markdown",
   "id": "051e5191",
   "metadata": {},
   "source": [
    "SCALING"
   ]
  },
  {
   "cell_type": "code",
   "execution_count": 392,
   "id": "0c718da9",
   "metadata": {},
   "outputs": [],
   "source": [
    "#lst_numeric = df_mobile['yearly_avg_Outstation_checkins']+df_mobile['total_likes_on_outstation_checkin_given']+df_mobile['Yearly_avg_view_on_travel_page']+df_mobile['Yearly_avg_comment_on_travel_page']+df_mobile['total_likes_on_outofstation_checkin_received']+df_mobile['week_since_last_outstation_checkin']+df_mobile['montly_avg_comment_on_company_page']+df_mobile['Daily_Avg_mins_spend_on_traveling_page']"
   ]
  },
  {
   "cell_type": "code",
   "execution_count": 393,
   "id": "7b79b340",
   "metadata": {},
   "outputs": [
    {
     "ename": "KeyError",
     "evalue": "\"None of [Float64Index([44992.0, 15358.0, 50543.0, 51953.0, 24423.0, 38584.0, 49399.0,\\n              31243.0, 17469.0, 51129.0,\\n              ...\\n              13531.0, 52718.0, 20662.0, 25835.0, 37868.0, 21797.0, 44226.0,\\n              31962.0, 12057.0, 26922.0],\\n             dtype='float64', length=10652)] are in the [columns]\"",
     "output_type": "error",
     "traceback": [
      "\u001b[1;31m---------------------------------------------------------------------------\u001b[0m",
      "\u001b[1;31mKeyError\u001b[0m                                  Traceback (most recent call last)",
      "\u001b[1;32m<ipython-input-393-bddedf02e442>\u001b[0m in \u001b[0;36m<module>\u001b[1;34m\u001b[0m\n\u001b[0;32m      1\u001b[0m \u001b[1;32mfrom\u001b[0m \u001b[0msklearn\u001b[0m\u001b[1;33m.\u001b[0m\u001b[0mpreprocessing\u001b[0m \u001b[1;32mimport\u001b[0m \u001b[0mStandardScaler\u001b[0m\u001b[1;33m\u001b[0m\u001b[1;33m\u001b[0m\u001b[0m\n\u001b[0;32m      2\u001b[0m \u001b[0mscale\u001b[0m\u001b[1;33m=\u001b[0m \u001b[0mStandardScaler\u001b[0m\u001b[1;33m(\u001b[0m\u001b[1;33m)\u001b[0m\u001b[1;33m\u001b[0m\u001b[1;33m\u001b[0m\u001b[0m\n\u001b[1;32m----> 3\u001b[1;33m \u001b[0mdf1\u001b[0m\u001b[1;33m=\u001b[0m \u001b[0mpd\u001b[0m\u001b[1;33m.\u001b[0m\u001b[0mDataFrame\u001b[0m\u001b[1;33m(\u001b[0m\u001b[0mscale\u001b[0m\u001b[1;33m.\u001b[0m\u001b[0mfit_transform\u001b[0m\u001b[1;33m(\u001b[0m\u001b[0mdf_mobile\u001b[0m\u001b[1;33m[\u001b[0m\u001b[0mlst_numeric\u001b[0m\u001b[1;33m]\u001b[0m\u001b[1;33m)\u001b[0m\u001b[1;33m,\u001b[0m \u001b[0mcolumns\u001b[0m\u001b[1;33m=\u001b[0m \u001b[0mlst_numeric\u001b[0m\u001b[1;33m)\u001b[0m\u001b[1;33m\u001b[0m\u001b[1;33m\u001b[0m\u001b[0m\n\u001b[0m\u001b[0;32m      4\u001b[0m \u001b[0mdf1\u001b[0m\u001b[1;33m.\u001b[0m\u001b[0mhead\u001b[0m\u001b[1;33m(\u001b[0m\u001b[1;33m)\u001b[0m\u001b[1;33m\u001b[0m\u001b[1;33m\u001b[0m\u001b[0m\n",
      "\u001b[1;32m~\\Anaconda3\\lib\\site-packages\\pandas\\core\\frame.py\u001b[0m in \u001b[0;36m__getitem__\u001b[1;34m(self, key)\u001b[0m\n\u001b[0;32m   3028\u001b[0m             \u001b[1;32mif\u001b[0m \u001b[0mis_iterator\u001b[0m\u001b[1;33m(\u001b[0m\u001b[0mkey\u001b[0m\u001b[1;33m)\u001b[0m\u001b[1;33m:\u001b[0m\u001b[1;33m\u001b[0m\u001b[1;33m\u001b[0m\u001b[0m\n\u001b[0;32m   3029\u001b[0m                 \u001b[0mkey\u001b[0m \u001b[1;33m=\u001b[0m \u001b[0mlist\u001b[0m\u001b[1;33m(\u001b[0m\u001b[0mkey\u001b[0m\u001b[1;33m)\u001b[0m\u001b[1;33m\u001b[0m\u001b[1;33m\u001b[0m\u001b[0m\n\u001b[1;32m-> 3030\u001b[1;33m             \u001b[0mindexer\u001b[0m \u001b[1;33m=\u001b[0m \u001b[0mself\u001b[0m\u001b[1;33m.\u001b[0m\u001b[0mloc\u001b[0m\u001b[1;33m.\u001b[0m\u001b[0m_get_listlike_indexer\u001b[0m\u001b[1;33m(\u001b[0m\u001b[0mkey\u001b[0m\u001b[1;33m,\u001b[0m \u001b[0maxis\u001b[0m\u001b[1;33m=\u001b[0m\u001b[1;36m1\u001b[0m\u001b[1;33m,\u001b[0m \u001b[0mraise_missing\u001b[0m\u001b[1;33m=\u001b[0m\u001b[1;32mTrue\u001b[0m\u001b[1;33m)\u001b[0m\u001b[1;33m[\u001b[0m\u001b[1;36m1\u001b[0m\u001b[1;33m]\u001b[0m\u001b[1;33m\u001b[0m\u001b[1;33m\u001b[0m\u001b[0m\n\u001b[0m\u001b[0;32m   3031\u001b[0m \u001b[1;33m\u001b[0m\u001b[0m\n\u001b[0;32m   3032\u001b[0m         \u001b[1;31m# take() does not accept boolean indexers\u001b[0m\u001b[1;33m\u001b[0m\u001b[1;33m\u001b[0m\u001b[1;33m\u001b[0m\u001b[0m\n",
      "\u001b[1;32m~\\Anaconda3\\lib\\site-packages\\pandas\\core\\indexing.py\u001b[0m in \u001b[0;36m_get_listlike_indexer\u001b[1;34m(self, key, axis, raise_missing)\u001b[0m\n\u001b[0;32m   1264\u001b[0m             \u001b[0mkeyarr\u001b[0m\u001b[1;33m,\u001b[0m \u001b[0mindexer\u001b[0m\u001b[1;33m,\u001b[0m \u001b[0mnew_indexer\u001b[0m \u001b[1;33m=\u001b[0m \u001b[0max\u001b[0m\u001b[1;33m.\u001b[0m\u001b[0m_reindex_non_unique\u001b[0m\u001b[1;33m(\u001b[0m\u001b[0mkeyarr\u001b[0m\u001b[1;33m)\u001b[0m\u001b[1;33m\u001b[0m\u001b[1;33m\u001b[0m\u001b[0m\n\u001b[0;32m   1265\u001b[0m \u001b[1;33m\u001b[0m\u001b[0m\n\u001b[1;32m-> 1266\u001b[1;33m         \u001b[0mself\u001b[0m\u001b[1;33m.\u001b[0m\u001b[0m_validate_read_indexer\u001b[0m\u001b[1;33m(\u001b[0m\u001b[0mkeyarr\u001b[0m\u001b[1;33m,\u001b[0m \u001b[0mindexer\u001b[0m\u001b[1;33m,\u001b[0m \u001b[0maxis\u001b[0m\u001b[1;33m,\u001b[0m \u001b[0mraise_missing\u001b[0m\u001b[1;33m=\u001b[0m\u001b[0mraise_missing\u001b[0m\u001b[1;33m)\u001b[0m\u001b[1;33m\u001b[0m\u001b[1;33m\u001b[0m\u001b[0m\n\u001b[0m\u001b[0;32m   1267\u001b[0m         \u001b[1;32mreturn\u001b[0m \u001b[0mkeyarr\u001b[0m\u001b[1;33m,\u001b[0m \u001b[0mindexer\u001b[0m\u001b[1;33m\u001b[0m\u001b[1;33m\u001b[0m\u001b[0m\n\u001b[0;32m   1268\u001b[0m \u001b[1;33m\u001b[0m\u001b[0m\n",
      "\u001b[1;32m~\\Anaconda3\\lib\\site-packages\\pandas\\core\\indexing.py\u001b[0m in \u001b[0;36m_validate_read_indexer\u001b[1;34m(self, key, indexer, axis, raise_missing)\u001b[0m\n\u001b[0;32m   1306\u001b[0m             \u001b[1;32mif\u001b[0m \u001b[0mmissing\u001b[0m \u001b[1;33m==\u001b[0m \u001b[0mlen\u001b[0m\u001b[1;33m(\u001b[0m\u001b[0mindexer\u001b[0m\u001b[1;33m)\u001b[0m\u001b[1;33m:\u001b[0m\u001b[1;33m\u001b[0m\u001b[1;33m\u001b[0m\u001b[0m\n\u001b[0;32m   1307\u001b[0m                 \u001b[0maxis_name\u001b[0m \u001b[1;33m=\u001b[0m \u001b[0mself\u001b[0m\u001b[1;33m.\u001b[0m\u001b[0mobj\u001b[0m\u001b[1;33m.\u001b[0m\u001b[0m_get_axis_name\u001b[0m\u001b[1;33m(\u001b[0m\u001b[0maxis\u001b[0m\u001b[1;33m)\u001b[0m\u001b[1;33m\u001b[0m\u001b[1;33m\u001b[0m\u001b[0m\n\u001b[1;32m-> 1308\u001b[1;33m                 \u001b[1;32mraise\u001b[0m \u001b[0mKeyError\u001b[0m\u001b[1;33m(\u001b[0m\u001b[1;34mf\"None of [{key}] are in the [{axis_name}]\"\u001b[0m\u001b[1;33m)\u001b[0m\u001b[1;33m\u001b[0m\u001b[1;33m\u001b[0m\u001b[0m\n\u001b[0m\u001b[0;32m   1309\u001b[0m \u001b[1;33m\u001b[0m\u001b[0m\n\u001b[0;32m   1310\u001b[0m             \u001b[0max\u001b[0m \u001b[1;33m=\u001b[0m \u001b[0mself\u001b[0m\u001b[1;33m.\u001b[0m\u001b[0mobj\u001b[0m\u001b[1;33m.\u001b[0m\u001b[0m_get_axis\u001b[0m\u001b[1;33m(\u001b[0m\u001b[0maxis\u001b[0m\u001b[1;33m)\u001b[0m\u001b[1;33m\u001b[0m\u001b[1;33m\u001b[0m\u001b[0m\n",
      "\u001b[1;31mKeyError\u001b[0m: \"None of [Float64Index([44992.0, 15358.0, 50543.0, 51953.0, 24423.0, 38584.0, 49399.0,\\n              31243.0, 17469.0, 51129.0,\\n              ...\\n              13531.0, 52718.0, 20662.0, 25835.0, 37868.0, 21797.0, 44226.0,\\n              31962.0, 12057.0, 26922.0],\\n             dtype='float64', length=10652)] are in the [columns]\""
     ]
    }
   ],
   "source": [
    "#from sklearn.preprocessing import StandardScaler\n",
    "#scale= StandardScaler()\n",
    "#df1= pd.DataFrame(scale.fit_transform(df_mobile[lst_numeric]), columns= lst_numeric)\n",
    "#df1.head()"
   ]
  },
  {
   "cell_type": "code",
   "execution_count": 358,
   "id": "b7eefaa9",
   "metadata": {
    "scrolled": true
   },
   "outputs": [
    {
     "data": {
      "text/html": [
       "<div>\n",
       "<style scoped>\n",
       "    .dataframe tbody tr th:only-of-type {\n",
       "        vertical-align: middle;\n",
       "    }\n",
       "\n",
       "    .dataframe tbody tr th {\n",
       "        vertical-align: top;\n",
       "    }\n",
       "\n",
       "    .dataframe thead th {\n",
       "        text-align: right;\n",
       "    }\n",
       "</style>\n",
       "<table border=\"1\" class=\"dataframe\">\n",
       "  <thead>\n",
       "    <tr style=\"text-align: right;\">\n",
       "      <th></th>\n",
       "      <th>count</th>\n",
       "      <th>mean</th>\n",
       "      <th>std</th>\n",
       "      <th>min</th>\n",
       "      <th>25%</th>\n",
       "      <th>50%</th>\n",
       "      <th>75%</th>\n",
       "      <th>max</th>\n",
       "    </tr>\n",
       "  </thead>\n",
       "  <tbody>\n",
       "    <tr>\n",
       "      <th>Taken_product</th>\n",
       "      <td>10652.0</td>\n",
       "      <td>6.597864e-16</td>\n",
       "      <td>1.000047</td>\n",
       "      <td>-0.423512</td>\n",
       "      <td>-0.423512</td>\n",
       "      <td>-0.423512</td>\n",
       "      <td>-0.423512</td>\n",
       "      <td>2.361209</td>\n",
       "    </tr>\n",
       "    <tr>\n",
       "      <th>Yearly_avg_view_on_travel_page</th>\n",
       "      <td>10652.0</td>\n",
       "      <td>3.272927e-16</td>\n",
       "      <td>1.000047</td>\n",
       "      <td>-3.673351</td>\n",
       "      <td>-0.721598</td>\n",
       "      <td>-0.137240</td>\n",
       "      <td>0.611936</td>\n",
       "      <td>2.754580</td>\n",
       "    </tr>\n",
       "    <tr>\n",
       "      <th>preferred_device</th>\n",
       "      <td>10652.0</td>\n",
       "      <td>0.000000e+00</td>\n",
       "      <td>0.000000</td>\n",
       "      <td>0.000000</td>\n",
       "      <td>0.000000</td>\n",
       "      <td>0.000000</td>\n",
       "      <td>0.000000</td>\n",
       "      <td>0.000000</td>\n",
       "    </tr>\n",
       "    <tr>\n",
       "      <th>total_likes_on_outstation_checkin_given</th>\n",
       "      <td>10652.0</td>\n",
       "      <td>2.422750e-17</td>\n",
       "      <td>1.000047</td>\n",
       "      <td>-1.731947</td>\n",
       "      <td>-0.821173</td>\n",
       "      <td>-0.000252</td>\n",
       "      <td>0.838854</td>\n",
       "      <td>15.757893</td>\n",
       "    </tr>\n",
       "    <tr>\n",
       "      <th>yearly_avg_Outstation_checkins</th>\n",
       "      <td>10652.0</td>\n",
       "      <td>-2.817540e-15</td>\n",
       "      <td>1.000047</td>\n",
       "      <td>-0.813481</td>\n",
       "      <td>-0.813481</td>\n",
       "      <td>-0.583110</td>\n",
       "      <td>0.683935</td>\n",
       "      <td>2.411724</td>\n",
       "    </tr>\n",
       "    <tr>\n",
       "      <th>member_in_family</th>\n",
       "      <td>10652.0</td>\n",
       "      <td>-1.132189e-16</td>\n",
       "      <td>1.000047</td>\n",
       "      <td>-1.841411</td>\n",
       "      <td>-0.884362</td>\n",
       "      <td>0.072686</td>\n",
       "      <td>1.029735</td>\n",
       "      <td>6.772026</td>\n",
       "    </tr>\n",
       "    <tr>\n",
       "      <th>Yearly_avg_comment_on_travel_page</th>\n",
       "      <td>10652.0</td>\n",
       "      <td>-1.159043e-15</td>\n",
       "      <td>1.000047</td>\n",
       "      <td>-2.970468</td>\n",
       "      <td>-0.726826</td>\n",
       "      <td>-0.020494</td>\n",
       "      <td>0.727387</td>\n",
       "      <td>30.767267</td>\n",
       "    </tr>\n",
       "    <tr>\n",
       "      <th>total_likes_on_outofstation_checkin_received</th>\n",
       "      <td>10652.0</td>\n",
       "      <td>8.411617e-17</td>\n",
       "      <td>1.000047</td>\n",
       "      <td>-1.171957</td>\n",
       "      <td>-0.763315</td>\n",
       "      <td>-0.336738</td>\n",
       "      <td>0.386284</td>\n",
       "      <td>2.848738</td>\n",
       "    </tr>\n",
       "    <tr>\n",
       "      <th>week_since_last_outstation_checkin</th>\n",
       "      <td>10652.0</td>\n",
       "      <td>1.190545e-15</td>\n",
       "      <td>1.000047</td>\n",
       "      <td>-1.227192</td>\n",
       "      <td>-0.846659</td>\n",
       "      <td>-0.085595</td>\n",
       "      <td>0.675470</td>\n",
       "      <td>2.958664</td>\n",
       "    </tr>\n",
       "    <tr>\n",
       "      <th>following_company_page</th>\n",
       "      <td>10652.0</td>\n",
       "      <td>2.728447e-16</td>\n",
       "      <td>1.000047</td>\n",
       "      <td>-0.619319</td>\n",
       "      <td>-0.619319</td>\n",
       "      <td>-0.619319</td>\n",
       "      <td>1.614676</td>\n",
       "      <td>1.614676</td>\n",
       "    </tr>\n",
       "    <tr>\n",
       "      <th>montly_avg_comment_on_company_page</th>\n",
       "      <td>10652.0</td>\n",
       "      <td>1.129316e-15</td>\n",
       "      <td>1.000047</td>\n",
       "      <td>-0.350358</td>\n",
       "      <td>-0.232899</td>\n",
       "      <td>-0.135017</td>\n",
       "      <td>-0.037135</td>\n",
       "      <td>9.222515</td>\n",
       "    </tr>\n",
       "    <tr>\n",
       "      <th>working_flag</th>\n",
       "      <td>10652.0</td>\n",
       "      <td>6.426098e-17</td>\n",
       "      <td>1.000047</td>\n",
       "      <td>-0.424128</td>\n",
       "      <td>-0.424128</td>\n",
       "      <td>-0.424128</td>\n",
       "      <td>-0.424128</td>\n",
       "      <td>2.357777</td>\n",
       "    </tr>\n",
       "    <tr>\n",
       "      <th>travelling_network_rating</th>\n",
       "      <td>10652.0</td>\n",
       "      <td>-3.701925e-16</td>\n",
       "      <td>1.000047</td>\n",
       "      <td>-1.577969</td>\n",
       "      <td>-0.652797</td>\n",
       "      <td>0.272375</td>\n",
       "      <td>1.197547</td>\n",
       "      <td>1.197547</td>\n",
       "    </tr>\n",
       "    <tr>\n",
       "      <th>Adult_flag</th>\n",
       "      <td>10652.0</td>\n",
       "      <td>-1.204340e-16</td>\n",
       "      <td>1.000047</td>\n",
       "      <td>-0.447314</td>\n",
       "      <td>-0.447314</td>\n",
       "      <td>-0.447314</td>\n",
       "      <td>-0.447314</td>\n",
       "      <td>2.235564</td>\n",
       "    </tr>\n",
       "    <tr>\n",
       "      <th>Daily_Avg_mins_spend_on_traveling_page</th>\n",
       "      <td>10652.0</td>\n",
       "      <td>-3.157728e-16</td>\n",
       "      <td>1.000047</td>\n",
       "      <td>-1.510725</td>\n",
       "      <td>-0.637309</td>\n",
       "      <td>-0.200602</td>\n",
       "      <td>0.454460</td>\n",
       "      <td>27.967040</td>\n",
       "    </tr>\n",
       "  </tbody>\n",
       "</table>\n",
       "</div>"
      ],
      "text/plain": [
       "                                                count          mean       std  \\\n",
       "Taken_product                                 10652.0  6.597864e-16  1.000047   \n",
       "Yearly_avg_view_on_travel_page                10652.0  3.272927e-16  1.000047   \n",
       "preferred_device                              10652.0  0.000000e+00  0.000000   \n",
       "total_likes_on_outstation_checkin_given       10652.0  2.422750e-17  1.000047   \n",
       "yearly_avg_Outstation_checkins                10652.0 -2.817540e-15  1.000047   \n",
       "member_in_family                              10652.0 -1.132189e-16  1.000047   \n",
       "Yearly_avg_comment_on_travel_page             10652.0 -1.159043e-15  1.000047   \n",
       "total_likes_on_outofstation_checkin_received  10652.0  8.411617e-17  1.000047   \n",
       "week_since_last_outstation_checkin            10652.0  1.190545e-15  1.000047   \n",
       "following_company_page                        10652.0  2.728447e-16  1.000047   \n",
       "montly_avg_comment_on_company_page            10652.0  1.129316e-15  1.000047   \n",
       "working_flag                                  10652.0  6.426098e-17  1.000047   \n",
       "travelling_network_rating                     10652.0 -3.701925e-16  1.000047   \n",
       "Adult_flag                                    10652.0 -1.204340e-16  1.000047   \n",
       "Daily_Avg_mins_spend_on_traveling_page        10652.0 -3.157728e-16  1.000047   \n",
       "\n",
       "                                                   min       25%       50%  \\\n",
       "Taken_product                                -0.423512 -0.423512 -0.423512   \n",
       "Yearly_avg_view_on_travel_page               -3.673351 -0.721598 -0.137240   \n",
       "preferred_device                              0.000000  0.000000  0.000000   \n",
       "total_likes_on_outstation_checkin_given      -1.731947 -0.821173 -0.000252   \n",
       "yearly_avg_Outstation_checkins               -0.813481 -0.813481 -0.583110   \n",
       "member_in_family                             -1.841411 -0.884362  0.072686   \n",
       "Yearly_avg_comment_on_travel_page            -2.970468 -0.726826 -0.020494   \n",
       "total_likes_on_outofstation_checkin_received -1.171957 -0.763315 -0.336738   \n",
       "week_since_last_outstation_checkin           -1.227192 -0.846659 -0.085595   \n",
       "following_company_page                       -0.619319 -0.619319 -0.619319   \n",
       "montly_avg_comment_on_company_page           -0.350358 -0.232899 -0.135017   \n",
       "working_flag                                 -0.424128 -0.424128 -0.424128   \n",
       "travelling_network_rating                    -1.577969 -0.652797  0.272375   \n",
       "Adult_flag                                   -0.447314 -0.447314 -0.447314   \n",
       "Daily_Avg_mins_spend_on_traveling_page       -1.510725 -0.637309 -0.200602   \n",
       "\n",
       "                                                   75%        max  \n",
       "Taken_product                                -0.423512   2.361209  \n",
       "Yearly_avg_view_on_travel_page                0.611936   2.754580  \n",
       "preferred_device                              0.000000   0.000000  \n",
       "total_likes_on_outstation_checkin_given       0.838854  15.757893  \n",
       "yearly_avg_Outstation_checkins                0.683935   2.411724  \n",
       "member_in_family                              1.029735   6.772026  \n",
       "Yearly_avg_comment_on_travel_page             0.727387  30.767267  \n",
       "total_likes_on_outofstation_checkin_received  0.386284   2.848738  \n",
       "week_since_last_outstation_checkin            0.675470   2.958664  \n",
       "following_company_page                        1.614676   1.614676  \n",
       "montly_avg_comment_on_company_page           -0.037135   9.222515  \n",
       "working_flag                                 -0.424128   2.357777  \n",
       "travelling_network_rating                     1.197547   1.197547  \n",
       "Adult_flag                                   -0.447314   2.235564  \n",
       "Daily_Avg_mins_spend_on_traveling_page        0.454460  27.967040  "
      ]
     },
     "execution_count": 358,
     "metadata": {},
     "output_type": "execute_result"
    }
   ],
   "source": [
    "#df1.describe().T"
   ]
  },
  {
   "cell_type": "code",
   "execution_count": null,
   "id": "9f3c89cc",
   "metadata": {},
   "outputs": [],
   "source": []
  },
  {
   "cell_type": "code",
   "execution_count": null,
   "id": "645a7bcf",
   "metadata": {},
   "outputs": [],
   "source": []
  },
  {
   "cell_type": "code",
   "execution_count": 395,
   "id": "12c47a69",
   "metadata": {},
   "outputs": [
    {
     "data": {
      "text/html": [
       "<div>\n",
       "<style scoped>\n",
       "    .dataframe tbody tr th:only-of-type {\n",
       "        vertical-align: middle;\n",
       "    }\n",
       "\n",
       "    .dataframe tbody tr th {\n",
       "        vertical-align: top;\n",
       "    }\n",
       "\n",
       "    .dataframe thead th {\n",
       "        text-align: right;\n",
       "    }\n",
       "</style>\n",
       "<table border=\"1\" class=\"dataframe\">\n",
       "  <thead>\n",
       "    <tr style=\"text-align: right;\">\n",
       "      <th></th>\n",
       "      <th>0</th>\n",
       "      <th>1</th>\n",
       "      <th>2</th>\n",
       "      <th>3</th>\n",
       "      <th>4</th>\n",
       "      <th>5</th>\n",
       "      <th>6</th>\n",
       "      <th>7</th>\n",
       "      <th>8</th>\n",
       "      <th>9</th>\n",
       "      <th>...</th>\n",
       "      <th>10642</th>\n",
       "      <th>10643</th>\n",
       "      <th>10644</th>\n",
       "      <th>10645</th>\n",
       "      <th>10646</th>\n",
       "      <th>10647</th>\n",
       "      <th>10648</th>\n",
       "      <th>10649</th>\n",
       "      <th>10650</th>\n",
       "      <th>10651</th>\n",
       "    </tr>\n",
       "  </thead>\n",
       "  <tbody>\n",
       "    <tr>\n",
       "      <th>Taken_product</th>\n",
       "      <td>1.0</td>\n",
       "      <td>0.0</td>\n",
       "      <td>1.0</td>\n",
       "      <td>0.0</td>\n",
       "      <td>0.0</td>\n",
       "      <td>0.0</td>\n",
       "      <td>0.0</td>\n",
       "      <td>0.0</td>\n",
       "      <td>0.0</td>\n",
       "      <td>0.0</td>\n",
       "      <td>...</td>\n",
       "      <td>0.0</td>\n",
       "      <td>0.0</td>\n",
       "      <td>0.0</td>\n",
       "      <td>1.0</td>\n",
       "      <td>0.0</td>\n",
       "      <td>0.0</td>\n",
       "      <td>0.0</td>\n",
       "      <td>0.0</td>\n",
       "      <td>0.0</td>\n",
       "      <td>0.0</td>\n",
       "    </tr>\n",
       "    <tr>\n",
       "      <th>Yearly_avg_view_on_travel_page</th>\n",
       "      <td>307.0</td>\n",
       "      <td>367.0</td>\n",
       "      <td>277.0</td>\n",
       "      <td>247.0</td>\n",
       "      <td>202.0</td>\n",
       "      <td>240.0</td>\n",
       "      <td>271.0</td>\n",
       "      <td>225.0</td>\n",
       "      <td>285.0</td>\n",
       "      <td>270.0</td>\n",
       "      <td>...</td>\n",
       "      <td>277.0</td>\n",
       "      <td>228.0</td>\n",
       "      <td>231.0</td>\n",
       "      <td>383.0</td>\n",
       "      <td>302.0</td>\n",
       "      <td>247.0</td>\n",
       "      <td>210.0</td>\n",
       "      <td>305.0</td>\n",
       "      <td>214.0</td>\n",
       "      <td>270.0</td>\n",
       "    </tr>\n",
       "    <tr>\n",
       "      <th>preferred_device</th>\n",
       "      <td>0.0</td>\n",
       "      <td>0.0</td>\n",
       "      <td>0.0</td>\n",
       "      <td>0.0</td>\n",
       "      <td>0.0</td>\n",
       "      <td>0.0</td>\n",
       "      <td>0.0</td>\n",
       "      <td>0.0</td>\n",
       "      <td>0.0</td>\n",
       "      <td>0.0</td>\n",
       "      <td>...</td>\n",
       "      <td>0.0</td>\n",
       "      <td>0.0</td>\n",
       "      <td>0.0</td>\n",
       "      <td>0.0</td>\n",
       "      <td>0.0</td>\n",
       "      <td>0.0</td>\n",
       "      <td>0.0</td>\n",
       "      <td>0.0</td>\n",
       "      <td>0.0</td>\n",
       "      <td>0.0</td>\n",
       "    </tr>\n",
       "    <tr>\n",
       "      <th>total_likes_on_outstation_checkin_given</th>\n",
       "      <td>38570.0</td>\n",
       "      <td>9765.0</td>\n",
       "      <td>48055.0</td>\n",
       "      <td>48720.0</td>\n",
       "      <td>20685.0</td>\n",
       "      <td>35175.0</td>\n",
       "      <td>46340.0</td>\n",
       "      <td>28210.0</td>\n",
       "      <td>7560.0</td>\n",
       "      <td>45465.0</td>\n",
       "      <td>...</td>\n",
       "      <td>10092.0</td>\n",
       "      <td>48288.0</td>\n",
       "      <td>16423.0</td>\n",
       "      <td>14399.0</td>\n",
       "      <td>25317.0</td>\n",
       "      <td>11418.0</td>\n",
       "      <td>40886.0</td>\n",
       "      <td>21510.0</td>\n",
       "      <td>5478.0</td>\n",
       "      <td>22025.0</td>\n",
       "    </tr>\n",
       "    <tr>\n",
       "      <th>yearly_avg_Outstation_checkins</th>\n",
       "      <td>1.0</td>\n",
       "      <td>1.0</td>\n",
       "      <td>1.0</td>\n",
       "      <td>1.0</td>\n",
       "      <td>1.0</td>\n",
       "      <td>1.0</td>\n",
       "      <td>1.0</td>\n",
       "      <td>24.0</td>\n",
       "      <td>23.0</td>\n",
       "      <td>27.0</td>\n",
       "      <td>...</td>\n",
       "      <td>1.0</td>\n",
       "      <td>13.0</td>\n",
       "      <td>28.0</td>\n",
       "      <td>28.0</td>\n",
       "      <td>24.0</td>\n",
       "      <td>5.0</td>\n",
       "      <td>5.0</td>\n",
       "      <td>6.0</td>\n",
       "      <td>4.0</td>\n",
       "      <td>8.0</td>\n",
       "    </tr>\n",
       "    <tr>\n",
       "      <th>member_in_family</th>\n",
       "      <td>2.0</td>\n",
       "      <td>1.0</td>\n",
       "      <td>2.0</td>\n",
       "      <td>4.0</td>\n",
       "      <td>1.0</td>\n",
       "      <td>2.0</td>\n",
       "      <td>3.0</td>\n",
       "      <td>1.0</td>\n",
       "      <td>3.0</td>\n",
       "      <td>3.0</td>\n",
       "      <td>...</td>\n",
       "      <td>4.0</td>\n",
       "      <td>2.0</td>\n",
       "      <td>4.0</td>\n",
       "      <td>3.0</td>\n",
       "      <td>1.0</td>\n",
       "      <td>3.0</td>\n",
       "      <td>3.0</td>\n",
       "      <td>1.0</td>\n",
       "      <td>3.0</td>\n",
       "      <td>3.0</td>\n",
       "    </tr>\n",
       "    <tr>\n",
       "      <th>preferred_location_type</th>\n",
       "      <td>3.0</td>\n",
       "      <td>3.0</td>\n",
       "      <td>8.0</td>\n",
       "      <td>3.0</td>\n",
       "      <td>6.0</td>\n",
       "      <td>3.0</td>\n",
       "      <td>6.0</td>\n",
       "      <td>3.0</td>\n",
       "      <td>3.0</td>\n",
       "      <td>3.0</td>\n",
       "      <td>...</td>\n",
       "      <td>0.0</td>\n",
       "      <td>8.0</td>\n",
       "      <td>5.0</td>\n",
       "      <td>1.0</td>\n",
       "      <td>1.0</td>\n",
       "      <td>5.0</td>\n",
       "      <td>8.0</td>\n",
       "      <td>5.0</td>\n",
       "      <td>0.0</td>\n",
       "      <td>5.0</td>\n",
       "    </tr>\n",
       "    <tr>\n",
       "      <th>Yearly_avg_comment_on_travel_page</th>\n",
       "      <td>94.0</td>\n",
       "      <td>61.0</td>\n",
       "      <td>92.0</td>\n",
       "      <td>56.0</td>\n",
       "      <td>40.0</td>\n",
       "      <td>79.0</td>\n",
       "      <td>81.0</td>\n",
       "      <td>67.0</td>\n",
       "      <td>44.0</td>\n",
       "      <td>94.0</td>\n",
       "      <td>...</td>\n",
       "      <td>84.0</td>\n",
       "      <td>67.0</td>\n",
       "      <td>96.0</td>\n",
       "      <td>58.0</td>\n",
       "      <td>79.0</td>\n",
       "      <td>99.0</td>\n",
       "      <td>53.0</td>\n",
       "      <td>55.0</td>\n",
       "      <td>103.0</td>\n",
       "      <td>104.0</td>\n",
       "    </tr>\n",
       "    <tr>\n",
       "      <th>total_likes_on_outofstation_checkin_received</th>\n",
       "      <td>5993.0</td>\n",
       "      <td>5130.0</td>\n",
       "      <td>2090.0</td>\n",
       "      <td>2909.0</td>\n",
       "      <td>3468.0</td>\n",
       "      <td>3068.0</td>\n",
       "      <td>2670.0</td>\n",
       "      <td>2693.0</td>\n",
       "      <td>9526.0</td>\n",
       "      <td>5237.0</td>\n",
       "      <td>...</td>\n",
       "      <td>3045.0</td>\n",
       "      <td>4073.0</td>\n",
       "      <td>3845.0</td>\n",
       "      <td>10910.0</td>\n",
       "      <td>12093.0</td>\n",
       "      <td>9983.0</td>\n",
       "      <td>3024.0</td>\n",
       "      <td>10041.0</td>\n",
       "      <td>6203.0</td>\n",
       "      <td>4470.0</td>\n",
       "    </tr>\n",
       "    <tr>\n",
       "      <th>week_since_last_outstation_checkin</th>\n",
       "      <td>8.0</td>\n",
       "      <td>1.0</td>\n",
       "      <td>6.0</td>\n",
       "      <td>1.0</td>\n",
       "      <td>9.0</td>\n",
       "      <td>0.0</td>\n",
       "      <td>4.0</td>\n",
       "      <td>1.0</td>\n",
       "      <td>0.0</td>\n",
       "      <td>6.0</td>\n",
       "      <td>...</td>\n",
       "      <td>1.0</td>\n",
       "      <td>4.0</td>\n",
       "      <td>1.0</td>\n",
       "      <td>6.0</td>\n",
       "      <td>0.0</td>\n",
       "      <td>1.0</td>\n",
       "      <td>2.0</td>\n",
       "      <td>4.0</td>\n",
       "      <td>3.0</td>\n",
       "      <td>2.0</td>\n",
       "    </tr>\n",
       "    <tr>\n",
       "      <th>following_company_page</th>\n",
       "      <td>1.0</td>\n",
       "      <td>0.0</td>\n",
       "      <td>1.0</td>\n",
       "      <td>1.0</td>\n",
       "      <td>0.0</td>\n",
       "      <td>0.0</td>\n",
       "      <td>1.0</td>\n",
       "      <td>0.0</td>\n",
       "      <td>0.0</td>\n",
       "      <td>0.0</td>\n",
       "      <td>...</td>\n",
       "      <td>0.0</td>\n",
       "      <td>1.0</td>\n",
       "      <td>0.0</td>\n",
       "      <td>1.0</td>\n",
       "      <td>0.0</td>\n",
       "      <td>0.0</td>\n",
       "      <td>0.0</td>\n",
       "      <td>0.0</td>\n",
       "      <td>1.0</td>\n",
       "      <td>0.0</td>\n",
       "    </tr>\n",
       "    <tr>\n",
       "      <th>montly_avg_comment_on_company_page</th>\n",
       "      <td>11.0</td>\n",
       "      <td>23.0</td>\n",
       "      <td>15.0</td>\n",
       "      <td>11.0</td>\n",
       "      <td>12.0</td>\n",
       "      <td>13.0</td>\n",
       "      <td>20.0</td>\n",
       "      <td>22.0</td>\n",
       "      <td>21.0</td>\n",
       "      <td>13.0</td>\n",
       "      <td>...</td>\n",
       "      <td>19.0</td>\n",
       "      <td>34.0</td>\n",
       "      <td>26.0</td>\n",
       "      <td>28.0</td>\n",
       "      <td>24.0</td>\n",
       "      <td>28.0</td>\n",
       "      <td>32.0</td>\n",
       "      <td>30.0</td>\n",
       "      <td>40.0</td>\n",
       "      <td>29.0</td>\n",
       "    </tr>\n",
       "    <tr>\n",
       "      <th>working_flag</th>\n",
       "      <td>0.0</td>\n",
       "      <td>1.0</td>\n",
       "      <td>0.0</td>\n",
       "      <td>0.0</td>\n",
       "      <td>0.0</td>\n",
       "      <td>0.0</td>\n",
       "      <td>1.0</td>\n",
       "      <td>1.0</td>\n",
       "      <td>1.0</td>\n",
       "      <td>0.0</td>\n",
       "      <td>...</td>\n",
       "      <td>0.0</td>\n",
       "      <td>0.0</td>\n",
       "      <td>0.0</td>\n",
       "      <td>0.0</td>\n",
       "      <td>0.0</td>\n",
       "      <td>0.0</td>\n",
       "      <td>0.0</td>\n",
       "      <td>0.0</td>\n",
       "      <td>1.0</td>\n",
       "      <td>0.0</td>\n",
       "    </tr>\n",
       "    <tr>\n",
       "      <th>travelling_network_rating</th>\n",
       "      <td>1.0</td>\n",
       "      <td>4.0</td>\n",
       "      <td>2.0</td>\n",
       "      <td>3.0</td>\n",
       "      <td>4.0</td>\n",
       "      <td>3.0</td>\n",
       "      <td>1.0</td>\n",
       "      <td>2.0</td>\n",
       "      <td>2.0</td>\n",
       "      <td>2.0</td>\n",
       "      <td>...</td>\n",
       "      <td>4.0</td>\n",
       "      <td>1.0</td>\n",
       "      <td>2.0</td>\n",
       "      <td>2.0</td>\n",
       "      <td>1.0</td>\n",
       "      <td>2.0</td>\n",
       "      <td>4.0</td>\n",
       "      <td>1.0</td>\n",
       "      <td>2.0</td>\n",
       "      <td>1.0</td>\n",
       "    </tr>\n",
       "    <tr>\n",
       "      <th>Adult_flag</th>\n",
       "      <td>0.0</td>\n",
       "      <td>0.0</td>\n",
       "      <td>0.0</td>\n",
       "      <td>0.0</td>\n",
       "      <td>0.0</td>\n",
       "      <td>0.0</td>\n",
       "      <td>1.0</td>\n",
       "      <td>0.0</td>\n",
       "      <td>0.0</td>\n",
       "      <td>1.0</td>\n",
       "      <td>...</td>\n",
       "      <td>0.0</td>\n",
       "      <td>0.0</td>\n",
       "      <td>0.0</td>\n",
       "      <td>0.0</td>\n",
       "      <td>0.0</td>\n",
       "      <td>0.0</td>\n",
       "      <td>0.0</td>\n",
       "      <td>0.0</td>\n",
       "      <td>0.0</td>\n",
       "      <td>0.0</td>\n",
       "    </tr>\n",
       "    <tr>\n",
       "      <th>Daily_Avg_mins_spend_on_traveling_page</th>\n",
       "      <td>8.0</td>\n",
       "      <td>10.0</td>\n",
       "      <td>7.0</td>\n",
       "      <td>8.0</td>\n",
       "      <td>6.0</td>\n",
       "      <td>8.0</td>\n",
       "      <td>12.0</td>\n",
       "      <td>1.0</td>\n",
       "      <td>10.0</td>\n",
       "      <td>17.0</td>\n",
       "      <td>...</td>\n",
       "      <td>12.0</td>\n",
       "      <td>11.0</td>\n",
       "      <td>12.0</td>\n",
       "      <td>23.0</td>\n",
       "      <td>29.0</td>\n",
       "      <td>16.0</td>\n",
       "      <td>14.0</td>\n",
       "      <td>11.0</td>\n",
       "      <td>12.0</td>\n",
       "      <td>14.0</td>\n",
       "    </tr>\n",
       "  </tbody>\n",
       "</table>\n",
       "<p>16 rows × 10652 columns</p>\n",
       "</div>"
      ],
      "text/plain": [
       "                                                0       1        2      \\\n",
       "Taken_product                                     1.0     0.0      1.0   \n",
       "Yearly_avg_view_on_travel_page                  307.0   367.0    277.0   \n",
       "preferred_device                                  0.0     0.0      0.0   \n",
       "total_likes_on_outstation_checkin_given       38570.0  9765.0  48055.0   \n",
       "yearly_avg_Outstation_checkins                    1.0     1.0      1.0   \n",
       "member_in_family                                  2.0     1.0      2.0   \n",
       "preferred_location_type                           3.0     3.0      8.0   \n",
       "Yearly_avg_comment_on_travel_page                94.0    61.0     92.0   \n",
       "total_likes_on_outofstation_checkin_received   5993.0  5130.0   2090.0   \n",
       "week_since_last_outstation_checkin                8.0     1.0      6.0   \n",
       "following_company_page                            1.0     0.0      1.0   \n",
       "montly_avg_comment_on_company_page               11.0    23.0     15.0   \n",
       "working_flag                                      0.0     1.0      0.0   \n",
       "travelling_network_rating                         1.0     4.0      2.0   \n",
       "Adult_flag                                        0.0     0.0      0.0   \n",
       "Daily_Avg_mins_spend_on_traveling_page            8.0    10.0      7.0   \n",
       "\n",
       "                                                3        4        5      \\\n",
       "Taken_product                                     0.0      0.0      0.0   \n",
       "Yearly_avg_view_on_travel_page                  247.0    202.0    240.0   \n",
       "preferred_device                                  0.0      0.0      0.0   \n",
       "total_likes_on_outstation_checkin_given       48720.0  20685.0  35175.0   \n",
       "yearly_avg_Outstation_checkins                    1.0      1.0      1.0   \n",
       "member_in_family                                  4.0      1.0      2.0   \n",
       "preferred_location_type                           3.0      6.0      3.0   \n",
       "Yearly_avg_comment_on_travel_page                56.0     40.0     79.0   \n",
       "total_likes_on_outofstation_checkin_received   2909.0   3468.0   3068.0   \n",
       "week_since_last_outstation_checkin                1.0      9.0      0.0   \n",
       "following_company_page                            1.0      0.0      0.0   \n",
       "montly_avg_comment_on_company_page               11.0     12.0     13.0   \n",
       "working_flag                                      0.0      0.0      0.0   \n",
       "travelling_network_rating                         3.0      4.0      3.0   \n",
       "Adult_flag                                        0.0      0.0      0.0   \n",
       "Daily_Avg_mins_spend_on_traveling_page            8.0      6.0      8.0   \n",
       "\n",
       "                                                6        7       8      \\\n",
       "Taken_product                                     0.0      0.0     0.0   \n",
       "Yearly_avg_view_on_travel_page                  271.0    225.0   285.0   \n",
       "preferred_device                                  0.0      0.0     0.0   \n",
       "total_likes_on_outstation_checkin_given       46340.0  28210.0  7560.0   \n",
       "yearly_avg_Outstation_checkins                    1.0     24.0    23.0   \n",
       "member_in_family                                  3.0      1.0     3.0   \n",
       "preferred_location_type                           6.0      3.0     3.0   \n",
       "Yearly_avg_comment_on_travel_page                81.0     67.0    44.0   \n",
       "total_likes_on_outofstation_checkin_received   2670.0   2693.0  9526.0   \n",
       "week_since_last_outstation_checkin                4.0      1.0     0.0   \n",
       "following_company_page                            1.0      0.0     0.0   \n",
       "montly_avg_comment_on_company_page               20.0     22.0    21.0   \n",
       "working_flag                                      1.0      1.0     1.0   \n",
       "travelling_network_rating                         1.0      2.0     2.0   \n",
       "Adult_flag                                        1.0      0.0     0.0   \n",
       "Daily_Avg_mins_spend_on_traveling_page           12.0      1.0    10.0   \n",
       "\n",
       "                                                9      ...    10642    10643  \\\n",
       "Taken_product                                     0.0  ...      0.0      0.0   \n",
       "Yearly_avg_view_on_travel_page                  270.0  ...    277.0    228.0   \n",
       "preferred_device                                  0.0  ...      0.0      0.0   \n",
       "total_likes_on_outstation_checkin_given       45465.0  ...  10092.0  48288.0   \n",
       "yearly_avg_Outstation_checkins                   27.0  ...      1.0     13.0   \n",
       "member_in_family                                  3.0  ...      4.0      2.0   \n",
       "preferred_location_type                           3.0  ...      0.0      8.0   \n",
       "Yearly_avg_comment_on_travel_page                94.0  ...     84.0     67.0   \n",
       "total_likes_on_outofstation_checkin_received   5237.0  ...   3045.0   4073.0   \n",
       "week_since_last_outstation_checkin                6.0  ...      1.0      4.0   \n",
       "following_company_page                            0.0  ...      0.0      1.0   \n",
       "montly_avg_comment_on_company_page               13.0  ...     19.0     34.0   \n",
       "working_flag                                      0.0  ...      0.0      0.0   \n",
       "travelling_network_rating                         2.0  ...      4.0      1.0   \n",
       "Adult_flag                                        1.0  ...      0.0      0.0   \n",
       "Daily_Avg_mins_spend_on_traveling_page           17.0  ...     12.0     11.0   \n",
       "\n",
       "                                                10644    10645    10646  \\\n",
       "Taken_product                                     0.0      1.0      0.0   \n",
       "Yearly_avg_view_on_travel_page                  231.0    383.0    302.0   \n",
       "preferred_device                                  0.0      0.0      0.0   \n",
       "total_likes_on_outstation_checkin_given       16423.0  14399.0  25317.0   \n",
       "yearly_avg_Outstation_checkins                   28.0     28.0     24.0   \n",
       "member_in_family                                  4.0      3.0      1.0   \n",
       "preferred_location_type                           5.0      1.0      1.0   \n",
       "Yearly_avg_comment_on_travel_page                96.0     58.0     79.0   \n",
       "total_likes_on_outofstation_checkin_received   3845.0  10910.0  12093.0   \n",
       "week_since_last_outstation_checkin                1.0      6.0      0.0   \n",
       "following_company_page                            0.0      1.0      0.0   \n",
       "montly_avg_comment_on_company_page               26.0     28.0     24.0   \n",
       "working_flag                                      0.0      0.0      0.0   \n",
       "travelling_network_rating                         2.0      2.0      1.0   \n",
       "Adult_flag                                        0.0      0.0      0.0   \n",
       "Daily_Avg_mins_spend_on_traveling_page           12.0     23.0     29.0   \n",
       "\n",
       "                                                10647    10648    10649  \\\n",
       "Taken_product                                     0.0      0.0      0.0   \n",
       "Yearly_avg_view_on_travel_page                  247.0    210.0    305.0   \n",
       "preferred_device                                  0.0      0.0      0.0   \n",
       "total_likes_on_outstation_checkin_given       11418.0  40886.0  21510.0   \n",
       "yearly_avg_Outstation_checkins                    5.0      5.0      6.0   \n",
       "member_in_family                                  3.0      3.0      1.0   \n",
       "preferred_location_type                           5.0      8.0      5.0   \n",
       "Yearly_avg_comment_on_travel_page                99.0     53.0     55.0   \n",
       "total_likes_on_outofstation_checkin_received   9983.0   3024.0  10041.0   \n",
       "week_since_last_outstation_checkin                1.0      2.0      4.0   \n",
       "following_company_page                            0.0      0.0      0.0   \n",
       "montly_avg_comment_on_company_page               28.0     32.0     30.0   \n",
       "working_flag                                      0.0      0.0      0.0   \n",
       "travelling_network_rating                         2.0      4.0      1.0   \n",
       "Adult_flag                                        0.0      0.0      0.0   \n",
       "Daily_Avg_mins_spend_on_traveling_page           16.0     14.0     11.0   \n",
       "\n",
       "                                               10650    10651  \n",
       "Taken_product                                    0.0      0.0  \n",
       "Yearly_avg_view_on_travel_page                 214.0    270.0  \n",
       "preferred_device                                 0.0      0.0  \n",
       "total_likes_on_outstation_checkin_given       5478.0  22025.0  \n",
       "yearly_avg_Outstation_checkins                   4.0      8.0  \n",
       "member_in_family                                 3.0      3.0  \n",
       "preferred_location_type                          0.0      5.0  \n",
       "Yearly_avg_comment_on_travel_page              103.0    104.0  \n",
       "total_likes_on_outofstation_checkin_received  6203.0   4470.0  \n",
       "week_since_last_outstation_checkin               3.0      2.0  \n",
       "following_company_page                           1.0      0.0  \n",
       "montly_avg_comment_on_company_page              40.0     29.0  \n",
       "working_flag                                     1.0      0.0  \n",
       "travelling_network_rating                        2.0      1.0  \n",
       "Adult_flag                                       0.0      0.0  \n",
       "Daily_Avg_mins_spend_on_traveling_page          12.0     14.0  \n",
       "\n",
       "[16 rows x 10652 columns]"
      ]
     },
     "execution_count": 395,
     "metadata": {},
     "output_type": "execute_result"
    }
   ],
   "source": [
    "df1c=df_mobile.copy()\n",
    "df1c.T"
   ]
  },
  {
   "cell_type": "code",
   "execution_count": 396,
   "id": "7b917b83",
   "metadata": {},
   "outputs": [
    {
     "data": {
      "text/plain": [
       "(10652, 16)"
      ]
     },
     "execution_count": 396,
     "metadata": {},
     "output_type": "execute_result"
    }
   ],
   "source": [
    "df1c.shape"
   ]
  },
  {
   "cell_type": "code",
   "execution_count": 397,
   "id": "a68a396a",
   "metadata": {},
   "outputs": [],
   "source": [
    "from scipy.stats import zscore"
   ]
  },
  {
   "cell_type": "code",
   "execution_count": 398,
   "id": "a7f77b8c",
   "metadata": {},
   "outputs": [],
   "source": [
    "df1c['preferred_device']=df1c['preferred_device'].replace({'Mobile':1})"
   ]
  },
  {
   "cell_type": "code",
   "execution_count": 399,
   "id": "31f1327d",
   "metadata": {},
   "outputs": [
    {
     "data": {
      "text/plain": [
       "0    10652\n",
       "Name: preferred_device, dtype: int64"
      ]
     },
     "execution_count": 399,
     "metadata": {},
     "output_type": "execute_result"
    }
   ],
   "source": [
    "df1c['preferred_device'].value_counts()"
   ]
  },
  {
   "cell_type": "code",
   "execution_count": 400,
   "id": "e9c1c105",
   "metadata": {},
   "outputs": [],
   "source": [
    "X= df1c.drop([\"Taken_product\"],axis=1)"
   ]
  },
  {
   "cell_type": "code",
   "execution_count": 401,
   "id": "54ee4b2b",
   "metadata": {},
   "outputs": [
    {
     "data": {
      "text/html": [
       "<div>\n",
       "<style scoped>\n",
       "    .dataframe tbody tr th:only-of-type {\n",
       "        vertical-align: middle;\n",
       "    }\n",
       "\n",
       "    .dataframe tbody tr th {\n",
       "        vertical-align: top;\n",
       "    }\n",
       "\n",
       "    .dataframe thead th {\n",
       "        text-align: right;\n",
       "    }\n",
       "</style>\n",
       "<table border=\"1\" class=\"dataframe\">\n",
       "  <thead>\n",
       "    <tr style=\"text-align: right;\">\n",
       "      <th></th>\n",
       "      <th>0</th>\n",
       "      <th>1</th>\n",
       "      <th>2</th>\n",
       "      <th>3</th>\n",
       "      <th>4</th>\n",
       "    </tr>\n",
       "  </thead>\n",
       "  <tbody>\n",
       "    <tr>\n",
       "      <th>Yearly_avg_view_on_travel_page</th>\n",
       "      <td>307.0</td>\n",
       "      <td>367.0</td>\n",
       "      <td>277.0</td>\n",
       "      <td>247.0</td>\n",
       "      <td>202.0</td>\n",
       "    </tr>\n",
       "    <tr>\n",
       "      <th>preferred_device</th>\n",
       "      <td>0.0</td>\n",
       "      <td>0.0</td>\n",
       "      <td>0.0</td>\n",
       "      <td>0.0</td>\n",
       "      <td>0.0</td>\n",
       "    </tr>\n",
       "    <tr>\n",
       "      <th>total_likes_on_outstation_checkin_given</th>\n",
       "      <td>38570.0</td>\n",
       "      <td>9765.0</td>\n",
       "      <td>48055.0</td>\n",
       "      <td>48720.0</td>\n",
       "      <td>20685.0</td>\n",
       "    </tr>\n",
       "    <tr>\n",
       "      <th>yearly_avg_Outstation_checkins</th>\n",
       "      <td>1.0</td>\n",
       "      <td>1.0</td>\n",
       "      <td>1.0</td>\n",
       "      <td>1.0</td>\n",
       "      <td>1.0</td>\n",
       "    </tr>\n",
       "    <tr>\n",
       "      <th>member_in_family</th>\n",
       "      <td>2.0</td>\n",
       "      <td>1.0</td>\n",
       "      <td>2.0</td>\n",
       "      <td>4.0</td>\n",
       "      <td>1.0</td>\n",
       "    </tr>\n",
       "    <tr>\n",
       "      <th>preferred_location_type</th>\n",
       "      <td>3.0</td>\n",
       "      <td>3.0</td>\n",
       "      <td>8.0</td>\n",
       "      <td>3.0</td>\n",
       "      <td>6.0</td>\n",
       "    </tr>\n",
       "    <tr>\n",
       "      <th>Yearly_avg_comment_on_travel_page</th>\n",
       "      <td>94.0</td>\n",
       "      <td>61.0</td>\n",
       "      <td>92.0</td>\n",
       "      <td>56.0</td>\n",
       "      <td>40.0</td>\n",
       "    </tr>\n",
       "    <tr>\n",
       "      <th>total_likes_on_outofstation_checkin_received</th>\n",
       "      <td>5993.0</td>\n",
       "      <td>5130.0</td>\n",
       "      <td>2090.0</td>\n",
       "      <td>2909.0</td>\n",
       "      <td>3468.0</td>\n",
       "    </tr>\n",
       "    <tr>\n",
       "      <th>week_since_last_outstation_checkin</th>\n",
       "      <td>8.0</td>\n",
       "      <td>1.0</td>\n",
       "      <td>6.0</td>\n",
       "      <td>1.0</td>\n",
       "      <td>9.0</td>\n",
       "    </tr>\n",
       "    <tr>\n",
       "      <th>following_company_page</th>\n",
       "      <td>1.0</td>\n",
       "      <td>0.0</td>\n",
       "      <td>1.0</td>\n",
       "      <td>1.0</td>\n",
       "      <td>0.0</td>\n",
       "    </tr>\n",
       "    <tr>\n",
       "      <th>montly_avg_comment_on_company_page</th>\n",
       "      <td>11.0</td>\n",
       "      <td>23.0</td>\n",
       "      <td>15.0</td>\n",
       "      <td>11.0</td>\n",
       "      <td>12.0</td>\n",
       "    </tr>\n",
       "    <tr>\n",
       "      <th>working_flag</th>\n",
       "      <td>0.0</td>\n",
       "      <td>1.0</td>\n",
       "      <td>0.0</td>\n",
       "      <td>0.0</td>\n",
       "      <td>0.0</td>\n",
       "    </tr>\n",
       "    <tr>\n",
       "      <th>travelling_network_rating</th>\n",
       "      <td>1.0</td>\n",
       "      <td>4.0</td>\n",
       "      <td>2.0</td>\n",
       "      <td>3.0</td>\n",
       "      <td>4.0</td>\n",
       "    </tr>\n",
       "    <tr>\n",
       "      <th>Adult_flag</th>\n",
       "      <td>0.0</td>\n",
       "      <td>0.0</td>\n",
       "      <td>0.0</td>\n",
       "      <td>0.0</td>\n",
       "      <td>0.0</td>\n",
       "    </tr>\n",
       "    <tr>\n",
       "      <th>Daily_Avg_mins_spend_on_traveling_page</th>\n",
       "      <td>8.0</td>\n",
       "      <td>10.0</td>\n",
       "      <td>7.0</td>\n",
       "      <td>8.0</td>\n",
       "      <td>6.0</td>\n",
       "    </tr>\n",
       "  </tbody>\n",
       "</table>\n",
       "</div>"
      ],
      "text/plain": [
       "                                                    0       1        2  \\\n",
       "Yearly_avg_view_on_travel_page                  307.0   367.0    277.0   \n",
       "preferred_device                                  0.0     0.0      0.0   \n",
       "total_likes_on_outstation_checkin_given       38570.0  9765.0  48055.0   \n",
       "yearly_avg_Outstation_checkins                    1.0     1.0      1.0   \n",
       "member_in_family                                  2.0     1.0      2.0   \n",
       "preferred_location_type                           3.0     3.0      8.0   \n",
       "Yearly_avg_comment_on_travel_page                94.0    61.0     92.0   \n",
       "total_likes_on_outofstation_checkin_received   5993.0  5130.0   2090.0   \n",
       "week_since_last_outstation_checkin                8.0     1.0      6.0   \n",
       "following_company_page                            1.0     0.0      1.0   \n",
       "montly_avg_comment_on_company_page               11.0    23.0     15.0   \n",
       "working_flag                                      0.0     1.0      0.0   \n",
       "travelling_network_rating                         1.0     4.0      2.0   \n",
       "Adult_flag                                        0.0     0.0      0.0   \n",
       "Daily_Avg_mins_spend_on_traveling_page            8.0    10.0      7.0   \n",
       "\n",
       "                                                    3        4  \n",
       "Yearly_avg_view_on_travel_page                  247.0    202.0  \n",
       "preferred_device                                  0.0      0.0  \n",
       "total_likes_on_outstation_checkin_given       48720.0  20685.0  \n",
       "yearly_avg_Outstation_checkins                    1.0      1.0  \n",
       "member_in_family                                  4.0      1.0  \n",
       "preferred_location_type                           3.0      6.0  \n",
       "Yearly_avg_comment_on_travel_page                56.0     40.0  \n",
       "total_likes_on_outofstation_checkin_received   2909.0   3468.0  \n",
       "week_since_last_outstation_checkin                1.0      9.0  \n",
       "following_company_page                            1.0      0.0  \n",
       "montly_avg_comment_on_company_page               11.0     12.0  \n",
       "working_flag                                      0.0      0.0  \n",
       "travelling_network_rating                         3.0      4.0  \n",
       "Adult_flag                                        0.0      0.0  \n",
       "Daily_Avg_mins_spend_on_traveling_page            8.0      6.0  "
      ]
     },
     "execution_count": 401,
     "metadata": {},
     "output_type": "execute_result"
    }
   ],
   "source": [
    "y=df1c.Taken_product\n",
    "X.head().T"
   ]
  },
  {
   "cell_type": "code",
   "execution_count": 402,
   "id": "606f9161",
   "metadata": {},
   "outputs": [
    {
     "data": {
      "text/plain": [
       "0    1\n",
       "1    0\n",
       "2    1\n",
       "3    0\n",
       "4    0\n",
       "Name: Taken_product, dtype: int64"
      ]
     },
     "execution_count": 402,
     "metadata": {},
     "output_type": "execute_result"
    }
   ],
   "source": [
    "y.head()"
   ]
  },
  {
   "cell_type": "code",
   "execution_count": 403,
   "id": "479d18dd",
   "metadata": {},
   "outputs": [],
   "source": [
    "from sklearn.model_selection import train_test_split\n",
    "\n",
    "X_train, X_test, y_train, y_test = train_test_split(X, y, test_size=.30, random_state=1)"
   ]
  },
  {
   "cell_type": "code",
   "execution_count": 404,
   "id": "1d368c95",
   "metadata": {},
   "outputs": [
    {
     "data": {
      "text/html": [
       "<div>\n",
       "<style scoped>\n",
       "    .dataframe tbody tr th:only-of-type {\n",
       "        vertical-align: middle;\n",
       "    }\n",
       "\n",
       "    .dataframe tbody tr th {\n",
       "        vertical-align: top;\n",
       "    }\n",
       "\n",
       "    .dataframe thead th {\n",
       "        text-align: right;\n",
       "    }\n",
       "</style>\n",
       "<table border=\"1\" class=\"dataframe\">\n",
       "  <thead>\n",
       "    <tr style=\"text-align: right;\">\n",
       "      <th></th>\n",
       "      <th>3531</th>\n",
       "      <th>6990</th>\n",
       "      <th>6230</th>\n",
       "      <th>6062</th>\n",
       "      <th>9198</th>\n",
       "    </tr>\n",
       "  </thead>\n",
       "  <tbody>\n",
       "    <tr>\n",
       "      <th>Yearly_avg_view_on_travel_page</th>\n",
       "      <td>249.0</td>\n",
       "      <td>426.0</td>\n",
       "      <td>267.0</td>\n",
       "      <td>239.0</td>\n",
       "      <td>367.0</td>\n",
       "    </tr>\n",
       "    <tr>\n",
       "      <th>preferred_device</th>\n",
       "      <td>0.0</td>\n",
       "      <td>0.0</td>\n",
       "      <td>0.0</td>\n",
       "      <td>0.0</td>\n",
       "      <td>0.0</td>\n",
       "    </tr>\n",
       "    <tr>\n",
       "      <th>total_likes_on_outstation_checkin_given</th>\n",
       "      <td>4161.0</td>\n",
       "      <td>50509.0</td>\n",
       "      <td>45611.0</td>\n",
       "      <td>34270.0</td>\n",
       "      <td>41208.0</td>\n",
       "    </tr>\n",
       "    <tr>\n",
       "      <th>yearly_avg_Outstation_checkins</th>\n",
       "      <td>16.0</td>\n",
       "      <td>11.0</td>\n",
       "      <td>2.0</td>\n",
       "      <td>1.0</td>\n",
       "      <td>26.0</td>\n",
       "    </tr>\n",
       "    <tr>\n",
       "      <th>member_in_family</th>\n",
       "      <td>3.0</td>\n",
       "      <td>5.0</td>\n",
       "      <td>4.0</td>\n",
       "      <td>4.0</td>\n",
       "      <td>4.0</td>\n",
       "    </tr>\n",
       "    <tr>\n",
       "      <th>preferred_location_type</th>\n",
       "      <td>9.0</td>\n",
       "      <td>1.0</td>\n",
       "      <td>0.0</td>\n",
       "      <td>5.0</td>\n",
       "      <td>0.0</td>\n",
       "    </tr>\n",
       "    <tr>\n",
       "      <th>Yearly_avg_comment_on_travel_page</th>\n",
       "      <td>82.0</td>\n",
       "      <td>96.0</td>\n",
       "      <td>66.0</td>\n",
       "      <td>96.0</td>\n",
       "      <td>111.0</td>\n",
       "    </tr>\n",
       "    <tr>\n",
       "      <th>total_likes_on_outofstation_checkin_received</th>\n",
       "      <td>5366.0</td>\n",
       "      <td>5384.0</td>\n",
       "      <td>2778.0</td>\n",
       "      <td>4348.0</td>\n",
       "      <td>19712.0</td>\n",
       "    </tr>\n",
       "    <tr>\n",
       "      <th>week_since_last_outstation_checkin</th>\n",
       "      <td>5.0</td>\n",
       "      <td>4.0</td>\n",
       "      <td>3.0</td>\n",
       "      <td>0.0</td>\n",
       "      <td>5.0</td>\n",
       "    </tr>\n",
       "    <tr>\n",
       "      <th>following_company_page</th>\n",
       "      <td>0.0</td>\n",
       "      <td>0.0</td>\n",
       "      <td>0.0</td>\n",
       "      <td>0.0</td>\n",
       "      <td>0.0</td>\n",
       "    </tr>\n",
       "    <tr>\n",
       "      <th>montly_avg_comment_on_company_page</th>\n",
       "      <td>20.0</td>\n",
       "      <td>20.0</td>\n",
       "      <td>20.0</td>\n",
       "      <td>15.0</td>\n",
       "      <td>28.0</td>\n",
       "    </tr>\n",
       "    <tr>\n",
       "      <th>working_flag</th>\n",
       "      <td>0.0</td>\n",
       "      <td>0.0</td>\n",
       "      <td>0.0</td>\n",
       "      <td>0.0</td>\n",
       "      <td>0.0</td>\n",
       "    </tr>\n",
       "    <tr>\n",
       "      <th>travelling_network_rating</th>\n",
       "      <td>3.0</td>\n",
       "      <td>3.0</td>\n",
       "      <td>3.0</td>\n",
       "      <td>4.0</td>\n",
       "      <td>3.0</td>\n",
       "    </tr>\n",
       "    <tr>\n",
       "      <th>Adult_flag</th>\n",
       "      <td>0.0</td>\n",
       "      <td>0.0</td>\n",
       "      <td>0.0</td>\n",
       "      <td>0.0</td>\n",
       "      <td>0.0</td>\n",
       "    </tr>\n",
       "    <tr>\n",
       "      <th>Daily_Avg_mins_spend_on_traveling_page</th>\n",
       "      <td>9.0</td>\n",
       "      <td>6.0</td>\n",
       "      <td>14.0</td>\n",
       "      <td>6.0</td>\n",
       "      <td>34.0</td>\n",
       "    </tr>\n",
       "  </tbody>\n",
       "</table>\n",
       "</div>"
      ],
      "text/plain": [
       "                                                3531     6990     6230  \\\n",
       "Yearly_avg_view_on_travel_page                 249.0    426.0    267.0   \n",
       "preferred_device                                 0.0      0.0      0.0   \n",
       "total_likes_on_outstation_checkin_given       4161.0  50509.0  45611.0   \n",
       "yearly_avg_Outstation_checkins                  16.0     11.0      2.0   \n",
       "member_in_family                                 3.0      5.0      4.0   \n",
       "preferred_location_type                          9.0      1.0      0.0   \n",
       "Yearly_avg_comment_on_travel_page               82.0     96.0     66.0   \n",
       "total_likes_on_outofstation_checkin_received  5366.0   5384.0   2778.0   \n",
       "week_since_last_outstation_checkin               5.0      4.0      3.0   \n",
       "following_company_page                           0.0      0.0      0.0   \n",
       "montly_avg_comment_on_company_page              20.0     20.0     20.0   \n",
       "working_flag                                     0.0      0.0      0.0   \n",
       "travelling_network_rating                        3.0      3.0      3.0   \n",
       "Adult_flag                                       0.0      0.0      0.0   \n",
       "Daily_Avg_mins_spend_on_traveling_page           9.0      6.0     14.0   \n",
       "\n",
       "                                                 6062     9198  \n",
       "Yearly_avg_view_on_travel_page                  239.0    367.0  \n",
       "preferred_device                                  0.0      0.0  \n",
       "total_likes_on_outstation_checkin_given       34270.0  41208.0  \n",
       "yearly_avg_Outstation_checkins                    1.0     26.0  \n",
       "member_in_family                                  4.0      4.0  \n",
       "preferred_location_type                           5.0      0.0  \n",
       "Yearly_avg_comment_on_travel_page                96.0    111.0  \n",
       "total_likes_on_outofstation_checkin_received   4348.0  19712.0  \n",
       "week_since_last_outstation_checkin                0.0      5.0  \n",
       "following_company_page                            0.0      0.0  \n",
       "montly_avg_comment_on_company_page               15.0     28.0  \n",
       "working_flag                                      0.0      0.0  \n",
       "travelling_network_rating                         4.0      3.0  \n",
       "Adult_flag                                        0.0      0.0  \n",
       "Daily_Avg_mins_spend_on_traveling_page            6.0     34.0  "
      ]
     },
     "execution_count": 404,
     "metadata": {},
     "output_type": "execute_result"
    }
   ],
   "source": [
    "X_train.head().T"
   ]
  },
  {
   "cell_type": "code",
   "execution_count": 405,
   "id": "ee0e4bda",
   "metadata": {},
   "outputs": [
    {
     "data": {
      "text/plain": [
       "3531    1\n",
       "6990    0\n",
       "6230    0\n",
       "6062    0\n",
       "9198    0\n",
       "Name: Taken_product, dtype: int64"
      ]
     },
     "execution_count": 405,
     "metadata": {},
     "output_type": "execute_result"
    }
   ],
   "source": [
    "y_train.head().T"
   ]
  },
  {
   "cell_type": "code",
   "execution_count": 406,
   "id": "de3435ba",
   "metadata": {},
   "outputs": [
    {
     "data": {
      "text/html": [
       "<div>\n",
       "<style scoped>\n",
       "    .dataframe tbody tr th:only-of-type {\n",
       "        vertical-align: middle;\n",
       "    }\n",
       "\n",
       "    .dataframe tbody tr th {\n",
       "        vertical-align: top;\n",
       "    }\n",
       "\n",
       "    .dataframe thead th {\n",
       "        text-align: right;\n",
       "    }\n",
       "</style>\n",
       "<table border=\"1\" class=\"dataframe\">\n",
       "  <thead>\n",
       "    <tr style=\"text-align: right;\">\n",
       "      <th></th>\n",
       "      <th>9636</th>\n",
       "      <th>4907</th>\n",
       "      <th>7220</th>\n",
       "      <th>2512</th>\n",
       "      <th>4485</th>\n",
       "    </tr>\n",
       "  </thead>\n",
       "  <tbody>\n",
       "    <tr>\n",
       "      <th>Yearly_avg_view_on_travel_page</th>\n",
       "      <td>351.0</td>\n",
       "      <td>271.0</td>\n",
       "      <td>260.0</td>\n",
       "      <td>330.0</td>\n",
       "      <td>234.0</td>\n",
       "    </tr>\n",
       "    <tr>\n",
       "      <th>preferred_device</th>\n",
       "      <td>0.0</td>\n",
       "      <td>0.0</td>\n",
       "      <td>0.0</td>\n",
       "      <td>0.0</td>\n",
       "      <td>0.0</td>\n",
       "    </tr>\n",
       "    <tr>\n",
       "      <th>total_likes_on_outstation_checkin_given</th>\n",
       "      <td>36861.0</td>\n",
       "      <td>46072.0</td>\n",
       "      <td>22023.0</td>\n",
       "      <td>34335.0</td>\n",
       "      <td>26154.0</td>\n",
       "    </tr>\n",
       "    <tr>\n",
       "      <th>yearly_avg_Outstation_checkins</th>\n",
       "      <td>6.0</td>\n",
       "      <td>1.0</td>\n",
       "      <td>27.0</td>\n",
       "      <td>1.0</td>\n",
       "      <td>1.0</td>\n",
       "    </tr>\n",
       "    <tr>\n",
       "      <th>member_in_family</th>\n",
       "      <td>3.0</td>\n",
       "      <td>4.0</td>\n",
       "      <td>2.0</td>\n",
       "      <td>3.0</td>\n",
       "      <td>4.0</td>\n",
       "    </tr>\n",
       "    <tr>\n",
       "      <th>preferred_location_type</th>\n",
       "      <td>5.0</td>\n",
       "      <td>8.0</td>\n",
       "      <td>5.0</td>\n",
       "      <td>3.0</td>\n",
       "      <td>3.0</td>\n",
       "    </tr>\n",
       "    <tr>\n",
       "      <th>Yearly_avg_comment_on_travel_page</th>\n",
       "      <td>82.0</td>\n",
       "      <td>45.0</td>\n",
       "      <td>106.0</td>\n",
       "      <td>90.0</td>\n",
       "      <td>69.0</td>\n",
       "    </tr>\n",
       "    <tr>\n",
       "      <th>total_likes_on_outofstation_checkin_received</th>\n",
       "      <td>8937.0</td>\n",
       "      <td>19564.0</td>\n",
       "      <td>2323.0</td>\n",
       "      <td>3162.0</td>\n",
       "      <td>4474.0</td>\n",
       "    </tr>\n",
       "    <tr>\n",
       "      <th>week_since_last_outstation_checkin</th>\n",
       "      <td>8.0</td>\n",
       "      <td>6.0</td>\n",
       "      <td>2.0</td>\n",
       "      <td>3.0</td>\n",
       "      <td>1.0</td>\n",
       "    </tr>\n",
       "    <tr>\n",
       "      <th>following_company_page</th>\n",
       "      <td>0.0</td>\n",
       "      <td>1.0</td>\n",
       "      <td>0.0</td>\n",
       "      <td>0.0</td>\n",
       "      <td>0.0</td>\n",
       "    </tr>\n",
       "    <tr>\n",
       "      <th>montly_avg_comment_on_company_page</th>\n",
       "      <td>27.0</td>\n",
       "      <td>22.0</td>\n",
       "      <td>24.0</td>\n",
       "      <td>14.0</td>\n",
       "      <td>444.0</td>\n",
       "    </tr>\n",
       "    <tr>\n",
       "      <th>working_flag</th>\n",
       "      <td>0.0</td>\n",
       "      <td>0.0</td>\n",
       "      <td>0.0</td>\n",
       "      <td>0.0</td>\n",
       "      <td>1.0</td>\n",
       "    </tr>\n",
       "    <tr>\n",
       "      <th>travelling_network_rating</th>\n",
       "      <td>4.0</td>\n",
       "      <td>1.0</td>\n",
       "      <td>4.0</td>\n",
       "      <td>4.0</td>\n",
       "      <td>4.0</td>\n",
       "    </tr>\n",
       "    <tr>\n",
       "      <th>Adult_flag</th>\n",
       "      <td>0.0</td>\n",
       "      <td>0.0</td>\n",
       "      <td>0.0</td>\n",
       "      <td>0.0</td>\n",
       "      <td>0.0</td>\n",
       "    </tr>\n",
       "    <tr>\n",
       "      <th>Daily_Avg_mins_spend_on_traveling_page</th>\n",
       "      <td>25.0</td>\n",
       "      <td>34.0</td>\n",
       "      <td>9.0</td>\n",
       "      <td>7.0</td>\n",
       "      <td>15.0</td>\n",
       "    </tr>\n",
       "  </tbody>\n",
       "</table>\n",
       "</div>"
      ],
      "text/plain": [
       "                                                 9636     4907     7220  \\\n",
       "Yearly_avg_view_on_travel_page                  351.0    271.0    260.0   \n",
       "preferred_device                                  0.0      0.0      0.0   \n",
       "total_likes_on_outstation_checkin_given       36861.0  46072.0  22023.0   \n",
       "yearly_avg_Outstation_checkins                    6.0      1.0     27.0   \n",
       "member_in_family                                  3.0      4.0      2.0   \n",
       "preferred_location_type                           5.0      8.0      5.0   \n",
       "Yearly_avg_comment_on_travel_page                82.0     45.0    106.0   \n",
       "total_likes_on_outofstation_checkin_received   8937.0  19564.0   2323.0   \n",
       "week_since_last_outstation_checkin                8.0      6.0      2.0   \n",
       "following_company_page                            0.0      1.0      0.0   \n",
       "montly_avg_comment_on_company_page               27.0     22.0     24.0   \n",
       "working_flag                                      0.0      0.0      0.0   \n",
       "travelling_network_rating                         4.0      1.0      4.0   \n",
       "Adult_flag                                        0.0      0.0      0.0   \n",
       "Daily_Avg_mins_spend_on_traveling_page           25.0     34.0      9.0   \n",
       "\n",
       "                                                 2512     4485  \n",
       "Yearly_avg_view_on_travel_page                  330.0    234.0  \n",
       "preferred_device                                  0.0      0.0  \n",
       "total_likes_on_outstation_checkin_given       34335.0  26154.0  \n",
       "yearly_avg_Outstation_checkins                    1.0      1.0  \n",
       "member_in_family                                  3.0      4.0  \n",
       "preferred_location_type                           3.0      3.0  \n",
       "Yearly_avg_comment_on_travel_page                90.0     69.0  \n",
       "total_likes_on_outofstation_checkin_received   3162.0   4474.0  \n",
       "week_since_last_outstation_checkin                3.0      1.0  \n",
       "following_company_page                            0.0      0.0  \n",
       "montly_avg_comment_on_company_page               14.0    444.0  \n",
       "working_flag                                      0.0      1.0  \n",
       "travelling_network_rating                         4.0      4.0  \n",
       "Adult_flag                                        0.0      0.0  \n",
       "Daily_Avg_mins_spend_on_traveling_page            7.0     15.0  "
      ]
     },
     "execution_count": 406,
     "metadata": {},
     "output_type": "execute_result"
    }
   ],
   "source": [
    "X_test.head().T"
   ]
  },
  {
   "cell_type": "code",
   "execution_count": 407,
   "id": "c7384a19",
   "metadata": {},
   "outputs": [
    {
     "data": {
      "text/plain": [
       "9636    0\n",
       "4907    0\n",
       "7220    0\n",
       "2512    0\n",
       "4485    0\n",
       "Name: Taken_product, dtype: int64"
      ]
     },
     "execution_count": 407,
     "metadata": {},
     "output_type": "execute_result"
    }
   ],
   "source": [
    "y_test.head().T"
   ]
  },
  {
   "cell_type": "code",
   "execution_count": 408,
   "id": "797a33ec",
   "metadata": {},
   "outputs": [
    {
     "data": {
      "text/plain": [
       "(7456, 15)"
      ]
     },
     "execution_count": 408,
     "metadata": {},
     "output_type": "execute_result"
    }
   ],
   "source": [
    "X_train.shape"
   ]
  },
  {
   "cell_type": "code",
   "execution_count": 409,
   "id": "9ac6b5cb",
   "metadata": {},
   "outputs": [
    {
     "data": {
      "text/plain": [
       "(7456,)"
      ]
     },
     "execution_count": 409,
     "metadata": {},
     "output_type": "execute_result"
    }
   ],
   "source": [
    "y_train.shape"
   ]
  },
  {
   "cell_type": "code",
   "execution_count": 410,
   "id": "1ebefa8d",
   "metadata": {},
   "outputs": [
    {
     "data": {
      "text/plain": [
       "(3196, 15)"
      ]
     },
     "execution_count": 410,
     "metadata": {},
     "output_type": "execute_result"
    }
   ],
   "source": [
    "X_test.shape"
   ]
  },
  {
   "cell_type": "code",
   "execution_count": 411,
   "id": "70e620ab",
   "metadata": {},
   "outputs": [
    {
     "data": {
      "text/plain": [
       "(3196,)"
      ]
     },
     "execution_count": 411,
     "metadata": {},
     "output_type": "execute_result"
    }
   ],
   "source": [
    "y_test.shape"
   ]
  },
  {
   "cell_type": "markdown",
   "id": "01a38285",
   "metadata": {},
   "source": [
    "---------------------------------------------------------------------------------------------------------------------------------------------------------------"
   ]
  },
  {
   "cell_type": "markdown",
   "id": "b024bf1f",
   "metadata": {},
   "source": [
    "CART"
   ]
  },
  {
   "cell_type": "code",
   "execution_count": 412,
   "id": "39b838b6",
   "metadata": {},
   "outputs": [],
   "source": [
    "from sklearn.tree import DecisionTreeClassifier #from scikit Learn"
   ]
  },
  {
   "cell_type": "code",
   "execution_count": 413,
   "id": "73112724",
   "metadata": {},
   "outputs": [],
   "source": [
    "# Initialise a Decision Tree Classifier\n",
    "dt_model = DecisionTreeClassifier(criterion = 'gini' )"
   ]
  },
  {
   "cell_type": "code",
   "execution_count": 414,
   "id": "4f77ef3d",
   "metadata": {},
   "outputs": [
    {
     "data": {
      "text/plain": [
       "DecisionTreeClassifier()"
      ]
     },
     "execution_count": 414,
     "metadata": {},
     "output_type": "execute_result"
    }
   ],
   "source": [
    "# Fit the model\n",
    "dt_model.fit(X_train, y_train)"
   ]
  },
  {
   "cell_type": "code",
   "execution_count": 415,
   "id": "8730bf2d",
   "metadata": {},
   "outputs": [],
   "source": [
    "from sklearn import tree\n",
    "\n",
    "train_char_label = ['No', 'Yes']\n",
    "ld_Tree_File = open('ld_Tree_File.dot','w')\n",
    "dot_data = tree.export_graphviz(dt_model, \n",
    "                                out_file=ld_Tree_File, \n",
    "                                feature_names = list(X_train), \n",
    "                                class_names = list(train_char_label))\n",
    "\n",
    "ld_Tree_File.close()"
   ]
  },
  {
   "cell_type": "code",
   "execution_count": 416,
   "id": "e5fc8268",
   "metadata": {},
   "outputs": [
    {
     "name": "stdout",
     "output_type": "stream",
     "text": [
      "                                                   Imp\n",
      "total_likes_on_outofstation_checkin_received  0.242666\n",
      "total_likes_on_outstation_checkin_given       0.218321\n",
      "Yearly_avg_view_on_travel_page                0.088763\n",
      "yearly_avg_Outstation_checkins                0.074630\n",
      "week_since_last_outstation_checkin            0.054932\n",
      "travelling_network_rating                     0.054737\n",
      "following_company_page                        0.051728\n",
      "Yearly_avg_comment_on_travel_page             0.043975\n",
      "Daily_Avg_mins_spend_on_traveling_page        0.042478\n",
      "member_in_family                              0.040987\n",
      "working_flag                                  0.031295\n",
      "preferred_location_type                       0.023024\n",
      "montly_avg_comment_on_company_page            0.018525\n",
      "Adult_flag                                    0.013942\n",
      "preferred_device                              0.000000\n"
     ]
    }
   ],
   "source": [
    "print (pd.DataFrame(dt_model.feature_importances_, columns = [\"Imp\"], index = X_train.columns).sort_values('Imp',ascending=False))"
   ]
  },
  {
   "cell_type": "code",
   "execution_count": 417,
   "id": "822e4b1f",
   "metadata": {},
   "outputs": [],
   "source": [
    "y_predict = dt_model.predict(X_test)"
   ]
  },
  {
   "cell_type": "code",
   "execution_count": 418,
   "id": "d3151ecf",
   "metadata": {},
   "outputs": [
    {
     "data": {
      "text/plain": [
       "(3196,)"
      ]
     },
     "execution_count": 418,
     "metadata": {},
     "output_type": "execute_result"
    }
   ],
   "source": [
    "y_predict.shape"
   ]
  },
  {
   "cell_type": "code",
   "execution_count": 419,
   "id": "8fba0b14",
   "metadata": {},
   "outputs": [],
   "source": [
    "ytrain_predict = dt_model.predict(X_train)\n",
    "ytest_predict = dt_model.predict(X_test)"
   ]
  },
  {
   "cell_type": "code",
   "execution_count": 420,
   "id": "4b99e392",
   "metadata": {},
   "outputs": [
    {
     "name": "stdout",
     "output_type": "stream",
     "text": [
      "ytrain_predict (7456,)\n",
      "ytest_predict (3196,)\n"
     ]
    }
   ],
   "source": [
    "print('ytrain_predict',ytrain_predict.shape)\n",
    "print('ytest_predict',ytest_predict.shape)"
   ]
  },
  {
   "cell_type": "code",
   "execution_count": 421,
   "id": "1da46b1e",
   "metadata": {},
   "outputs": [
    {
     "data": {
      "text/plain": [
       "array([0, 0, 0, ..., 0, 0, 0], dtype=int64)"
      ]
     },
     "execution_count": 421,
     "metadata": {},
     "output_type": "execute_result"
    }
   ],
   "source": [
    "ytest_predict"
   ]
  },
  {
   "cell_type": "code",
   "execution_count": 422,
   "id": "aedd96b6",
   "metadata": {},
   "outputs": [
    {
     "data": {
      "text/plain": [
       "array([[1., 0.],\n",
       "       [1., 0.],\n",
       "       [1., 0.],\n",
       "       ...,\n",
       "       [1., 0.],\n",
       "       [1., 0.],\n",
       "       [1., 0.]])"
      ]
     },
     "execution_count": 422,
     "metadata": {},
     "output_type": "execute_result"
    }
   ],
   "source": [
    "ytest_predict_prob=dt_model.predict_proba(X_test)\n",
    "ytest_predict_prob"
   ]
  },
  {
   "cell_type": "code",
   "execution_count": 423,
   "id": "19384d81",
   "metadata": {},
   "outputs": [
    {
     "data": {
      "text/html": [
       "<div>\n",
       "<style scoped>\n",
       "    .dataframe tbody tr th:only-of-type {\n",
       "        vertical-align: middle;\n",
       "    }\n",
       "\n",
       "    .dataframe tbody tr th {\n",
       "        vertical-align: top;\n",
       "    }\n",
       "\n",
       "    .dataframe thead th {\n",
       "        text-align: right;\n",
       "    }\n",
       "</style>\n",
       "<table border=\"1\" class=\"dataframe\">\n",
       "  <thead>\n",
       "    <tr style=\"text-align: right;\">\n",
       "      <th></th>\n",
       "      <th>0</th>\n",
       "      <th>1</th>\n",
       "    </tr>\n",
       "  </thead>\n",
       "  <tbody>\n",
       "    <tr>\n",
       "      <th>0</th>\n",
       "      <td>1.0</td>\n",
       "      <td>0.0</td>\n",
       "    </tr>\n",
       "    <tr>\n",
       "      <th>1</th>\n",
       "      <td>1.0</td>\n",
       "      <td>0.0</td>\n",
       "    </tr>\n",
       "    <tr>\n",
       "      <th>2</th>\n",
       "      <td>1.0</td>\n",
       "      <td>0.0</td>\n",
       "    </tr>\n",
       "    <tr>\n",
       "      <th>3</th>\n",
       "      <td>1.0</td>\n",
       "      <td>0.0</td>\n",
       "    </tr>\n",
       "    <tr>\n",
       "      <th>4</th>\n",
       "      <td>1.0</td>\n",
       "      <td>0.0</td>\n",
       "    </tr>\n",
       "  </tbody>\n",
       "</table>\n",
       "</div>"
      ],
      "text/plain": [
       "     0    1\n",
       "0  1.0  0.0\n",
       "1  1.0  0.0\n",
       "2  1.0  0.0\n",
       "3  1.0  0.0\n",
       "4  1.0  0.0"
      ]
     },
     "execution_count": 423,
     "metadata": {},
     "output_type": "execute_result"
    }
   ],
   "source": [
    " pd.DataFrame(ytest_predict_prob).head()"
   ]
  },
  {
   "cell_type": "code",
   "execution_count": 424,
   "id": "3ff2e14f",
   "metadata": {},
   "outputs": [
    {
     "name": "stdout",
     "output_type": "stream",
     "text": [
      "AUC: 1.000\n"
     ]
    },
    {
     "data": {
      "image/png": "[encoded data removed]",
      "text/plain": [
       "<Figure size 432x288 with 1 Axes>"
      ]
     },
     "metadata": {
      "needs_background": "light"
     },
     "output_type": "display_data"
    }
   ],
   "source": [
    "# predict probabilities\n",
    "probs = dt_model.predict_proba(X_train)\n",
    "# keep probabilities for the positive outcome only\n",
    "probs = probs[:, 1]\n",
    "# calculate AUC\n",
    "from sklearn.metrics import roc_auc_score\n",
    "auc = roc_auc_score(y_train, probs)\n",
    "print('AUC: %.3f' % auc)\n",
    "# calculate roc curve\n",
    "from sklearn.metrics import roc_curve\n",
    "fpr, tpr, thresholds = roc_curve(y_train, probs)\n",
    "plt.plot([0, 1], [0, 1], linestyle='--')\n",
    "# plot the roc curve for the model\n",
    "plt.plot(fpr, tpr, marker='.')\n",
    "# show the plot\n",
    "plt.show()"
   ]
  },
  {
   "cell_type": "code",
   "execution_count": 425,
   "id": "bfe99808",
   "metadata": {},
   "outputs": [
    {
     "name": "stdout",
     "output_type": "stream",
     "text": [
      "AUC: 0.923\n"
     ]
    },
    {
     "data": {
      "image/png": "[encoded data removed]",
      "text/plain": [
       "<Figure size 432x288 with 1 Axes>"
      ]
     },
     "metadata": {
      "needs_background": "light"
     },
     "output_type": "display_data"
    }
   ],
   "source": [
    "# predict probabilities\n",
    "probs = dt_model.predict_proba(X_test)\n",
    "# keep probabilities for the positive outcome only\n",
    "probs = probs[:, 1]\n",
    "# calculate AUC\n",
    "from sklearn.metrics import roc_auc_score\n",
    "auc = roc_auc_score(y_test, probs)\n",
    "print('AUC: %.3f' % auc)\n",
    "# calculate roc curve\n",
    "from sklearn.metrics import roc_curve\n",
    "fpr, tpr, thresholds = roc_curve(y_test, probs)\n",
    "plt.plot([0, 1], [0, 1], linestyle='--')\n",
    "# plot the roc curve for the model\n",
    "plt.plot(fpr, tpr, marker='.')\n",
    "# show the plot\n",
    "plt.show()"
   ]
  },
  {
   "cell_type": "code",
   "execution_count": 426,
   "id": "6009e831",
   "metadata": {},
   "outputs": [],
   "source": [
    "from sklearn.metrics import classification_report,confusion_matrix"
   ]
  },
  {
   "cell_type": "code",
   "execution_count": 427,
   "id": "17398c78",
   "metadata": {},
   "outputs": [
    {
     "data": {
      "text/plain": [
       "array([[6330,    0],\n",
       "       [   0, 1126]], dtype=int64)"
      ]
     },
     "execution_count": 427,
     "metadata": {},
     "output_type": "execute_result"
    }
   ],
   "source": [
    "confusion_matrix(y_train, ytrain_predict)"
   ]
  },
  {
   "cell_type": "code",
   "execution_count": 428,
   "id": "13b51520",
   "metadata": {},
   "outputs": [
    {
     "data": {
      "text/plain": [
       "1.0"
      ]
     },
     "execution_count": 428,
     "metadata": {},
     "output_type": "execute_result"
    }
   ],
   "source": [
    "#Train Data Accuracy\n",
    "dt_model.score(X_train,y_train) "
   ]
  },
  {
   "cell_type": "code",
   "execution_count": 429,
   "id": "32be8400",
   "metadata": {},
   "outputs": [
    {
     "name": "stdout",
     "output_type": "stream",
     "text": [
      "              precision    recall  f1-score   support\n",
      "\n",
      "           0       1.00      1.00      1.00      6330\n",
      "           1       1.00      1.00      1.00      1126\n",
      "\n",
      "    accuracy                           1.00      7456\n",
      "   macro avg       1.00      1.00      1.00      7456\n",
      "weighted avg       1.00      1.00      1.00      7456\n",
      "\n"
     ]
    }
   ],
   "source": [
    "print(classification_report(y_train, ytrain_predict))"
   ]
  },
  {
   "cell_type": "code",
   "execution_count": 430,
   "id": "43e9feab",
   "metadata": {},
   "outputs": [
    {
     "data": {
      "text/plain": [
       "array([[2652,   50],\n",
       "       [  67,  427]], dtype=int64)"
      ]
     },
     "execution_count": 430,
     "metadata": {},
     "output_type": "execute_result"
    }
   ],
   "source": [
    "confusion_matrix(y_test, ytest_predict)"
   ]
  },
  {
   "cell_type": "code",
   "execution_count": 431,
   "id": "dbd27e2d",
   "metadata": {},
   "outputs": [
    {
     "data": {
      "text/plain": [
       "0.9633917396745932"
      ]
     },
     "execution_count": 431,
     "metadata": {},
     "output_type": "execute_result"
    }
   ],
   "source": [
    "#Test Data Accuracy\n",
    "dt_model.score(X_test,y_test)"
   ]
  },
  {
   "cell_type": "code",
   "execution_count": 432,
   "id": "4293816e",
   "metadata": {},
   "outputs": [
    {
     "name": "stdout",
     "output_type": "stream",
     "text": [
      "              precision    recall  f1-score   support\n",
      "\n",
      "           0       0.98      0.98      0.98      2702\n",
      "           1       0.90      0.86      0.88       494\n",
      "\n",
      "    accuracy                           0.96      3196\n",
      "   macro avg       0.94      0.92      0.93      3196\n",
      "weighted avg       0.96      0.96      0.96      3196\n",
      "\n"
     ]
    }
   ],
   "source": [
    "print(classification_report(y_test, ytest_predict))"
   ]
  },
  {
   "cell_type": "markdown",
   "id": "96ac2b5e",
   "metadata": {},
   "source": [
    "---------------------------------------------------------------------------------------------------------------------------------------------------------------------------"
   ]
  },
  {
   "cell_type": "markdown",
   "id": "7aae84a9",
   "metadata": {},
   "source": [
    "TUNING"
   ]
  },
  {
   "cell_type": "code",
   "execution_count": 433,
   "id": "ee698e1a",
   "metadata": {},
   "outputs": [
    {
     "data": {
      "text/plain": [
       "DecisionTreeClassifier(max_depth=9, min_samples_leaf=10, min_samples_split=80)"
      ]
     },
     "execution_count": 433,
     "metadata": {},
     "output_type": "execute_result"
    }
   ],
   "source": [
    "reg_dt_model = DecisionTreeClassifier(criterion = 'gini', max_depth = 9,min_samples_leaf=10,min_samples_split=80)\n",
    "reg_dt_model.fit(X_train, y_train)"
   ]
  },
  {
   "cell_type": "code",
   "execution_count": 434,
   "id": "82559b4b",
   "metadata": {},
   "outputs": [],
   "source": [
    "ld_tree_regularized = open('ld_tree_regularized.dot','w')\n",
    "dot_data = tree.export_graphviz(reg_dt_model, out_file= ld_tree_regularized , feature_names = list(X_train), class_names = list(train_char_label))\n",
    "\n",
    "ld_tree_regularized.close()\n",
    "dot_data"
   ]
  },
  {
   "cell_type": "code",
   "execution_count": 435,
   "id": "be65e495",
   "metadata": {},
   "outputs": [
    {
     "name": "stdout",
     "output_type": "stream",
     "text": [
      "                                                   Imp\n",
      "total_likes_on_outofstation_checkin_received  0.316329\n",
      "total_likes_on_outstation_checkin_given       0.179211\n",
      "following_company_page                        0.129639\n",
      "Yearly_avg_view_on_travel_page                0.098019\n",
      "yearly_avg_Outstation_checkins                0.063985\n",
      "week_since_last_outstation_checkin            0.046243\n",
      "travelling_network_rating                     0.036002\n",
      "Daily_Avg_mins_spend_on_traveling_page        0.035917\n",
      "member_in_family                              0.028787\n",
      "working_flag                                  0.025417\n",
      "Yearly_avg_comment_on_travel_page             0.018532\n",
      "Adult_flag                                    0.011651\n",
      "preferred_location_type                       0.010047\n",
      "montly_avg_comment_on_company_page            0.000221\n",
      "preferred_device                              0.000000\n"
     ]
    }
   ],
   "source": [
    "print (pd.DataFrame(reg_dt_model.feature_importances_, columns = [\"Imp\"], index = X_train.columns).sort_values('Imp',ascending=False))"
   ]
  },
  {
   "cell_type": "code",
   "execution_count": 436,
   "id": "812a572d",
   "metadata": {},
   "outputs": [],
   "source": [
    "ytrain_predict = reg_dt_model.predict(X_train)\n",
    "ytest_predict = reg_dt_model.predict(X_test)"
   ]
  },
  {
   "cell_type": "code",
   "execution_count": 437,
   "id": "6c4fc3e5",
   "metadata": {},
   "outputs": [
    {
     "name": "stdout",
     "output_type": "stream",
     "text": [
      "ytrain_predict (7456,)\n",
      "ytest_predict (3196,)\n"
     ]
    }
   ],
   "source": [
    "print('ytrain_predict',ytrain_predict.shape)\n",
    "print('ytest_predict',ytest_predict.shape)"
   ]
  },
  {
   "cell_type": "code",
   "execution_count": 438,
   "id": "2a5a2ae8",
   "metadata": {},
   "outputs": [
    {
     "data": {
      "text/plain": [
       "array([0, 0, 0, ..., 0, 0, 0], dtype=int64)"
      ]
     },
     "execution_count": 438,
     "metadata": {},
     "output_type": "execute_result"
    }
   ],
   "source": [
    "ytest_predict"
   ]
  },
  {
   "cell_type": "code",
   "execution_count": 439,
   "id": "94ca4c26",
   "metadata": {},
   "outputs": [
    {
     "data": {
      "text/plain": [
       "array([[0.91504178, 0.08495822],\n",
       "       [0.91578947, 0.08421053],\n",
       "       [0.9218492 , 0.0781508 ],\n",
       "       ...,\n",
       "       [0.9218492 , 0.0781508 ],\n",
       "       [0.5       , 0.5       ],\n",
       "       [0.91504178, 0.08495822]])"
      ]
     },
     "execution_count": 439,
     "metadata": {},
     "output_type": "execute_result"
    }
   ],
   "source": [
    "ytest_predict_prob=reg_dt_model.predict_proba(X_test)\n",
    "ytest_predict_prob"
   ]
  },
  {
   "cell_type": "code",
   "execution_count": 440,
   "id": "dfeae0c0",
   "metadata": {},
   "outputs": [
    {
     "data": {
      "text/html": [
       "<div>\n",
       "<style scoped>\n",
       "    .dataframe tbody tr th:only-of-type {\n",
       "        vertical-align: middle;\n",
       "    }\n",
       "\n",
       "    .dataframe tbody tr th {\n",
       "        vertical-align: top;\n",
       "    }\n",
       "\n",
       "    .dataframe thead th {\n",
       "        text-align: right;\n",
       "    }\n",
       "</style>\n",
       "<table border=\"1\" class=\"dataframe\">\n",
       "  <thead>\n",
       "    <tr style=\"text-align: right;\">\n",
       "      <th></th>\n",
       "      <th>0</th>\n",
       "      <th>1</th>\n",
       "    </tr>\n",
       "  </thead>\n",
       "  <tbody>\n",
       "    <tr>\n",
       "      <th>0</th>\n",
       "      <td>0.915042</td>\n",
       "      <td>0.084958</td>\n",
       "    </tr>\n",
       "    <tr>\n",
       "      <th>1</th>\n",
       "      <td>0.915789</td>\n",
       "      <td>0.084211</td>\n",
       "    </tr>\n",
       "    <tr>\n",
       "      <th>2</th>\n",
       "      <td>0.921849</td>\n",
       "      <td>0.078151</td>\n",
       "    </tr>\n",
       "    <tr>\n",
       "      <th>3</th>\n",
       "      <td>0.921849</td>\n",
       "      <td>0.078151</td>\n",
       "    </tr>\n",
       "    <tr>\n",
       "      <th>4</th>\n",
       "      <td>0.921849</td>\n",
       "      <td>0.078151</td>\n",
       "    </tr>\n",
       "  </tbody>\n",
       "</table>\n",
       "</div>"
      ],
      "text/plain": [
       "          0         1\n",
       "0  0.915042  0.084958\n",
       "1  0.915789  0.084211\n",
       "2  0.921849  0.078151\n",
       "3  0.921849  0.078151\n",
       "4  0.921849  0.078151"
      ]
     },
     "execution_count": 440,
     "metadata": {},
     "output_type": "execute_result"
    }
   ],
   "source": [
    "pd.DataFrame(ytest_predict_prob).head()"
   ]
  },
  {
   "cell_type": "code",
   "execution_count": 441,
   "id": "2ce3963b",
   "metadata": {},
   "outputs": [
    {
     "name": "stdout",
     "output_type": "stream",
     "text": [
      "AUC: 0.881\n"
     ]
    },
    {
     "data": {
      "image/png": "[encoded data removed]",
      "text/plain": [
       "<Figure size 432x288 with 1 Axes>"
      ]
     },
     "metadata": {
      "needs_background": "light"
     },
     "output_type": "display_data"
    }
   ],
   "source": [
    "# predict probabilities\n",
    "probs = reg_dt_model.predict_proba(X_train)\n",
    "# keep probabilities for the positive outcome only\n",
    "probs = probs[:, 1]\n",
    "# calculate AUC\n",
    "from sklearn.metrics import roc_auc_score\n",
    "auc = roc_auc_score(y_train, probs)\n",
    "print('AUC: %.3f' % auc)\n",
    "# calculate roc curve\n",
    "from sklearn.metrics import roc_curve\n",
    "fpr, tpr, thresholds = roc_curve(y_train, probs)\n",
    "plt.plot([0, 1], [0, 1], linestyle='--')\n",
    "# plot the roc curve for the model\n",
    "plt.plot(fpr, tpr, marker='.')\n",
    "# show the plot\n",
    "plt.show()"
   ]
  },
  {
   "cell_type": "code",
   "execution_count": 442,
   "id": "34777c86",
   "metadata": {},
   "outputs": [
    {
     "name": "stdout",
     "output_type": "stream",
     "text": [
      "AUC: 0.847\n"
     ]
    },
    {
     "data": {
      "image/png": "[encoded data removed]",
      "text/plain": [
       "<Figure size 432x288 with 1 Axes>"
      ]
     },
     "metadata": {
      "needs_background": "light"
     },
     "output_type": "display_data"
    }
   ],
   "source": [
    "# predict probabilities\n",
    "probs = reg_dt_model.predict_proba(X_test)\n",
    "# keep probabilities for the positive outcome only\n",
    "probs = probs[:, 1]\n",
    "# calculate AUC\n",
    "from sklearn.metrics import roc_auc_score\n",
    "auc = roc_auc_score(y_test, probs)\n",
    "print('AUC: %.3f' % auc)\n",
    "# calculate roc curve\n",
    "from sklearn.metrics import roc_curve\n",
    "fpr, tpr, thresholds = roc_curve(y_test, probs)\n",
    "plt.plot([0, 1], [0, 1], linestyle='--')\n",
    "# plot the roc curve for the model\n",
    "plt.plot(fpr, tpr, marker='.')\n",
    "# show the plot\n",
    "plt.show()"
   ]
  },
  {
   "cell_type": "code",
   "execution_count": 443,
   "id": "bc290368",
   "metadata": {},
   "outputs": [],
   "source": [
    "from sklearn.metrics import classification_report,confusion_matrix"
   ]
  },
  {
   "cell_type": "code",
   "execution_count": 444,
   "id": "d8db85fb",
   "metadata": {},
   "outputs": [
    {
     "data": {
      "text/plain": [
       "array([[6106,  224],\n",
       "       [ 572,  554]], dtype=int64)"
      ]
     },
     "execution_count": 444,
     "metadata": {},
     "output_type": "execute_result"
    }
   ],
   "source": [
    "confusion_matrix(y_train, ytrain_predict)"
   ]
  },
  {
   "cell_type": "code",
   "execution_count": 445,
   "id": "dda62b45",
   "metadata": {},
   "outputs": [
    {
     "data": {
      "text/plain": [
       "0.8932403433476395"
      ]
     },
     "execution_count": 445,
     "metadata": {},
     "output_type": "execute_result"
    }
   ],
   "source": [
    "#Train Data Accuracy\n",
    "reg_dt_model.score(X_train,y_train)"
   ]
  },
  {
   "cell_type": "code",
   "execution_count": 446,
   "id": "b7f1355f",
   "metadata": {},
   "outputs": [
    {
     "name": "stdout",
     "output_type": "stream",
     "text": [
      "              precision    recall  f1-score   support\n",
      "\n",
      "           0       0.91      0.96      0.94      6330\n",
      "           1       0.71      0.49      0.58      1126\n",
      "\n",
      "    accuracy                           0.89      7456\n",
      "   macro avg       0.81      0.73      0.76      7456\n",
      "weighted avg       0.88      0.89      0.88      7456\n",
      "\n"
     ]
    }
   ],
   "source": [
    "print(classification_report(y_train, ytrain_predict))"
   ]
  },
  {
   "cell_type": "code",
   "execution_count": 447,
   "id": "b23669d3",
   "metadata": {},
   "outputs": [
    {
     "data": {
      "text/plain": [
       "array([[2581,  121],\n",
       "       [ 262,  232]], dtype=int64)"
      ]
     },
     "execution_count": 447,
     "metadata": {},
     "output_type": "execute_result"
    }
   ],
   "source": [
    "confusion_matrix(y_test, ytest_predict)"
   ]
  },
  {
   "cell_type": "code",
   "execution_count": 448,
   "id": "0619b243",
   "metadata": {},
   "outputs": [
    {
     "data": {
      "text/plain": [
       "0.880162703379224"
      ]
     },
     "execution_count": 448,
     "metadata": {},
     "output_type": "execute_result"
    }
   ],
   "source": [
    "#Test Data Accuracy\n",
    "reg_dt_model.score(X_test,y_test)"
   ]
  },
  {
   "cell_type": "code",
   "execution_count": 449,
   "id": "811de743",
   "metadata": {},
   "outputs": [
    {
     "name": "stdout",
     "output_type": "stream",
     "text": [
      "              precision    recall  f1-score   support\n",
      "\n",
      "           0       0.91      0.96      0.93      2702\n",
      "           1       0.66      0.47      0.55       494\n",
      "\n",
      "    accuracy                           0.88      3196\n",
      "   macro avg       0.78      0.71      0.74      3196\n",
      "weighted avg       0.87      0.88      0.87      3196\n",
      "\n"
     ]
    }
   ],
   "source": [
    "print(classification_report(y_test, ytest_predict))"
   ]
  },
  {
   "cell_type": "markdown",
   "id": "d33cad44",
   "metadata": {},
   "source": [
    "----------------------------------------------------------------------------------------------------------------------------------------------------------------------------------------------------------"
   ]
  },
  {
   "cell_type": "markdown",
   "id": "a2d3af92",
   "metadata": {},
   "source": [
    "SMOTE"
   ]
  },
  {
   "cell_type": "code",
   "execution_count": 450,
   "id": "93974a5a",
   "metadata": {},
   "outputs": [],
   "source": [
    "sm = SMOTE()\n",
    "\n",
    "\n",
    "X_train_res, y_train_res = sm.fit_resample(X_train, y_train.ravel())"
   ]
  },
  {
   "cell_type": "code",
   "execution_count": 451,
   "id": "0b4d951d",
   "metadata": {},
   "outputs": [
    {
     "data": {
      "text/plain": [
       "(12660, 15)"
      ]
     },
     "execution_count": 451,
     "metadata": {},
     "output_type": "execute_result"
    }
   ],
   "source": [
    "## Let's check the shape after SMOTE\n",
    "X_train_res.shape"
   ]
  },
  {
   "cell_type": "code",
   "execution_count": 452,
   "id": "1df4294e",
   "metadata": {},
   "outputs": [
    {
     "data": {
      "text/plain": [
       "DecisionTreeClassifier(max_depth=9, min_samples_leaf=10, min_samples_split=80)"
      ]
     },
     "execution_count": 452,
     "metadata": {},
     "output_type": "execute_result"
    }
   ],
   "source": [
    "smote_cart_model = DecisionTreeClassifier(criterion = 'gini', max_depth = 9,min_samples_leaf=10,min_samples_split=80)\n",
    "smote_cart_model.fit(X_train_res, y_train_res)"
   ]
  },
  {
   "cell_type": "code",
   "execution_count": 453,
   "id": "63349cb8",
   "metadata": {},
   "outputs": [],
   "source": [
    "ytrain_predict = reg_dt_model.predict(X_train)\n",
    "ytest_predict = reg_dt_model.predict(X_test)"
   ]
  },
  {
   "cell_type": "code",
   "execution_count": 454,
   "id": "f1fdbce5",
   "metadata": {},
   "outputs": [
    {
     "name": "stdout",
     "output_type": "stream",
     "text": [
      "ytrain_predict (7456,)\n",
      "ytest_predict (3196,)\n"
     ]
    }
   ],
   "source": [
    "print('ytrain_predict',ytrain_predict.shape)\n",
    "print('ytest_predict',ytest_predict.shape)"
   ]
  },
  {
   "cell_type": "code",
   "execution_count": 455,
   "id": "09a85137",
   "metadata": {},
   "outputs": [
    {
     "data": {
      "text/plain": [
       "array([0, 0, 0, ..., 0, 0, 0], dtype=int64)"
      ]
     },
     "execution_count": 455,
     "metadata": {},
     "output_type": "execute_result"
    }
   ],
   "source": [
    "ytest_predict"
   ]
  },
  {
   "cell_type": "code",
   "execution_count": 456,
   "id": "d0b11fe3",
   "metadata": {},
   "outputs": [
    {
     "data": {
      "text/plain": [
       "array([[0.91504178, 0.08495822],\n",
       "       [0.91578947, 0.08421053],\n",
       "       [0.9218492 , 0.0781508 ],\n",
       "       ...,\n",
       "       [0.9218492 , 0.0781508 ],\n",
       "       [0.5       , 0.5       ],\n",
       "       [0.91504178, 0.08495822]])"
      ]
     },
     "execution_count": 456,
     "metadata": {},
     "output_type": "execute_result"
    }
   ],
   "source": [
    "ytest_predict_prob=reg_dt_model.predict_proba(X_test)\n",
    "ytest_predict_prob"
   ]
  },
  {
   "cell_type": "code",
   "execution_count": 457,
   "id": "aee34788",
   "metadata": {},
   "outputs": [
    {
     "data": {
      "text/html": [
       "<div>\n",
       "<style scoped>\n",
       "    .dataframe tbody tr th:only-of-type {\n",
       "        vertical-align: middle;\n",
       "    }\n",
       "\n",
       "    .dataframe tbody tr th {\n",
       "        vertical-align: top;\n",
       "    }\n",
       "\n",
       "    .dataframe thead th {\n",
       "        text-align: right;\n",
       "    }\n",
       "</style>\n",
       "<table border=\"1\" class=\"dataframe\">\n",
       "  <thead>\n",
       "    <tr style=\"text-align: right;\">\n",
       "      <th></th>\n",
       "      <th>0</th>\n",
       "      <th>1</th>\n",
       "    </tr>\n",
       "  </thead>\n",
       "  <tbody>\n",
       "    <tr>\n",
       "      <th>0</th>\n",
       "      <td>0.915042</td>\n",
       "      <td>0.084958</td>\n",
       "    </tr>\n",
       "    <tr>\n",
       "      <th>1</th>\n",
       "      <td>0.915789</td>\n",
       "      <td>0.084211</td>\n",
       "    </tr>\n",
       "    <tr>\n",
       "      <th>2</th>\n",
       "      <td>0.921849</td>\n",
       "      <td>0.078151</td>\n",
       "    </tr>\n",
       "    <tr>\n",
       "      <th>3</th>\n",
       "      <td>0.921849</td>\n",
       "      <td>0.078151</td>\n",
       "    </tr>\n",
       "    <tr>\n",
       "      <th>4</th>\n",
       "      <td>0.921849</td>\n",
       "      <td>0.078151</td>\n",
       "    </tr>\n",
       "  </tbody>\n",
       "</table>\n",
       "</div>"
      ],
      "text/plain": [
       "          0         1\n",
       "0  0.915042  0.084958\n",
       "1  0.915789  0.084211\n",
       "2  0.921849  0.078151\n",
       "3  0.921849  0.078151\n",
       "4  0.921849  0.078151"
      ]
     },
     "execution_count": 457,
     "metadata": {},
     "output_type": "execute_result"
    }
   ],
   "source": [
    "pd.DataFrame(ytest_predict_prob).head()"
   ]
  },
  {
   "cell_type": "code",
   "execution_count": 458,
   "id": "bb75f0b7",
   "metadata": {},
   "outputs": [
    {
     "name": "stdout",
     "output_type": "stream",
     "text": [
      "AUC: 0.881\n"
     ]
    },
    {
     "data": {
      "image/png": "[encoded data removed]",
      "text/plain": [
       "<Figure size 432x288 with 1 Axes>"
      ]
     },
     "metadata": {
      "needs_background": "light"
     },
     "output_type": "display_data"
    }
   ],
   "source": [
    "# predict probabilities\n",
    "probs = reg_dt_model.predict_proba(X_train)\n",
    "# keep probabilities for the positive outcome only\n",
    "probs = probs[:, 1]\n",
    "# calculate AUC\n",
    "from sklearn.metrics import roc_auc_score\n",
    "auc = roc_auc_score(y_train, probs)\n",
    "print('AUC: %.3f' % auc)\n",
    "# calculate roc curve\n",
    "from sklearn.metrics import roc_curve\n",
    "fpr, tpr, thresholds = roc_curve(y_train, probs)\n",
    "plt.plot([0, 1], [0, 1], linestyle='--')\n",
    "# plot the roc curve for the model\n",
    "plt.plot(fpr, tpr, marker='.')\n",
    "# show the plot\n",
    "plt.show()"
   ]
  },
  {
   "cell_type": "code",
   "execution_count": 459,
   "id": "8a74bb87",
   "metadata": {},
   "outputs": [
    {
     "name": "stdout",
     "output_type": "stream",
     "text": [
      "AUC: 0.847\n"
     ]
    },
    {
     "data": {
      "image/png": "[encoded data removed]",
      "text/plain": [
       "<Figure size 432x288 with 1 Axes>"
      ]
     },
     "metadata": {
      "needs_background": "light"
     },
     "output_type": "display_data"
    }
   ],
   "source": [
    "# predict probabilities\n",
    "probs = reg_dt_model.predict_proba(X_test)\n",
    "# keep probabilities for the positive outcome only\n",
    "probs = probs[:, 1]\n",
    "# calculate AUC\n",
    "from sklearn.metrics import roc_auc_score\n",
    "auc = roc_auc_score(y_test, probs)\n",
    "print('AUC: %.3f' % auc)\n",
    "# calculate roc curve\n",
    "from sklearn.metrics import roc_curve\n",
    "fpr, tpr, thresholds = roc_curve(y_test, probs)\n",
    "plt.plot([0, 1], [0, 1], linestyle='--')\n",
    "# plot the roc curve for the model\n",
    "plt.plot(fpr, tpr, marker='.')\n",
    "# show the plot\n",
    "plt.show()"
   ]
  },
  {
   "cell_type": "code",
   "execution_count": 460,
   "id": "80aa4bf7",
   "metadata": {},
   "outputs": [],
   "source": [
    "from sklearn.metrics import classification_report,confusion_matrix"
   ]
  },
  {
   "cell_type": "code",
   "execution_count": 461,
   "id": "f963caaa",
   "metadata": {},
   "outputs": [
    {
     "data": {
      "text/plain": [
       "array([[6106,  224],\n",
       "       [ 572,  554]], dtype=int64)"
      ]
     },
     "execution_count": 461,
     "metadata": {},
     "output_type": "execute_result"
    }
   ],
   "source": [
    "confusion_matrix(y_train, ytrain_predict)"
   ]
  },
  {
   "cell_type": "code",
   "execution_count": 462,
   "id": "7a0e88f2",
   "metadata": {},
   "outputs": [
    {
     "data": {
      "text/plain": [
       "0.8932403433476395"
      ]
     },
     "execution_count": 462,
     "metadata": {},
     "output_type": "execute_result"
    }
   ],
   "source": [
    "#Train Data Accuracy\n",
    "reg_dt_model.score(X_train,y_train)"
   ]
  },
  {
   "cell_type": "code",
   "execution_count": 463,
   "id": "8efb8fa7",
   "metadata": {},
   "outputs": [
    {
     "name": "stdout",
     "output_type": "stream",
     "text": [
      "              precision    recall  f1-score   support\n",
      "\n",
      "           0       0.91      0.96      0.94      6330\n",
      "           1       0.71      0.49      0.58      1126\n",
      "\n",
      "    accuracy                           0.89      7456\n",
      "   macro avg       0.81      0.73      0.76      7456\n",
      "weighted avg       0.88      0.89      0.88      7456\n",
      "\n"
     ]
    }
   ],
   "source": [
    "print(classification_report(y_train, ytrain_predict))"
   ]
  },
  {
   "cell_type": "code",
   "execution_count": 464,
   "id": "e0eee60b",
   "metadata": {},
   "outputs": [
    {
     "data": {
      "text/plain": [
       "array([[2581,  121],\n",
       "       [ 262,  232]], dtype=int64)"
      ]
     },
     "execution_count": 464,
     "metadata": {},
     "output_type": "execute_result"
    }
   ],
   "source": [
    "confusion_matrix(y_test, ytest_predict)"
   ]
  },
  {
   "cell_type": "code",
   "execution_count": 465,
   "id": "0d3ac916",
   "metadata": {},
   "outputs": [
    {
     "data": {
      "text/plain": [
       "0.880162703379224"
      ]
     },
     "execution_count": 465,
     "metadata": {},
     "output_type": "execute_result"
    }
   ],
   "source": [
    "#Test Data Accuracy\n",
    "reg_dt_model.score(X_test,y_test)"
   ]
  },
  {
   "cell_type": "code",
   "execution_count": 466,
   "id": "bae0e32d",
   "metadata": {},
   "outputs": [
    {
     "name": "stdout",
     "output_type": "stream",
     "text": [
      "              precision    recall  f1-score   support\n",
      "\n",
      "           0       0.91      0.96      0.93      2702\n",
      "           1       0.66      0.47      0.55       494\n",
      "\n",
      "    accuracy                           0.88      3196\n",
      "   macro avg       0.78      0.71      0.74      3196\n",
      "weighted avg       0.87      0.88      0.87      3196\n",
      "\n"
     ]
    }
   ],
   "source": [
    "print(classification_report(y_test, ytest_predict))"
   ]
  },
  {
   "cell_type": "markdown",
   "id": "1afcff82",
   "metadata": {},
   "source": [
    "------------------------------------------------------------------------------------------------------------------------------------------------------------------------------"
   ]
  },
  {
   "cell_type": "markdown",
   "id": "0a2c8c26",
   "metadata": {},
   "source": [
    "LOGISTIC REGRESSION"
   ]
  },
  {
   "cell_type": "code",
   "execution_count": 467,
   "id": "26c661b2",
   "metadata": {},
   "outputs": [
    {
     "data": {
      "text/plain": [
       "LogisticRegression()"
      ]
     },
     "execution_count": 467,
     "metadata": {},
     "output_type": "execute_result"
    }
   ],
   "source": [
    "log_model = LogisticRegression()\n",
    "log_model.fit(X_train, y_train)"
   ]
  },
  {
   "cell_type": "code",
   "execution_count": 468,
   "id": "8b24470b",
   "metadata": {},
   "outputs": [],
   "source": [
    "log_train_predict = log_model.predict(X_train)\n",
    "log_test_predict = log_model.predict(X_test)"
   ]
  },
  {
   "cell_type": "code",
   "execution_count": 469,
   "id": "fcc16d54",
   "metadata": {},
   "outputs": [
    {
     "data": {
      "text/plain": [
       "0.8489806866952789"
      ]
     },
     "execution_count": 469,
     "metadata": {},
     "output_type": "execute_result"
    }
   ],
   "source": [
    "log_model.score(X_train,y_train)"
   ]
  },
  {
   "cell_type": "code",
   "execution_count": 470,
   "id": "db082075",
   "metadata": {},
   "outputs": [
    {
     "data": {
      "text/plain": [
       "0.8454317897371715"
      ]
     },
     "execution_count": 470,
     "metadata": {},
     "output_type": "execute_result"
    }
   ],
   "source": [
    "log_model.score(X_test,y_test)"
   ]
  },
  {
   "cell_type": "code",
   "execution_count": 471,
   "id": "ebbb9d6a",
   "metadata": {},
   "outputs": [
    {
     "data": {
      "image/png": "[encoded data removed]",
      "text/plain": [
       "<Figure size 432x288 with 2 Axes>"
      ]
     },
     "metadata": {
      "needs_background": "light"
     },
     "output_type": "display_data"
    }
   ],
   "source": [
    "#Confusion Matrix for Train set\n",
    "confusion_matrix(y_train,log_train_predict)\n",
    "sns.heatmap(confusion_matrix(y_train,log_train_predict),annot = True,cbar = True,fmt = 'd',)\n",
    "plt.xlabel('Predicted Label')\n",
    "plt.ylabel('Actual Label')\n",
    "plt.title('Confusion Matrix for Trainset')\n",
    "plt.show()"
   ]
  },
  {
   "cell_type": "code",
   "execution_count": 472,
   "id": "daa781f4",
   "metadata": {},
   "outputs": [
    {
     "name": "stdout",
     "output_type": "stream",
     "text": [
      "              precision    recall  f1-score   support\n",
      "\n",
      "           0       0.85      1.00      0.92      6330\n",
      "           1       0.00      0.00      0.00      1126\n",
      "\n",
      "    accuracy                           0.85      7456\n",
      "   macro avg       0.42      0.50      0.46      7456\n",
      "weighted avg       0.72      0.85      0.78      7456\n",
      "\n"
     ]
    }
   ],
   "source": [
    "print(classification_report(y_train,log_train_predict)) "
   ]
  },
  {
   "cell_type": "code",
   "execution_count": 475,
   "id": "bddebdef",
   "metadata": {},
   "outputs": [
    {
     "data": {
      "image/png": "[encoded data removed]",
      "text/plain": [
       "<Figure size 864x504 with 1 Axes>"
      ]
     },
     "metadata": {
      "needs_background": "light"
     },
     "output_type": "display_data"
    },
    {
     "ename": "ValueError",
     "evalue": "Only one class present in y_true. ROC AUC score is not defined in that case.",
     "output_type": "error",
     "traceback": [
      "\u001b[1;31m---------------------------------------------------------------------------\u001b[0m",
      "\u001b[1;31mValueError\u001b[0m                                Traceback (most recent call last)",
      "\u001b[1;32m<ipython-input-475-09dbb0300636>\u001b[0m in \u001b[0;36m<module>\u001b[1;34m\u001b[0m\n\u001b[0;32m      9\u001b[0m \u001b[0mplt\u001b[0m\u001b[1;33m.\u001b[0m\u001b[0mshow\u001b[0m\u001b[1;33m(\u001b[0m\u001b[1;33m)\u001b[0m\u001b[1;33m\u001b[0m\u001b[1;33m\u001b[0m\u001b[0m\n\u001b[0;32m     10\u001b[0m \u001b[1;33m\u001b[0m\u001b[0m\n\u001b[1;32m---> 11\u001b[1;33m \u001b[0mprint\u001b[0m\u001b[1;33m(\u001b[0m\u001b[1;34m'Area under Curve is'\u001b[0m\u001b[1;33m,\u001b[0m \u001b[0mroc_auc_score\u001b[0m\u001b[1;33m(\u001b[0m\u001b[0mlog_train_predict\u001b[0m\u001b[1;33m,\u001b[0m\u001b[0mlog_model\u001b[0m\u001b[1;33m.\u001b[0m\u001b[0mpredict_proba\u001b[0m\u001b[1;33m(\u001b[0m\u001b[0mX_train\u001b[0m\u001b[1;33m)\u001b[0m\u001b[1;33m[\u001b[0m\u001b[1;33m:\u001b[0m\u001b[1;33m,\u001b[0m\u001b[1;36m1\u001b[0m\u001b[1;33m]\u001b[0m\u001b[1;33m)\u001b[0m\u001b[1;33m)\u001b[0m\u001b[1;33m\u001b[0m\u001b[1;33m\u001b[0m\u001b[0m\n\u001b[0m",
      "\u001b[1;32m~\\Anaconda3\\lib\\site-packages\\sklearn\\metrics\\_ranking.py\u001b[0m in \u001b[0;36mroc_auc_score\u001b[1;34m(y_true, y_score, average, sample_weight, max_fpr, multi_class, labels)\u001b[0m\n\u001b[0;32m    565\u001b[0m         \u001b[0mlabels\u001b[0m \u001b[1;33m=\u001b[0m \u001b[0mnp\u001b[0m\u001b[1;33m.\u001b[0m\u001b[0munique\u001b[0m\u001b[1;33m(\u001b[0m\u001b[0my_true\u001b[0m\u001b[1;33m)\u001b[0m\u001b[1;33m\u001b[0m\u001b[1;33m\u001b[0m\u001b[0m\n\u001b[0;32m    566\u001b[0m         \u001b[0my_true\u001b[0m \u001b[1;33m=\u001b[0m \u001b[0mlabel_binarize\u001b[0m\u001b[1;33m(\u001b[0m\u001b[0my_true\u001b[0m\u001b[1;33m,\u001b[0m \u001b[0mclasses\u001b[0m\u001b[1;33m=\u001b[0m\u001b[0mlabels\u001b[0m\u001b[1;33m)\u001b[0m\u001b[1;33m[\u001b[0m\u001b[1;33m:\u001b[0m\u001b[1;33m,\u001b[0m \u001b[1;36m0\u001b[0m\u001b[1;33m]\u001b[0m\u001b[1;33m\u001b[0m\u001b[1;33m\u001b[0m\u001b[0m\n\u001b[1;32m--> 567\u001b[1;33m         return _average_binary_score(\n\u001b[0m\u001b[0;32m    568\u001b[0m             \u001b[0mpartial\u001b[0m\u001b[1;33m(\u001b[0m\u001b[0m_binary_roc_auc_score\u001b[0m\u001b[1;33m,\u001b[0m \u001b[0mmax_fpr\u001b[0m\u001b[1;33m=\u001b[0m\u001b[0mmax_fpr\u001b[0m\u001b[1;33m)\u001b[0m\u001b[1;33m,\u001b[0m\u001b[1;33m\u001b[0m\u001b[1;33m\u001b[0m\u001b[0m\n\u001b[0;32m    569\u001b[0m             \u001b[0my_true\u001b[0m\u001b[1;33m,\u001b[0m\u001b[1;33m\u001b[0m\u001b[1;33m\u001b[0m\u001b[0m\n",
      "\u001b[1;32m~\\Anaconda3\\lib\\site-packages\\sklearn\\metrics\\_base.py\u001b[0m in \u001b[0;36m_average_binary_score\u001b[1;34m(binary_metric, y_true, y_score, average, sample_weight)\u001b[0m\n\u001b[0;32m     73\u001b[0m \u001b[1;33m\u001b[0m\u001b[0m\n\u001b[0;32m     74\u001b[0m     \u001b[1;32mif\u001b[0m \u001b[0my_type\u001b[0m \u001b[1;33m==\u001b[0m \u001b[1;34m\"binary\"\u001b[0m\u001b[1;33m:\u001b[0m\u001b[1;33m\u001b[0m\u001b[1;33m\u001b[0m\u001b[0m\n\u001b[1;32m---> 75\u001b[1;33m         \u001b[1;32mreturn\u001b[0m \u001b[0mbinary_metric\u001b[0m\u001b[1;33m(\u001b[0m\u001b[0my_true\u001b[0m\u001b[1;33m,\u001b[0m \u001b[0my_score\u001b[0m\u001b[1;33m,\u001b[0m \u001b[0msample_weight\u001b[0m\u001b[1;33m=\u001b[0m\u001b[0msample_weight\u001b[0m\u001b[1;33m)\u001b[0m\u001b[1;33m\u001b[0m\u001b[1;33m\u001b[0m\u001b[0m\n\u001b[0m\u001b[0;32m     76\u001b[0m \u001b[1;33m\u001b[0m\u001b[0m\n\u001b[0;32m     77\u001b[0m     \u001b[0mcheck_consistent_length\u001b[0m\u001b[1;33m(\u001b[0m\u001b[0my_true\u001b[0m\u001b[1;33m,\u001b[0m \u001b[0my_score\u001b[0m\u001b[1;33m,\u001b[0m \u001b[0msample_weight\u001b[0m\u001b[1;33m)\u001b[0m\u001b[1;33m\u001b[0m\u001b[1;33m\u001b[0m\u001b[0m\n",
      "\u001b[1;32m~\\Anaconda3\\lib\\site-packages\\sklearn\\metrics\\_ranking.py\u001b[0m in \u001b[0;36m_binary_roc_auc_score\u001b[1;34m(y_true, y_score, sample_weight, max_fpr)\u001b[0m\n\u001b[0;32m    335\u001b[0m     \u001b[1;34m\"\"\"Binary roc auc score.\"\"\"\u001b[0m\u001b[1;33m\u001b[0m\u001b[1;33m\u001b[0m\u001b[0m\n\u001b[0;32m    336\u001b[0m     \u001b[1;32mif\u001b[0m \u001b[0mlen\u001b[0m\u001b[1;33m(\u001b[0m\u001b[0mnp\u001b[0m\u001b[1;33m.\u001b[0m\u001b[0munique\u001b[0m\u001b[1;33m(\u001b[0m\u001b[0my_true\u001b[0m\u001b[1;33m)\u001b[0m\u001b[1;33m)\u001b[0m \u001b[1;33m!=\u001b[0m \u001b[1;36m2\u001b[0m\u001b[1;33m:\u001b[0m\u001b[1;33m\u001b[0m\u001b[1;33m\u001b[0m\u001b[0m\n\u001b[1;32m--> 337\u001b[1;33m         raise ValueError(\n\u001b[0m\u001b[0;32m    338\u001b[0m             \u001b[1;34m\"Only one class present in y_true. ROC AUC score \"\u001b[0m\u001b[1;33m\u001b[0m\u001b[1;33m\u001b[0m\u001b[0m\n\u001b[0;32m    339\u001b[0m             \u001b[1;34m\"is not defined in that case.\"\u001b[0m\u001b[1;33m\u001b[0m\u001b[1;33m\u001b[0m\u001b[0m\n",
      "\u001b[1;31mValueError\u001b[0m: Only one class present in y_true. ROC AUC score is not defined in that case."
     ]
    }
   ],
   "source": [
    "from sklearn.metrics import roc_curve,roc_auc_score\n",
    "rf_fpr,rf_tpr,_ = roc_curve(log_train_predict,log_model.predict_proba(X_train)[:,1])\n",
    "plt.figure(figsize = (12,7))\n",
    "plt.plot(rf_fpr,rf_tpr,marker = 'x',label = 'logit')\n",
    "plt.plot(np.arange(0,1.1,0.1),np.arange(0,1.1,0.1))# can directly give plt.plot([0,1],[0,1])\n",
    "plt.xlabel('False Positive Rate')\n",
    "plt.ylabel('True Positive Rate')\n",
    "plt.title('ROC')\n",
    "plt.show()\n",
    "\n",
    "print('Area under Curve is', roc_auc_score(log_train_predict,log_model.predict_proba(X_train)[:,1]))"
   ]
  },
  {
   "cell_type": "code",
   "execution_count": 495,
   "id": "3c080231",
   "metadata": {},
   "outputs": [
    {
     "data": {
      "image/png": "[encoded data removed]",
      "text/plain": [
       "<Figure size 432x288 with 2 Axes>"
      ]
     },
     "metadata": {
      "needs_background": "light"
     },
     "output_type": "display_data"
    }
   ],
   "source": [
    "#Confusion Matrix for Train set\n",
    "confusion_matrix(y_test,log_test_predict)\n",
    "sns.heatmap(confusion_matrix(y_test,log_test_predict),annot = True,cbar = True,fmt = 'd',)\n",
    "plt.xlabel('Predicted Label')\n",
    "plt.ylabel('Actual Label')\n",
    "plt.title('Confusion Matrix for Testset')\n",
    "plt.show()"
   ]
  },
  {
   "cell_type": "code",
   "execution_count": 496,
   "id": "f204e84b",
   "metadata": {},
   "outputs": [
    {
     "name": "stdout",
     "output_type": "stream",
     "text": [
      "              precision    recall  f1-score   support\n",
      "\n",
      "           0       0.85      1.00      0.92      2702\n",
      "           1       0.00      0.00      0.00       494\n",
      "\n",
      "    accuracy                           0.85      3196\n",
      "   macro avg       0.42      0.50      0.46      3196\n",
      "weighted avg       0.71      0.85      0.77      3196\n",
      "\n"
     ]
    }
   ],
   "source": [
    "print(classification_report(y_test,log_test_predict)) "
   ]
  },
  {
   "cell_type": "code",
   "execution_count": 497,
   "id": "553bbd98",
   "metadata": {},
   "outputs": [
    {
     "data": {
      "image/png": "[encoded data removed]",
      "text/plain": [
       "<Figure size 864x504 with 1 Axes>"
      ]
     },
     "metadata": {
      "needs_background": "light"
     },
     "output_type": "display_data"
    },
    {
     "ename": "ValueError",
     "evalue": "Only one class present in y_true. ROC AUC score is not defined in that case.",
     "output_type": "error",
     "traceback": [
      "\u001b[1;31m---------------------------------------------------------------------------\u001b[0m",
      "\u001b[1;31mValueError\u001b[0m                                Traceback (most recent call last)",
      "\u001b[1;32m<ipython-input-497-4798f63fabb6>\u001b[0m in \u001b[0;36m<module>\u001b[1;34m\u001b[0m\n\u001b[0;32m      9\u001b[0m \u001b[0mplt\u001b[0m\u001b[1;33m.\u001b[0m\u001b[0mshow\u001b[0m\u001b[1;33m(\u001b[0m\u001b[1;33m)\u001b[0m\u001b[1;33m\u001b[0m\u001b[1;33m\u001b[0m\u001b[0m\n\u001b[0;32m     10\u001b[0m \u001b[1;33m\u001b[0m\u001b[0m\n\u001b[1;32m---> 11\u001b[1;33m \u001b[0mprint\u001b[0m\u001b[1;33m(\u001b[0m\u001b[1;34m'Area under Curve is'\u001b[0m\u001b[1;33m,\u001b[0m \u001b[0mroc_auc_score\u001b[0m\u001b[1;33m(\u001b[0m\u001b[0mlog_test_predict\u001b[0m\u001b[1;33m,\u001b[0m\u001b[0mlog_model\u001b[0m\u001b[1;33m.\u001b[0m\u001b[0mpredict_proba\u001b[0m\u001b[1;33m(\u001b[0m\u001b[0mX_test\u001b[0m\u001b[1;33m)\u001b[0m\u001b[1;33m[\u001b[0m\u001b[1;33m:\u001b[0m\u001b[1;33m,\u001b[0m\u001b[1;36m1\u001b[0m\u001b[1;33m]\u001b[0m\u001b[1;33m)\u001b[0m\u001b[1;33m)\u001b[0m\u001b[1;33m\u001b[0m\u001b[1;33m\u001b[0m\u001b[0m\n\u001b[0m",
      "\u001b[1;32m~\\Anaconda3\\lib\\site-packages\\sklearn\\metrics\\_ranking.py\u001b[0m in \u001b[0;36mroc_auc_score\u001b[1;34m(y_true, y_score, average, sample_weight, max_fpr, multi_class, labels)\u001b[0m\n\u001b[0;32m    565\u001b[0m         \u001b[0mlabels\u001b[0m \u001b[1;33m=\u001b[0m \u001b[0mnp\u001b[0m\u001b[1;33m.\u001b[0m\u001b[0munique\u001b[0m\u001b[1;33m(\u001b[0m\u001b[0my_true\u001b[0m\u001b[1;33m)\u001b[0m\u001b[1;33m\u001b[0m\u001b[1;33m\u001b[0m\u001b[0m\n\u001b[0;32m    566\u001b[0m         \u001b[0my_true\u001b[0m \u001b[1;33m=\u001b[0m \u001b[0mlabel_binarize\u001b[0m\u001b[1;33m(\u001b[0m\u001b[0my_true\u001b[0m\u001b[1;33m,\u001b[0m \u001b[0mclasses\u001b[0m\u001b[1;33m=\u001b[0m\u001b[0mlabels\u001b[0m\u001b[1;33m)\u001b[0m\u001b[1;33m[\u001b[0m\u001b[1;33m:\u001b[0m\u001b[1;33m,\u001b[0m \u001b[1;36m0\u001b[0m\u001b[1;33m]\u001b[0m\u001b[1;33m\u001b[0m\u001b[1;33m\u001b[0m\u001b[0m\n\u001b[1;32m--> 567\u001b[1;33m         return _average_binary_score(\n\u001b[0m\u001b[0;32m    568\u001b[0m             \u001b[0mpartial\u001b[0m\u001b[1;33m(\u001b[0m\u001b[0m_binary_roc_auc_score\u001b[0m\u001b[1;33m,\u001b[0m \u001b[0mmax_fpr\u001b[0m\u001b[1;33m=\u001b[0m\u001b[0mmax_fpr\u001b[0m\u001b[1;33m)\u001b[0m\u001b[1;33m,\u001b[0m\u001b[1;33m\u001b[0m\u001b[1;33m\u001b[0m\u001b[0m\n\u001b[0;32m    569\u001b[0m             \u001b[0my_true\u001b[0m\u001b[1;33m,\u001b[0m\u001b[1;33m\u001b[0m\u001b[1;33m\u001b[0m\u001b[0m\n",
      "\u001b[1;32m~\\Anaconda3\\lib\\site-packages\\sklearn\\metrics\\_base.py\u001b[0m in \u001b[0;36m_average_binary_score\u001b[1;34m(binary_metric, y_true, y_score, average, sample_weight)\u001b[0m\n\u001b[0;32m     73\u001b[0m \u001b[1;33m\u001b[0m\u001b[0m\n\u001b[0;32m     74\u001b[0m     \u001b[1;32mif\u001b[0m \u001b[0my_type\u001b[0m \u001b[1;33m==\u001b[0m \u001b[1;34m\"binary\"\u001b[0m\u001b[1;33m:\u001b[0m\u001b[1;33m\u001b[0m\u001b[1;33m\u001b[0m\u001b[0m\n\u001b[1;32m---> 75\u001b[1;33m         \u001b[1;32mreturn\u001b[0m \u001b[0mbinary_metric\u001b[0m\u001b[1;33m(\u001b[0m\u001b[0my_true\u001b[0m\u001b[1;33m,\u001b[0m \u001b[0my_score\u001b[0m\u001b[1;33m,\u001b[0m \u001b[0msample_weight\u001b[0m\u001b[1;33m=\u001b[0m\u001b[0msample_weight\u001b[0m\u001b[1;33m)\u001b[0m\u001b[1;33m\u001b[0m\u001b[1;33m\u001b[0m\u001b[0m\n\u001b[0m\u001b[0;32m     76\u001b[0m \u001b[1;33m\u001b[0m\u001b[0m\n\u001b[0;32m     77\u001b[0m     \u001b[0mcheck_consistent_length\u001b[0m\u001b[1;33m(\u001b[0m\u001b[0my_true\u001b[0m\u001b[1;33m,\u001b[0m \u001b[0my_score\u001b[0m\u001b[1;33m,\u001b[0m \u001b[0msample_weight\u001b[0m\u001b[1;33m)\u001b[0m\u001b[1;33m\u001b[0m\u001b[1;33m\u001b[0m\u001b[0m\n",
      "\u001b[1;32m~\\Anaconda3\\lib\\site-packages\\sklearn\\metrics\\_ranking.py\u001b[0m in \u001b[0;36m_binary_roc_auc_score\u001b[1;34m(y_true, y_score, sample_weight, max_fpr)\u001b[0m\n\u001b[0;32m    335\u001b[0m     \u001b[1;34m\"\"\"Binary roc auc score.\"\"\"\u001b[0m\u001b[1;33m\u001b[0m\u001b[1;33m\u001b[0m\u001b[0m\n\u001b[0;32m    336\u001b[0m     \u001b[1;32mif\u001b[0m \u001b[0mlen\u001b[0m\u001b[1;33m(\u001b[0m\u001b[0mnp\u001b[0m\u001b[1;33m.\u001b[0m\u001b[0munique\u001b[0m\u001b[1;33m(\u001b[0m\u001b[0my_true\u001b[0m\u001b[1;33m)\u001b[0m\u001b[1;33m)\u001b[0m \u001b[1;33m!=\u001b[0m \u001b[1;36m2\u001b[0m\u001b[1;33m:\u001b[0m\u001b[1;33m\u001b[0m\u001b[1;33m\u001b[0m\u001b[0m\n\u001b[1;32m--> 337\u001b[1;33m         raise ValueError(\n\u001b[0m\u001b[0;32m    338\u001b[0m             \u001b[1;34m\"Only one class present in y_true. ROC AUC score \"\u001b[0m\u001b[1;33m\u001b[0m\u001b[1;33m\u001b[0m\u001b[0m\n\u001b[0;32m    339\u001b[0m             \u001b[1;34m\"is not defined in that case.\"\u001b[0m\u001b[1;33m\u001b[0m\u001b[1;33m\u001b[0m\u001b[0m\n",
      "\u001b[1;31mValueError\u001b[0m: Only one class present in y_true. ROC AUC score is not defined in that case."
     ]
    }
   ],
   "source": [
    "from sklearn.metrics import roc_curve,roc_auc_score\n",
    "rf_fpr,rf_tpr,_ = roc_curve(log_test_predict,log_model.predict_proba(X_test)[:,1])\n",
    "plt.figure(figsize = (12,7))\n",
    "plt.plot(rf_fpr,rf_tpr,marker = 'x',label = 'logit')\n",
    "plt.plot(np.arange(0,1.1,0.1),np.arange(0,1.1,0.1))# can directly give plt.plot([0,1],[0,1])\n",
    "plt.xlabel('False Positive Rate')\n",
    "plt.ylabel('True Positive Rate')\n",
    "plt.title('ROC')\n",
    "plt.show()\n",
    "\n",
    "print('Area under Curve is', roc_auc_score(log_test_predict,log_model.predict_proba(X_test)[:,1]))"
   ]
  },
  {
   "cell_type": "code",
   "execution_count": 498,
   "id": "cde42ba0",
   "metadata": {},
   "outputs": [],
   "source": [
    "grid_log={'penalty':['none', 'l1', 'l2', 'elasticnet'],\n",
    "      'solver':['sag','lbfgs','newtoncg','lbfgs', 'liblinear', 'saga'],\n",
    "      'tol':[0.0001,0.00001]}"
   ]
  },
  {
   "cell_type": "code",
   "execution_count": 499,
   "id": "65fdd428",
   "metadata": {},
   "outputs": [],
   "source": [
    "grid_search1 = GridSearchCV(estimator = log_model, param_grid = grid_log, cv = 3,n_jobs=-1,scoring='f1')"
   ]
  },
  {
   "cell_type": "code",
   "execution_count": 500,
   "id": "50200bf2",
   "metadata": {},
   "outputs": [
    {
     "data": {
      "text/plain": [
       "GridSearchCV(cv=3, estimator=LogisticRegression(), n_jobs=-1,\n",
       "             param_grid={'penalty': ['none', 'l1', 'l2', 'elasticnet'],\n",
       "                         'solver': ['sag', 'lbfgs', 'newtoncg', 'lbfgs',\n",
       "                                    'liblinear', 'saga'],\n",
       "                         'tol': [0.0001, 1e-05]},\n",
       "             scoring='f1')"
      ]
     },
     "execution_count": 500,
     "metadata": {},
     "output_type": "execute_result"
    }
   ],
   "source": [
    "grid_search1.fit(X_train, y_train)"
   ]
  },
  {
   "cell_type": "code",
   "execution_count": 501,
   "id": "d7b890d4",
   "metadata": {},
   "outputs": [
    {
     "name": "stdout",
     "output_type": "stream",
     "text": [
      "{'penalty': 'l1', 'solver': 'liblinear', 'tol': 1e-05} \n",
      "\n",
      "LogisticRegression(penalty='l1', solver='liblinear', tol=1e-05)\n"
     ]
    }
   ],
   "source": [
    "print(grid_search1.best_params_,'\\n')\n",
    "print(grid_search1.best_estimator_)"
   ]
  },
  {
   "cell_type": "code",
   "execution_count": 502,
   "id": "23f3036f",
   "metadata": {},
   "outputs": [],
   "source": [
    "best_model1 = grid_search1.best_estimator_"
   ]
  },
  {
   "cell_type": "code",
   "execution_count": 503,
   "id": "acf4855e",
   "metadata": {},
   "outputs": [],
   "source": [
    "# Prediction on the training set\n",
    "\n",
    "log_train_predict = best_model1.predict(X_train)\n",
    "log_test_predict = best_model1.predict(X_test)"
   ]
  },
  {
   "cell_type": "code",
   "execution_count": 504,
   "id": "870f23ae",
   "metadata": {},
   "outputs": [
    {
     "data": {
      "image/png": "[encoded data removed]",
      "text/plain": [
       "<Figure size 432x288 with 2 Axes>"
      ]
     },
     "metadata": {
      "needs_background": "light"
     },
     "output_type": "display_data"
    }
   ],
   "source": [
    "#Confusion Matrix for Train set\n",
    "confusion_matrix(y_train,log_train_predict)\n",
    "sns.heatmap(confusion_matrix(y_train,log_train_predict),annot = True,cbar = True,fmt = 'd',)\n",
    "plt.xlabel('Predicted Label')\n",
    "plt.ylabel('Actual Label')\n",
    "plt.title('Confusion Matrix for Trainset')\n",
    "plt.show()"
   ]
  },
  {
   "cell_type": "code",
   "execution_count": 505,
   "id": "f29573a6",
   "metadata": {},
   "outputs": [
    {
     "name": "stdout",
     "output_type": "stream",
     "text": [
      "              precision    recall  f1-score   support\n",
      "\n",
      "           0       0.86      0.99      0.92      6330\n",
      "           1       0.66      0.10      0.17      1126\n",
      "\n",
      "    accuracy                           0.86      7456\n",
      "   macro avg       0.76      0.54      0.55      7456\n",
      "weighted avg       0.83      0.86      0.81      7456\n",
      "\n"
     ]
    }
   ],
   "source": [
    "print(classification_report(y_train,log_train_predict)) "
   ]
  },
  {
   "cell_type": "code",
   "execution_count": 506,
   "id": "a2073091",
   "metadata": {},
   "outputs": [
    {
     "data": {
      "image/png": "[encoded data removed]",
      "text/plain": [
       "<Figure size 864x504 with 1 Axes>"
      ]
     },
     "metadata": {
      "needs_background": "light"
     },
     "output_type": "display_data"
    },
    {
     "name": "stdout",
     "output_type": "stream",
     "text": [
      "Area under Curve is 1.0\n"
     ]
    }
   ],
   "source": [
    "from sklearn.metrics import roc_curve,roc_auc_score\n",
    "rf_fpr,rf_tpr,_ = roc_curve(log_train_predict,best_model1.predict_proba(X_train)[:,1])\n",
    "plt.figure(figsize = (12,7))\n",
    "plt.plot(rf_fpr,rf_tpr,marker = 'x',label = 'logit')\n",
    "plt.plot(np.arange(0,1.1,0.1),np.arange(0,1.1,0.1))# can directly give plt.plot([0,1],[0,1])\n",
    "plt.xlabel('False Positive Rate')\n",
    "plt.ylabel('True Positive Rate')\n",
    "plt.title('ROC')\n",
    "plt.show()\n",
    "\n",
    "print('Area under Curve is', roc_auc_score(log_train_predict,best_model1.predict_proba(X_train)[:,1]))"
   ]
  },
  {
   "cell_type": "code",
   "execution_count": 507,
   "id": "46d07411",
   "metadata": {},
   "outputs": [
    {
     "data": {
      "image/png": "[encoded data removed]",
      "text/plain": [
       "<Figure size 432x288 with 2 Axes>"
      ]
     },
     "metadata": {
      "needs_background": "light"
     },
     "output_type": "display_data"
    }
   ],
   "source": [
    "#Confusion Matrix for Test set\n",
    "confusion_matrix(y_test,log_test_predict)\n",
    "sns.heatmap(confusion_matrix(y_test,log_test_predict),annot = True,cbar = True,fmt = 'd',)\n",
    "plt.xlabel('Predicted Label')\n",
    "plt.ylabel('Actual Label')\n",
    "plt.title('Confusion Matrix for Testset')\n",
    "plt.show()"
   ]
  },
  {
   "cell_type": "code",
   "execution_count": 508,
   "id": "a235c094",
   "metadata": {},
   "outputs": [
    {
     "name": "stdout",
     "output_type": "stream",
     "text": [
      "              precision    recall  f1-score   support\n",
      "\n",
      "           0       0.86      0.99      0.92      2702\n",
      "           1       0.67      0.12      0.20       494\n",
      "\n",
      "    accuracy                           0.85      3196\n",
      "   macro avg       0.77      0.55      0.56      3196\n",
      "weighted avg       0.83      0.85      0.81      3196\n",
      "\n"
     ]
    }
   ],
   "source": [
    "print(classification_report(y_test,log_test_predict)) "
   ]
  },
  {
   "cell_type": "code",
   "execution_count": 509,
   "id": "32fc40eb",
   "metadata": {},
   "outputs": [
    {
     "data": {
      "image/png": "[encoded data removed]",
      "text/plain": [
       "<Figure size 864x504 with 1 Axes>"
      ]
     },
     "metadata": {
      "needs_background": "light"
     },
     "output_type": "display_data"
    },
    {
     "name": "stdout",
     "output_type": "stream",
     "text": [
      "Area under Curve is 0.895393703731399\n"
     ]
    }
   ],
   "source": [
    "from sklearn.metrics import roc_curve,roc_auc_score\n",
    "rf_fpr,rf_tpr,_ = roc_curve(log_test_predict,log_model.predict_proba(X_test)[:,1])\n",
    "plt.figure(figsize = (12,7))\n",
    "plt.plot(rf_fpr,rf_tpr,marker = 'x',label = 'logit')\n",
    "plt.plot(np.arange(0,1.1,0.1),np.arange(0,1.1,0.1))# can directly give plt.plot([0,1],[0,1])\n",
    "plt.xlabel('False Positive Rate')\n",
    "plt.ylabel('True Positive Rate')\n",
    "plt.title('ROC')\n",
    "plt.show()\n",
    "\n",
    "print('Area under Curve is', roc_auc_score(log_test_predict,log_model.predict_proba(X_test)[:,1]))"
   ]
  },
  {
   "cell_type": "code",
   "execution_count": 510,
   "id": "d387c3b2",
   "metadata": {},
   "outputs": [
    {
     "name": "stdout",
     "output_type": "stream",
     "text": [
      "Feature: 0, Score: -0.00519\n",
      "Feature: 1, Score: 0.00000\n",
      "Feature: 2, Score: -0.00001\n",
      "Feature: 3, Score: 0.02674\n",
      "Feature: 4, Score: 0.00890\n",
      "Feature: 5, Score: 0.02632\n",
      "Feature: 6, Score: -0.00221\n",
      "Feature: 7, Score: -0.00009\n",
      "Feature: 8, Score: 0.14586\n",
      "Feature: 9, Score: 1.42730\n",
      "Feature: 10, Score: 0.00005\n",
      "Feature: 11, Score: -0.00643\n",
      "Feature: 12, Score: -0.16076\n",
      "Feature: 13, Score: -0.70804\n",
      "Feature: 14, Score: -0.01521\n"
     ]
    },
    {
     "data": {
      "image/png": "[encoded data removed]",
      "text/plain": [
       "<Figure size 432x288 with 1 Axes>"
      ]
     },
     "metadata": {
      "needs_background": "light"
     },
     "output_type": "display_data"
    }
   ],
   "source": [
    "# get importance\n",
    "importance = best_model1.coef_[0]\n",
    "# summarize feature importance\n",
    "for i,v in enumerate(importance):\n",
    "\tprint('Feature: %0d, Score: %.5f' % (i,v))\n",
    "# plot feature importance\n",
    "plt.bar([x for x in range(len(importance))], importance)\n",
    "plt.show()"
   ]
  },
  {
   "cell_type": "markdown",
   "id": "d46929f3",
   "metadata": {},
   "source": [
    "------------------------------------------------------------------------------------------------------------------------------------------------"
   ]
  },
  {
   "cell_type": "markdown",
   "id": "9f4bf18f",
   "metadata": {},
   "source": [
    "Linear Discriminant Analysis"
   ]
  },
  {
   "cell_type": "code",
   "execution_count": 511,
   "id": "02f35848",
   "metadata": {},
   "outputs": [
    {
     "data": {
      "text/plain": [
       "LinearDiscriminantAnalysis()"
      ]
     },
     "execution_count": 511,
     "metadata": {},
     "output_type": "execute_result"
    }
   ],
   "source": [
    "LDA = LinearDiscriminantAnalysis()\n",
    "lda_model=LDA.fit(X_train, y_train)\n",
    "lda_model"
   ]
  },
  {
   "cell_type": "code",
   "execution_count": 512,
   "id": "abed6d7b",
   "metadata": {},
   "outputs": [],
   "source": [
    "lda_train_predict = lda_model.predict(X_train)\n",
    "lda_test_predict = lda_model.predict(X_test)"
   ]
  },
  {
   "cell_type": "code",
   "execution_count": 513,
   "id": "154ee2de",
   "metadata": {},
   "outputs": [],
   "source": [
    "lda_train_predict = lda_model.predict(X_train)\n",
    "lda_test_predict = lda_model.predict(X_test)"
   ]
  },
  {
   "cell_type": "code",
   "execution_count": 514,
   "id": "03c58f61",
   "metadata": {},
   "outputs": [
    {
     "data": {
      "text/plain": [
       "0.8555525751072961"
      ]
     },
     "execution_count": 514,
     "metadata": {},
     "output_type": "execute_result"
    }
   ],
   "source": [
    "lda_model.score(X_train,y_train)"
   ]
  },
  {
   "cell_type": "code",
   "execution_count": 515,
   "id": "616191a3",
   "metadata": {},
   "outputs": [
    {
     "data": {
      "text/plain": [
       "0.8554443053817271"
      ]
     },
     "execution_count": 515,
     "metadata": {},
     "output_type": "execute_result"
    }
   ],
   "source": [
    "lda_model.score(X_test,y_test)"
   ]
  },
  {
   "cell_type": "code",
   "execution_count": 516,
   "id": "8227d03a",
   "metadata": {},
   "outputs": [
    {
     "data": {
      "image/png": "[encoded data removed]",
      "text/plain": [
       "<Figure size 432x288 with 2 Axes>"
      ]
     },
     "metadata": {
      "needs_background": "light"
     },
     "output_type": "display_data"
    }
   ],
   "source": [
    "#Confusion Matrix for Train set\n",
    "confusion_matrix(y_train,lda_train_predict)\n",
    "sns.heatmap(confusion_matrix(y_train,lda_train_predict),annot = True,cbar = True,fmt = 'd',)\n",
    "plt.xlabel('Predicted Label')\n",
    "plt.ylabel('Actual Label')\n",
    "plt.title('Confusion Matrix for Trainset')\n",
    "plt.show()"
   ]
  },
  {
   "cell_type": "code",
   "execution_count": 517,
   "id": "86150567",
   "metadata": {},
   "outputs": [
    {
     "name": "stdout",
     "output_type": "stream",
     "text": [
      "              precision    recall  f1-score   support\n",
      "\n",
      "           0       0.86      0.99      0.92      6330\n",
      "           1       0.62      0.11      0.19      1126\n",
      "\n",
      "    accuracy                           0.86      7456\n",
      "   macro avg       0.74      0.55      0.55      7456\n",
      "weighted avg       0.83      0.86      0.81      7456\n",
      "\n"
     ]
    }
   ],
   "source": [
    "print(classification_report(y_train,lda_train_predict)) "
   ]
  },
  {
   "cell_type": "code",
   "execution_count": 518,
   "id": "b9958193",
   "metadata": {},
   "outputs": [
    {
     "data": {
      "image/png": "[encoded data removed]",
      "text/plain": [
       "<Figure size 864x504 with 1 Axes>"
      ]
     },
     "metadata": {
      "needs_background": "light"
     },
     "output_type": "display_data"
    },
    {
     "name": "stdout",
     "output_type": "stream",
     "text": [
      "Area under Curve is 0.7491285962416415\n"
     ]
    }
   ],
   "source": [
    "from sklearn.metrics import roc_curve,roc_auc_score\n",
    "rf_fpr,rf_tpr,_ = roc_curve(y_train,lda_model.predict_proba(X_train)[:,1])\n",
    "plt.figure(figsize = (12,7))\n",
    "plt.plot(rf_fpr,rf_tpr,marker = 'x',label = 'LDA')\n",
    "plt.plot(np.arange(0,1.1,0.1),np.arange(0,1.1,0.1))# can directly give plt.plot([0,1],[0,1])\n",
    "plt.xlabel('False Positive Rate')\n",
    "plt.ylabel('True Positive Rate')\n",
    "plt.title('ROC')\n",
    "plt.show()\n",
    "\n",
    "print('Area under Curve is', roc_auc_score(y_train,lda_model.predict_proba(X_train)[:,1]))"
   ]
  },
  {
   "cell_type": "code",
   "execution_count": 519,
   "id": "0ea588af",
   "metadata": {},
   "outputs": [
    {
     "data": {
      "image/png": "[encoded data removed]",
      "text/plain": [
       "<Figure size 432x288 with 2 Axes>"
      ]
     },
     "metadata": {
      "needs_background": "light"
     },
     "output_type": "display_data"
    }
   ],
   "source": [
    "#Confusion Matrix for Train set\n",
    "confusion_matrix(y_test,lda_test_predict)\n",
    "sns.heatmap(confusion_matrix(y_test,lda_test_predict),annot = True,cbar = True,fmt = 'd',)\n",
    "plt.xlabel('Predicted Label')\n",
    "plt.ylabel('Actual Label')\n",
    "plt.title('Confusion Matrix for Testset')\n",
    "plt.show()"
   ]
  },
  {
   "cell_type": "code",
   "execution_count": 520,
   "id": "51bcf889",
   "metadata": {},
   "outputs": [
    {
     "name": "stdout",
     "output_type": "stream",
     "text": [
      "              precision    recall  f1-score   support\n",
      "\n",
      "           0       0.86      0.99      0.92      2702\n",
      "           1       0.66      0.14      0.22       494\n",
      "\n",
      "    accuracy                           0.86      3196\n",
      "   macro avg       0.76      0.56      0.57      3196\n",
      "weighted avg       0.83      0.86      0.81      3196\n",
      "\n"
     ]
    }
   ],
   "source": [
    "print(classification_report(y_test,lda_test_predict)) "
   ]
  },
  {
   "cell_type": "code",
   "execution_count": 521,
   "id": "2f1494e0",
   "metadata": {},
   "outputs": [
    {
     "data": {
      "image/png": "[encoded data removed]",
      "text/plain": [
       "<Figure size 864x504 with 1 Axes>"
      ]
     },
     "metadata": {
      "needs_background": "light"
     },
     "output_type": "display_data"
    },
    {
     "name": "stdout",
     "output_type": "stream",
     "text": [
      "Area under Curve is 0.7654908494832138\n"
     ]
    }
   ],
   "source": [
    "from sklearn.metrics import roc_curve,roc_auc_score\n",
    "rf_fpr,rf_tpr,_ = roc_curve(y_test,lda_model.predict_proba(X_test)[:,1])\n",
    "plt.figure(figsize = (12,7))\n",
    "plt.plot(rf_fpr,rf_tpr,marker = 'x',label = 'LDA')\n",
    "plt.plot(np.arange(0,1.1,0.1),np.arange(0,1.1,0.1))# can directly give plt.plot([0,1],[0,1])\n",
    "plt.xlabel('False Positive Rate')\n",
    "plt.ylabel('True Positive Rate')\n",
    "plt.title('ROC')\n",
    "plt.show()\n",
    "\n",
    "print('Area under Curve is', roc_auc_score(y_test,lda_model.predict_proba(X_test)[:,1]))"
   ]
  },
  {
   "cell_type": "code",
   "execution_count": 522,
   "id": "3b4c25d2",
   "metadata": {},
   "outputs": [],
   "source": [
    "grid_lda={ 'solver':['svd', 'lsqr', 'eigen'],\n",
    "          'shrinkage':['auto', 'float','none'],\n",
    "          'tol':[0.001,0.0001,0.00001]}"
   ]
  },
  {
   "cell_type": "code",
   "execution_count": 523,
   "id": "82763357",
   "metadata": {},
   "outputs": [],
   "source": [
    "grid_search2 = GridSearchCV(estimator = lda_model, param_grid = grid_lda, cv = 3,n_jobs=-1,scoring='f1')"
   ]
  },
  {
   "cell_type": "code",
   "execution_count": 524,
   "id": "da58288e",
   "metadata": {},
   "outputs": [
    {
     "data": {
      "text/plain": [
       "GridSearchCV(cv=3, estimator=LinearDiscriminantAnalysis(), n_jobs=-1,\n",
       "             param_grid={'shrinkage': ['auto', 'float', 'none'],\n",
       "                         'solver': ['svd', 'lsqr', 'eigen'],\n",
       "                         'tol': [0.001, 0.0001, 1e-05]},\n",
       "             scoring='f1')"
      ]
     },
     "execution_count": 524,
     "metadata": {},
     "output_type": "execute_result"
    }
   ],
   "source": [
    "grid_search2.fit(X_train, y_train)"
   ]
  },
  {
   "cell_type": "code",
   "execution_count": 525,
   "id": "7f093122",
   "metadata": {},
   "outputs": [
    {
     "data": {
      "text/plain": [
       "0.8554443053817271"
      ]
     },
     "execution_count": 525,
     "metadata": {},
     "output_type": "execute_result"
    }
   ],
   "source": [
    "lda_model.score(X_test,y_test)"
   ]
  },
  {
   "cell_type": "code",
   "execution_count": 526,
   "id": "21e4f206",
   "metadata": {},
   "outputs": [
    {
     "name": "stdout",
     "output_type": "stream",
     "text": [
      "{'shrinkage': 'auto', 'solver': 'lsqr', 'tol': 0.001} \n",
      "\n",
      "LinearDiscriminantAnalysis(shrinkage='auto', solver='lsqr', tol=0.001)\n"
     ]
    }
   ],
   "source": [
    "print(grid_search2.best_params_,'\\n')\n",
    "print(grid_search2.best_estimator_)"
   ]
  },
  {
   "cell_type": "code",
   "execution_count": 527,
   "id": "fbed4f29",
   "metadata": {},
   "outputs": [],
   "source": [
    "best_model2 = grid_search2.best_estimator_"
   ]
  },
  {
   "cell_type": "code",
   "execution_count": 528,
   "id": "221efa95",
   "metadata": {},
   "outputs": [],
   "source": [
    "lda_train_predict = best_model2.predict(X_train)\n",
    "lda_test_predict = best_model2.predict(X_test)"
   ]
  },
  {
   "cell_type": "code",
   "execution_count": 529,
   "id": "e0beedbd",
   "metadata": {},
   "outputs": [
    {
     "data": {
      "image/png": "[encoded data removed]",
      "text/plain": [
       "<Figure size 432x288 with 2 Axes>"
      ]
     },
     "metadata": {
      "needs_background": "light"
     },
     "output_type": "display_data"
    }
   ],
   "source": [
    "#Confusion Matrix for Train set\n",
    "confusion_matrix(y_train,lda_train_predict)\n",
    "sns.heatmap(confusion_matrix(y_train,lda_train_predict),annot = True,cbar = True,fmt = 'd',)\n",
    "plt.xlabel('Predicted Label')\n",
    "plt.ylabel('Actual Label')\n",
    "plt.title('Confusion Matrix for Trainset')\n",
    "plt.show()\n"
   ]
  },
  {
   "cell_type": "code",
   "execution_count": 530,
   "id": "f4d54428",
   "metadata": {},
   "outputs": [
    {
     "name": "stdout",
     "output_type": "stream",
     "text": [
      "              precision    recall  f1-score   support\n",
      "\n",
      "           0       0.86      0.99      0.92      6330\n",
      "           1       0.62      0.11      0.19      1126\n",
      "\n",
      "    accuracy                           0.86      7456\n",
      "   macro avg       0.74      0.55      0.55      7456\n",
      "weighted avg       0.83      0.86      0.81      7456\n",
      "\n"
     ]
    }
   ],
   "source": [
    "print(classification_report(y_train,lda_train_predict)) "
   ]
  },
  {
   "cell_type": "code",
   "execution_count": 531,
   "id": "49288304",
   "metadata": {},
   "outputs": [
    {
     "name": "stdout",
     "output_type": "stream",
     "text": [
      "              precision    recall  f1-score   support\n",
      "\n",
      "           0       0.86      0.99      0.92      6330\n",
      "           1       0.62      0.11      0.19      1126\n",
      "\n",
      "    accuracy                           0.86      7456\n",
      "   macro avg       0.74      0.55      0.55      7456\n",
      "weighted avg       0.83      0.86      0.81      7456\n",
      "\n"
     ]
    }
   ],
   "source": [
    "print(classification_report(y_train,lda_train_predict)) "
   ]
  },
  {
   "cell_type": "code",
   "execution_count": 532,
   "id": "f31cd777",
   "metadata": {},
   "outputs": [
    {
     "data": {
      "image/png": "[encoded data removed]",
      "text/plain": [
       "<Figure size 432x288 with 2 Axes>"
      ]
     },
     "metadata": {
      "needs_background": "light"
     },
     "output_type": "display_data"
    }
   ],
   "source": [
    "#Confusion Matrix for Test set\n",
    "confusion_matrix(y_test,lda_test_predict)\n",
    "sns.heatmap(confusion_matrix(y_test,lda_test_predict),annot = True,cbar = True,fmt = 'd',)\n",
    "plt.xlabel('Predicted Label')\n",
    "plt.ylabel('Actual Label')\n",
    "plt.title('Confusion Matrix for Testset')\n",
    "plt.show()\n"
   ]
  },
  {
   "cell_type": "code",
   "execution_count": 533,
   "id": "f070d945",
   "metadata": {},
   "outputs": [
    {
     "name": "stdout",
     "output_type": "stream",
     "text": [
      "              precision    recall  f1-score   support\n",
      "\n",
      "           0       0.86      0.99      0.92      2702\n",
      "           1       0.66      0.14      0.22       494\n",
      "\n",
      "    accuracy                           0.86      3196\n",
      "   macro avg       0.76      0.56      0.57      3196\n",
      "weighted avg       0.83      0.86      0.81      3196\n",
      "\n"
     ]
    }
   ],
   "source": [
    "print(classification_report(y_test,lda_test_predict)) "
   ]
  },
  {
   "cell_type": "code",
   "execution_count": 534,
   "id": "784b6e17",
   "metadata": {},
   "outputs": [
    {
     "data": {
      "image/png": "[encoded data removed]",
      "text/plain": [
       "<Figure size 864x504 with 1 Axes>"
      ]
     },
     "metadata": {
      "needs_background": "light"
     },
     "output_type": "display_data"
    },
    {
     "name": "stdout",
     "output_type": "stream",
     "text": [
      "Area under Curve is 0.7654908494832138\n"
     ]
    }
   ],
   "source": [
    "from sklearn.metrics import roc_curve,roc_auc_score\n",
    "rf_fpr,rf_tpr,_ = roc_curve(y_test,lda_model.predict_proba(X_test)[:,1])\n",
    "plt.figure(figsize = (12,7))\n",
    "plt.plot(rf_fpr,rf_tpr,marker = 'x',label = 'LDA')\n",
    "plt.plot(np.arange(0,1.1,0.1),np.arange(0,1.1,0.1))# can directly give plt.plot([0,1],[0,1])\n",
    "plt.xlabel('False Positive Rate')\n",
    "plt.ylabel('True Positive Rate')\n",
    "plt.title('ROC')\n",
    "plt.show()\n",
    "\n",
    "print('Area under Curve is', roc_auc_score(y_test,lda_model.predict_proba(X_test)[:,1]))"
   ]
  },
  {
   "cell_type": "code",
   "execution_count": 535,
   "id": "62feda94",
   "metadata": {},
   "outputs": [
    {
     "name": "stdout",
     "output_type": "stream",
     "text": [
      "Feature: 0, Score: -0.00543\n",
      "Feature: 1, Score: 0.00000\n",
      "Feature: 2, Score: -0.00001\n",
      "Feature: 3, Score: 0.02570\n",
      "Feature: 4, Score: 0.00605\n",
      "Feature: 5, Score: 0.02638\n",
      "Feature: 6, Score: -0.00172\n",
      "Feature: 7, Score: -0.00006\n",
      "Feature: 8, Score: 0.14416\n",
      "Feature: 9, Score: 1.64875\n",
      "Feature: 10, Score: 0.00026\n",
      "Feature: 11, Score: -0.00710\n",
      "Feature: 12, Score: -0.13979\n",
      "Feature: 13, Score: -0.64690\n",
      "Feature: 14, Score: -0.01010\n"
     ]
    },
    {
     "data": {
      "image/png": "[encoded data removed]",
      "text/plain": [
       "<Figure size 432x288 with 1 Axes>"
      ]
     },
     "metadata": {
      "needs_background": "light"
     },
     "output_type": "display_data"
    }
   ],
   "source": [
    "# get importance\n",
    "importance = best_model2.coef_[0]\n",
    "# summarize feature importance\n",
    "for i,v in enumerate(importance):\n",
    "    print('Feature: %0d, Score: %.5f' % (i,v))\n",
    "# plot feature importance\n",
    "plt.bar([x for x in range(len(importance))], importance)\n",
    "plt.show()"
   ]
  },
  {
   "cell_type": "markdown",
   "id": "36b830b3",
   "metadata": {},
   "source": [
    "--------------------------------------------------------------------------------------------------------------------------------------------------------------------------"
   ]
  },
  {
   "cell_type": "markdown",
   "id": "354f31c7",
   "metadata": {},
   "source": [
    "RANDOM FOREST"
   ]
  },
  {
   "cell_type": "code",
   "execution_count": 536,
   "id": "45ef6dc8",
   "metadata": {},
   "outputs": [],
   "source": [
    "from sklearn.ensemble import RandomForestClassifier\n",
    "\n",
    "RF_model=RandomForestClassifier(n_estimators=100,random_state=1)\n",
    "RF_model=RF_model.fit(X_train, y_train)"
   ]
  },
  {
   "cell_type": "code",
   "execution_count": 537,
   "id": "033f8f14",
   "metadata": {},
   "outputs": [
    {
     "name": "stdout",
     "output_type": "stream",
     "text": [
      "1.0\n"
     ]
    }
   ],
   "source": [
    "RF_train_predict = RF_model.predict(X_train)\n",
    "model_score = RF_model.score(X_train, y_train)\n",
    "print(model_score)"
   ]
  },
  {
   "cell_type": "code",
   "execution_count": 538,
   "id": "78f3b138",
   "metadata": {},
   "outputs": [
    {
     "name": "stdout",
     "output_type": "stream",
     "text": [
      "0.9718397997496871\n"
     ]
    }
   ],
   "source": [
    "RF_test_predict = RF_model.predict(X_test)\n",
    "model_score = RF_model.score(X_test, y_test)\n",
    "print(model_score)"
   ]
  },
  {
   "cell_type": "code",
   "execution_count": 539,
   "id": "4cc9ab79",
   "metadata": {},
   "outputs": [
    {
     "data": {
      "image/png": "[encoded data removed]",
      "text/plain": [
       "<Figure size 432x288 with 2 Axes>"
      ]
     },
     "metadata": {
      "needs_background": "light"
     },
     "output_type": "display_data"
    }
   ],
   "source": [
    "#Confusion Matrix for Train set\n",
    "confusion_matrix(y_train,RF_train_predict)\n",
    "sns.heatmap(confusion_matrix(y_train,RF_train_predict),annot = True,cbar = True,fmt = 'd',)\n",
    "plt.xlabel('Predicted Label')\n",
    "plt.ylabel('Actual Label')\n",
    "plt.title('Confusion Matrix for Trainset')\n",
    "plt.show()"
   ]
  },
  {
   "cell_type": "code",
   "execution_count": 540,
   "id": "5061bc85",
   "metadata": {},
   "outputs": [
    {
     "name": "stdout",
     "output_type": "stream",
     "text": [
      "              precision    recall  f1-score   support\n",
      "\n",
      "           0       1.00      1.00      1.00      6330\n",
      "           1       1.00      1.00      1.00      1126\n",
      "\n",
      "    accuracy                           1.00      7456\n",
      "   macro avg       1.00      1.00      1.00      7456\n",
      "weighted avg       1.00      1.00      1.00      7456\n",
      "\n"
     ]
    }
   ],
   "source": [
    "print(classification_report(y_train,RF_train_predict)) "
   ]
  },
  {
   "cell_type": "code",
   "execution_count": 541,
   "id": "e78ae07e",
   "metadata": {},
   "outputs": [
    {
     "data": {
      "image/png": "[encoded data removed]",
      "text/plain": [
       "<Figure size 864x504 with 1 Axes>"
      ]
     },
     "metadata": {
      "needs_background": "light"
     },
     "output_type": "display_data"
    },
    {
     "name": "stdout",
     "output_type": "stream",
     "text": [
      "Area under Curve is 1.0\n"
     ]
    }
   ],
   "source": [
    "from sklearn.metrics import roc_curve,roc_auc_score\n",
    "rf_fpr,rf_tpr,_ = roc_curve(y_train,RF_model.predict_proba(X_train)[:,1])\n",
    "plt.figure(figsize = (12,7))\n",
    "plt.plot(rf_fpr,rf_tpr,marker = 'x',label = 'RF')\n",
    "plt.plot(np.arange(0,1.1,0.1),np.arange(0,1.1,0.1))# can directly give plt.plot([0,1],[0,1])\n",
    "plt.xlabel('False Positive Rate')\n",
    "plt.ylabel('True Positive Rate')\n",
    "plt.title('ROC')\n",
    "plt.show()\n",
    "\n",
    "print('Area under Curve is', roc_auc_score(y_train,RF_model.predict_proba(X_train)[:,1]))"
   ]
  },
  {
   "cell_type": "code",
   "execution_count": 542,
   "id": "dc5995b0",
   "metadata": {},
   "outputs": [
    {
     "data": {
      "image/png": "[encoded data removed]",
      "text/plain": [
       "<Figure size 432x288 with 2 Axes>"
      ]
     },
     "metadata": {
      "needs_background": "light"
     },
     "output_type": "display_data"
    }
   ],
   "source": [
    "#Confusion Matrix for Test set\n",
    "confusion_matrix(y_test,RF_test_predict)\n",
    "sns.heatmap(confusion_matrix(y_test,RF_test_predict),annot = True,cbar = True,fmt = 'd',)\n",
    "plt.xlabel('Predicted Label')\n",
    "plt.ylabel('Actual Label')\n",
    "plt.title('Confusion Matrix for Testset')\n",
    "plt.show()"
   ]
  },
  {
   "cell_type": "code",
   "execution_count": 543,
   "id": "e702915e",
   "metadata": {},
   "outputs": [
    {
     "name": "stdout",
     "output_type": "stream",
     "text": [
      "              precision    recall  f1-score   support\n",
      "\n",
      "           0       0.97      1.00      0.98      2702\n",
      "           1       1.00      0.82      0.90       494\n",
      "\n",
      "    accuracy                           0.97      3196\n",
      "   macro avg       0.98      0.91      0.94      3196\n",
      "weighted avg       0.97      0.97      0.97      3196\n",
      "\n"
     ]
    }
   ],
   "source": [
    "print(classification_report(y_test,RF_test_predict))"
   ]
  },
  {
   "cell_type": "code",
   "execution_count": 544,
   "id": "651bb139",
   "metadata": {},
   "outputs": [
    {
     "data": {
      "image/png": "[encoded data removed]",
      "text/plain": [
       "<Figure size 864x504 with 1 Axes>"
      ]
     },
     "metadata": {
      "needs_background": "light"
     },
     "output_type": "display_data"
    },
    {
     "name": "stdout",
     "output_type": "stream",
     "text": [
      "Area under Curve is 0.9983959999640393\n"
     ]
    }
   ],
   "source": [
    "from sklearn.metrics import roc_curve,roc_auc_score\n",
    "rf_fpr,rf_tpr,_ = roc_curve(y_test,RF_model.predict_proba(X_test)[:,1])\n",
    "plt.figure(figsize = (12,7))\n",
    "plt.plot(rf_fpr,rf_tpr,marker = 'x',label = 'RF')\n",
    "plt.plot(np.arange(0,1.1,0.1),np.arange(0,1.1,0.1))# can directly give plt.plot([0,1],[0,1])\n",
    "plt.xlabel('False Positive Rate')\n",
    "plt.ylabel('True Positive Rate')\n",
    "plt.title('ROC')\n",
    "plt.show()\n",
    "\n",
    "print('Area under Curve is', roc_auc_score(y_test,RF_model.predict_proba(X_test)[:,1]))"
   ]
  },
  {
   "cell_type": "code",
   "execution_count": 545,
   "id": "49908f79",
   "metadata": {},
   "outputs": [
    {
     "name": "stdout",
     "output_type": "stream",
     "text": [
      "1.0\n"
     ]
    }
   ],
   "source": [
    "from sklearn.ensemble import RandomForestClassifier\n",
    "\n",
    "RF_model=RandomForestClassifier(n_estimators=100,random_state=1)\n",
    "RF_model=RF_model.fit(X_train, y_train)\n",
    "RF_train_predict = RF_model.predict(X_train)\n",
    "model_score = RF_model.score(X_train, y_train)\n",
    "print(model_score)"
   ]
  },
  {
   "cell_type": "code",
   "execution_count": 546,
   "id": "e2bd4a38",
   "metadata": {},
   "outputs": [
    {
     "name": "stdout",
     "output_type": "stream",
     "text": [
      "0.9718397997496871\n"
     ]
    }
   ],
   "source": [
    "RF_test_predict = RF_model.predict(X_test)\n",
    "model_score = RF_model.score(X_test, y_test)\n",
    "print(model_score)"
   ]
  },
  {
   "cell_type": "markdown",
   "id": "03e0f390",
   "metadata": {},
   "source": [
    "RF using grid search"
   ]
  },
  {
   "cell_type": "code",
   "execution_count": 547,
   "id": "023fdd18",
   "metadata": {},
   "outputs": [],
   "source": [
    "from sklearn.model_selection import RandomizedSearchCV"
   ]
  },
  {
   "cell_type": "code",
   "execution_count": 548,
   "id": "ee4b6dd7",
   "metadata": {},
   "outputs": [
    {
     "name": "stdout",
     "output_type": "stream",
     "text": [
      "{'n_estimators': [200, 400, 600, 800, 1000, 1200, 1400, 1600, 1800, 2000], 'max_features': ['auto', 'sqrt'], 'max_depth': [10, 20, 30, 40, 50, 60, 70, 80, 90, 100, 110, None], 'min_samples_split': [2, 5, 10], 'min_samples_leaf': [1, 2, 4], 'bootstrap': [True, False]}\n"
     ]
    },
    {
     "data": {
      "text/plain": [
       "{'bootstrap': [True, False],\n",
       " 'max_depth': [10, 20, 30, 40, 50, 60, 70, 80, 90, 100, None],\n",
       " 'max_features': ['auto', 'sqrt'],\n",
       " 'min_samples_leaf': [1, 2, 4],\n",
       " 'min_samples_split': [2, 5, 10],\n",
       " 'n_estimators': [100, 200, 300]}"
      ]
     },
     "execution_count": 548,
     "metadata": {},
     "output_type": "execute_result"
    }
   ],
   "source": [
    "from sklearn.model_selection import RandomizedSearchCV# Number of trees in random forest\n",
    "n_estimators = [int(x) for x in np.linspace(start = 200, stop = 2000, num = 10)]\n",
    "# Number of features to consider at every split\n",
    "max_features = ['auto', 'sqrt']\n",
    "# Maximum number of levels in tree\n",
    "max_depth = [int(x) for x in np.linspace(10, 110, num = 11)]\n",
    "max_depth.append(None)\n",
    "# Minimum number of samples required to split a node\n",
    "min_samples_split = [2, 5, 10]\n",
    "# Minimum number of samples required at each leaf node\n",
    "min_samples_leaf = [1, 2, 4]\n",
    "# Method of selecting samples for training each tree\n",
    "bootstrap = [True, False]# Create the random grid\n",
    "random_grid = {'n_estimators': n_estimators,\n",
    "               'max_features': max_features,\n",
    "               'max_depth': max_depth,\n",
    "               'min_samples_split': min_samples_split,\n",
    "               'min_samples_leaf': min_samples_leaf,\n",
    "               'bootstrap': bootstrap}\n",
    "print(random_grid)\n",
    "{'bootstrap': [True, False],\n",
    " 'max_depth': [10, 20, 30, 40, 50, 60, 70, 80, 90, 100, None],\n",
    " 'max_features': ['auto', 'sqrt'],\n",
    " 'min_samples_leaf': [1, 2, 4],\n",
    " 'min_samples_split': [2, 5, 10],\n",
    " 'n_estimators': [100,200,300 ]}"
   ]
  },
  {
   "cell_type": "code",
   "execution_count": 549,
   "id": "371615c5",
   "metadata": {},
   "outputs": [],
   "source": [
    "param_grid={\n",
    "    'max_depth':[7,8,9,10],\n",
    "    'max_features':[3,4,5],\n",
    "    'min_samples_leaf':[50,100],\n",
    "    'min_samples_split':[150,300],\n",
    "    'n_estimators':[100,200,300]\n",
    "}\n",
    "rfcl =RandomForestClassifier()\n",
    "grid_search= GridSearchCV(estimator=rfcl,param_grid=param_grid,cv=3)"
   ]
  },
  {
   "cell_type": "code",
   "execution_count": 550,
   "id": "0e7a96f9",
   "metadata": {},
   "outputs": [
    {
     "name": "stdout",
     "output_type": "stream",
     "text": [
      "Fitting 3 folds for each of 100 candidates, totalling 300 fits\n"
     ]
    },
    {
     "data": {
      "text/plain": [
       "RandomizedSearchCV(cv=3, estimator=RandomForestClassifier(), n_iter=100,\n",
       "                   n_jobs=-1,\n",
       "                   param_distributions={'bootstrap': [True, False],\n",
       "                                        'max_depth': [10, 20, 30, 40, 50, 60,\n",
       "                                                      70, 80, 90, 100, 110,\n",
       "                                                      None],\n",
       "                                        'max_features': ['auto', 'sqrt'],\n",
       "                                        'min_samples_leaf': [1, 2, 4],\n",
       "                                        'min_samples_split': [2, 5, 10],\n",
       "                                        'n_estimators': [200, 400, 600, 800,\n",
       "                                                         1000, 1200, 1400, 1600,\n",
       "                                                         1800, 2000]},\n",
       "                   random_state=42, verbose=2)"
      ]
     },
     "execution_count": 550,
     "metadata": {},
     "output_type": "execute_result"
    }
   ],
   "source": [
    "# Use the random grid to search for best hyperparameters\n",
    "# First create the base model to tune\n",
    "rf = RandomForestClassifier()\n",
    "# Random search of parameters, using 3 fold cross validation, \n",
    "# search across 100 different combinations, and use all available cores\n",
    "rf_random = RandomizedSearchCV(estimator = rf, param_distributions = random_grid, n_iter = 100, cv = 3, verbose=2, random_state=42, n_jobs = -1)# Fit the random search model\n",
    "rf_random.fit(X_train, y_train)"
   ]
  },
  {
   "cell_type": "code",
   "execution_count": 551,
   "id": "2b8da855",
   "metadata": {},
   "outputs": [
    {
     "data": {
      "text/plain": [
       "{'n_estimators': 1000,\n",
       " 'min_samples_split': 2,\n",
       " 'min_samples_leaf': 1,\n",
       " 'max_features': 'auto',\n",
       " 'max_depth': 50,\n",
       " 'bootstrap': False}"
      ]
     },
     "execution_count": 551,
     "metadata": {},
     "output_type": "execute_result"
    }
   ],
   "source": [
    "rf_random.best_params_"
   ]
  },
  {
   "cell_type": "code",
   "execution_count": 552,
   "id": "a6ccb4f5",
   "metadata": {},
   "outputs": [
    {
     "data": {
      "text/plain": [
       "RandomForestClassifier(bootstrap=False, max_depth=50, n_estimators=1000)"
      ]
     },
     "execution_count": 552,
     "metadata": {},
     "output_type": "execute_result"
    }
   ],
   "source": [
    "best_grid = rf_random.best_estimator_\n",
    "best_grid"
   ]
  },
  {
   "cell_type": "code",
   "execution_count": 553,
   "id": "10868781",
   "metadata": {},
   "outputs": [],
   "source": [
    "RF_train_predict = best_grid.predict(X_train)\n",
    "RF_test_predict = best_grid.predict(X_test)"
   ]
  },
  {
   "cell_type": "code",
   "execution_count": 554,
   "id": "acc09b6b",
   "metadata": {},
   "outputs": [
    {
     "data": {
      "image/png": "[encoded data removed]",
      "text/plain": [
       "<Figure size 432x288 with 2 Axes>"
      ]
     },
     "metadata": {
      "needs_background": "light"
     },
     "output_type": "display_data"
    }
   ],
   "source": [
    "#Confusion Matrix for Test set\n",
    "confusion_matrix(y_train,RF_train_predict)\n",
    "sns.heatmap(confusion_matrix(y_train,RF_train_predict),annot = True,cbar = True,fmt = 'd',)\n",
    "plt.xlabel('Predicted Label')\n",
    "plt.ylabel('Actual Label')\n",
    "plt.title('Confusion Matrix for Trainset')\n",
    "plt.show()"
   ]
  },
  {
   "cell_type": "code",
   "execution_count": 555,
   "id": "5223f81c",
   "metadata": {},
   "outputs": [
    {
     "name": "stdout",
     "output_type": "stream",
     "text": [
      "              precision    recall  f1-score   support\n",
      "\n",
      "           0       1.00      1.00      1.00      6330\n",
      "           1       1.00      1.00      1.00      1126\n",
      "\n",
      "    accuracy                           1.00      7456\n",
      "   macro avg       1.00      1.00      1.00      7456\n",
      "weighted avg       1.00      1.00      1.00      7456\n",
      "\n"
     ]
    }
   ],
   "source": [
    "print(classification_report(y_train,RF_train_predict)) "
   ]
  },
  {
   "cell_type": "code",
   "execution_count": 556,
   "id": "49b100a2",
   "metadata": {},
   "outputs": [
    {
     "data": {
      "image/png": "[encoded data removed]",
      "text/plain": [
       "<Figure size 864x504 with 1 Axes>"
      ]
     },
     "metadata": {
      "needs_background": "light"
     },
     "output_type": "display_data"
    },
    {
     "name": "stdout",
     "output_type": "stream",
     "text": [
      "Area under Curve is 1.0\n"
     ]
    }
   ],
   "source": [
    "from sklearn.metrics import roc_curve,roc_auc_score\n",
    "rf_fpr,rf_tpr,_ = roc_curve(y_train,best_grid.predict_proba(X_train)[:,1])\n",
    "plt.figure(figsize = (12,7))\n",
    "plt.plot(rf_fpr,rf_tpr,marker = 'x',label = 'RF')\n",
    "plt.plot(np.arange(0,1.1,0.1),np.arange(0,1.1,0.1))# can directly give plt.plot([0,1],[0,1])\n",
    "plt.xlabel('False Positive Rate')\n",
    "plt.ylabel('True Positive Rate')\n",
    "plt.title('ROC')\n",
    "plt.show()\n",
    "\n",
    "print('Area under Curve is', roc_auc_score(y_train,best_grid.predict_proba(X_train)[:,1]))"
   ]
  },
  {
   "cell_type": "code",
   "execution_count": 557,
   "id": "396d73f9",
   "metadata": {},
   "outputs": [
    {
     "data": {
      "image/png": "[encoded data removed]",
      "text/plain": [
       "<Figure size 432x288 with 2 Axes>"
      ]
     },
     "metadata": {
      "needs_background": "light"
     },
     "output_type": "display_data"
    }
   ],
   "source": [
    "#Confusion Matrix for Test set\n",
    "confusion_matrix(y_test,RF_test_predict)\n",
    "sns.heatmap(confusion_matrix(y_test,RF_test_predict),annot = True,cbar = True,fmt = 'd',)\n",
    "plt.xlabel('Predicted Label')\n",
    "plt.ylabel('Actual Label')\n",
    "plt.title('Confusion Matrix for Trainset')\n",
    "plt.show()"
   ]
  },
  {
   "cell_type": "code",
   "execution_count": 558,
   "id": "68a6514e",
   "metadata": {},
   "outputs": [
    {
     "name": "stdout",
     "output_type": "stream",
     "text": [
      "              precision    recall  f1-score   support\n",
      "\n",
      "           0       0.98      1.00      0.99      2702\n",
      "           1       1.00      0.91      0.96       494\n",
      "\n",
      "    accuracy                           0.99      3196\n",
      "   macro avg       0.99      0.96      0.97      3196\n",
      "weighted avg       0.99      0.99      0.99      3196\n",
      "\n"
     ]
    }
   ],
   "source": [
    "print(classification_report(y_test,RF_test_predict))"
   ]
  },
  {
   "cell_type": "code",
   "execution_count": 559,
   "id": "3ac1d309",
   "metadata": {},
   "outputs": [
    {
     "data": {
      "image/png": "[encoded data removed]",
      "text/plain": [
       "<Figure size 864x504 with 1 Axes>"
      ]
     },
     "metadata": {
      "needs_background": "light"
     },
     "output_type": "display_data"
    },
    {
     "name": "stdout",
     "output_type": "stream",
     "text": [
      "Area under Curve is 0.9996137963481841\n"
     ]
    }
   ],
   "source": [
    "from sklearn.metrics import roc_curve,roc_auc_score\n",
    "rf_fpr,rf_tpr,_ = roc_curve(y_test,best_grid.predict_proba(X_test)[:,1])\n",
    "plt.figure(figsize = (12,7))\n",
    "plt.plot(rf_fpr,rf_tpr,marker = 'x',label = 'RF')\n",
    "plt.plot(np.arange(0,1.1,0.1),np.arange(0,1.1,0.1))# can directly give plt.plot([0,1],[0,1])\n",
    "plt.xlabel('False Positive Rate')\n",
    "plt.ylabel('True Positive Rate')\n",
    "plt.title('ROC')\n",
    "plt.show()\n",
    "\n",
    "print('Area under Curve is', roc_auc_score(y_test,best_grid.predict_proba(X_test)[:,1]))"
   ]
  },
  {
   "cell_type": "code",
   "execution_count": 560,
   "id": "ddfc6398",
   "metadata": {},
   "outputs": [
    {
     "name": "stdout",
     "output_type": "stream",
     "text": [
      "Feature: 0, Score: 0.12482\n",
      "Feature: 1, Score: 0.00000\n",
      "Feature: 2, Score: 0.14435\n",
      "Feature: 3, Score: 0.07774\n",
      "Feature: 4, Score: 0.04922\n",
      "Feature: 5, Score: 0.04535\n",
      "Feature: 6, Score: 0.07152\n",
      "Feature: 7, Score: 0.17628\n",
      "Feature: 8, Score: 0.06151\n",
      "Feature: 9, Score: 0.06225\n",
      "Feature: 10, Score: 0.03803\n",
      "Feature: 11, Score: 0.01427\n",
      "Feature: 12, Score: 0.04698\n",
      "Feature: 13, Score: 0.01404\n",
      "Feature: 14, Score: 0.07364\n"
     ]
    },
    {
     "data": {
      "image/png": "[encoded data removed]",
      "text/plain": [
       "<Figure size 432x288 with 1 Axes>"
      ]
     },
     "metadata": {
      "needs_background": "light"
     },
     "output_type": "display_data"
    }
   ],
   "source": [
    "# get importance\n",
    "importance = best_grid.feature_importances_\n",
    "# summarize feature importance\n",
    "for i,v in enumerate(importance):\n",
    "    print('Feature: %0d, Score: %.5f' % (i,v))\n",
    "# plot feature importance\n",
    "plt.bar([x for x in range(len(importance))], importance)\n",
    "plt.show()"
   ]
  },
  {
   "cell_type": "markdown",
   "id": "6ad7ee59",
   "metadata": {},
   "source": [
    "------------------------------------------------------------------------------------------------------------------------------------------------------------------------"
   ]
  },
  {
   "cell_type": "markdown",
   "id": "6be87e40",
   "metadata": {},
   "source": [
    "KNN"
   ]
  },
  {
   "cell_type": "code",
   "execution_count": 561,
   "id": "1447fef8",
   "metadata": {},
   "outputs": [],
   "source": [
    "from sklearn.neighbors import KNeighborsClassifier"
   ]
  },
  {
   "cell_type": "code",
   "execution_count": 562,
   "id": "42c21b88",
   "metadata": {},
   "outputs": [
    {
     "data": {
      "text/plain": [
       "[0.9918648310387985,\n",
       " 0.9784105131414268,\n",
       " 0.9596370463078848,\n",
       " 0.9311639549436797,\n",
       " 0.9061326658322904,\n",
       " 0.8789111389236546,\n",
       " 0.8629536921151439,\n",
       " 0.8651439299123905,\n",
       " 0.8679599499374218,\n",
       " 0.8601376720901126]"
      ]
     },
     "execution_count": 562,
     "metadata": {},
     "output_type": "execute_result"
    }
   ],
   "source": [
    "# empty list that will hold accuracy scores\n",
    "ac_scores = []\n",
    "\n",
    "# perform accuracy metrics for values from 1,3,5....19\n",
    "for k in range(1,20,2):\n",
    "    KNN = KNeighborsClassifier(n_neighbors=k)\n",
    "    KNN.fit(X_train, y_train)\n",
    "    # evaluate test accuracy\n",
    "    scores = KNN.score(X_test, y_test)\n",
    "    ac_scores.append(scores)\n",
    "\n",
    "# accuracy scores for 1,3,5,7....\n",
    "MCE = [1-x for x in ac_scores]\n",
    "acc = [x for x in ac_scores]\n",
    "acc"
   ]
  },
  {
   "cell_type": "code",
   "execution_count": 563,
   "id": "460108a2",
   "metadata": {},
   "outputs": [
    {
     "data": {
      "image/png": "[encoded data removed]",
      "text/plain": [
       "<Figure size 432x288 with 1 Axes>"
      ]
     },
     "metadata": {
      "needs_background": "light"
     },
     "output_type": "display_data"
    }
   ],
   "source": [
    "import matplotlib.pyplot as plt\n",
    "# plot misclassification error vs k\n",
    "plt.plot(range(1,20,2), MCE)\n",
    "plt.xlabel('Number of Neighbors K')\n",
    "plt.ylabel('Misclassification Error')\n",
    "plt.show()"
   ]
  },
  {
   "cell_type": "markdown",
   "id": "d25a3d34",
   "metadata": {},
   "source": [
    "The k-value is 3 "
   ]
  },
  {
   "cell_type": "code",
   "execution_count": 564,
   "id": "ae87c6ef",
   "metadata": {},
   "outputs": [],
   "source": [
    "#model score k=3\n",
    "KNN_model=KNeighborsClassifier(n_neighbors=3)\n",
    "KNN_model.fit(X_train,y_train)\n",
    "KNN_train_predict = KNN_model.predict(X_train)\n",
    "\n",
    "KNN_test_predict = KNN_model.predict(X_test)"
   ]
  },
  {
   "cell_type": "code",
   "execution_count": 565,
   "id": "9aba2bdb",
   "metadata": {},
   "outputs": [
    {
     "data": {
      "text/plain": [
       "0.994098712446352"
      ]
     },
     "execution_count": 565,
     "metadata": {},
     "output_type": "execute_result"
    }
   ],
   "source": [
    "KNN_model.score(X_train,y_train)"
   ]
  },
  {
   "cell_type": "code",
   "execution_count": 566,
   "id": "7ee4b27e",
   "metadata": {},
   "outputs": [
    {
     "data": {
      "text/plain": [
       "0.9784105131414268"
      ]
     },
     "execution_count": 566,
     "metadata": {},
     "output_type": "execute_result"
    }
   ],
   "source": [
    "KNN_model.score(X_test,y_test)"
   ]
  },
  {
   "cell_type": "code",
   "execution_count": 567,
   "id": "d7d4728a",
   "metadata": {},
   "outputs": [
    {
     "data": {
      "image/png": "[encoded data removed]",
      "text/plain": [
       "<Figure size 432x288 with 2 Axes>"
      ]
     },
     "metadata": {
      "needs_background": "light"
     },
     "output_type": "display_data"
    }
   ],
   "source": [
    "#Confusion Matrix for Train set\n",
    "confusion_matrix(y_train,KNN_train_predict)\n",
    "sns.heatmap(confusion_matrix(y_train,KNN_train_predict),annot = True,cbar = True,fmt = 'd',)\n",
    "plt.xlabel('Predicted Label')\n",
    "plt.ylabel('Actual Label')\n",
    "plt.title('Confusion Matrix for Trainset')\n",
    "plt.show()"
   ]
  },
  {
   "cell_type": "code",
   "execution_count": 568,
   "id": "3ea9bc0f",
   "metadata": {},
   "outputs": [
    {
     "name": "stdout",
     "output_type": "stream",
     "text": [
      "              precision    recall  f1-score   support\n",
      "\n",
      "           0       1.00      1.00      1.00      6330\n",
      "           1       0.99      0.97      0.98      1126\n",
      "\n",
      "    accuracy                           0.99      7456\n",
      "   macro avg       0.99      0.99      0.99      7456\n",
      "weighted avg       0.99      0.99      0.99      7456\n",
      "\n"
     ]
    }
   ],
   "source": [
    "print(classification_report(y_train,KNN_train_predict)) "
   ]
  },
  {
   "cell_type": "code",
   "execution_count": 569,
   "id": "2e28074c",
   "metadata": {},
   "outputs": [
    {
     "data": {
      "image/png": "[encoded data removed]",
      "text/plain": [
       "<Figure size 864x504 with 1 Axes>"
      ]
     },
     "metadata": {
      "needs_background": "light"
     },
     "output_type": "display_data"
    },
    {
     "name": "stdout",
     "output_type": "stream",
     "text": [
      "Area under Curve is 0.999709157947017\n"
     ]
    }
   ],
   "source": [
    "from sklearn.metrics import roc_curve,roc_auc_score\n",
    "rf_fpr,rf_tpr,_ = roc_curve(y_train,KNN_model.predict_proba(X_train)[:,1])\n",
    "plt.figure(figsize = (12,7))\n",
    "plt.plot(rf_fpr,rf_tpr,marker = 'x',label = 'RF')\n",
    "plt.plot(np.arange(0,1.1,0.1),np.arange(0,1.1,0.1))# can directly give plt.plot([0,1],[0,1])\n",
    "plt.xlabel('False Positive Rate')\n",
    "plt.ylabel('True Positive Rate')\n",
    "plt.title('ROC')\n",
    "plt.show()\n",
    "\n",
    "print('Area under Curve is', roc_auc_score(y_train,KNN_model.predict_proba(X_train)[:,1]))"
   ]
  },
  {
   "cell_type": "code",
   "execution_count": 570,
   "id": "9bae04e3",
   "metadata": {},
   "outputs": [
    {
     "data": {
      "image/png": "[encoded data removed]",
      "text/plain": [
       "<Figure size 432x288 with 2 Axes>"
      ]
     },
     "metadata": {
      "needs_background": "light"
     },
     "output_type": "display_data"
    }
   ],
   "source": [
    "#Confusion Matrix for Train set\n",
    "confusion_matrix(y_test,KNN_test_predict)\n",
    "sns.heatmap(confusion_matrix(y_test,KNN_test_predict),annot = True,cbar = True,fmt = 'd',)\n",
    "plt.xlabel('Predicted Label')\n",
    "plt.ylabel('Actual Label')\n",
    "plt.title('Confusion Matrix for Testset')\n",
    "plt.show()"
   ]
  },
  {
   "cell_type": "code",
   "execution_count": 571,
   "id": "ab629cc8",
   "metadata": {},
   "outputs": [
    {
     "name": "stdout",
     "output_type": "stream",
     "text": [
      "              precision    recall  f1-score   support\n",
      "\n",
      "           0       0.98      0.99      0.99      2702\n",
      "           1       0.96      0.90      0.93       494\n",
      "\n",
      "    accuracy                           0.98      3196\n",
      "   macro avg       0.97      0.95      0.96      3196\n",
      "weighted avg       0.98      0.98      0.98      3196\n",
      "\n"
     ]
    }
   ],
   "source": [
    "print(classification_report(y_test,KNN_test_predict)) "
   ]
  },
  {
   "cell_type": "code",
   "execution_count": 572,
   "id": "08677a78",
   "metadata": {},
   "outputs": [
    {
     "data": {
      "image/png": "[encoded data removed]",
      "text/plain": [
       "<Figure size 864x504 with 1 Axes>"
      ]
     },
     "metadata": {
      "needs_background": "light"
     },
     "output_type": "display_data"
    },
    {
     "name": "stdout",
     "output_type": "stream",
     "text": [
      "Area under Curve is 0.9910187984908465\n"
     ]
    }
   ],
   "source": [
    "from sklearn.metrics import roc_curve,roc_auc_score\n",
    "rf_fpr,rf_tpr,_ = roc_curve(y_test,KNN_model.predict_proba(X_test)[:,1])\n",
    "plt.figure(figsize = (12,7))\n",
    "plt.plot(rf_fpr,rf_tpr,marker = 'x',label = 'RF')\n",
    "plt.plot(np.arange(0,1.1,0.1),np.arange(0,1.1,0.1))# can directly give plt.plot([0,1],[0,1])\n",
    "plt.xlabel('False Positive Rate')\n",
    "plt.ylabel('True Positive Rate')\n",
    "plt.title('ROC')\n",
    "plt.show()\n",
    "\n",
    "print('Area under Curve is', roc_auc_score(y_test,KNN_model.predict_proba(X_test)[:,1]))"
   ]
  },
  {
   "cell_type": "markdown",
   "id": "f9137585",
   "metadata": {},
   "source": [
    "------------------------------------------------------------------------------------------------------------------------------------------------------------------------------"
   ]
  },
  {
   "cell_type": "markdown",
   "id": "8d7959d1",
   "metadata": {},
   "source": [
    "SMOTE"
   ]
  },
  {
   "cell_type": "code",
   "execution_count": 476,
   "id": "59dee52e",
   "metadata": {},
   "outputs": [],
   "source": [
    "from imblearn.over_sampling import SMOTE \n",
    "from sklearn import metrics"
   ]
  },
  {
   "cell_type": "code",
   "execution_count": 477,
   "id": "b5f25999",
   "metadata": {},
   "outputs": [],
   "source": [
    "sm = SMOTE()\n",
    "\n",
    "\n",
    "X_train_res, y_train_res = sm.fit_resample(X_train, y_train.ravel())"
   ]
  },
  {
   "cell_type": "code",
   "execution_count": 478,
   "id": "5327b22c",
   "metadata": {},
   "outputs": [
    {
     "data": {
      "text/plain": [
       "(12660, 15)"
      ]
     },
     "execution_count": 478,
     "metadata": {},
     "output_type": "execute_result"
    }
   ],
   "source": [
    "X_train_res.shape"
   ]
  },
  {
   "cell_type": "markdown",
   "id": "28864f21",
   "metadata": {},
   "source": [
    "------------------------------------------------------------------------------------------------------------------------------------------------------------------------------------"
   ]
  },
  {
   "cell_type": "markdown",
   "id": "c298292a",
   "metadata": {},
   "source": [
    "LOGIT"
   ]
  },
  {
   "cell_type": "code",
   "execution_count": 479,
   "id": "29367a33",
   "metadata": {},
   "outputs": [
    {
     "data": {
      "text/plain": [
       "LogisticRegression()"
      ]
     },
     "execution_count": 479,
     "metadata": {},
     "output_type": "execute_result"
    }
   ],
   "source": [
    "smote_log_model = LogisticRegression()\n",
    "smote_log_model.fit(X_train_res, y_train_res)"
   ]
  },
  {
   "cell_type": "code",
   "execution_count": 480,
   "id": "12ae392e",
   "metadata": {},
   "outputs": [],
   "source": [
    "smote_log_train_predict = smote_log_model.predict(X_train_res)\n",
    "smote_log_test_predict = smote_log_model.predict(X_test)"
   ]
  },
  {
   "cell_type": "code",
   "execution_count": 481,
   "id": "4275a871",
   "metadata": {},
   "outputs": [
    {
     "name": "stdout",
     "output_type": "stream",
     "text": [
      "0.606477093206951\n",
      "[[3730 2600]\n",
      " [2382 3948]]\n",
      "              precision    recall  f1-score   support\n",
      "\n",
      "           0       0.61      0.59      0.60      6330\n",
      "           1       0.60      0.62      0.61      6330\n",
      "\n",
      "    accuracy                           0.61     12660\n",
      "   macro avg       0.61      0.61      0.61     12660\n",
      "weighted avg       0.61      0.61      0.61     12660\n",
      "\n"
     ]
    }
   ],
   "source": [
    "smote_log_train_predict = smote_log_model.predict(X_train_res)\n",
    "model_score = smote_log_model.score(X_train_res, y_train_res)\n",
    "print(model_score)\n",
    "print(metrics.confusion_matrix(y_train_res, smote_log_train_predict))\n",
    "print(metrics.classification_report(y_train_res ,smote_log_train_predict))"
   ]
  },
  {
   "cell_type": "code",
   "execution_count": 482,
   "id": "08a5b1f6",
   "metadata": {},
   "outputs": [
    {
     "name": "stdout",
     "output_type": "stream",
     "text": [
      "0.6113892365456821\n",
      "[[1626 1076]\n",
      " [ 166  328]]\n",
      "              precision    recall  f1-score   support\n",
      "\n",
      "           0       0.91      0.60      0.72      2702\n",
      "           1       0.23      0.66      0.35       494\n",
      "\n",
      "    accuracy                           0.61      3196\n",
      "   macro avg       0.57      0.63      0.53      3196\n",
      "weighted avg       0.80      0.61      0.67      3196\n",
      "\n"
     ]
    }
   ],
   "source": [
    "smote_log_test_predict = smote_log_model.predict(X_test)\n",
    "model_score = smote_log_model.score(X_test, y_test)\n",
    "print(model_score)\n",
    "print(metrics.confusion_matrix(y_test, smote_log_test_predict))\n",
    "print(metrics.classification_report(y_test ,smote_log_test_predict))"
   ]
  },
  {
   "cell_type": "markdown",
   "id": "8a89f64b",
   "metadata": {},
   "source": [
    "----------------------------------------------------------------------------------------------------------------------------------------------------------------------------------"
   ]
  },
  {
   "cell_type": "markdown",
   "id": "1cb4123b",
   "metadata": {},
   "source": [
    "LDA"
   ]
  },
  {
   "cell_type": "code",
   "execution_count": 483,
   "id": "0bedcd51",
   "metadata": {},
   "outputs": [
    {
     "data": {
      "text/plain": [
       "LinearDiscriminantAnalysis()"
      ]
     },
     "execution_count": 483,
     "metadata": {},
     "output_type": "execute_result"
    }
   ],
   "source": [
    "smote_lda_model = LinearDiscriminantAnalysis()\n",
    "smote_lda_model.fit(X_train_res, y_train_res)"
   ]
  },
  {
   "cell_type": "code",
   "execution_count": 484,
   "id": "54dc5dc6",
   "metadata": {},
   "outputs": [],
   "source": [
    "smote_lda_train_predict = smote_lda_model.predict(X_train_res)\n",
    "smote_lda_test_predict = smote_lda_model.predict(X_test)"
   ]
  },
  {
   "cell_type": "code",
   "execution_count": 485,
   "id": "4dca2155",
   "metadata": {},
   "outputs": [
    {
     "name": "stdout",
     "output_type": "stream",
     "text": [
      "0.606477093206951\n",
      "[[4204 2126]\n",
      " [1986 4344]]\n",
      "              precision    recall  f1-score   support\n",
      "\n",
      "           0       0.68      0.66      0.67      6330\n",
      "           1       0.67      0.69      0.68      6330\n",
      "\n",
      "    accuracy                           0.68     12660\n",
      "   macro avg       0.68      0.68      0.68     12660\n",
      "weighted avg       0.68      0.68      0.68     12660\n",
      "\n"
     ]
    }
   ],
   "source": [
    "smote_lda_train_predict = smote_lda_model.predict(X_train_res)\n",
    "model_score = smote_log_model.score(X_train_res, y_train_res)\n",
    "print(model_score)\n",
    "print(metrics.confusion_matrix(y_train_res, smote_lda_train_predict))\n",
    "print(metrics.classification_report(y_train_res ,smote_lda_train_predict))"
   ]
  },
  {
   "cell_type": "code",
   "execution_count": 486,
   "id": "3ef4e60c",
   "metadata": {},
   "outputs": [
    {
     "name": "stdout",
     "output_type": "stream",
     "text": [
      "0.6717772215269087\n",
      "[[1773  929]\n",
      " [ 120  374]]\n",
      "              precision    recall  f1-score   support\n",
      "\n",
      "           0       0.94      0.66      0.77      2702\n",
      "           1       0.29      0.76      0.42       494\n",
      "\n",
      "    accuracy                           0.67      3196\n",
      "   macro avg       0.61      0.71      0.59      3196\n",
      "weighted avg       0.84      0.67      0.72      3196\n",
      "\n"
     ]
    }
   ],
   "source": [
    "smote_log_test_predict = smote_lda_model.predict(X_test)\n",
    "model_score = smote_lda_model.score(X_test, y_test)\n",
    "print(model_score)\n",
    "print(metrics.confusion_matrix(y_test, smote_lda_test_predict))\n",
    "print(metrics.classification_report(y_test ,smote_lda_test_predict))"
   ]
  },
  {
   "cell_type": "markdown",
   "id": "75a67133",
   "metadata": {},
   "source": [
    "------------------------------------------------------------------------------------------------------------------------------------------------------------------------------------------------"
   ]
  },
  {
   "cell_type": "markdown",
   "id": "90ac4ef3",
   "metadata": {},
   "source": [
    "KNN"
   ]
  },
  {
   "cell_type": "code",
   "execution_count": 487,
   "id": "56446337",
   "metadata": {},
   "outputs": [
    {
     "data": {
      "text/plain": [
       "KNeighborsClassifier(n_neighbors=3)"
      ]
     },
     "execution_count": 487,
     "metadata": {},
     "output_type": "execute_result"
    }
   ],
   "source": [
    "Smote_KNN = KNeighborsClassifier(n_neighbors=3)\n",
    "Smote_KNN.fit(X_train_res, y_train_res)"
   ]
  },
  {
   "cell_type": "code",
   "execution_count": 488,
   "id": "5173d377",
   "metadata": {},
   "outputs": [],
   "source": [
    "Smote_KNN_train_predict = Smote_KNN.predict(X_train_res)\n",
    "Smote_KNN_test_predict = Smote_KNN.predict(X_test)"
   ]
  },
  {
   "cell_type": "code",
   "execution_count": 489,
   "id": "12e7dd9f",
   "metadata": {},
   "outputs": [
    {
     "name": "stdout",
     "output_type": "stream",
     "text": [
      "0.9928120063191154\n",
      "[[6291   39]\n",
      " [  52 6278]]\n",
      "              precision    recall  f1-score   support\n",
      "\n",
      "           0       0.99      0.99      0.99      6330\n",
      "           1       0.99      0.99      0.99      6330\n",
      "\n",
      "    accuracy                           0.99     12660\n",
      "   macro avg       0.99      0.99      0.99     12660\n",
      "weighted avg       0.99      0.99      0.99     12660\n",
      "\n"
     ]
    }
   ],
   "source": [
    "Smote_KNN_train_predict = Smote_KNN.predict(X_train_res)\n",
    "model_score = Smote_KNN.score(X_train_res, y_train_res)\n",
    "print(model_score)\n",
    "print(metrics.confusion_matrix(y_train_res, Smote_KNN_train_predict))\n",
    "print(metrics.classification_report(y_train_res ,Smote_KNN_train_predict))"
   ]
  },
  {
   "cell_type": "code",
   "execution_count": 490,
   "id": "48cb3dcb",
   "metadata": {},
   "outputs": [
    {
     "name": "stdout",
     "output_type": "stream",
     "text": [
      "0.9784105131414268\n",
      "[[2646   56]\n",
      " [  13  481]]\n",
      "              precision    recall  f1-score   support\n",
      "\n",
      "           0       1.00      0.98      0.99      2702\n",
      "           1       0.90      0.97      0.93       494\n",
      "\n",
      "    accuracy                           0.98      3196\n",
      "   macro avg       0.95      0.98      0.96      3196\n",
      "weighted avg       0.98      0.98      0.98      3196\n",
      "\n"
     ]
    }
   ],
   "source": [
    "smote_log_test_predict = Smote_KNN.predict(X_test)\n",
    "model_score = Smote_KNN.score(X_test, y_test)\n",
    "print(model_score)\n",
    "print(metrics.confusion_matrix(y_test, smote_log_test_predict))\n",
    "print(metrics.classification_report(y_test ,smote_log_test_predict))"
   ]
  },
  {
   "cell_type": "markdown",
   "id": "1b9ddb24",
   "metadata": {},
   "source": [
    "--------------------------------------------------------------------------------------------------------------------------------------------------------------------"
   ]
  },
  {
   "cell_type": "markdown",
   "id": "7d71117a",
   "metadata": {},
   "source": [
    "RF"
   ]
  },
  {
   "cell_type": "code",
   "execution_count": 491,
   "id": "a7ca018c",
   "metadata": {},
   "outputs": [],
   "source": [
    "Smote_RF_model=RandomForestClassifier(n_estimators=100,random_state=1)\n",
    "Smote_RF_model=Smote_RF_model.fit(X_train_res, y_train_res)"
   ]
  },
  {
   "cell_type": "code",
   "execution_count": 492,
   "id": "2c3d13de",
   "metadata": {},
   "outputs": [],
   "source": [
    "Smote_RF_train_predict = Smote_RF_model.predict(X_train_res)\n",
    "Smote_RF_test_predict = Smote_RF_model.predict(X_test)"
   ]
  },
  {
   "cell_type": "code",
   "execution_count": 493,
   "id": "cd1afd3b",
   "metadata": {},
   "outputs": [
    {
     "name": "stdout",
     "output_type": "stream",
     "text": [
      "1.0\n",
      "[[6330    0]\n",
      " [   0 6330]]\n",
      "              precision    recall  f1-score   support\n",
      "\n",
      "           0       1.00      1.00      1.00      6330\n",
      "           1       1.00      1.00      1.00      6330\n",
      "\n",
      "    accuracy                           1.00     12660\n",
      "   macro avg       1.00      1.00      1.00     12660\n",
      "weighted avg       1.00      1.00      1.00     12660\n",
      "\n"
     ]
    }
   ],
   "source": [
    "Smote_RF_train_predict = Smote_RF_model.predict(X_train_res)\n",
    "model_score = Smote_RF_model.score(X_train_res, y_train_res)\n",
    "print(model_score)\n",
    "print(metrics.confusion_matrix(y_train_res, Smote_RF_train_predict))\n",
    "print(metrics.classification_report(y_train_res ,Smote_RF_train_predict))"
   ]
  },
  {
   "cell_type": "code",
   "execution_count": 494,
   "id": "eef88b39",
   "metadata": {},
   "outputs": [
    {
     "name": "stdout",
     "output_type": "stream",
     "text": [
      "0.9840425531914894\n",
      "[[2691   11]\n",
      " [  40  454]]\n",
      "              precision    recall  f1-score   support\n",
      "\n",
      "           0       0.99      1.00      0.99      2702\n",
      "           1       0.98      0.92      0.95       494\n",
      "\n",
      "    accuracy                           0.98      3196\n",
      "   macro avg       0.98      0.96      0.97      3196\n",
      "weighted avg       0.98      0.98      0.98      3196\n",
      "\n"
     ]
    }
   ],
   "source": [
    "Smote_RF_test_predict = Smote_RF_model.predict(X_test)\n",
    "model_score = Smote_RF_model.score(X_test, y_test)\n",
    "print(model_score)\n",
    "print(metrics.confusion_matrix(y_test, Smote_RF_test_predict))\n",
    "print(metrics.classification_report(y_test ,Smote_RF_test_predict))"
   ]
  },
  {
   "cell_type": "code",
   "execution_count": null,
   "id": "a4c97a98",
   "metadata": {},
   "outputs": [],
   "source": []
  }
 ],
 "metadata": {
  "kernelspec": {
   "display_name": "Python 3",
   "language": "python",
   "name": "python3"
  },
  "language_info": {
   "codemirror_mode": {
    "name": "ipython",
    "version": 3
   },
   "file_extension": ".py",
   "mimetype": "text/x-python",
   "name": "python",
   "nbconvert_exporter": "python",
   "pygments_lexer": "ipython3",
   "version": "3.8.8"
  }
 },
 "nbformat": 4,
 "nbformat_minor": 5
}
